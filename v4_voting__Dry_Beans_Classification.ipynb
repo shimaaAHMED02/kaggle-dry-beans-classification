{
  "nbformat": 4,
  "nbformat_minor": 0,
  "metadata": {
    "colab": {
      "name": "v4_voting_ Dry-Beans-Classification.ipynb",
      "provenance": [],
      "collapsed_sections": []
    },
    "kernelspec": {
      "name": "python3",
      "display_name": "Python 3"
    },
    "language_info": {
      "name": "python"
    },
    "accelerator": "GPU"
  },
  "cells": [
    {
      "cell_type": "code",
      "execution_count": null,
      "metadata": {
        "id": "nZP9PYMqdxms",
        "colab": {
          "base_uri": "https://localhost:8080/"
        },
        "outputId": "0b779b5c-6fe4-4ab0-c761-432564ae9821"
      },
      "outputs": [
        {
          "output_type": "stream",
          "name": "stdout",
          "text": [
            "fatal: destination path 'Dry-Beans-Classification' already exists and is not an empty directory.\n"
          ]
        }
      ],
      "source": [
        "!git clone https://git@github.com/NadaAdelMousa/Dry-Beans-Classification.git"
      ]
    },
    {
      "cell_type": "code",
      "source": [
        "import numpy as np \n",
        "import pandas as pd\n",
        "import matplotlib.pyplot as plt\n",
        "import seaborn as sns"
      ],
      "metadata": {
        "id": "kFvgCX-YfPul"
      },
      "execution_count": null,
      "outputs": []
    },
    {
      "cell_type": "code",
      "source": [
        "#pd.set_option('display.max_rows', None)"
      ],
      "metadata": {
        "id": "ZqAkgy-5htOp"
      },
      "execution_count": null,
      "outputs": []
    },
    {
      "cell_type": "code",
      "source": [
        "df=pd.read_csv('/content/Dry-Beans-Classification/train.csv',index_col='ID')\n",
        "df.head()\n"
      ],
      "metadata": {
        "colab": {
          "base_uri": "https://localhost:8080/",
          "height": 301
        },
        "id": "1ej_2N9ehyhH",
        "outputId": "c66bd41a-3124-43ca-a9c6-9eac476ec5ac"
      },
      "execution_count": null,
      "outputs": [
        {
          "output_type": "execute_result",
          "data": {
            "text/plain": [
              "     Area  Perimeter  MajorAxisLength  MinorAxisLength  AspectRation  \\\n",
              "ID                                                                     \n",
              "0   58238    971.303       397.202654       186.945510      2.124697   \n",
              "1   44515    757.601       265.590470       213.967453      1.241266   \n",
              "2   31662    653.783       239.902428       168.421505      1.424417   \n",
              "3   38778    734.020       268.446281       184.061923      1.458456   \n",
              "4   42530    775.403       281.212824       193.236878      1.455275   \n",
              "\n",
              "    Eccentricity  ConvexArea  EquivDiameter    Extent  Solidity  roundness  \\\n",
              "ID                                                                           \n",
              "0       0.882317       58977     272.306674  0.604756  0.987470   0.775723   \n",
              "1       0.592420       44780     238.071960  0.771745  0.994082   0.974620   \n",
              "2       0.712136       32034     200.781748  0.801407  0.988387   0.930853   \n",
              "3       0.727925       39208     222.201897  0.766137  0.989033   0.904439   \n",
              "4       0.726511       43028     232.703412  0.729816  0.988426   0.888895   \n",
              "\n",
              "    Compactness  ShapeFactor1  ShapeFactor2  ShapeFactor3  ShapeFactor4  \\\n",
              "ID                                                                        \n",
              "0      0.685561      0.006820      0.000929      0.469994      0.998595   \n",
              "1      0.896387      0.005966      0.002376      0.803510      0.997370   \n",
              "2      0.836931      0.007577      0.002293      0.700453      0.997737   \n",
              "3      0.827733      0.006923      0.002005      0.685142      0.999250   \n",
              "4      0.827499      0.006612      0.001912      0.684755      0.996507   \n",
              "\n",
              "           y  \n",
              "ID            \n",
              "0      HOROZ  \n",
              "1      SEKER  \n",
              "2   DERMASON  \n",
              "3   DERMASON  \n",
              "4       SIRA  "
            ],
            "text/html": [
              "\n",
              "  <div id=\"df-4579aab2-b353-409e-b2d2-ffe24a14d129\">\n",
              "    <div class=\"colab-df-container\">\n",
              "      <div>\n",
              "<style scoped>\n",
              "    .dataframe tbody tr th:only-of-type {\n",
              "        vertical-align: middle;\n",
              "    }\n",
              "\n",
              "    .dataframe tbody tr th {\n",
              "        vertical-align: top;\n",
              "    }\n",
              "\n",
              "    .dataframe thead th {\n",
              "        text-align: right;\n",
              "    }\n",
              "</style>\n",
              "<table border=\"1\" class=\"dataframe\">\n",
              "  <thead>\n",
              "    <tr style=\"text-align: right;\">\n",
              "      <th></th>\n",
              "      <th>Area</th>\n",
              "      <th>Perimeter</th>\n",
              "      <th>MajorAxisLength</th>\n",
              "      <th>MinorAxisLength</th>\n",
              "      <th>AspectRation</th>\n",
              "      <th>Eccentricity</th>\n",
              "      <th>ConvexArea</th>\n",
              "      <th>EquivDiameter</th>\n",
              "      <th>Extent</th>\n",
              "      <th>Solidity</th>\n",
              "      <th>roundness</th>\n",
              "      <th>Compactness</th>\n",
              "      <th>ShapeFactor1</th>\n",
              "      <th>ShapeFactor2</th>\n",
              "      <th>ShapeFactor3</th>\n",
              "      <th>ShapeFactor4</th>\n",
              "      <th>y</th>\n",
              "    </tr>\n",
              "    <tr>\n",
              "      <th>ID</th>\n",
              "      <th></th>\n",
              "      <th></th>\n",
              "      <th></th>\n",
              "      <th></th>\n",
              "      <th></th>\n",
              "      <th></th>\n",
              "      <th></th>\n",
              "      <th></th>\n",
              "      <th></th>\n",
              "      <th></th>\n",
              "      <th></th>\n",
              "      <th></th>\n",
              "      <th></th>\n",
              "      <th></th>\n",
              "      <th></th>\n",
              "      <th></th>\n",
              "      <th></th>\n",
              "    </tr>\n",
              "  </thead>\n",
              "  <tbody>\n",
              "    <tr>\n",
              "      <th>0</th>\n",
              "      <td>58238</td>\n",
              "      <td>971.303</td>\n",
              "      <td>397.202654</td>\n",
              "      <td>186.945510</td>\n",
              "      <td>2.124697</td>\n",
              "      <td>0.882317</td>\n",
              "      <td>58977</td>\n",
              "      <td>272.306674</td>\n",
              "      <td>0.604756</td>\n",
              "      <td>0.987470</td>\n",
              "      <td>0.775723</td>\n",
              "      <td>0.685561</td>\n",
              "      <td>0.006820</td>\n",
              "      <td>0.000929</td>\n",
              "      <td>0.469994</td>\n",
              "      <td>0.998595</td>\n",
              "      <td>HOROZ</td>\n",
              "    </tr>\n",
              "    <tr>\n",
              "      <th>1</th>\n",
              "      <td>44515</td>\n",
              "      <td>757.601</td>\n",
              "      <td>265.590470</td>\n",
              "      <td>213.967453</td>\n",
              "      <td>1.241266</td>\n",
              "      <td>0.592420</td>\n",
              "      <td>44780</td>\n",
              "      <td>238.071960</td>\n",
              "      <td>0.771745</td>\n",
              "      <td>0.994082</td>\n",
              "      <td>0.974620</td>\n",
              "      <td>0.896387</td>\n",
              "      <td>0.005966</td>\n",
              "      <td>0.002376</td>\n",
              "      <td>0.803510</td>\n",
              "      <td>0.997370</td>\n",
              "      <td>SEKER</td>\n",
              "    </tr>\n",
              "    <tr>\n",
              "      <th>2</th>\n",
              "      <td>31662</td>\n",
              "      <td>653.783</td>\n",
              "      <td>239.902428</td>\n",
              "      <td>168.421505</td>\n",
              "      <td>1.424417</td>\n",
              "      <td>0.712136</td>\n",
              "      <td>32034</td>\n",
              "      <td>200.781748</td>\n",
              "      <td>0.801407</td>\n",
              "      <td>0.988387</td>\n",
              "      <td>0.930853</td>\n",
              "      <td>0.836931</td>\n",
              "      <td>0.007577</td>\n",
              "      <td>0.002293</td>\n",
              "      <td>0.700453</td>\n",
              "      <td>0.997737</td>\n",
              "      <td>DERMASON</td>\n",
              "    </tr>\n",
              "    <tr>\n",
              "      <th>3</th>\n",
              "      <td>38778</td>\n",
              "      <td>734.020</td>\n",
              "      <td>268.446281</td>\n",
              "      <td>184.061923</td>\n",
              "      <td>1.458456</td>\n",
              "      <td>0.727925</td>\n",
              "      <td>39208</td>\n",
              "      <td>222.201897</td>\n",
              "      <td>0.766137</td>\n",
              "      <td>0.989033</td>\n",
              "      <td>0.904439</td>\n",
              "      <td>0.827733</td>\n",
              "      <td>0.006923</td>\n",
              "      <td>0.002005</td>\n",
              "      <td>0.685142</td>\n",
              "      <td>0.999250</td>\n",
              "      <td>DERMASON</td>\n",
              "    </tr>\n",
              "    <tr>\n",
              "      <th>4</th>\n",
              "      <td>42530</td>\n",
              "      <td>775.403</td>\n",
              "      <td>281.212824</td>\n",
              "      <td>193.236878</td>\n",
              "      <td>1.455275</td>\n",
              "      <td>0.726511</td>\n",
              "      <td>43028</td>\n",
              "      <td>232.703412</td>\n",
              "      <td>0.729816</td>\n",
              "      <td>0.988426</td>\n",
              "      <td>0.888895</td>\n",
              "      <td>0.827499</td>\n",
              "      <td>0.006612</td>\n",
              "      <td>0.001912</td>\n",
              "      <td>0.684755</td>\n",
              "      <td>0.996507</td>\n",
              "      <td>SIRA</td>\n",
              "    </tr>\n",
              "  </tbody>\n",
              "</table>\n",
              "</div>\n",
              "      <button class=\"colab-df-convert\" onclick=\"convertToInteractive('df-4579aab2-b353-409e-b2d2-ffe24a14d129')\"\n",
              "              title=\"Convert this dataframe to an interactive table.\"\n",
              "              style=\"display:none;\">\n",
              "        \n",
              "  <svg xmlns=\"http://www.w3.org/2000/svg\" height=\"24px\"viewBox=\"0 0 24 24\"\n",
              "       width=\"24px\">\n",
              "    <path d=\"M0 0h24v24H0V0z\" fill=\"none\"/>\n",
              "    <path d=\"M18.56 5.44l.94 2.06.94-2.06 2.06-.94-2.06-.94-.94-2.06-.94 2.06-2.06.94zm-11 1L8.5 8.5l.94-2.06 2.06-.94-2.06-.94L8.5 2.5l-.94 2.06-2.06.94zm10 10l.94 2.06.94-2.06 2.06-.94-2.06-.94-.94-2.06-.94 2.06-2.06.94z\"/><path d=\"M17.41 7.96l-1.37-1.37c-.4-.4-.92-.59-1.43-.59-.52 0-1.04.2-1.43.59L10.3 9.45l-7.72 7.72c-.78.78-.78 2.05 0 2.83L4 21.41c.39.39.9.59 1.41.59.51 0 1.02-.2 1.41-.59l7.78-7.78 2.81-2.81c.8-.78.8-2.07 0-2.86zM5.41 20L4 18.59l7.72-7.72 1.47 1.35L5.41 20z\"/>\n",
              "  </svg>\n",
              "      </button>\n",
              "      \n",
              "  <style>\n",
              "    .colab-df-container {\n",
              "      display:flex;\n",
              "      flex-wrap:wrap;\n",
              "      gap: 12px;\n",
              "    }\n",
              "\n",
              "    .colab-df-convert {\n",
              "      background-color: #E8F0FE;\n",
              "      border: none;\n",
              "      border-radius: 50%;\n",
              "      cursor: pointer;\n",
              "      display: none;\n",
              "      fill: #1967D2;\n",
              "      height: 32px;\n",
              "      padding: 0 0 0 0;\n",
              "      width: 32px;\n",
              "    }\n",
              "\n",
              "    .colab-df-convert:hover {\n",
              "      background-color: #E2EBFA;\n",
              "      box-shadow: 0px 1px 2px rgba(60, 64, 67, 0.3), 0px 1px 3px 1px rgba(60, 64, 67, 0.15);\n",
              "      fill: #174EA6;\n",
              "    }\n",
              "\n",
              "    [theme=dark] .colab-df-convert {\n",
              "      background-color: #3B4455;\n",
              "      fill: #D2E3FC;\n",
              "    }\n",
              "\n",
              "    [theme=dark] .colab-df-convert:hover {\n",
              "      background-color: #434B5C;\n",
              "      box-shadow: 0px 1px 3px 1px rgba(0, 0, 0, 0.15);\n",
              "      filter: drop-shadow(0px 1px 2px rgba(0, 0, 0, 0.3));\n",
              "      fill: #FFFFFF;\n",
              "    }\n",
              "  </style>\n",
              "\n",
              "      <script>\n",
              "        const buttonEl =\n",
              "          document.querySelector('#df-4579aab2-b353-409e-b2d2-ffe24a14d129 button.colab-df-convert');\n",
              "        buttonEl.style.display =\n",
              "          google.colab.kernel.accessAllowed ? 'block' : 'none';\n",
              "\n",
              "        async function convertToInteractive(key) {\n",
              "          const element = document.querySelector('#df-4579aab2-b353-409e-b2d2-ffe24a14d129');\n",
              "          const dataTable =\n",
              "            await google.colab.kernel.invokeFunction('convertToInteractive',\n",
              "                                                     [key], {});\n",
              "          if (!dataTable) return;\n",
              "\n",
              "          const docLinkHtml = 'Like what you see? Visit the ' +\n",
              "            '<a target=\"_blank\" href=https://colab.research.google.com/notebooks/data_table.ipynb>data table notebook</a>'\n",
              "            + ' to learn more about interactive tables.';\n",
              "          element.innerHTML = '';\n",
              "          dataTable['output_type'] = 'display_data';\n",
              "          await google.colab.output.renderOutput(dataTable, element);\n",
              "          const docLink = document.createElement('div');\n",
              "          docLink.innerHTML = docLinkHtml;\n",
              "          element.appendChild(docLink);\n",
              "        }\n",
              "      </script>\n",
              "    </div>\n",
              "  </div>\n",
              "  "
            ]
          },
          "metadata": {},
          "execution_count": 347
        }
      ]
    },
    {
      "cell_type": "code",
      "source": [
        "df.info()"
      ],
      "metadata": {
        "colab": {
          "base_uri": "https://localhost:8080/"
        },
        "id": "Wk0ZBB3viFvl",
        "outputId": "0bc75702-bc18-4a41-e632-0a86223c0d27"
      },
      "execution_count": null,
      "outputs": [
        {
          "output_type": "stream",
          "name": "stdout",
          "text": [
            "<class 'pandas.core.frame.DataFrame'>\n",
            "Int64Index: 10834 entries, 0 to 10833\n",
            "Data columns (total 17 columns):\n",
            " #   Column           Non-Null Count  Dtype  \n",
            "---  ------           --------------  -----  \n",
            " 0   Area             10834 non-null  int64  \n",
            " 1   Perimeter        10834 non-null  float64\n",
            " 2   MajorAxisLength  10834 non-null  float64\n",
            " 3   MinorAxisLength  10834 non-null  float64\n",
            " 4   AspectRation     10834 non-null  float64\n",
            " 5   Eccentricity     10834 non-null  float64\n",
            " 6   ConvexArea       10834 non-null  int64  \n",
            " 7   EquivDiameter    10834 non-null  float64\n",
            " 8   Extent           10834 non-null  float64\n",
            " 9   Solidity         10834 non-null  float64\n",
            " 10  roundness        10834 non-null  float64\n",
            " 11  Compactness      10834 non-null  float64\n",
            " 12  ShapeFactor1     10834 non-null  float64\n",
            " 13  ShapeFactor2     10834 non-null  float64\n",
            " 14  ShapeFactor3     10834 non-null  float64\n",
            " 15  ShapeFactor4     10834 non-null  float64\n",
            " 16  y                10834 non-null  object \n",
            "dtypes: float64(14), int64(2), object(1)\n",
            "memory usage: 1.5+ MB\n"
          ]
        }
      ]
    },
    {
      "cell_type": "code",
      "source": [
        "df.describe()"
      ],
      "metadata": {
        "colab": {
          "base_uri": "https://localhost:8080/",
          "height": 364
        },
        "id": "iPlqAdqJihK2",
        "outputId": "783e57d3-c04a-488c-8124-286aab9535f9"
      },
      "execution_count": null,
      "outputs": [
        {
          "output_type": "execute_result",
          "data": {
            "text/plain": [
              "                Area     Perimeter  MajorAxisLength  MinorAxisLength  \\\n",
              "count   10834.000000  10834.000000     10834.000000     10834.000000   \n",
              "mean    53095.675189    855.274892       320.036169       202.410342   \n",
              "std     29542.542580    214.991122        85.961630        45.113965   \n",
              "min     20420.000000    524.932000       183.601165       129.576207   \n",
              "25%     36343.500000    703.601250       253.501071       175.927024   \n",
              "50%     44645.000000    793.739500       296.377365       192.525040   \n",
              "75%     61295.000000    975.517500       376.068399       217.315195   \n",
              "max    254616.000000   1985.370000       738.860153       450.926187   \n",
              "\n",
              "       AspectRation  Eccentricity     ConvexArea  EquivDiameter        Extent  \\\n",
              "count  10834.000000  10834.000000   10834.000000   10834.000000  10834.000000   \n",
              "mean       1.581294      0.750588   53816.205926     253.123583      0.749937   \n",
              "std        0.244314      0.091481   29999.710739      59.433080      0.048949   \n",
              "min        1.024868      0.218951   20684.000000     161.243764      0.555315   \n",
              "25%        1.432985      0.716250   36731.250000     215.113880      0.718778   \n",
              "50%        1.550761      0.764314   45148.000000     238.419335      0.760141   \n",
              "75%        1.703029      0.809450   62251.500000     279.362162      0.786871   \n",
              "max        2.388873      0.908167  263261.000000     569.374358      0.866195   \n",
              "\n",
              "           Solidity     roundness   Compactness  ShapeFactor1  ShapeFactor2  \\\n",
              "count  10834.000000  10834.000000  10834.000000  10834.000000  10834.000000   \n",
              "mean       0.987152      0.873647      0.800244      0.006559      0.001718   \n",
              "std        0.004626      0.059344      0.061228      0.001127      0.000593   \n",
              "min        0.919246      0.489618      0.645368      0.002856      0.000564   \n",
              "25%        0.985627      0.833479      0.763378      0.005888      0.001161   \n",
              "50%        0.988290      0.883472      0.801428      0.006643      0.001700   \n",
              "75%        0.990014      0.916883      0.834068      0.007268      0.002169   \n",
              "max        0.994677      0.990685      0.987303      0.009897      0.003665   \n",
              "\n",
              "       ShapeFactor3  ShapeFactor4  \n",
              "count  10834.000000  10834.000000  \n",
              "mean       0.644139      0.995083  \n",
              "std        0.098268      0.004306  \n",
              "min        0.416499      0.947687  \n",
              "25%        0.582747      0.993690  \n",
              "50%        0.642287      0.996397  \n",
              "75%        0.695670      0.997895  \n",
              "max        0.974767      0.999733  "
            ],
            "text/html": [
              "\n",
              "  <div id=\"df-de9365bc-df41-45e0-9759-f650f2afdbaf\">\n",
              "    <div class=\"colab-df-container\">\n",
              "      <div>\n",
              "<style scoped>\n",
              "    .dataframe tbody tr th:only-of-type {\n",
              "        vertical-align: middle;\n",
              "    }\n",
              "\n",
              "    .dataframe tbody tr th {\n",
              "        vertical-align: top;\n",
              "    }\n",
              "\n",
              "    .dataframe thead th {\n",
              "        text-align: right;\n",
              "    }\n",
              "</style>\n",
              "<table border=\"1\" class=\"dataframe\">\n",
              "  <thead>\n",
              "    <tr style=\"text-align: right;\">\n",
              "      <th></th>\n",
              "      <th>Area</th>\n",
              "      <th>Perimeter</th>\n",
              "      <th>MajorAxisLength</th>\n",
              "      <th>MinorAxisLength</th>\n",
              "      <th>AspectRation</th>\n",
              "      <th>Eccentricity</th>\n",
              "      <th>ConvexArea</th>\n",
              "      <th>EquivDiameter</th>\n",
              "      <th>Extent</th>\n",
              "      <th>Solidity</th>\n",
              "      <th>roundness</th>\n",
              "      <th>Compactness</th>\n",
              "      <th>ShapeFactor1</th>\n",
              "      <th>ShapeFactor2</th>\n",
              "      <th>ShapeFactor3</th>\n",
              "      <th>ShapeFactor4</th>\n",
              "    </tr>\n",
              "  </thead>\n",
              "  <tbody>\n",
              "    <tr>\n",
              "      <th>count</th>\n",
              "      <td>10834.000000</td>\n",
              "      <td>10834.000000</td>\n",
              "      <td>10834.000000</td>\n",
              "      <td>10834.000000</td>\n",
              "      <td>10834.000000</td>\n",
              "      <td>10834.000000</td>\n",
              "      <td>10834.000000</td>\n",
              "      <td>10834.000000</td>\n",
              "      <td>10834.000000</td>\n",
              "      <td>10834.000000</td>\n",
              "      <td>10834.000000</td>\n",
              "      <td>10834.000000</td>\n",
              "      <td>10834.000000</td>\n",
              "      <td>10834.000000</td>\n",
              "      <td>10834.000000</td>\n",
              "      <td>10834.000000</td>\n",
              "    </tr>\n",
              "    <tr>\n",
              "      <th>mean</th>\n",
              "      <td>53095.675189</td>\n",
              "      <td>855.274892</td>\n",
              "      <td>320.036169</td>\n",
              "      <td>202.410342</td>\n",
              "      <td>1.581294</td>\n",
              "      <td>0.750588</td>\n",
              "      <td>53816.205926</td>\n",
              "      <td>253.123583</td>\n",
              "      <td>0.749937</td>\n",
              "      <td>0.987152</td>\n",
              "      <td>0.873647</td>\n",
              "      <td>0.800244</td>\n",
              "      <td>0.006559</td>\n",
              "      <td>0.001718</td>\n",
              "      <td>0.644139</td>\n",
              "      <td>0.995083</td>\n",
              "    </tr>\n",
              "    <tr>\n",
              "      <th>std</th>\n",
              "      <td>29542.542580</td>\n",
              "      <td>214.991122</td>\n",
              "      <td>85.961630</td>\n",
              "      <td>45.113965</td>\n",
              "      <td>0.244314</td>\n",
              "      <td>0.091481</td>\n",
              "      <td>29999.710739</td>\n",
              "      <td>59.433080</td>\n",
              "      <td>0.048949</td>\n",
              "      <td>0.004626</td>\n",
              "      <td>0.059344</td>\n",
              "      <td>0.061228</td>\n",
              "      <td>0.001127</td>\n",
              "      <td>0.000593</td>\n",
              "      <td>0.098268</td>\n",
              "      <td>0.004306</td>\n",
              "    </tr>\n",
              "    <tr>\n",
              "      <th>min</th>\n",
              "      <td>20420.000000</td>\n",
              "      <td>524.932000</td>\n",
              "      <td>183.601165</td>\n",
              "      <td>129.576207</td>\n",
              "      <td>1.024868</td>\n",
              "      <td>0.218951</td>\n",
              "      <td>20684.000000</td>\n",
              "      <td>161.243764</td>\n",
              "      <td>0.555315</td>\n",
              "      <td>0.919246</td>\n",
              "      <td>0.489618</td>\n",
              "      <td>0.645368</td>\n",
              "      <td>0.002856</td>\n",
              "      <td>0.000564</td>\n",
              "      <td>0.416499</td>\n",
              "      <td>0.947687</td>\n",
              "    </tr>\n",
              "    <tr>\n",
              "      <th>25%</th>\n",
              "      <td>36343.500000</td>\n",
              "      <td>703.601250</td>\n",
              "      <td>253.501071</td>\n",
              "      <td>175.927024</td>\n",
              "      <td>1.432985</td>\n",
              "      <td>0.716250</td>\n",
              "      <td>36731.250000</td>\n",
              "      <td>215.113880</td>\n",
              "      <td>0.718778</td>\n",
              "      <td>0.985627</td>\n",
              "      <td>0.833479</td>\n",
              "      <td>0.763378</td>\n",
              "      <td>0.005888</td>\n",
              "      <td>0.001161</td>\n",
              "      <td>0.582747</td>\n",
              "      <td>0.993690</td>\n",
              "    </tr>\n",
              "    <tr>\n",
              "      <th>50%</th>\n",
              "      <td>44645.000000</td>\n",
              "      <td>793.739500</td>\n",
              "      <td>296.377365</td>\n",
              "      <td>192.525040</td>\n",
              "      <td>1.550761</td>\n",
              "      <td>0.764314</td>\n",
              "      <td>45148.000000</td>\n",
              "      <td>238.419335</td>\n",
              "      <td>0.760141</td>\n",
              "      <td>0.988290</td>\n",
              "      <td>0.883472</td>\n",
              "      <td>0.801428</td>\n",
              "      <td>0.006643</td>\n",
              "      <td>0.001700</td>\n",
              "      <td>0.642287</td>\n",
              "      <td>0.996397</td>\n",
              "    </tr>\n",
              "    <tr>\n",
              "      <th>75%</th>\n",
              "      <td>61295.000000</td>\n",
              "      <td>975.517500</td>\n",
              "      <td>376.068399</td>\n",
              "      <td>217.315195</td>\n",
              "      <td>1.703029</td>\n",
              "      <td>0.809450</td>\n",
              "      <td>62251.500000</td>\n",
              "      <td>279.362162</td>\n",
              "      <td>0.786871</td>\n",
              "      <td>0.990014</td>\n",
              "      <td>0.916883</td>\n",
              "      <td>0.834068</td>\n",
              "      <td>0.007268</td>\n",
              "      <td>0.002169</td>\n",
              "      <td>0.695670</td>\n",
              "      <td>0.997895</td>\n",
              "    </tr>\n",
              "    <tr>\n",
              "      <th>max</th>\n",
              "      <td>254616.000000</td>\n",
              "      <td>1985.370000</td>\n",
              "      <td>738.860153</td>\n",
              "      <td>450.926187</td>\n",
              "      <td>2.388873</td>\n",
              "      <td>0.908167</td>\n",
              "      <td>263261.000000</td>\n",
              "      <td>569.374358</td>\n",
              "      <td>0.866195</td>\n",
              "      <td>0.994677</td>\n",
              "      <td>0.990685</td>\n",
              "      <td>0.987303</td>\n",
              "      <td>0.009897</td>\n",
              "      <td>0.003665</td>\n",
              "      <td>0.974767</td>\n",
              "      <td>0.999733</td>\n",
              "    </tr>\n",
              "  </tbody>\n",
              "</table>\n",
              "</div>\n",
              "      <button class=\"colab-df-convert\" onclick=\"convertToInteractive('df-de9365bc-df41-45e0-9759-f650f2afdbaf')\"\n",
              "              title=\"Convert this dataframe to an interactive table.\"\n",
              "              style=\"display:none;\">\n",
              "        \n",
              "  <svg xmlns=\"http://www.w3.org/2000/svg\" height=\"24px\"viewBox=\"0 0 24 24\"\n",
              "       width=\"24px\">\n",
              "    <path d=\"M0 0h24v24H0V0z\" fill=\"none\"/>\n",
              "    <path d=\"M18.56 5.44l.94 2.06.94-2.06 2.06-.94-2.06-.94-.94-2.06-.94 2.06-2.06.94zm-11 1L8.5 8.5l.94-2.06 2.06-.94-2.06-.94L8.5 2.5l-.94 2.06-2.06.94zm10 10l.94 2.06.94-2.06 2.06-.94-2.06-.94-.94-2.06-.94 2.06-2.06.94z\"/><path d=\"M17.41 7.96l-1.37-1.37c-.4-.4-.92-.59-1.43-.59-.52 0-1.04.2-1.43.59L10.3 9.45l-7.72 7.72c-.78.78-.78 2.05 0 2.83L4 21.41c.39.39.9.59 1.41.59.51 0 1.02-.2 1.41-.59l7.78-7.78 2.81-2.81c.8-.78.8-2.07 0-2.86zM5.41 20L4 18.59l7.72-7.72 1.47 1.35L5.41 20z\"/>\n",
              "  </svg>\n",
              "      </button>\n",
              "      \n",
              "  <style>\n",
              "    .colab-df-container {\n",
              "      display:flex;\n",
              "      flex-wrap:wrap;\n",
              "      gap: 12px;\n",
              "    }\n",
              "\n",
              "    .colab-df-convert {\n",
              "      background-color: #E8F0FE;\n",
              "      border: none;\n",
              "      border-radius: 50%;\n",
              "      cursor: pointer;\n",
              "      display: none;\n",
              "      fill: #1967D2;\n",
              "      height: 32px;\n",
              "      padding: 0 0 0 0;\n",
              "      width: 32px;\n",
              "    }\n",
              "\n",
              "    .colab-df-convert:hover {\n",
              "      background-color: #E2EBFA;\n",
              "      box-shadow: 0px 1px 2px rgba(60, 64, 67, 0.3), 0px 1px 3px 1px rgba(60, 64, 67, 0.15);\n",
              "      fill: #174EA6;\n",
              "    }\n",
              "\n",
              "    [theme=dark] .colab-df-convert {\n",
              "      background-color: #3B4455;\n",
              "      fill: #D2E3FC;\n",
              "    }\n",
              "\n",
              "    [theme=dark] .colab-df-convert:hover {\n",
              "      background-color: #434B5C;\n",
              "      box-shadow: 0px 1px 3px 1px rgba(0, 0, 0, 0.15);\n",
              "      filter: drop-shadow(0px 1px 2px rgba(0, 0, 0, 0.3));\n",
              "      fill: #FFFFFF;\n",
              "    }\n",
              "  </style>\n",
              "\n",
              "      <script>\n",
              "        const buttonEl =\n",
              "          document.querySelector('#df-de9365bc-df41-45e0-9759-f650f2afdbaf button.colab-df-convert');\n",
              "        buttonEl.style.display =\n",
              "          google.colab.kernel.accessAllowed ? 'block' : 'none';\n",
              "\n",
              "        async function convertToInteractive(key) {\n",
              "          const element = document.querySelector('#df-de9365bc-df41-45e0-9759-f650f2afdbaf');\n",
              "          const dataTable =\n",
              "            await google.colab.kernel.invokeFunction('convertToInteractive',\n",
              "                                                     [key], {});\n",
              "          if (!dataTable) return;\n",
              "\n",
              "          const docLinkHtml = 'Like what you see? Visit the ' +\n",
              "            '<a target=\"_blank\" href=https://colab.research.google.com/notebooks/data_table.ipynb>data table notebook</a>'\n",
              "            + ' to learn more about interactive tables.';\n",
              "          element.innerHTML = '';\n",
              "          dataTable['output_type'] = 'display_data';\n",
              "          await google.colab.output.renderOutput(dataTable, element);\n",
              "          const docLink = document.createElement('div');\n",
              "          docLink.innerHTML = docLinkHtml;\n",
              "          element.appendChild(docLink);\n",
              "        }\n",
              "      </script>\n",
              "    </div>\n",
              "  </div>\n",
              "  "
            ]
          },
          "metadata": {},
          "execution_count": 349
        }
      ]
    },
    {
      "cell_type": "code",
      "source": [
        "df.isna().sum().sum()"
      ],
      "metadata": {
        "colab": {
          "base_uri": "https://localhost:8080/"
        },
        "id": "a244beoWioig",
        "outputId": "d30ee10a-e7f8-48be-b848-def61c17ee1d"
      },
      "execution_count": null,
      "outputs": [
        {
          "output_type": "execute_result",
          "data": {
            "text/plain": [
              "0"
            ]
          },
          "metadata": {},
          "execution_count": 350
        }
      ]
    },
    {
      "cell_type": "code",
      "source": [
        "sns.heatmap(df.isnull())"
      ],
      "metadata": {
        "colab": {
          "base_uri": "https://localhost:8080/",
          "height": 362
        },
        "id": "fZOP5WmsiuKn",
        "outputId": "659a80bd-181c-4da7-bdf0-4d556acea74d"
      },
      "execution_count": null,
      "outputs": [
        {
          "output_type": "execute_result",
          "data": {
            "text/plain": [
              "<matplotlib.axes._subplots.AxesSubplot at 0x7f7d24256bd0>"
            ]
          },
          "metadata": {},
          "execution_count": 351
        },
        {
          "output_type": "display_data",
          "data": {
            "text/plain": [
              "<Figure size 432x288 with 2 Axes>"
            ],
            "image/png": "[encoded data removed]"
          },
          "metadata": {
            "needs_background": "light"
          }
        }
      ]
    },
    {
      "cell_type": "code",
      "source": [
        "df['y'].value_counts()"
      ],
      "metadata": {
        "colab": {
          "base_uri": "https://localhost:8080/"
        },
        "id": "kYKqLBozi6L5",
        "outputId": "f4028ec7-84bb-48de-b570-640cb084997f"
      },
      "execution_count": null,
      "outputs": [
        {
          "output_type": "execute_result",
          "data": {
            "text/plain": [
              "DERMASON    2837\n",
              "SIRA        2109\n",
              "SEKER       1621\n",
              "HOROZ       1488\n",
              "CALI        1304\n",
              "BARBUNYA    1057\n",
              "BOMBAY       418\n",
              "Name: y, dtype: int64"
            ]
          },
          "metadata": {},
          "execution_count": 352
        }
      ]
    },
    {
      "cell_type": "code",
      "source": [
        "plt.figure(figsize=(10,8))\n",
        "sns.countplot(x=\"y\", data=df);"
      ],
      "metadata": {
        "colab": {
          "base_uri": "https://localhost:8080/",
          "height": 497
        },
        "id": "qy7BwqFXVkuu",
        "outputId": "23833552-31c0-4227-cf91-41d40f03bbf8"
      },
      "execution_count": null,
      "outputs": [
        {
          "output_type": "display_data",
          "data": {
            "text/plain": [
              "<Figure size 720x576 with 1 Axes>"
            ],
            "image/png": "[encoded data removed]"
          },
          "metadata": {
            "needs_background": "light"
          }
        }
      ]
    },
    {
      "cell_type": "code",
      "source": [
        "df.shape"
      ],
      "metadata": {
        "colab": {
          "base_uri": "https://localhost:8080/"
        },
        "id": "Ct9Atb0ijYzv",
        "outputId": "672a10a1-d1f2-45e0-aaeb-9190abe18b4c"
      },
      "execution_count": null,
      "outputs": [
        {
          "output_type": "execute_result",
          "data": {
            "text/plain": [
              "(10834, 17)"
            ]
          },
          "metadata": {},
          "execution_count": 354
        }
      ]
    },
    {
      "cell_type": "code",
      "source": [
        "df.hist(bins=50,figsize=(16,16))\n",
        "plt.show()"
      ],
      "metadata": {
        "colab": {
          "base_uri": "https://localhost:8080/",
          "height": 934
        },
        "id": "-QXZIzgpd1Mi",
        "outputId": "93955acb-409c-4152-be68-a4a39a3a4f7a"
      },
      "execution_count": null,
      "outputs": [
        {
          "output_type": "display_data",
          "data": {
            "text/plain": [
              "<Figure size 1152x1152 with 16 Axes>"
            ],
            "image/png": "[encoded data removed]"
          },
          "metadata": {
            "needs_background": "light"
          }
        }
      ]
    },
    {
      "cell_type": "code",
      "source": [
        "df.skew()"
      ],
      "metadata": {
        "colab": {
          "base_uri": "https://localhost:8080/"
        },
        "id": "l3_8phiueQ0Q",
        "outputId": "3b27a5e8-131f-4660-cb11-a01f7883f30e"
      },
      "execution_count": null,
      "outputs": [
        {
          "output_type": "stream",
          "name": "stderr",
          "text": [
            "/usr/local/lib/python3.7/dist-packages/ipykernel_launcher.py:1: FutureWarning: Dropping of nuisance columns in DataFrame reductions (with 'numeric_only=None') is deprecated; in a future version this will raise TypeError.  Select only valid columns before calling the reduction.\n",
            "  \"\"\"Entry point for launching an IPython kernel.\n"
          ]
        },
        {
          "output_type": "execute_result",
          "data": {
            "text/plain": [
              "Area               2.970246\n",
              "Perimeter          1.650773\n",
              "MajorAxisLength    1.390286\n",
              "MinorAxisLength    2.251468\n",
              "AspectRation       0.589186\n",
              "Eccentricity      -1.075626\n",
              "ConvexArea         2.960315\n",
              "EquivDiameter      1.971378\n",
              "Extent            -0.900892\n",
              "Solidity          -2.507634\n",
              "roundness         -0.659566\n",
              "Compactness        0.038242\n",
              "ShapeFactor1      -0.544873\n",
              "ShapeFactor2       0.292677\n",
              "ShapeFactor3       0.245589\n",
              "ShapeFactor4      -2.628540\n",
              "dtype: float64"
            ]
          },
          "metadata": {},
          "execution_count": 356
        }
      ]
    },
    {
      "cell_type": "code",
      "source": [
        "from imblearn.over_sampling import SMOTE\n",
        "# Resampling the minority class. The strategy can be changed as required.\n",
        "sm = SMOTE(sampling_strategy='minority', random_state=0)\n",
        "# Fit the model to generate the data.\n",
        "oversampled_X, oversampled_Y = sm.fit_resample(df.drop('y', axis=1), df['y'])\n",
        "oversampled = pd.concat([pd.DataFrame(oversampled_Y), pd.DataFrame(oversampled_X)], axis=1)"
      ],
      "metadata": {
        "id": "B0UqKtdEKT8I"
      },
      "execution_count": null,
      "outputs": []
    },
    {
      "cell_type": "code",
      "source": [
        "oversampled.shape"
      ],
      "metadata": {
        "colab": {
          "base_uri": "https://localhost:8080/"
        },
        "id": "Rgez19DBK-x1",
        "outputId": "69866010-993f-4eb1-e32a-fde4d8b79051"
      },
      "execution_count": null,
      "outputs": [
        {
          "output_type": "execute_result",
          "data": {
            "text/plain": [
              "(13253, 17)"
            ]
          },
          "metadata": {},
          "execution_count": 358
        }
      ]
    },
    {
      "cell_type": "code",
      "source": [
        "oversampled.columns"
      ],
      "metadata": {
        "colab": {
          "base_uri": "https://localhost:8080/"
        },
        "id": "FnZSXlFjLC7a",
        "outputId": "cdb13327-9dbb-4255-aeff-23edf621fc51"
      },
      "execution_count": null,
      "outputs": [
        {
          "output_type": "execute_result",
          "data": {
            "text/plain": [
              "Index(['y', 'Area', 'Perimeter', 'MajorAxisLength', 'MinorAxisLength',\n",
              "       'AspectRation', 'Eccentricity', 'ConvexArea', 'EquivDiameter', 'Extent',\n",
              "       'Solidity', 'roundness', 'Compactness', 'ShapeFactor1', 'ShapeFactor2',\n",
              "       'ShapeFactor3', 'ShapeFactor4'],\n",
              "      dtype='object')"
            ]
          },
          "metadata": {},
          "execution_count": 359
        }
      ]
    },
    {
      "cell_type": "code",
      "source": [
        "df['y'].value_counts()"
      ],
      "metadata": {
        "colab": {
          "base_uri": "https://localhost:8080/"
        },
        "id": "FyHVbbtXLTO_",
        "outputId": "793556d1-7cab-4ba5-8f97-a1d43675ce6e"
      },
      "execution_count": null,
      "outputs": [
        {
          "output_type": "execute_result",
          "data": {
            "text/plain": [
              "DERMASON    2837\n",
              "SIRA        2109\n",
              "SEKER       1621\n",
              "HOROZ       1488\n",
              "CALI        1304\n",
              "BARBUNYA    1057\n",
              "BOMBAY       418\n",
              "Name: y, dtype: int64"
            ]
          },
          "metadata": {},
          "execution_count": 360
        }
      ]
    },
    {
      "cell_type": "code",
      "source": [
        "oversampled['y'].value_counts()"
      ],
      "metadata": {
        "colab": {
          "base_uri": "https://localhost:8080/"
        },
        "id": "6_vaXZ9hLIzh",
        "outputId": "93d5e383-e51c-4225-d4bd-3f57175934d3"
      },
      "execution_count": null,
      "outputs": [
        {
          "output_type": "execute_result",
          "data": {
            "text/plain": [
              "DERMASON    2837\n",
              "BOMBAY      2837\n",
              "SIRA        2109\n",
              "SEKER       1621\n",
              "HOROZ       1488\n",
              "CALI        1304\n",
              "BARBUNYA    1057\n",
              "Name: y, dtype: int64"
            ]
          },
          "metadata": {},
          "execution_count": 361
        }
      ]
    },
    {
      "cell_type": "code",
      "source": [
        "\n",
        "oversampled.replace(['BOMBAY','DERMASON','SIRA','SEKER', 'HOROZ', 'CALI','BARBUNYA'], [0,1,2,3,4,5,6], inplace=True)"
      ],
      "metadata": {
        "id": "pn2QNYGiveyT"
      },
      "execution_count": null,
      "outputs": []
    },
    {
      "cell_type": "code",
      "source": [
        "oversampled['y'].unique()"
      ],
      "metadata": {
        "colab": {
          "base_uri": "https://localhost:8080/"
        },
        "id": "lgOmwtvvwTt-",
        "outputId": "81ba2280-6ab1-4d59-d045-bfef9800d565"
      },
      "execution_count": null,
      "outputs": [
        {
          "output_type": "execute_result",
          "data": {
            "text/plain": [
              "array([4, 3, 1, 2, 6, 5, 0])"
            ]
          },
          "metadata": {},
          "execution_count": 363
        }
      ]
    },
    {
      "cell_type": "code",
      "source": [
        "df.columns.tolist()"
      ],
      "metadata": {
        "colab": {
          "base_uri": "https://localhost:8080/"
        },
        "id": "2Ugg7iS8WlQA",
        "outputId": "52903330-bb3a-4e6e-8e74-d0aff16f3420"
      },
      "execution_count": null,
      "outputs": [
        {
          "output_type": "execute_result",
          "data": {
            "text/plain": [
              "['Area',\n",
              " 'Perimeter',\n",
              " 'MajorAxisLength',\n",
              " 'MinorAxisLength',\n",
              " 'AspectRation',\n",
              " 'Eccentricity',\n",
              " 'ConvexArea',\n",
              " 'EquivDiameter',\n",
              " 'Extent',\n",
              " 'Solidity',\n",
              " 'roundness',\n",
              " 'Compactness',\n",
              " 'ShapeFactor1',\n",
              " 'ShapeFactor2',\n",
              " 'ShapeFactor3',\n",
              " 'ShapeFactor4',\n",
              " 'y']"
            ]
          },
          "metadata": {},
          "execution_count": 364
        }
      ]
    },
    {
      "cell_type": "code",
      "source": [
        "from sklearn.feature_selection import SelectKBest\n",
        "from sklearn.feature_selection import chi2\n",
        "dataa = oversampled.copy()\n",
        "X=dataa.drop(['y'],axis=1).copy()\n",
        "\n",
        "y = dataa['y']    #target column i.e price range\n",
        "#apply SelectKBest class to extract top 10 best features\n",
        "bestfeatures = SelectKBest(score_func=chi2, k=10)\n",
        "fit = bestfeatures.fit(X,y)\n",
        "dfscores = pd.DataFrame(fit.scores_)\n",
        "dfcolumns = pd.DataFrame(X.columns)\n",
        "#concat two dataframes for better visualization \n",
        "featureScores = pd.concat([dfcolumns,dfscores],axis=1)\n",
        "featureScores.columns = ['Specs','Score']  #naming the dataframe columns\n",
        "print(featureScores.nlargest(10,'Score'))  #print 10 best features"
      ],
      "metadata": {
        "colab": {
          "base_uri": "https://localhost:8080/"
        },
        "id": "Y7Q-faz7Mr0s",
        "outputId": "1421a7d7-75ab-42e1-c8a6-80dbd16c1d70"
      },
      "execution_count": null,
      "outputs": [
        {
          "output_type": "stream",
          "name": "stdout",
          "text": [
            "              Specs         Score\n",
            "6        ConvexArea  5.115174e+08\n",
            "0              Area  5.048127e+08\n",
            "1         Perimeter  1.540454e+06\n",
            "2   MajorAxisLength  5.989513e+05\n",
            "7     EquivDiameter  4.395485e+05\n",
            "3   MinorAxisLength  3.399547e+05\n",
            "4      AspectRation  3.344784e+02\n",
            "14     ShapeFactor3  1.327931e+02\n",
            "5      Eccentricity  9.492107e+01\n",
            "11      Compactness  4.153693e+01\n"
          ]
        }
      ]
    },
    {
      "cell_type": "code",
      "source": [
        "from sklearn.ensemble import ExtraTreesClassifier\n",
        "\n",
        "model = ExtraTreesClassifier()\n",
        "dataa = oversampled.copy()\n",
        "X=dataa.drop(['y'],axis=1).copy()\n",
        "y = dataa['y'] \n",
        "model.fit(X,y)\n",
        "print(model.feature_importances_) #use inbuilt class feature_importances of tree based classifiers\n",
        "#plot graph of feature importances for better visualization\n",
        "feat_importances = pd.Series(model.feature_importances_, index=X.columns)\n",
        "feat_importances.nlargest(10).plot(kind='barh')\n",
        "plt.show()"
      ],
      "metadata": {
        "colab": {
          "base_uri": "https://localhost:8080/",
          "height": 320
        },
        "id": "wvwBCoASP6YA",
        "outputId": "8916266b-b4dc-4fc1-835e-18088962f39e"
      },
      "execution_count": null,
      "outputs": [
        {
          "output_type": "stream",
          "name": "stdout",
          "text": [
            "[0.0957701  0.09538698 0.0867808  0.10527688 0.05629088 0.04450206\n",
            " 0.06921702 0.09050508 0.0110217  0.01389485 0.04276817 0.06170245\n",
            " 0.07232408 0.06499889 0.06646709 0.02309295]\n"
          ]
        },
        {
          "output_type": "display_data",
          "data": {
            "text/plain": [
              "<Figure size 432x288 with 1 Axes>"
            ],
            "image/png": "[encoded data removed]"
          },
          "metadata": {
            "needs_background": "light"
          }
        }
      ]
    },
    {
      "cell_type": "code",
      "source": [
        "oversampled.columns"
      ],
      "metadata": {
        "colab": {
          "base_uri": "https://localhost:8080/"
        },
        "id": "-yGWp7pAPt1C",
        "outputId": "102f5db5-06e9-4b10-8547-a4712d58590f"
      },
      "execution_count": null,
      "outputs": [
        {
          "output_type": "execute_result",
          "data": {
            "text/plain": [
              "Index(['y', 'Area', 'Perimeter', 'MajorAxisLength', 'MinorAxisLength',\n",
              "       'AspectRation', 'Eccentricity', 'ConvexArea', 'EquivDiameter', 'Extent',\n",
              "       'Solidity', 'roundness', 'Compactness', 'ShapeFactor1', 'ShapeFactor2',\n",
              "       'ShapeFactor3', 'ShapeFactor4'],\n",
              "      dtype='object')"
            ]
          },
          "metadata": {},
          "execution_count": 367
        }
      ]
    },
    {
      "cell_type": "code",
      "source": [
        "#oversampled.drop(['ShapeFactor4','Extent','Solidity','roundness','ShapeFactor2','Eccentricity'], axis=1, inplace=True)"
      ],
      "metadata": {
        "id": "X0Im4XiKOfNP"
      },
      "execution_count": null,
      "outputs": []
    },
    {
      "cell_type": "code",
      "source": [
        "oversampled.drop(['ConvexArea','Solidity', 'roundness','ShapeFactor4','Extent', 'AspectRation'], axis=1, inplace=True)\n"
      ],
      "metadata": {
        "id": "Zb37loctXzwB"
      },
      "execution_count": null,
      "outputs": []
    },
    {
      "cell_type": "code",
      "source": [
        "oversampled.shape"
      ],
      "metadata": {
        "colab": {
          "base_uri": "https://localhost:8080/"
        },
        "id": "_55L5f0fS5Mk",
        "outputId": "cd844ec7-f086-4866-a110-a3afee8c5bc5"
      },
      "execution_count": null,
      "outputs": [
        {
          "output_type": "execute_result",
          "data": {
            "text/plain": [
              "(13253, 11)"
            ]
          },
          "metadata": {},
          "execution_count": 370
        }
      ]
    },
    {
      "cell_type": "code",
      "source": [
        "X=oversampled.drop(['y'],axis=1).copy()\n",
        "X.head()"
      ],
      "metadata": {
        "colab": {
          "base_uri": "https://localhost:8080/",
          "height": 270
        },
        "id": "WKGVyl1pjA35",
        "outputId": "9638fef9-b835-41ed-e2cd-cfe5a7f9a71b"
      },
      "execution_count": null,
      "outputs": [
        {
          "output_type": "execute_result",
          "data": {
            "text/plain": [
              "    Area  Perimeter  MajorAxisLength  MinorAxisLength  Eccentricity  \\\n",
              "0  58238    971.303       397.202654       186.945510      0.882317   \n",
              "1  44515    757.601       265.590470       213.967453      0.592420   \n",
              "2  31662    653.783       239.902428       168.421505      0.712136   \n",
              "3  38778    734.020       268.446281       184.061923      0.727925   \n",
              "4  42530    775.403       281.212824       193.236878      0.726511   \n",
              "\n",
              "   EquivDiameter  Compactness  ShapeFactor1  ShapeFactor2  ShapeFactor3  \n",
              "0     272.306674     0.685561      0.006820      0.000929      0.469994  \n",
              "1     238.071960     0.896387      0.005966      0.002376      0.803510  \n",
              "2     200.781748     0.836931      0.007577      0.002293      0.700453  \n",
              "3     222.201897     0.827733      0.006923      0.002005      0.685142  \n",
              "4     232.703412     0.827499      0.006612      0.001912      0.684755  "
            ],
            "text/html": [
              "\n",
              "  <div id=\"df-a6bea443-b76a-4656-8a6a-f3e6e254ce1b\">\n",
              "    <div class=\"colab-df-container\">\n",
              "      <div>\n",
              "<style scoped>\n",
              "    .dataframe tbody tr th:only-of-type {\n",
              "        vertical-align: middle;\n",
              "    }\n",
              "\n",
              "    .dataframe tbody tr th {\n",
              "        vertical-align: top;\n",
              "    }\n",
              "\n",
              "    .dataframe thead th {\n",
              "        text-align: right;\n",
              "    }\n",
              "</style>\n",
              "<table border=\"1\" class=\"dataframe\">\n",
              "  <thead>\n",
              "    <tr style=\"text-align: right;\">\n",
              "      <th></th>\n",
              "      <th>Area</th>\n",
              "      <th>Perimeter</th>\n",
              "      <th>MajorAxisLength</th>\n",
              "      <th>MinorAxisLength</th>\n",
              "      <th>Eccentricity</th>\n",
              "      <th>EquivDiameter</th>\n",
              "      <th>Compactness</th>\n",
              "      <th>ShapeFactor1</th>\n",
              "      <th>ShapeFactor2</th>\n",
              "      <th>ShapeFactor3</th>\n",
              "    </tr>\n",
              "  </thead>\n",
              "  <tbody>\n",
              "    <tr>\n",
              "      <th>0</th>\n",
              "      <td>58238</td>\n",
              "      <td>971.303</td>\n",
              "      <td>397.202654</td>\n",
              "      <td>186.945510</td>\n",
              "      <td>0.882317</td>\n",
              "      <td>272.306674</td>\n",
              "      <td>0.685561</td>\n",
              "      <td>0.006820</td>\n",
              "      <td>0.000929</td>\n",
              "      <td>0.469994</td>\n",
              "    </tr>\n",
              "    <tr>\n",
              "      <th>1</th>\n",
              "      <td>44515</td>\n",
              "      <td>757.601</td>\n",
              "      <td>265.590470</td>\n",
              "      <td>213.967453</td>\n",
              "      <td>0.592420</td>\n",
              "      <td>238.071960</td>\n",
              "      <td>0.896387</td>\n",
              "      <td>0.005966</td>\n",
              "      <td>0.002376</td>\n",
              "      <td>0.803510</td>\n",
              "    </tr>\n",
              "    <tr>\n",
              "      <th>2</th>\n",
              "      <td>31662</td>\n",
              "      <td>653.783</td>\n",
              "      <td>239.902428</td>\n",
              "      <td>168.421505</td>\n",
              "      <td>0.712136</td>\n",
              "      <td>200.781748</td>\n",
              "      <td>0.836931</td>\n",
              "      <td>0.007577</td>\n",
              "      <td>0.002293</td>\n",
              "      <td>0.700453</td>\n",
              "    </tr>\n",
              "    <tr>\n",
              "      <th>3</th>\n",
              "      <td>38778</td>\n",
              "      <td>734.020</td>\n",
              "      <td>268.446281</td>\n",
              "      <td>184.061923</td>\n",
              "      <td>0.727925</td>\n",
              "      <td>222.201897</td>\n",
              "      <td>0.827733</td>\n",
              "      <td>0.006923</td>\n",
              "      <td>0.002005</td>\n",
              "      <td>0.685142</td>\n",
              "    </tr>\n",
              "    <tr>\n",
              "      <th>4</th>\n",
              "      <td>42530</td>\n",
              "      <td>775.403</td>\n",
              "      <td>281.212824</td>\n",
              "      <td>193.236878</td>\n",
              "      <td>0.726511</td>\n",
              "      <td>232.703412</td>\n",
              "      <td>0.827499</td>\n",
              "      <td>0.006612</td>\n",
              "      <td>0.001912</td>\n",
              "      <td>0.684755</td>\n",
              "    </tr>\n",
              "  </tbody>\n",
              "</table>\n",
              "</div>\n",
              "      <button class=\"colab-df-convert\" onclick=\"convertToInteractive('df-a6bea443-b76a-4656-8a6a-f3e6e254ce1b')\"\n",
              "              title=\"Convert this dataframe to an interactive table.\"\n",
              "              style=\"display:none;\">\n",
              "        \n",
              "  <svg xmlns=\"http://www.w3.org/2000/svg\" height=\"24px\"viewBox=\"0 0 24 24\"\n",
              "       width=\"24px\">\n",
              "    <path d=\"M0 0h24v24H0V0z\" fill=\"none\"/>\n",
              "    <path d=\"M18.56 5.44l.94 2.06.94-2.06 2.06-.94-2.06-.94-.94-2.06-.94 2.06-2.06.94zm-11 1L8.5 8.5l.94-2.06 2.06-.94-2.06-.94L8.5 2.5l-.94 2.06-2.06.94zm10 10l.94 2.06.94-2.06 2.06-.94-2.06-.94-.94-2.06-.94 2.06-2.06.94z\"/><path d=\"M17.41 7.96l-1.37-1.37c-.4-.4-.92-.59-1.43-.59-.52 0-1.04.2-1.43.59L10.3 9.45l-7.72 7.72c-.78.78-.78 2.05 0 2.83L4 21.41c.39.39.9.59 1.41.59.51 0 1.02-.2 1.41-.59l7.78-7.78 2.81-2.81c.8-.78.8-2.07 0-2.86zM5.41 20L4 18.59l7.72-7.72 1.47 1.35L5.41 20z\"/>\n",
              "  </svg>\n",
              "      </button>\n",
              "      \n",
              "  <style>\n",
              "    .colab-df-container {\n",
              "      display:flex;\n",
              "      flex-wrap:wrap;\n",
              "      gap: 12px;\n",
              "    }\n",
              "\n",
              "    .colab-df-convert {\n",
              "      background-color: #E8F0FE;\n",
              "      border: none;\n",
              "      border-radius: 50%;\n",
              "      cursor: pointer;\n",
              "      display: none;\n",
              "      fill: #1967D2;\n",
              "      height: 32px;\n",
              "      padding: 0 0 0 0;\n",
              "      width: 32px;\n",
              "    }\n",
              "\n",
              "    .colab-df-convert:hover {\n",
              "      background-color: #E2EBFA;\n",
              "      box-shadow: 0px 1px 2px rgba(60, 64, 67, 0.3), 0px 1px 3px 1px rgba(60, 64, 67, 0.15);\n",
              "      fill: #174EA6;\n",
              "    }\n",
              "\n",
              "    [theme=dark] .colab-df-convert {\n",
              "      background-color: #3B4455;\n",
              "      fill: #D2E3FC;\n",
              "    }\n",
              "\n",
              "    [theme=dark] .colab-df-convert:hover {\n",
              "      background-color: #434B5C;\n",
              "      box-shadow: 0px 1px 3px 1px rgba(0, 0, 0, 0.15);\n",
              "      filter: drop-shadow(0px 1px 2px rgba(0, 0, 0, 0.3));\n",
              "      fill: #FFFFFF;\n",
              "    }\n",
              "  </style>\n",
              "\n",
              "      <script>\n",
              "        const buttonEl =\n",
              "          document.querySelector('#df-a6bea443-b76a-4656-8a6a-f3e6e254ce1b button.colab-df-convert');\n",
              "        buttonEl.style.display =\n",
              "          google.colab.kernel.accessAllowed ? 'block' : 'none';\n",
              "\n",
              "        async function convertToInteractive(key) {\n",
              "          const element = document.querySelector('#df-a6bea443-b76a-4656-8a6a-f3e6e254ce1b');\n",
              "          const dataTable =\n",
              "            await google.colab.kernel.invokeFunction('convertToInteractive',\n",
              "                                                     [key], {});\n",
              "          if (!dataTable) return;\n",
              "\n",
              "          const docLinkHtml = 'Like what you see? Visit the ' +\n",
              "            '<a target=\"_blank\" href=https://colab.research.google.com/notebooks/data_table.ipynb>data table notebook</a>'\n",
              "            + ' to learn more about interactive tables.';\n",
              "          element.innerHTML = '';\n",
              "          dataTable['output_type'] = 'display_data';\n",
              "          await google.colab.output.renderOutput(dataTable, element);\n",
              "          const docLink = document.createElement('div');\n",
              "          docLink.innerHTML = docLinkHtml;\n",
              "          element.appendChild(docLink);\n",
              "        }\n",
              "      </script>\n",
              "    </div>\n",
              "  </div>\n",
              "  "
            ]
          },
          "metadata": {},
          "execution_count": 371
        }
      ]
    },
    {
      "cell_type": "code",
      "source": [
        "X.shape"
      ],
      "metadata": {
        "colab": {
          "base_uri": "https://localhost:8080/"
        },
        "id": "TcJ4zgcyjWYu",
        "outputId": "174d6bc9-1cd4-4225-b535-e0e8a462c593"
      },
      "execution_count": null,
      "outputs": [
        {
          "output_type": "execute_result",
          "data": {
            "text/plain": [
              "(13253, 10)"
            ]
          },
          "metadata": {},
          "execution_count": 372
        }
      ]
    },
    {
      "cell_type": "code",
      "source": [
        "y=oversampled['y'].copy()\n",
        "y.shape\n"
      ],
      "metadata": {
        "colab": {
          "base_uri": "https://localhost:8080/"
        },
        "id": "fW2Ek6N7jbzm",
        "outputId": "9255163a-28b0-42a3-b73c-5bfb3bdc31cc"
      },
      "execution_count": null,
      "outputs": [
        {
          "output_type": "execute_result",
          "data": {
            "text/plain": [
              "(13253,)"
            ]
          },
          "metadata": {},
          "execution_count": 373
        }
      ]
    },
    {
      "cell_type": "code",
      "source": [
        "y=y.values\n",
        "y=y.reshape((-1,1))\n",
        "y.shape"
      ],
      "metadata": {
        "colab": {
          "base_uri": "https://localhost:8080/"
        },
        "id": "2rFQ6UDFjkfQ",
        "outputId": "b0b2eddf-0bfd-48f8-b408-9494cddca3af"
      },
      "execution_count": null,
      "outputs": [
        {
          "output_type": "execute_result",
          "data": {
            "text/plain": [
              "(13253, 1)"
            ]
          },
          "metadata": {},
          "execution_count": 374
        }
      ]
    },
    {
      "cell_type": "code",
      "source": [
        "from sklearn.preprocessing import StandardScaler\n",
        "\n",
        "sScalar=StandardScaler()    \n",
        "X_Scaled= sScalar.fit_transform(X) #scale train    "
      ],
      "metadata": {
        "id": "jIyB5IQFNbEM"
      },
      "execution_count": null,
      "outputs": []
    },
    {
      "cell_type": "code",
      "source": [
        "################################################################\n",
        "from sklearn.decomposition import PCA\n",
        "pca = PCA(n_components=7)\n",
        "pca.fit(X_Scaled)\n",
        "pca_features = pca.transform(X_Scaled)\n",
        "print(pca_features.shape)\n",
        "\n",
        "\n",
        "\n",
        "\n",
        "\n",
        "###################################################################"
      ],
      "metadata": {
        "id": "eKfPiL_t_mtg",
        "colab": {
          "base_uri": "https://localhost:8080/"
        },
        "outputId": "76209081-3b3b-4b44-839d-e06768dae446"
      },
      "execution_count": null,
      "outputs": [
        {
          "output_type": "stream",
          "name": "stdout",
          "text": [
            "(13253, 7)\n"
          ]
        }
      ]
    },
    {
      "cell_type": "code",
      "source": [
        "from sklearn.model_selection import train_test_split\n",
        "X_train,X_test, y_train, y_test = train_test_split(pca_features, y, test_size=0.2,stratify=y, random_state=0)"
      ],
      "metadata": {
        "id": "9HBty1I4doSd"
      },
      "execution_count": null,
      "outputs": []
    },
    {
      "cell_type": "code",
      "source": [
        "from sklearn.neighbors import KNeighborsClassifier\n",
        "from sklearn.tree import DecisionTreeClassifier\n",
        "from sklearn.pipeline import Pipeline\n",
        "from sklearn.preprocessing import RobustScaler,StandardScaler\n",
        "from sklearn.model_selection import GridSearchCV\n",
        "from sklearn.pipeline import make_pipeline\n",
        "from sklearn.ensemble import RandomForestClassifier\n",
        "from sklearn.neural_network import MLPClassifier\n",
        "from sklearn.model_selection import cross_val_score\n",
        "import xgboost as xgb\n",
        "from xgboost import XGBClassifier\n",
        "from sklearn.metrics import accuracy_score\n",
        "from sklearn.ensemble import BaggingClassifier\n",
        "from sklearn.linear_model import LogisticRegression"
      ],
      "metadata": {
        "id": "nabrV1MVTxnB"
      },
      "execution_count": null,
      "outputs": []
    },
    {
      "cell_type": "code",
      "source": [
        "regressor=LogisticRegression(random_state=0)\n",
        "regressor.fit(X_train,y_train)\n",
        "\n",
        "print(regressor.score(X_train,y_train))\n",
        "print(regressor.score(X_test,y_test))"
      ],
      "metadata": {
        "colab": {
          "base_uri": "https://localhost:8080/"
        },
        "id": "ZMC1a5kot6WG",
        "outputId": "aabc8c31-aa5b-4a27-a0eb-e4e73d153998"
      },
      "execution_count": null,
      "outputs": [
        {
          "output_type": "stream",
          "name": "stderr",
          "text": [
            "/usr/local/lib/python3.7/dist-packages/sklearn/utils/validation.py:993: DataConversionWarning: A column-vector y was passed when a 1d array was expected. Please change the shape of y to (n_samples, ), for example using ravel().\n",
            "  y = column_or_1d(y, warn=True)\n"
          ]
        },
        {
          "output_type": "stream",
          "name": "stdout",
          "text": [
            "0.9216185625353707\n",
            "0.926442851754055\n"
          ]
        },
        {
          "output_type": "stream",
          "name": "stderr",
          "text": [
            "/usr/local/lib/python3.7/dist-packages/sklearn/linear_model/_logistic.py:818: ConvergenceWarning: lbfgs failed to converge (status=1):\n",
            "STOP: TOTAL NO. of ITERATIONS REACHED LIMIT.\n",
            "\n",
            "Increase the number of iterations (max_iter) or scale the data as shown in:\n",
            "    https://scikit-learn.org/stable/modules/preprocessing.html\n",
            "Please also refer to the documentation for alternative solver options:\n",
            "    https://scikit-learn.org/stable/modules/linear_model.html#logistic-regression\n",
            "  extra_warning_msg=_LOGISTIC_SOLVER_CONVERGENCE_MSG,\n"
          ]
        }
      ]
    },
    {
      "cell_type": "code",
      "source": [
        "clf = MLPClassifier(solver='lbfgs', alpha=1e-2,activation='relu',early_stopping=True, hidden_layer_sizes=(8,6), random_state=0)\n",
        "\n",
        "MLP_model=clf.fit(X_train,y_train)\n",
        "\n",
        "print(MLP_model.score(X_train, y_train))\n",
        "print(MLP_model.score(X_test,y_test))"
      ],
      "metadata": {
        "colab": {
          "base_uri": "https://localhost:8080/"
        },
        "id": "czhzo7ZscYcH",
        "outputId": "95c81561-367f-4bca-95c4-c246645df9b5"
      },
      "execution_count": null,
      "outputs": [
        {
          "output_type": "stream",
          "name": "stderr",
          "text": [
            "/usr/local/lib/python3.7/dist-packages/sklearn/neural_network/_multilayer_perceptron.py:1109: DataConversionWarning: A column-vector y was passed when a 1d array was expected. Please change the shape of y to (n_samples, ), for example using ravel().\n",
            "  y = column_or_1d(y, warn=True)\n"
          ]
        },
        {
          "output_type": "stream",
          "name": "stdout",
          "text": [
            "0.9292586304470855\n",
            "0.9290833647680121\n"
          ]
        },
        {
          "output_type": "stream",
          "name": "stderr",
          "text": [
            "/usr/local/lib/python3.7/dist-packages/sklearn/neural_network/_multilayer_perceptron.py:549: ConvergenceWarning: lbfgs failed to converge (status=1):\n",
            "STOP: TOTAL NO. of ITERATIONS REACHED LIMIT.\n",
            "\n",
            "Increase the number of iterations (max_iter) or scale the data as shown in:\n",
            "    https://scikit-learn.org/stable/modules/preprocessing.html\n",
            "  self.n_iter_ = _check_optimize_result(\"lbfgs\", opt_res, self.max_iter)\n"
          ]
        }
      ]
    },
    {
      "cell_type": "code",
      "source": [
        "model = RandomForestClassifier(max_depth=10, random_state=0, min_samples_leaf=10, \n",
        "                            max_features=0.11, \n",
        "                            n_estimators=200)\n",
        "RF_pipeline=model.fit(X_train, y_train)\n",
        "\n",
        "print(RF_pipeline.score(X_train, y_train))\n",
        "print(RF_pipeline.score(X_test,y_test))"
      ],
      "metadata": {
        "colab": {
          "base_uri": "https://localhost:8080/"
        },
        "id": "weoU5FGuapVo",
        "outputId": "3003330f-8fad-4820-e33e-05603b58b3c5"
      },
      "execution_count": null,
      "outputs": [
        {
          "output_type": "stream",
          "name": "stderr",
          "text": [
            "/usr/local/lib/python3.7/dist-packages/ipykernel_launcher.py:4: DataConversionWarning: A column-vector y was passed when a 1d array was expected. Please change the shape of y to (n_samples,), for example using ravel().\n",
            "  after removing the cwd from sys.path.\n"
          ]
        },
        {
          "output_type": "stream",
          "name": "stdout",
          "text": [
            "0.9447274099226561\n",
            "0.9336099585062241\n"
          ]
        }
      ]
    },
    {
      "cell_type": "code",
      "source": [
        "xgb_model = XGBClassifier(use_label_encoder=False, eval_metric='mlogloss',random_state=0)\n",
        "\n",
        "xgb_pipeline=xgb_model.fit(X_train, y_train)\n",
        "print(xgb_pipeline.score(X_train, y_train))\n",
        "print(xgb_pipeline.score(X_test,y_test))"
      ],
      "metadata": {
        "colab": {
          "base_uri": "https://localhost:8080/"
        },
        "id": "raKYCvgkclXh",
        "outputId": "f86f4074-0e94-42d4-ec02-d09d97a7a7d3"
      },
      "execution_count": null,
      "outputs": [
        {
          "output_type": "stream",
          "name": "stderr",
          "text": [
            "/usr/local/lib/python3.7/dist-packages/sklearn/preprocessing/_label.py:98: DataConversionWarning: A column-vector y was passed when a 1d array was expected. Please change the shape of y to (n_samples, ), for example using ravel().\n",
            "  y = column_or_1d(y, warn=True)\n",
            "/usr/local/lib/python3.7/dist-packages/sklearn/preprocessing/_label.py:133: DataConversionWarning: A column-vector y was passed when a 1d array was expected. Please change the shape of y to (n_samples, ), for example using ravel().\n",
            "  y = column_or_1d(y, warn=True)\n"
          ]
        },
        {
          "output_type": "stream",
          "name": "stdout",
          "text": [
            "0.9499151103565365\n",
            "0.9354960392304791\n"
          ]
        }
      ]
    },
    {
      "cell_type": "code",
      "source": [
        "from sklearn.ensemble import AdaBoostClassifier\n",
        "\n",
        "dt = DecisionTreeClassifier(max_depth=10, random_state=0)\n",
        "ada = AdaBoostClassifier(base_estimator=dt, \n",
        "n_estimators=200, random_state=0)\n",
        "\n",
        "ada_model=ada.fit(X_train, y_train)\n",
        "print(ada_model.score(X_train, y_train))\n",
        "print(ada_model.score(X_test,y_test))"
      ],
      "metadata": {
        "colab": {
          "base_uri": "https://localhost:8080/"
        },
        "id": "32i9h8zQeZ03",
        "outputId": "36fe4ba3-ec88-40db-fbd1-89a812358ac5"
      },
      "execution_count": null,
      "outputs": [
        {
          "output_type": "stream",
          "name": "stderr",
          "text": [
            "/usr/local/lib/python3.7/dist-packages/sklearn/utils/validation.py:993: DataConversionWarning: A column-vector y was passed when a 1d array was expected. Please change the shape of y to (n_samples, ), for example using ravel().\n",
            "  y = column_or_1d(y, warn=True)\n"
          ]
        },
        {
          "output_type": "stream",
          "name": "stdout",
          "text": [
            "1.0\n",
            "0.9373821199547341\n"
          ]
        }
      ]
    },
    {
      "cell_type": "code",
      "source": [
        "from sklearn.ensemble import GradientBoostingClassifier\n",
        "\n",
        "gb = GradientBoostingClassifier(max_depth=5, \n",
        "            n_estimators=200,\n",
        "            random_state=0)\n",
        "\n",
        "gn_model=gb.fit(X_train,y_train)\n",
        "print(gn_model.score(X_train, y_train))\n",
        "print(gn_model.score(X_test,y_test))"
      ],
      "metadata": {
        "colab": {
          "base_uri": "https://localhost:8080/"
        },
        "id": "igdhkpMzgLyu",
        "outputId": "b697ff4a-8702-4fe8-affe-96bd7a8a2deb"
      },
      "execution_count": null,
      "outputs": [
        {
          "output_type": "stream",
          "name": "stderr",
          "text": [
            "/usr/local/lib/python3.7/dist-packages/sklearn/ensemble/_gb.py:494: DataConversionWarning: A column-vector y was passed when a 1d array was expected. Please change the shape of y to (n_samples, ), for example using ravel().\n",
            "  y = column_or_1d(y, warn=True)\n"
          ]
        },
        {
          "output_type": "stream",
          "name": "stdout",
          "text": [
            "0.9999056781739295\n",
            "0.9358732553753301\n"
          ]
        }
      ]
    },
    {
      "cell_type": "code",
      "source": [
        "# Import GradientBoostingRegressor\n",
        "from sklearn.ensemble import GradientBoostingClassifier\n",
        "\n",
        "# Instantiate sgbr\n",
        "sgbr = GradientBoostingClassifier(\n",
        "            max_depth=6, \n",
        "            subsample=0.9,\n",
        "            max_features=0.75,\n",
        "            n_estimators=200,                                \n",
        "            random_state=0)\n",
        "sgbr_model=sgbr.fit(X_train,y_train)\n",
        "print(gn_model.score(X_train, y_train))\n",
        "print(gn_model.score(X_test,y_test))"
      ],
      "metadata": {
        "colab": {
          "base_uri": "https://localhost:8080/"
        },
        "id": "LiWH8K6JjjUm",
        "outputId": "2b2b0291-6130-418d-8252-7eb9bb2aa3f5"
      },
      "execution_count": null,
      "outputs": [
        {
          "output_type": "stream",
          "name": "stderr",
          "text": [
            "/usr/local/lib/python3.7/dist-packages/sklearn/ensemble/_gb.py:494: DataConversionWarning: A column-vector y was passed when a 1d array was expected. Please change the shape of y to (n_samples, ), for example using ravel().\n",
            "  y = column_or_1d(y, warn=True)\n"
          ]
        },
        {
          "output_type": "stream",
          "name": "stdout",
          "text": [
            "0.9999056781739295\n",
            "0.9358732553753301\n"
          ]
        }
      ]
    },
    {
      "cell_type": "code",
      "source": [
        "df_test=pd.read_csv('/content/Dry-Beans-Classification/test.csv',index_col='ID')\n",
        "df_test.head()\n"
      ],
      "metadata": {
        "colab": {
          "base_uri": "https://localhost:8080/",
          "height": 301
        },
        "id": "SiclZWPCxqpm",
        "outputId": "38b9d8aa-efbb-4b98-eb60-c2ce135be1af"
      },
      "execution_count": null,
      "outputs": [
        {
          "output_type": "execute_result",
          "data": {
            "text/plain": [
              "         Area  Perimeter  MajorAxisLength  MinorAxisLength  AspectRation  \\\n",
              "ID                                                                         \n",
              "10834   57659    955.434       387.757607       196.625782      1.972059   \n",
              "10835   28772    630.362       229.990785       159.609367      1.440960   \n",
              "10836   54677    911.022       308.853903       226.398571      1.364204   \n",
              "10837   24827    578.304       214.192699       147.788172      1.449322   \n",
              "10838  141850   1432.847       524.923471       346.910920      1.513136   \n",
              "\n",
              "       Eccentricity  ConvexArea  EquivDiameter    Extent  Solidity  roundness  \\\n",
              "ID                                                                              \n",
              "10834      0.861896       60188     270.949661  0.620790  0.957982   0.793735   \n",
              "10835      0.719993       29127     191.399185  0.767458  0.987812   0.909913   \n",
              "10836      0.680198       55858     263.850182  0.753013  0.978857   0.827860   \n",
              "10837      0.723831       25121     177.794033  0.716508  0.988297   0.932871   \n",
              "10838      0.750492      143680     424.981211  0.804617  0.987263   0.868240   \n",
              "\n",
              "       Compactness  ShapeFactor1  ShapeFactor2  ShapeFactor3  ShapeFactor4  \n",
              "ID                                                                          \n",
              "10834     0.698760      0.006725      0.000989      0.488266      0.962889  \n",
              "10835     0.832204      0.007994      0.002365      0.692563      0.997956  \n",
              "10836     0.854288      0.005649      0.001856      0.729808      0.995607  \n",
              "10837     0.830066      0.008627      0.002526      0.689009      0.998596  \n",
              "10838     0.809606      0.003701      0.000981      0.655462      0.991803  "
            ],
            "text/html": [
              "\n",
              "  <div id=\"df-78ad54a6-ef08-48d2-8a73-90c5bc9802ba\">\n",
              "    <div class=\"colab-df-container\">\n",
              "      <div>\n",
              "<style scoped>\n",
              "    .dataframe tbody tr th:only-of-type {\n",
              "        vertical-align: middle;\n",
              "    }\n",
              "\n",
              "    .dataframe tbody tr th {\n",
              "        vertical-align: top;\n",
              "    }\n",
              "\n",
              "    .dataframe thead th {\n",
              "        text-align: right;\n",
              "    }\n",
              "</style>\n",
              "<table border=\"1\" class=\"dataframe\">\n",
              "  <thead>\n",
              "    <tr style=\"text-align: right;\">\n",
              "      <th></th>\n",
              "      <th>Area</th>\n",
              "      <th>Perimeter</th>\n",
              "      <th>MajorAxisLength</th>\n",
              "      <th>MinorAxisLength</th>\n",
              "      <th>AspectRation</th>\n",
              "      <th>Eccentricity</th>\n",
              "      <th>ConvexArea</th>\n",
              "      <th>EquivDiameter</th>\n",
              "      <th>Extent</th>\n",
              "      <th>Solidity</th>\n",
              "      <th>roundness</th>\n",
              "      <th>Compactness</th>\n",
              "      <th>ShapeFactor1</th>\n",
              "      <th>ShapeFactor2</th>\n",
              "      <th>ShapeFactor3</th>\n",
              "      <th>ShapeFactor4</th>\n",
              "    </tr>\n",
              "    <tr>\n",
              "      <th>ID</th>\n",
              "      <th></th>\n",
              "      <th></th>\n",
              "      <th></th>\n",
              "      <th></th>\n",
              "      <th></th>\n",
              "      <th></th>\n",
              "      <th></th>\n",
              "      <th></th>\n",
              "      <th></th>\n",
              "      <th></th>\n",
              "      <th></th>\n",
              "      <th></th>\n",
              "      <th></th>\n",
              "      <th></th>\n",
              "      <th></th>\n",
              "      <th></th>\n",
              "    </tr>\n",
              "  </thead>\n",
              "  <tbody>\n",
              "    <tr>\n",
              "      <th>10834</th>\n",
              "      <td>57659</td>\n",
              "      <td>955.434</td>\n",
              "      <td>387.757607</td>\n",
              "      <td>196.625782</td>\n",
              "      <td>1.972059</td>\n",
              "      <td>0.861896</td>\n",
              "      <td>60188</td>\n",
              "      <td>270.949661</td>\n",
              "      <td>0.620790</td>\n",
              "      <td>0.957982</td>\n",
              "      <td>0.793735</td>\n",
              "      <td>0.698760</td>\n",
              "      <td>0.006725</td>\n",
              "      <td>0.000989</td>\n",
              "      <td>0.488266</td>\n",
              "      <td>0.962889</td>\n",
              "    </tr>\n",
              "    <tr>\n",
              "      <th>10835</th>\n",
              "      <td>28772</td>\n",
              "      <td>630.362</td>\n",
              "      <td>229.990785</td>\n",
              "      <td>159.609367</td>\n",
              "      <td>1.440960</td>\n",
              "      <td>0.719993</td>\n",
              "      <td>29127</td>\n",
              "      <td>191.399185</td>\n",
              "      <td>0.767458</td>\n",
              "      <td>0.987812</td>\n",
              "      <td>0.909913</td>\n",
              "      <td>0.832204</td>\n",
              "      <td>0.007994</td>\n",
              "      <td>0.002365</td>\n",
              "      <td>0.692563</td>\n",
              "      <td>0.997956</td>\n",
              "    </tr>\n",
              "    <tr>\n",
              "      <th>10836</th>\n",
              "      <td>54677</td>\n",
              "      <td>911.022</td>\n",
              "      <td>308.853903</td>\n",
              "      <td>226.398571</td>\n",
              "      <td>1.364204</td>\n",
              "      <td>0.680198</td>\n",
              "      <td>55858</td>\n",
              "      <td>263.850182</td>\n",
              "      <td>0.753013</td>\n",
              "      <td>0.978857</td>\n",
              "      <td>0.827860</td>\n",
              "      <td>0.854288</td>\n",
              "      <td>0.005649</td>\n",
              "      <td>0.001856</td>\n",
              "      <td>0.729808</td>\n",
              "      <td>0.995607</td>\n",
              "    </tr>\n",
              "    <tr>\n",
              "      <th>10837</th>\n",
              "      <td>24827</td>\n",
              "      <td>578.304</td>\n",
              "      <td>214.192699</td>\n",
              "      <td>147.788172</td>\n",
              "      <td>1.449322</td>\n",
              "      <td>0.723831</td>\n",
              "      <td>25121</td>\n",
              "      <td>177.794033</td>\n",
              "      <td>0.716508</td>\n",
              "      <td>0.988297</td>\n",
              "      <td>0.932871</td>\n",
              "      <td>0.830066</td>\n",
              "      <td>0.008627</td>\n",
              "      <td>0.002526</td>\n",
              "      <td>0.689009</td>\n",
              "      <td>0.998596</td>\n",
              "    </tr>\n",
              "    <tr>\n",
              "      <th>10838</th>\n",
              "      <td>141850</td>\n",
              "      <td>1432.847</td>\n",
              "      <td>524.923471</td>\n",
              "      <td>346.910920</td>\n",
              "      <td>1.513136</td>\n",
              "      <td>0.750492</td>\n",
              "      <td>143680</td>\n",
              "      <td>424.981211</td>\n",
              "      <td>0.804617</td>\n",
              "      <td>0.987263</td>\n",
              "      <td>0.868240</td>\n",
              "      <td>0.809606</td>\n",
              "      <td>0.003701</td>\n",
              "      <td>0.000981</td>\n",
              "      <td>0.655462</td>\n",
              "      <td>0.991803</td>\n",
              "    </tr>\n",
              "  </tbody>\n",
              "</table>\n",
              "</div>\n",
              "      <button class=\"colab-df-convert\" onclick=\"convertToInteractive('df-78ad54a6-ef08-48d2-8a73-90c5bc9802ba')\"\n",
              "              title=\"Convert this dataframe to an interactive table.\"\n",
              "              style=\"display:none;\">\n",
              "        \n",
              "  <svg xmlns=\"http://www.w3.org/2000/svg\" height=\"24px\"viewBox=\"0 0 24 24\"\n",
              "       width=\"24px\">\n",
              "    <path d=\"M0 0h24v24H0V0z\" fill=\"none\"/>\n",
              "    <path d=\"M18.56 5.44l.94 2.06.94-2.06 2.06-.94-2.06-.94-.94-2.06-.94 2.06-2.06.94zm-11 1L8.5 8.5l.94-2.06 2.06-.94-2.06-.94L8.5 2.5l-.94 2.06-2.06.94zm10 10l.94 2.06.94-2.06 2.06-.94-2.06-.94-.94-2.06-.94 2.06-2.06.94z\"/><path d=\"M17.41 7.96l-1.37-1.37c-.4-.4-.92-.59-1.43-.59-.52 0-1.04.2-1.43.59L10.3 9.45l-7.72 7.72c-.78.78-.78 2.05 0 2.83L4 21.41c.39.39.9.59 1.41.59.51 0 1.02-.2 1.41-.59l7.78-7.78 2.81-2.81c.8-.78.8-2.07 0-2.86zM5.41 20L4 18.59l7.72-7.72 1.47 1.35L5.41 20z\"/>\n",
              "  </svg>\n",
              "      </button>\n",
              "      \n",
              "  <style>\n",
              "    .colab-df-container {\n",
              "      display:flex;\n",
              "      flex-wrap:wrap;\n",
              "      gap: 12px;\n",
              "    }\n",
              "\n",
              "    .colab-df-convert {\n",
              "      background-color: #E8F0FE;\n",
              "      border: none;\n",
              "      border-radius: 50%;\n",
              "      cursor: pointer;\n",
              "      display: none;\n",
              "      fill: #1967D2;\n",
              "      height: 32px;\n",
              "      padding: 0 0 0 0;\n",
              "      width: 32px;\n",
              "    }\n",
              "\n",
              "    .colab-df-convert:hover {\n",
              "      background-color: #E2EBFA;\n",
              "      box-shadow: 0px 1px 2px rgba(60, 64, 67, 0.3), 0px 1px 3px 1px rgba(60, 64, 67, 0.15);\n",
              "      fill: #174EA6;\n",
              "    }\n",
              "\n",
              "    [theme=dark] .colab-df-convert {\n",
              "      background-color: #3B4455;\n",
              "      fill: #D2E3FC;\n",
              "    }\n",
              "\n",
              "    [theme=dark] .colab-df-convert:hover {\n",
              "      background-color: #434B5C;\n",
              "      box-shadow: 0px 1px 3px 1px rgba(0, 0, 0, 0.15);\n",
              "      filter: drop-shadow(0px 1px 2px rgba(0, 0, 0, 0.3));\n",
              "      fill: #FFFFFF;\n",
              "    }\n",
              "  </style>\n",
              "\n",
              "      <script>\n",
              "        const buttonEl =\n",
              "          document.querySelector('#df-78ad54a6-ef08-48d2-8a73-90c5bc9802ba button.colab-df-convert');\n",
              "        buttonEl.style.display =\n",
              "          google.colab.kernel.accessAllowed ? 'block' : 'none';\n",
              "\n",
              "        async function convertToInteractive(key) {\n",
              "          const element = document.querySelector('#df-78ad54a6-ef08-48d2-8a73-90c5bc9802ba');\n",
              "          const dataTable =\n",
              "            await google.colab.kernel.invokeFunction('convertToInteractive',\n",
              "                                                     [key], {});\n",
              "          if (!dataTable) return;\n",
              "\n",
              "          const docLinkHtml = 'Like what you see? Visit the ' +\n",
              "            '<a target=\"_blank\" href=https://colab.research.google.com/notebooks/data_table.ipynb>data table notebook</a>'\n",
              "            + ' to learn more about interactive tables.';\n",
              "          element.innerHTML = '';\n",
              "          dataTable['output_type'] = 'display_data';\n",
              "          await google.colab.output.renderOutput(dataTable, element);\n",
              "          const docLink = document.createElement('div');\n",
              "          docLink.innerHTML = docLinkHtml;\n",
              "          element.appendChild(docLink);\n",
              "        }\n",
              "      </script>\n",
              "    </div>\n",
              "  </div>\n",
              "  "
            ]
          },
          "metadata": {},
          "execution_count": 403
        }
      ]
    },
    {
      "cell_type": "code",
      "source": [
        "df_test.columns"
      ],
      "metadata": {
        "colab": {
          "base_uri": "https://localhost:8080/"
        },
        "id": "jh-ICxA4z_g4",
        "outputId": "89f5e009-ccf2-4a30-833b-019e846956f6"
      },
      "execution_count": null,
      "outputs": [
        {
          "output_type": "execute_result",
          "data": {
            "text/plain": [
              "Index(['Area', 'Perimeter', 'MajorAxisLength', 'MinorAxisLength',\n",
              "       'AspectRation', 'Eccentricity', 'ConvexArea', 'EquivDiameter', 'Extent',\n",
              "       'Solidity', 'roundness', 'Compactness', 'ShapeFactor1', 'ShapeFactor2',\n",
              "       'ShapeFactor3', 'ShapeFactor4'],\n",
              "      dtype='object')"
            ]
          },
          "metadata": {},
          "execution_count": 404
        }
      ]
    },
    {
      "cell_type": "code",
      "source": [
        "#'ShapeFactor4','Extent','Solidity','roundness','ShapeFactor2','Eccentricity'\n",
        "df_test.drop(['ConvexArea','Solidity', 'roundness','ShapeFactor4','Extent', 'AspectRation' ], axis=1, inplace=True)"
      ],
      "metadata": {
        "id": "0ERe_hbX0OsV"
      },
      "execution_count": null,
      "outputs": []
    },
    {
      "cell_type": "code",
      "source": [
        "df_test.shape"
      ],
      "metadata": {
        "colab": {
          "base_uri": "https://localhost:8080/"
        },
        "id": "g6rZcYXt3JRi",
        "outputId": "974de9e4-7e3f-4bef-f98c-df98ac9c644e"
      },
      "execution_count": null,
      "outputs": [
        {
          "output_type": "execute_result",
          "data": {
            "text/plain": [
              "(2709, 10)"
            ]
          },
          "metadata": {},
          "execution_count": 406
        }
      ]
    },
    {
      "cell_type": "code",
      "source": [
        "df_test = pd.DataFrame(sScalar.transform(df_test.values), columns=df_test.columns,index=df_test.index)\n",
        "df_test.head()"
      ],
      "metadata": {
        "colab": {
          "base_uri": "https://localhost:8080/",
          "height": 338
        },
        "id": "gZyjqR004kn3",
        "outputId": "548b6635-99e6-4625-fc56-8435ab7a09e3"
      },
      "execution_count": null,
      "outputs": [
        {
          "output_type": "stream",
          "name": "stderr",
          "text": [
            "/usr/local/lib/python3.7/dist-packages/sklearn/base.py:451: UserWarning: X does not have valid feature names, but StandardScaler was fitted with feature names\n",
            "  \"X does not have valid feature names, but\"\n"
          ]
        },
        {
          "output_type": "execute_result",
          "data": {
            "text/plain": [
              "           Area  Perimeter  MajorAxisLength  MinorAxisLength  Eccentricity  \\\n",
              "ID                                                                           \n",
              "10834 -0.321260  -0.097526         0.131875        -0.474250      1.277140   \n",
              "10835 -0.847832  -1.034206        -1.051953        -0.943043     -0.404348   \n",
              "10836 -0.375618  -0.225497        -0.460191        -0.097194     -0.875891   \n",
              "10837 -0.919744  -1.184209        -1.170496        -1.092752     -0.358870   \n",
              "10838  1.213429   1.278118         1.161121         1.429029     -0.042942   \n",
              "\n",
              "       EquivDiameter  Compactness  ShapeFactor1  ShapeFactor2  ShapeFactor3  \n",
              "ID                                                                           \n",
              "10834      -0.217542    -1.772035      0.465564     -0.894231     -1.688768  \n",
              "10835      -1.008763     0.587889      1.266340      1.268766      0.561587  \n",
              "10836      -0.288155     0.978446     -0.213863      0.468399      0.971844  \n",
              "10837      -1.144082     0.550081      1.666458      1.522476      0.522441  \n",
              "10838       1.314479     0.188253     -1.443637     -0.907223      0.152914  "
            ],
            "text/html": [
              "\n",
              "  <div id=\"df-16a7e87c-e645-4774-9180-8d040dcafe04\">\n",
              "    <div class=\"colab-df-container\">\n",
              "      <div>\n",
              "<style scoped>\n",
              "    .dataframe tbody tr th:only-of-type {\n",
              "        vertical-align: middle;\n",
              "    }\n",
              "\n",
              "    .dataframe tbody tr th {\n",
              "        vertical-align: top;\n",
              "    }\n",
              "\n",
              "    .dataframe thead th {\n",
              "        text-align: right;\n",
              "    }\n",
              "</style>\n",
              "<table border=\"1\" class=\"dataframe\">\n",
              "  <thead>\n",
              "    <tr style=\"text-align: right;\">\n",
              "      <th></th>\n",
              "      <th>Area</th>\n",
              "      <th>Perimeter</th>\n",
              "      <th>MajorAxisLength</th>\n",
              "      <th>MinorAxisLength</th>\n",
              "      <th>Eccentricity</th>\n",
              "      <th>EquivDiameter</th>\n",
              "      <th>Compactness</th>\n",
              "      <th>ShapeFactor1</th>\n",
              "      <th>ShapeFactor2</th>\n",
              "      <th>ShapeFactor3</th>\n",
              "    </tr>\n",
              "    <tr>\n",
              "      <th>ID</th>\n",
              "      <th></th>\n",
              "      <th></th>\n",
              "      <th></th>\n",
              "      <th></th>\n",
              "      <th></th>\n",
              "      <th></th>\n",
              "      <th></th>\n",
              "      <th></th>\n",
              "      <th></th>\n",
              "      <th></th>\n",
              "    </tr>\n",
              "  </thead>\n",
              "  <tbody>\n",
              "    <tr>\n",
              "      <th>10834</th>\n",
              "      <td>-0.321260</td>\n",
              "      <td>-0.097526</td>\n",
              "      <td>0.131875</td>\n",
              "      <td>-0.474250</td>\n",
              "      <td>1.277140</td>\n",
              "      <td>-0.217542</td>\n",
              "      <td>-1.772035</td>\n",
              "      <td>0.465564</td>\n",
              "      <td>-0.894231</td>\n",
              "      <td>-1.688768</td>\n",
              "    </tr>\n",
              "    <tr>\n",
              "      <th>10835</th>\n",
              "      <td>-0.847832</td>\n",
              "      <td>-1.034206</td>\n",
              "      <td>-1.051953</td>\n",
              "      <td>-0.943043</td>\n",
              "      <td>-0.404348</td>\n",
              "      <td>-1.008763</td>\n",
              "      <td>0.587889</td>\n",
              "      <td>1.266340</td>\n",
              "      <td>1.268766</td>\n",
              "      <td>0.561587</td>\n",
              "    </tr>\n",
              "    <tr>\n",
              "      <th>10836</th>\n",
              "      <td>-0.375618</td>\n",
              "      <td>-0.225497</td>\n",
              "      <td>-0.460191</td>\n",
              "      <td>-0.097194</td>\n",
              "      <td>-0.875891</td>\n",
              "      <td>-0.288155</td>\n",
              "      <td>0.978446</td>\n",
              "      <td>-0.213863</td>\n",
              "      <td>0.468399</td>\n",
              "      <td>0.971844</td>\n",
              "    </tr>\n",
              "    <tr>\n",
              "      <th>10837</th>\n",
              "      <td>-0.919744</td>\n",
              "      <td>-1.184209</td>\n",
              "      <td>-1.170496</td>\n",
              "      <td>-1.092752</td>\n",
              "      <td>-0.358870</td>\n",
              "      <td>-1.144082</td>\n",
              "      <td>0.550081</td>\n",
              "      <td>1.666458</td>\n",
              "      <td>1.522476</td>\n",
              "      <td>0.522441</td>\n",
              "    </tr>\n",
              "    <tr>\n",
              "      <th>10838</th>\n",
              "      <td>1.213429</td>\n",
              "      <td>1.278118</td>\n",
              "      <td>1.161121</td>\n",
              "      <td>1.429029</td>\n",
              "      <td>-0.042942</td>\n",
              "      <td>1.314479</td>\n",
              "      <td>0.188253</td>\n",
              "      <td>-1.443637</td>\n",
              "      <td>-0.907223</td>\n",
              "      <td>0.152914</td>\n",
              "    </tr>\n",
              "  </tbody>\n",
              "</table>\n",
              "</div>\n",
              "      <button class=\"colab-df-convert\" onclick=\"convertToInteractive('df-16a7e87c-e645-4774-9180-8d040dcafe04')\"\n",
              "              title=\"Convert this dataframe to an interactive table.\"\n",
              "              style=\"display:none;\">\n",
              "        \n",
              "  <svg xmlns=\"http://www.w3.org/2000/svg\" height=\"24px\"viewBox=\"0 0 24 24\"\n",
              "       width=\"24px\">\n",
              "    <path d=\"M0 0h24v24H0V0z\" fill=\"none\"/>\n",
              "    <path d=\"M18.56 5.44l.94 2.06.94-2.06 2.06-.94-2.06-.94-.94-2.06-.94 2.06-2.06.94zm-11 1L8.5 8.5l.94-2.06 2.06-.94-2.06-.94L8.5 2.5l-.94 2.06-2.06.94zm10 10l.94 2.06.94-2.06 2.06-.94-2.06-.94-.94-2.06-.94 2.06-2.06.94z\"/><path d=\"M17.41 7.96l-1.37-1.37c-.4-.4-.92-.59-1.43-.59-.52 0-1.04.2-1.43.59L10.3 9.45l-7.72 7.72c-.78.78-.78 2.05 0 2.83L4 21.41c.39.39.9.59 1.41.59.51 0 1.02-.2 1.41-.59l7.78-7.78 2.81-2.81c.8-.78.8-2.07 0-2.86zM5.41 20L4 18.59l7.72-7.72 1.47 1.35L5.41 20z\"/>\n",
              "  </svg>\n",
              "      </button>\n",
              "      \n",
              "  <style>\n",
              "    .colab-df-container {\n",
              "      display:flex;\n",
              "      flex-wrap:wrap;\n",
              "      gap: 12px;\n",
              "    }\n",
              "\n",
              "    .colab-df-convert {\n",
              "      background-color: #E8F0FE;\n",
              "      border: none;\n",
              "      border-radius: 50%;\n",
              "      cursor: pointer;\n",
              "      display: none;\n",
              "      fill: #1967D2;\n",
              "      height: 32px;\n",
              "      padding: 0 0 0 0;\n",
              "      width: 32px;\n",
              "    }\n",
              "\n",
              "    .colab-df-convert:hover {\n",
              "      background-color: #E2EBFA;\n",
              "      box-shadow: 0px 1px 2px rgba(60, 64, 67, 0.3), 0px 1px 3px 1px rgba(60, 64, 67, 0.15);\n",
              "      fill: #174EA6;\n",
              "    }\n",
              "\n",
              "    [theme=dark] .colab-df-convert {\n",
              "      background-color: #3B4455;\n",
              "      fill: #D2E3FC;\n",
              "    }\n",
              "\n",
              "    [theme=dark] .colab-df-convert:hover {\n",
              "      background-color: #434B5C;\n",
              "      box-shadow: 0px 1px 3px 1px rgba(0, 0, 0, 0.15);\n",
              "      filter: drop-shadow(0px 1px 2px rgba(0, 0, 0, 0.3));\n",
              "      fill: #FFFFFF;\n",
              "    }\n",
              "  </style>\n",
              "\n",
              "      <script>\n",
              "        const buttonEl =\n",
              "          document.querySelector('#df-16a7e87c-e645-4774-9180-8d040dcafe04 button.colab-df-convert');\n",
              "        buttonEl.style.display =\n",
              "          google.colab.kernel.accessAllowed ? 'block' : 'none';\n",
              "\n",
              "        async function convertToInteractive(key) {\n",
              "          const element = document.querySelector('#df-16a7e87c-e645-4774-9180-8d040dcafe04');\n",
              "          const dataTable =\n",
              "            await google.colab.kernel.invokeFunction('convertToInteractive',\n",
              "                                                     [key], {});\n",
              "          if (!dataTable) return;\n",
              "\n",
              "          const docLinkHtml = 'Like what you see? Visit the ' +\n",
              "            '<a target=\"_blank\" href=https://colab.research.google.com/notebooks/data_table.ipynb>data table notebook</a>'\n",
              "            + ' to learn more about interactive tables.';\n",
              "          element.innerHTML = '';\n",
              "          dataTable['output_type'] = 'display_data';\n",
              "          await google.colab.output.renderOutput(dataTable, element);\n",
              "          const docLink = document.createElement('div');\n",
              "          docLink.innerHTML = docLinkHtml;\n",
              "          element.appendChild(docLink);\n",
              "        }\n",
              "      </script>\n",
              "    </div>\n",
              "  </div>\n",
              "  "
            ]
          },
          "metadata": {},
          "execution_count": 407
        }
      ]
    },
    {
      "cell_type": "code",
      "source": [
        "pca_test_features = pca.transform(df_test)\n",
        "print(pca_test_features.shape)\n"
      ],
      "metadata": {
        "id": "SeMeGXnRAk9_",
        "colab": {
          "base_uri": "https://localhost:8080/"
        },
        "outputId": "def50eee-aec4-4eae-841e-90a3fbc78f6e"
      },
      "execution_count": null,
      "outputs": [
        {
          "output_type": "stream",
          "name": "stdout",
          "text": [
            "(2709, 7)\n"
          ]
        },
        {
          "output_type": "stream",
          "name": "stderr",
          "text": [
            "/usr/local/lib/python3.7/dist-packages/sklearn/base.py:444: UserWarning: X has feature names, but PCA was fitted without feature names\n",
            "  f\"X has feature names, but {self.__class__.__name__} was fitted without\"\n"
          ]
        }
      ]
    },
    {
      "cell_type": "code",
      "source": [
        "\n"
      ],
      "metadata": {
        "id": "WefZ5DeZArus"
      },
      "execution_count": null,
      "outputs": []
    },
    {
      "cell_type": "code",
      "source": [
        "y_pred_mlp=sgbr_model.predict(pca_test_features)"
      ],
      "metadata": {
        "id": "YuAghoUI4srF"
      },
      "execution_count": null,
      "outputs": []
    },
    {
      "cell_type": "code",
      "source": [
        "y_pred_mlp"
      ],
      "metadata": {
        "colab": {
          "base_uri": "https://localhost:8080/"
        },
        "id": "AP9V0zDj4z9z",
        "outputId": "da56039c-3151-4eda-e107-b02140ff4fe5"
      },
      "execution_count": null,
      "outputs": [
        {
          "output_type": "execute_result",
          "data": {
            "text/plain": [
              "array([4, 1, 6, ..., 4, 1, 2])"
            ]
          },
          "metadata": {},
          "execution_count": 413
        }
      ]
    },
    {
      "cell_type": "code",
      "source": [
        ""
      ],
      "metadata": {
        "id": "VVM0L6U2hjNC"
      },
      "execution_count": null,
      "outputs": []
    },
    {
      "cell_type": "code",
      "source": [
        "#'y_pred_xgb=np.where([0,1,2,3,4,5,6],['BOMBAY','DERMASON','SIRA','SEKER', 'HOROZ', 'CALI','BARBUNYA'])\n",
        "lst_xgb=[]\n",
        "for el in y_pred_mlp:\n",
        "  \n",
        "  if(el==0):\n",
        "    lst_xgb.append('BOMBAY')\n",
        "  elif el==1:\n",
        "      lst_xgb.append('DERMASON')\n",
        "  elif el==2:\n",
        "      lst_xgb.append('SIRA')\n",
        "\n",
        "  elif el==3:\n",
        "      lst_xgb.append('SEKER')\n",
        "\n",
        "  elif el==4:\n",
        "      lst_xgb.append('HOROZ')\n",
        "\n",
        "  elif el==5:\n",
        "      lst_xgb.append('CALI')\n",
        "\n",
        "  else:\n",
        "      lst_xgb.append('BARBUNYA')    \n",
        "\n"
      ],
      "metadata": {
        "id": "NqqKT1JE6nHv"
      },
      "execution_count": null,
      "outputs": []
    },
    {
      "cell_type": "code",
      "source": [
        "last_test=pd.read_csv('/content/data_test.csv',index_col='ID')\n",
        "y_label=last_test['y']\n",
        "y_label=y_label.tolist()\n",
        "type(y_label)"
      ],
      "metadata": {
        "colab": {
          "base_uri": "https://localhost:8080/"
        },
        "id": "HhoITgEc7ylK",
        "outputId": "a3c1abe2-6eea-4348-81af-7d44f4e77573"
      },
      "execution_count": null,
      "outputs": [
        {
          "output_type": "execute_result",
          "data": {
            "text/plain": [
              "list"
            ]
          },
          "metadata": {},
          "execution_count": 415
        }
      ]
    },
    {
      "cell_type": "code",
      "source": [
        "from sklearn.metrics import confusion_matrix\n",
        "print(print(confusion_matrix(y_label, lst_xgb)))"
      ],
      "metadata": {
        "colab": {
          "base_uri": "https://localhost:8080/"
        },
        "id": "DkRiUciO6rsZ",
        "outputId": "e7457581-4c74-4dbd-ffde-af80574d588e"
      },
      "execution_count": null,
      "outputs": [
        {
          "output_type": "stream",
          "name": "stdout",
          "text": [
            "[[245   1  14   0   0   1   2]\n",
            " [  0 104   0   0   0   0   0]\n",
            " [  8   1 308   0   5   1   1]\n",
            " [  0   0   0 672   1   5  30]\n",
            " [  0   0   7   0 352   0   4]\n",
            " [  0   0   0   4   0 392   9]\n",
            " [  0   0   3  40   1   5 493]]\n",
            "None\n"
          ]
        }
      ]
    },
    {
      "cell_type": "code",
      "source": [
        "acc=0\n",
        "for i in range(len(lst_xgb)):\n",
        "  if(lst_xgb[i]==y_label[i]):\n",
        "    acc+=1\n",
        "\n",
        "print(acc/len(y_label))   "
      ],
      "metadata": {
        "colab": {
          "base_uri": "https://localhost:8080/"
        },
        "id": "0voUzeap7Qe9",
        "outputId": "efca242a-c28c-4578-e460-275f9f68cf4f"
      },
      "execution_count": null,
      "outputs": [
        {
          "output_type": "stream",
          "name": "stdout",
          "text": [
            "0.9472129937246216\n"
          ]
        }
      ]
    },
    {
      "cell_type": "code",
      "source": [
        "out_pred = pd.DataFrame({'ID': df_test.index,\n",
        "                       'y': lst_xgb})\n",
        "out_pred.to_csv('submission_v4_xgb.csv', index=False)"
      ],
      "metadata": {
        "id": "zxevi1mU8nOT"
      },
      "execution_count": null,
      "outputs": []
    },
    {
      "cell_type": "code",
      "source": [
        ""
      ],
      "metadata": {
        "id": "UCg9-VMu-J4L"
      },
      "execution_count": null,
      "outputs": []
    }
  ]
}