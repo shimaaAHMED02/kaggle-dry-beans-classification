{
  "nbformat": 4,
  "nbformat_minor": 0,
  "metadata": {
    "colab": {
      "name": "v3_voting_ Dry-Beans-Classification.ipynb",
      "provenance": [],
      "collapsed_sections": []
    },
    "kernelspec": {
      "name": "python3",
      "display_name": "Python 3"
    },
    "language_info": {
      "name": "python"
    },
    "accelerator": "GPU"
  },
  "cells": [
    {
      "cell_type": "code",
      "execution_count": null,
      "metadata": {
        "id": "nZP9PYMqdxms",
        "colab": {
          "base_uri": "https://localhost:8080/"
        },
        "outputId": "bca82644-bc6a-4397-b018-4061371e7617"
      },
      "outputs": [
        {
          "output_type": "stream",
          "name": "stdout",
          "text": [
            "Cloning into 'Dry-Beans-Classification'...\n",
            "remote: Enumerating objects: 8, done.\u001b[K\n",
            "remote: Counting objects: 100% (8/8), done.\u001b[K\n",
            "remote: Compressing objects: 100% (8/8), done.\u001b[K\n",
            "remote: Total 8 (delta 1), reused 4 (delta 0), pack-reused 0\u001b[K\n",
            "Unpacking objects: 100% (8/8), done.\n"
          ]
        }
      ],
      "source": [
        "!git clone https://git@github.com/NadaAdelMousa/Dry-Beans-Classification.git"
      ]
    },
    {
      "cell_type": "code",
      "source": [
        "import numpy as np \n",
        "import pandas as pd\n",
        "import matplotlib.pyplot as plt\n",
        "import seaborn as sns"
      ],
      "metadata": {
        "id": "kFvgCX-YfPul"
      },
      "execution_count": null,
      "outputs": []
    },
    {
      "cell_type": "code",
      "source": [
        "#pd.set_option('display.max_rows', None)"
      ],
      "metadata": {
        "id": "ZqAkgy-5htOp"
      },
      "execution_count": null,
      "outputs": []
    },
    {
      "cell_type": "code",
      "source": [
        "df=pd.read_csv('/content/Dry-Beans-Classification/train.csv',index_col='ID')\n",
        "df.head()\n"
      ],
      "metadata": {
        "colab": {
          "base_uri": "https://localhost:8080/",
          "height": 301
        },
        "id": "1ej_2N9ehyhH",
        "outputId": "2989c33d-73d0-45a0-bb7b-89593bd152bb"
      },
      "execution_count": null,
      "outputs": [
        {
          "output_type": "execute_result",
          "data": {
            "text/plain": [
              "     Area  Perimeter  MajorAxisLength  MinorAxisLength  AspectRation  \\\n",
              "ID                                                                     \n",
              "0   58238    971.303       397.202654       186.945510      2.124697   \n",
              "1   44515    757.601       265.590470       213.967453      1.241266   \n",
              "2   31662    653.783       239.902428       168.421505      1.424417   \n",
              "3   38778    734.020       268.446281       184.061923      1.458456   \n",
              "4   42530    775.403       281.212824       193.236878      1.455275   \n",
              "\n",
              "    Eccentricity  ConvexArea  EquivDiameter    Extent  Solidity  roundness  \\\n",
              "ID                                                                           \n",
              "0       0.882317       58977     272.306674  0.604756  0.987470   0.775723   \n",
              "1       0.592420       44780     238.071960  0.771745  0.994082   0.974620   \n",
              "2       0.712136       32034     200.781748  0.801407  0.988387   0.930853   \n",
              "3       0.727925       39208     222.201897  0.766137  0.989033   0.904439   \n",
              "4       0.726511       43028     232.703412  0.729816  0.988426   0.888895   \n",
              "\n",
              "    Compactness  ShapeFactor1  ShapeFactor2  ShapeFactor3  ShapeFactor4  \\\n",
              "ID                                                                        \n",
              "0      0.685561      0.006820      0.000929      0.469994      0.998595   \n",
              "1      0.896387      0.005966      0.002376      0.803510      0.997370   \n",
              "2      0.836931      0.007577      0.002293      0.700453      0.997737   \n",
              "3      0.827733      0.006923      0.002005      0.685142      0.999250   \n",
              "4      0.827499      0.006612      0.001912      0.684755      0.996507   \n",
              "\n",
              "           y  \n",
              "ID            \n",
              "0      HOROZ  \n",
              "1      SEKER  \n",
              "2   DERMASON  \n",
              "3   DERMASON  \n",
              "4       SIRA  "
            ],
            "text/html": [
              "\n",
              "  <div id=\"df-6c494707-dcf7-45f9-8665-9ce2103f901a\">\n",
              "    <div class=\"colab-df-container\">\n",
              "      <div>\n",
              "<style scoped>\n",
              "    .dataframe tbody tr th:only-of-type {\n",
              "        vertical-align: middle;\n",
              "    }\n",
              "\n",
              "    .dataframe tbody tr th {\n",
              "        vertical-align: top;\n",
              "    }\n",
              "\n",
              "    .dataframe thead th {\n",
              "        text-align: right;\n",
              "    }\n",
              "</style>\n",
              "<table border=\"1\" class=\"dataframe\">\n",
              "  <thead>\n",
              "    <tr style=\"text-align: right;\">\n",
              "      <th></th>\n",
              "      <th>Area</th>\n",
              "      <th>Perimeter</th>\n",
              "      <th>MajorAxisLength</th>\n",
              "      <th>MinorAxisLength</th>\n",
              "      <th>AspectRation</th>\n",
              "      <th>Eccentricity</th>\n",
              "      <th>ConvexArea</th>\n",
              "      <th>EquivDiameter</th>\n",
              "      <th>Extent</th>\n",
              "      <th>Solidity</th>\n",
              "      <th>roundness</th>\n",
              "      <th>Compactness</th>\n",
              "      <th>ShapeFactor1</th>\n",
              "      <th>ShapeFactor2</th>\n",
              "      <th>ShapeFactor3</th>\n",
              "      <th>ShapeFactor4</th>\n",
              "      <th>y</th>\n",
              "    </tr>\n",
              "    <tr>\n",
              "      <th>ID</th>\n",
              "      <th></th>\n",
              "      <th></th>\n",
              "      <th></th>\n",
              "      <th></th>\n",
              "      <th></th>\n",
              "      <th></th>\n",
              "      <th></th>\n",
              "      <th></th>\n",
              "      <th></th>\n",
              "      <th></th>\n",
              "      <th></th>\n",
              "      <th></th>\n",
              "      <th></th>\n",
              "      <th></th>\n",
              "      <th></th>\n",
              "      <th></th>\n",
              "      <th></th>\n",
              "    </tr>\n",
              "  </thead>\n",
              "  <tbody>\n",
              "    <tr>\n",
              "      <th>0</th>\n",
              "      <td>58238</td>\n",
              "      <td>971.303</td>\n",
              "      <td>397.202654</td>\n",
              "      <td>186.945510</td>\n",
              "      <td>2.124697</td>\n",
              "      <td>0.882317</td>\n",
              "      <td>58977</td>\n",
              "      <td>272.306674</td>\n",
              "      <td>0.604756</td>\n",
              "      <td>0.987470</td>\n",
              "      <td>0.775723</td>\n",
              "      <td>0.685561</td>\n",
              "      <td>0.006820</td>\n",
              "      <td>0.000929</td>\n",
              "      <td>0.469994</td>\n",
              "      <td>0.998595</td>\n",
              "      <td>HOROZ</td>\n",
              "    </tr>\n",
              "    <tr>\n",
              "      <th>1</th>\n",
              "      <td>44515</td>\n",
              "      <td>757.601</td>\n",
              "      <td>265.590470</td>\n",
              "      <td>213.967453</td>\n",
              "      <td>1.241266</td>\n",
              "      <td>0.592420</td>\n",
              "      <td>44780</td>\n",
              "      <td>238.071960</td>\n",
              "      <td>0.771745</td>\n",
              "      <td>0.994082</td>\n",
              "      <td>0.974620</td>\n",
              "      <td>0.896387</td>\n",
              "      <td>0.005966</td>\n",
              "      <td>0.002376</td>\n",
              "      <td>0.803510</td>\n",
              "      <td>0.997370</td>\n",
              "      <td>SEKER</td>\n",
              "    </tr>\n",
              "    <tr>\n",
              "      <th>2</th>\n",
              "      <td>31662</td>\n",
              "      <td>653.783</td>\n",
              "      <td>239.902428</td>\n",
              "      <td>168.421505</td>\n",
              "      <td>1.424417</td>\n",
              "      <td>0.712136</td>\n",
              "      <td>32034</td>\n",
              "      <td>200.781748</td>\n",
              "      <td>0.801407</td>\n",
              "      <td>0.988387</td>\n",
              "      <td>0.930853</td>\n",
              "      <td>0.836931</td>\n",
              "      <td>0.007577</td>\n",
              "      <td>0.002293</td>\n",
              "      <td>0.700453</td>\n",
              "      <td>0.997737</td>\n",
              "      <td>DERMASON</td>\n",
              "    </tr>\n",
              "    <tr>\n",
              "      <th>3</th>\n",
              "      <td>38778</td>\n",
              "      <td>734.020</td>\n",
              "      <td>268.446281</td>\n",
              "      <td>184.061923</td>\n",
              "      <td>1.458456</td>\n",
              "      <td>0.727925</td>\n",
              "      <td>39208</td>\n",
              "      <td>222.201897</td>\n",
              "      <td>0.766137</td>\n",
              "      <td>0.989033</td>\n",
              "      <td>0.904439</td>\n",
              "      <td>0.827733</td>\n",
              "      <td>0.006923</td>\n",
              "      <td>0.002005</td>\n",
              "      <td>0.685142</td>\n",
              "      <td>0.999250</td>\n",
              "      <td>DERMASON</td>\n",
              "    </tr>\n",
              "    <tr>\n",
              "      <th>4</th>\n",
              "      <td>42530</td>\n",
              "      <td>775.403</td>\n",
              "      <td>281.212824</td>\n",
              "      <td>193.236878</td>\n",
              "      <td>1.455275</td>\n",
              "      <td>0.726511</td>\n",
              "      <td>43028</td>\n",
              "      <td>232.703412</td>\n",
              "      <td>0.729816</td>\n",
              "      <td>0.988426</td>\n",
              "      <td>0.888895</td>\n",
              "      <td>0.827499</td>\n",
              "      <td>0.006612</td>\n",
              "      <td>0.001912</td>\n",
              "      <td>0.684755</td>\n",
              "      <td>0.996507</td>\n",
              "      <td>SIRA</td>\n",
              "    </tr>\n",
              "  </tbody>\n",
              "</table>\n",
              "</div>\n",
              "      <button class=\"colab-df-convert\" onclick=\"convertToInteractive('df-6c494707-dcf7-45f9-8665-9ce2103f901a')\"\n",
              "              title=\"Convert this dataframe to an interactive table.\"\n",
              "              style=\"display:none;\">\n",
              "        \n",
              "  <svg xmlns=\"http://www.w3.org/2000/svg\" height=\"24px\"viewBox=\"0 0 24 24\"\n",
              "       width=\"24px\">\n",
              "    <path d=\"M0 0h24v24H0V0z\" fill=\"none\"/>\n",
              "    <path d=\"M18.56 5.44l.94 2.06.94-2.06 2.06-.94-2.06-.94-.94-2.06-.94 2.06-2.06.94zm-11 1L8.5 8.5l.94-2.06 2.06-.94-2.06-.94L8.5 2.5l-.94 2.06-2.06.94zm10 10l.94 2.06.94-2.06 2.06-.94-2.06-.94-.94-2.06-.94 2.06-2.06.94z\"/><path d=\"M17.41 7.96l-1.37-1.37c-.4-.4-.92-.59-1.43-.59-.52 0-1.04.2-1.43.59L10.3 9.45l-7.72 7.72c-.78.78-.78 2.05 0 2.83L4 21.41c.39.39.9.59 1.41.59.51 0 1.02-.2 1.41-.59l7.78-7.78 2.81-2.81c.8-.78.8-2.07 0-2.86zM5.41 20L4 18.59l7.72-7.72 1.47 1.35L5.41 20z\"/>\n",
              "  </svg>\n",
              "      </button>\n",
              "      \n",
              "  <style>\n",
              "    .colab-df-container {\n",
              "      display:flex;\n",
              "      flex-wrap:wrap;\n",
              "      gap: 12px;\n",
              "    }\n",
              "\n",
              "    .colab-df-convert {\n",
              "      background-color: #E8F0FE;\n",
              "      border: none;\n",
              "      border-radius: 50%;\n",
              "      cursor: pointer;\n",
              "      display: none;\n",
              "      fill: #1967D2;\n",
              "      height: 32px;\n",
              "      padding: 0 0 0 0;\n",
              "      width: 32px;\n",
              "    }\n",
              "\n",
              "    .colab-df-convert:hover {\n",
              "      background-color: #E2EBFA;\n",
              "      box-shadow: 0px 1px 2px rgba(60, 64, 67, 0.3), 0px 1px 3px 1px rgba(60, 64, 67, 0.15);\n",
              "      fill: #174EA6;\n",
              "    }\n",
              "\n",
              "    [theme=dark] .colab-df-convert {\n",
              "      background-color: #3B4455;\n",
              "      fill: #D2E3FC;\n",
              "    }\n",
              "\n",
              "    [theme=dark] .colab-df-convert:hover {\n",
              "      background-color: #434B5C;\n",
              "      box-shadow: 0px 1px 3px 1px rgba(0, 0, 0, 0.15);\n",
              "      filter: drop-shadow(0px 1px 2px rgba(0, 0, 0, 0.3));\n",
              "      fill: #FFFFFF;\n",
              "    }\n",
              "  </style>\n",
              "\n",
              "      <script>\n",
              "        const buttonEl =\n",
              "          document.querySelector('#df-6c494707-dcf7-45f9-8665-9ce2103f901a button.colab-df-convert');\n",
              "        buttonEl.style.display =\n",
              "          google.colab.kernel.accessAllowed ? 'block' : 'none';\n",
              "\n",
              "        async function convertToInteractive(key) {\n",
              "          const element = document.querySelector('#df-6c494707-dcf7-45f9-8665-9ce2103f901a');\n",
              "          const dataTable =\n",
              "            await google.colab.kernel.invokeFunction('convertToInteractive',\n",
              "                                                     [key], {});\n",
              "          if (!dataTable) return;\n",
              "\n",
              "          const docLinkHtml = 'Like what you see? Visit the ' +\n",
              "            '<a target=\"_blank\" href=https://colab.research.google.com/notebooks/data_table.ipynb>data table notebook</a>'\n",
              "            + ' to learn more about interactive tables.';\n",
              "          element.innerHTML = '';\n",
              "          dataTable['output_type'] = 'display_data';\n",
              "          await google.colab.output.renderOutput(dataTable, element);\n",
              "          const docLink = document.createElement('div');\n",
              "          docLink.innerHTML = docLinkHtml;\n",
              "          element.appendChild(docLink);\n",
              "        }\n",
              "      </script>\n",
              "    </div>\n",
              "  </div>\n",
              "  "
            ]
          },
          "metadata": {},
          "execution_count": 4
        }
      ]
    },
    {
      "cell_type": "code",
      "source": [
        "df.info()"
      ],
      "metadata": {
        "colab": {
          "base_uri": "https://localhost:8080/"
        },
        "id": "Wk0ZBB3viFvl",
        "outputId": "428fa481-f88a-473e-c4ac-add5f727d10c"
      },
      "execution_count": null,
      "outputs": [
        {
          "output_type": "stream",
          "name": "stdout",
          "text": [
            "<class 'pandas.core.frame.DataFrame'>\n",
            "Int64Index: 10834 entries, 0 to 10833\n",
            "Data columns (total 17 columns):\n",
            " #   Column           Non-Null Count  Dtype  \n",
            "---  ------           --------------  -----  \n",
            " 0   Area             10834 non-null  int64  \n",
            " 1   Perimeter        10834 non-null  float64\n",
            " 2   MajorAxisLength  10834 non-null  float64\n",
            " 3   MinorAxisLength  10834 non-null  float64\n",
            " 4   AspectRation     10834 non-null  float64\n",
            " 5   Eccentricity     10834 non-null  float64\n",
            " 6   ConvexArea       10834 non-null  int64  \n",
            " 7   EquivDiameter    10834 non-null  float64\n",
            " 8   Extent           10834 non-null  float64\n",
            " 9   Solidity         10834 non-null  float64\n",
            " 10  roundness        10834 non-null  float64\n",
            " 11  Compactness      10834 non-null  float64\n",
            " 12  ShapeFactor1     10834 non-null  float64\n",
            " 13  ShapeFactor2     10834 non-null  float64\n",
            " 14  ShapeFactor3     10834 non-null  float64\n",
            " 15  ShapeFactor4     10834 non-null  float64\n",
            " 16  y                10834 non-null  object \n",
            "dtypes: float64(14), int64(2), object(1)\n",
            "memory usage: 1.5+ MB\n"
          ]
        }
      ]
    },
    {
      "cell_type": "code",
      "source": [
        "df.describe()"
      ],
      "metadata": {
        "colab": {
          "base_uri": "https://localhost:8080/",
          "height": 364
        },
        "id": "iPlqAdqJihK2",
        "outputId": "55518c64-599d-4551-a7df-c5e3fcb973e0"
      },
      "execution_count": null,
      "outputs": [
        {
          "output_type": "execute_result",
          "data": {
            "text/plain": [
              "                Area     Perimeter  MajorAxisLength  MinorAxisLength  \\\n",
              "count   10834.000000  10834.000000     10834.000000     10834.000000   \n",
              "mean    53095.675189    855.274892       320.036169       202.410342   \n",
              "std     29542.542580    214.991122        85.961630        45.113965   \n",
              "min     20420.000000    524.932000       183.601165       129.576207   \n",
              "25%     36343.500000    703.601250       253.501071       175.927024   \n",
              "50%     44645.000000    793.739500       296.377365       192.525040   \n",
              "75%     61295.000000    975.517500       376.068399       217.315195   \n",
              "max    254616.000000   1985.370000       738.860153       450.926187   \n",
              "\n",
              "       AspectRation  Eccentricity     ConvexArea  EquivDiameter        Extent  \\\n",
              "count  10834.000000  10834.000000   10834.000000   10834.000000  10834.000000   \n",
              "mean       1.581294      0.750588   53816.205926     253.123583      0.749937   \n",
              "std        0.244314      0.091481   29999.710739      59.433080      0.048949   \n",
              "min        1.024868      0.218951   20684.000000     161.243764      0.555315   \n",
              "25%        1.432985      0.716250   36731.250000     215.113880      0.718778   \n",
              "50%        1.550761      0.764314   45148.000000     238.419335      0.760141   \n",
              "75%        1.703029      0.809450   62251.500000     279.362162      0.786871   \n",
              "max        2.388873      0.908167  263261.000000     569.374358      0.866195   \n",
              "\n",
              "           Solidity     roundness   Compactness  ShapeFactor1  ShapeFactor2  \\\n",
              "count  10834.000000  10834.000000  10834.000000  10834.000000  10834.000000   \n",
              "mean       0.987152      0.873647      0.800244      0.006559      0.001718   \n",
              "std        0.004626      0.059344      0.061228      0.001127      0.000593   \n",
              "min        0.919246      0.489618      0.645368      0.002856      0.000564   \n",
              "25%        0.985627      0.833479      0.763378      0.005888      0.001161   \n",
              "50%        0.988290      0.883472      0.801428      0.006643      0.001700   \n",
              "75%        0.990014      0.916883      0.834068      0.007268      0.002169   \n",
              "max        0.994677      0.990685      0.987303      0.009897      0.003665   \n",
              "\n",
              "       ShapeFactor3  ShapeFactor4  \n",
              "count  10834.000000  10834.000000  \n",
              "mean       0.644139      0.995083  \n",
              "std        0.098268      0.004306  \n",
              "min        0.416499      0.947687  \n",
              "25%        0.582747      0.993690  \n",
              "50%        0.642287      0.996397  \n",
              "75%        0.695670      0.997895  \n",
              "max        0.974767      0.999733  "
            ],
            "text/html": [
              "\n",
              "  <div id=\"df-566abd6f-7c30-434c-b772-651b3c811c30\">\n",
              "    <div class=\"colab-df-container\">\n",
              "      <div>\n",
              "<style scoped>\n",
              "    .dataframe tbody tr th:only-of-type {\n",
              "        vertical-align: middle;\n",
              "    }\n",
              "\n",
              "    .dataframe tbody tr th {\n",
              "        vertical-align: top;\n",
              "    }\n",
              "\n",
              "    .dataframe thead th {\n",
              "        text-align: right;\n",
              "    }\n",
              "</style>\n",
              "<table border=\"1\" class=\"dataframe\">\n",
              "  <thead>\n",
              "    <tr style=\"text-align: right;\">\n",
              "      <th></th>\n",
              "      <th>Area</th>\n",
              "      <th>Perimeter</th>\n",
              "      <th>MajorAxisLength</th>\n",
              "      <th>MinorAxisLength</th>\n",
              "      <th>AspectRation</th>\n",
              "      <th>Eccentricity</th>\n",
              "      <th>ConvexArea</th>\n",
              "      <th>EquivDiameter</th>\n",
              "      <th>Extent</th>\n",
              "      <th>Solidity</th>\n",
              "      <th>roundness</th>\n",
              "      <th>Compactness</th>\n",
              "      <th>ShapeFactor1</th>\n",
              "      <th>ShapeFactor2</th>\n",
              "      <th>ShapeFactor3</th>\n",
              "      <th>ShapeFactor4</th>\n",
              "    </tr>\n",
              "  </thead>\n",
              "  <tbody>\n",
              "    <tr>\n",
              "      <th>count</th>\n",
              "      <td>10834.000000</td>\n",
              "      <td>10834.000000</td>\n",
              "      <td>10834.000000</td>\n",
              "      <td>10834.000000</td>\n",
              "      <td>10834.000000</td>\n",
              "      <td>10834.000000</td>\n",
              "      <td>10834.000000</td>\n",
              "      <td>10834.000000</td>\n",
              "      <td>10834.000000</td>\n",
              "      <td>10834.000000</td>\n",
              "      <td>10834.000000</td>\n",
              "      <td>10834.000000</td>\n",
              "      <td>10834.000000</td>\n",
              "      <td>10834.000000</td>\n",
              "      <td>10834.000000</td>\n",
              "      <td>10834.000000</td>\n",
              "    </tr>\n",
              "    <tr>\n",
              "      <th>mean</th>\n",
              "      <td>53095.675189</td>\n",
              "      <td>855.274892</td>\n",
              "      <td>320.036169</td>\n",
              "      <td>202.410342</td>\n",
              "      <td>1.581294</td>\n",
              "      <td>0.750588</td>\n",
              "      <td>53816.205926</td>\n",
              "      <td>253.123583</td>\n",
              "      <td>0.749937</td>\n",
              "      <td>0.987152</td>\n",
              "      <td>0.873647</td>\n",
              "      <td>0.800244</td>\n",
              "      <td>0.006559</td>\n",
              "      <td>0.001718</td>\n",
              "      <td>0.644139</td>\n",
              "      <td>0.995083</td>\n",
              "    </tr>\n",
              "    <tr>\n",
              "      <th>std</th>\n",
              "      <td>29542.542580</td>\n",
              "      <td>214.991122</td>\n",
              "      <td>85.961630</td>\n",
              "      <td>45.113965</td>\n",
              "      <td>0.244314</td>\n",
              "      <td>0.091481</td>\n",
              "      <td>29999.710739</td>\n",
              "      <td>59.433080</td>\n",
              "      <td>0.048949</td>\n",
              "      <td>0.004626</td>\n",
              "      <td>0.059344</td>\n",
              "      <td>0.061228</td>\n",
              "      <td>0.001127</td>\n",
              "      <td>0.000593</td>\n",
              "      <td>0.098268</td>\n",
              "      <td>0.004306</td>\n",
              "    </tr>\n",
              "    <tr>\n",
              "      <th>min</th>\n",
              "      <td>20420.000000</td>\n",
              "      <td>524.932000</td>\n",
              "      <td>183.601165</td>\n",
              "      <td>129.576207</td>\n",
              "      <td>1.024868</td>\n",
              "      <td>0.218951</td>\n",
              "      <td>20684.000000</td>\n",
              "      <td>161.243764</td>\n",
              "      <td>0.555315</td>\n",
              "      <td>0.919246</td>\n",
              "      <td>0.489618</td>\n",
              "      <td>0.645368</td>\n",
              "      <td>0.002856</td>\n",
              "      <td>0.000564</td>\n",
              "      <td>0.416499</td>\n",
              "      <td>0.947687</td>\n",
              "    </tr>\n",
              "    <tr>\n",
              "      <th>25%</th>\n",
              "      <td>36343.500000</td>\n",
              "      <td>703.601250</td>\n",
              "      <td>253.501071</td>\n",
              "      <td>175.927024</td>\n",
              "      <td>1.432985</td>\n",
              "      <td>0.716250</td>\n",
              "      <td>36731.250000</td>\n",
              "      <td>215.113880</td>\n",
              "      <td>0.718778</td>\n",
              "      <td>0.985627</td>\n",
              "      <td>0.833479</td>\n",
              "      <td>0.763378</td>\n",
              "      <td>0.005888</td>\n",
              "      <td>0.001161</td>\n",
              "      <td>0.582747</td>\n",
              "      <td>0.993690</td>\n",
              "    </tr>\n",
              "    <tr>\n",
              "      <th>50%</th>\n",
              "      <td>44645.000000</td>\n",
              "      <td>793.739500</td>\n",
              "      <td>296.377365</td>\n",
              "      <td>192.525040</td>\n",
              "      <td>1.550761</td>\n",
              "      <td>0.764314</td>\n",
              "      <td>45148.000000</td>\n",
              "      <td>238.419335</td>\n",
              "      <td>0.760141</td>\n",
              "      <td>0.988290</td>\n",
              "      <td>0.883472</td>\n",
              "      <td>0.801428</td>\n",
              "      <td>0.006643</td>\n",
              "      <td>0.001700</td>\n",
              "      <td>0.642287</td>\n",
              "      <td>0.996397</td>\n",
              "    </tr>\n",
              "    <tr>\n",
              "      <th>75%</th>\n",
              "      <td>61295.000000</td>\n",
              "      <td>975.517500</td>\n",
              "      <td>376.068399</td>\n",
              "      <td>217.315195</td>\n",
              "      <td>1.703029</td>\n",
              "      <td>0.809450</td>\n",
              "      <td>62251.500000</td>\n",
              "      <td>279.362162</td>\n",
              "      <td>0.786871</td>\n",
              "      <td>0.990014</td>\n",
              "      <td>0.916883</td>\n",
              "      <td>0.834068</td>\n",
              "      <td>0.007268</td>\n",
              "      <td>0.002169</td>\n",
              "      <td>0.695670</td>\n",
              "      <td>0.997895</td>\n",
              "    </tr>\n",
              "    <tr>\n",
              "      <th>max</th>\n",
              "      <td>254616.000000</td>\n",
              "      <td>1985.370000</td>\n",
              "      <td>738.860153</td>\n",
              "      <td>450.926187</td>\n",
              "      <td>2.388873</td>\n",
              "      <td>0.908167</td>\n",
              "      <td>263261.000000</td>\n",
              "      <td>569.374358</td>\n",
              "      <td>0.866195</td>\n",
              "      <td>0.994677</td>\n",
              "      <td>0.990685</td>\n",
              "      <td>0.987303</td>\n",
              "      <td>0.009897</td>\n",
              "      <td>0.003665</td>\n",
              "      <td>0.974767</td>\n",
              "      <td>0.999733</td>\n",
              "    </tr>\n",
              "  </tbody>\n",
              "</table>\n",
              "</div>\n",
              "      <button class=\"colab-df-convert\" onclick=\"convertToInteractive('df-566abd6f-7c30-434c-b772-651b3c811c30')\"\n",
              "              title=\"Convert this dataframe to an interactive table.\"\n",
              "              style=\"display:none;\">\n",
              "        \n",
              "  <svg xmlns=\"http://www.w3.org/2000/svg\" height=\"24px\"viewBox=\"0 0 24 24\"\n",
              "       width=\"24px\">\n",
              "    <path d=\"M0 0h24v24H0V0z\" fill=\"none\"/>\n",
              "    <path d=\"M18.56 5.44l.94 2.06.94-2.06 2.06-.94-2.06-.94-.94-2.06-.94 2.06-2.06.94zm-11 1L8.5 8.5l.94-2.06 2.06-.94-2.06-.94L8.5 2.5l-.94 2.06-2.06.94zm10 10l.94 2.06.94-2.06 2.06-.94-2.06-.94-.94-2.06-.94 2.06-2.06.94z\"/><path d=\"M17.41 7.96l-1.37-1.37c-.4-.4-.92-.59-1.43-.59-.52 0-1.04.2-1.43.59L10.3 9.45l-7.72 7.72c-.78.78-.78 2.05 0 2.83L4 21.41c.39.39.9.59 1.41.59.51 0 1.02-.2 1.41-.59l7.78-7.78 2.81-2.81c.8-.78.8-2.07 0-2.86zM5.41 20L4 18.59l7.72-7.72 1.47 1.35L5.41 20z\"/>\n",
              "  </svg>\n",
              "      </button>\n",
              "      \n",
              "  <style>\n",
              "    .colab-df-container {\n",
              "      display:flex;\n",
              "      flex-wrap:wrap;\n",
              "      gap: 12px;\n",
              "    }\n",
              "\n",
              "    .colab-df-convert {\n",
              "      background-color: #E8F0FE;\n",
              "      border: none;\n",
              "      border-radius: 50%;\n",
              "      cursor: pointer;\n",
              "      display: none;\n",
              "      fill: #1967D2;\n",
              "      height: 32px;\n",
              "      padding: 0 0 0 0;\n",
              "      width: 32px;\n",
              "    }\n",
              "\n",
              "    .colab-df-convert:hover {\n",
              "      background-color: #E2EBFA;\n",
              "      box-shadow: 0px 1px 2px rgba(60, 64, 67, 0.3), 0px 1px 3px 1px rgba(60, 64, 67, 0.15);\n",
              "      fill: #174EA6;\n",
              "    }\n",
              "\n",
              "    [theme=dark] .colab-df-convert {\n",
              "      background-color: #3B4455;\n",
              "      fill: #D2E3FC;\n",
              "    }\n",
              "\n",
              "    [theme=dark] .colab-df-convert:hover {\n",
              "      background-color: #434B5C;\n",
              "      box-shadow: 0px 1px 3px 1px rgba(0, 0, 0, 0.15);\n",
              "      filter: drop-shadow(0px 1px 2px rgba(0, 0, 0, 0.3));\n",
              "      fill: #FFFFFF;\n",
              "    }\n",
              "  </style>\n",
              "\n",
              "      <script>\n",
              "        const buttonEl =\n",
              "          document.querySelector('#df-566abd6f-7c30-434c-b772-651b3c811c30 button.colab-df-convert');\n",
              "        buttonEl.style.display =\n",
              "          google.colab.kernel.accessAllowed ? 'block' : 'none';\n",
              "\n",
              "        async function convertToInteractive(key) {\n",
              "          const element = document.querySelector('#df-566abd6f-7c30-434c-b772-651b3c811c30');\n",
              "          const dataTable =\n",
              "            await google.colab.kernel.invokeFunction('convertToInteractive',\n",
              "                                                     [key], {});\n",
              "          if (!dataTable) return;\n",
              "\n",
              "          const docLinkHtml = 'Like what you see? Visit the ' +\n",
              "            '<a target=\"_blank\" href=https://colab.research.google.com/notebooks/data_table.ipynb>data table notebook</a>'\n",
              "            + ' to learn more about interactive tables.';\n",
              "          element.innerHTML = '';\n",
              "          dataTable['output_type'] = 'display_data';\n",
              "          await google.colab.output.renderOutput(dataTable, element);\n",
              "          const docLink = document.createElement('div');\n",
              "          docLink.innerHTML = docLinkHtml;\n",
              "          element.appendChild(docLink);\n",
              "        }\n",
              "      </script>\n",
              "    </div>\n",
              "  </div>\n",
              "  "
            ]
          },
          "metadata": {},
          "execution_count": 6
        }
      ]
    },
    {
      "cell_type": "code",
      "source": [
        "df.isna().sum().sum()"
      ],
      "metadata": {
        "colab": {
          "base_uri": "https://localhost:8080/"
        },
        "id": "a244beoWioig",
        "outputId": "77cc0402-88c3-46ee-f4f2-500aea4edf3b"
      },
      "execution_count": null,
      "outputs": [
        {
          "output_type": "execute_result",
          "data": {
            "text/plain": [
              "0"
            ]
          },
          "metadata": {},
          "execution_count": 7
        }
      ]
    },
    {
      "cell_type": "code",
      "source": [
        "sns.heatmap(df.isnull())"
      ],
      "metadata": {
        "colab": {
          "base_uri": "https://localhost:8080/",
          "height": 362
        },
        "id": "fZOP5WmsiuKn",
        "outputId": "825c2609-8017-4155-de0e-22d01f185828"
      },
      "execution_count": null,
      "outputs": [
        {
          "output_type": "execute_result",
          "data": {
            "text/plain": [
              "<matplotlib.axes._subplots.AxesSubplot at 0x7fc8cb7d58d0>"
            ]
          },
          "metadata": {},
          "execution_count": 8
        },
        {
          "output_type": "display_data",
          "data": {
            "text/plain": [
              "<Figure size 432x288 with 2 Axes>"
            ],
            "image/png": "[encoded data removed]"
          },
          "metadata": {
            "needs_background": "light"
          }
        }
      ]
    },
    {
      "cell_type": "code",
      "source": [
        "df['y'].value_counts()"
      ],
      "metadata": {
        "colab": {
          "base_uri": "https://localhost:8080/"
        },
        "id": "kYKqLBozi6L5",
        "outputId": "09ce1327-afd4-48c6-c47c-0dc84f88b2bb"
      },
      "execution_count": null,
      "outputs": [
        {
          "output_type": "execute_result",
          "data": {
            "text/plain": [
              "DERMASON    2837\n",
              "SIRA        2109\n",
              "SEKER       1621\n",
              "HOROZ       1488\n",
              "CALI        1304\n",
              "BARBUNYA    1057\n",
              "BOMBAY       418\n",
              "Name: y, dtype: int64"
            ]
          },
          "metadata": {},
          "execution_count": 9
        }
      ]
    },
    {
      "cell_type": "code",
      "source": [
        "plt.figure(figsize=(10,8))\n",
        "sns.countplot(x=\"y\", data=df);"
      ],
      "metadata": {
        "colab": {
          "base_uri": "https://localhost:8080/",
          "height": 497
        },
        "id": "qy7BwqFXVkuu",
        "outputId": "a33dcfac-f847-44e8-9e8e-c365c389918b"
      },
      "execution_count": null,
      "outputs": [
        {
          "output_type": "display_data",
          "data": {
            "text/plain": [
              "<Figure size 720x576 with 1 Axes>"
            ],
            "image/png": "[encoded data removed]"
          },
          "metadata": {
            "needs_background": "light"
          }
        }
      ]
    },
    {
      "cell_type": "code",
      "source": [
        "df.shape"
      ],
      "metadata": {
        "colab": {
          "base_uri": "https://localhost:8080/"
        },
        "id": "Ct9Atb0ijYzv",
        "outputId": "f4d4729d-a851-495b-f50b-5df34060feee"
      },
      "execution_count": null,
      "outputs": [
        {
          "output_type": "execute_result",
          "data": {
            "text/plain": [
              "(10834, 17)"
            ]
          },
          "metadata": {},
          "execution_count": 11
        }
      ]
    },
    {
      "cell_type": "code",
      "source": [
        "df.hist(bins=50,figsize=(16,16))\n",
        "plt.show()"
      ],
      "metadata": {
        "colab": {
          "base_uri": "https://localhost:8080/",
          "height": 934
        },
        "id": "-QXZIzgpd1Mi",
        "outputId": "713c7835-99d7-4c0e-9645-3f3aa17a7150"
      },
      "execution_count": null,
      "outputs": [
        {
          "output_type": "display_data",
          "data": {
            "text/plain": [
              "<Figure size 1152x1152 with 16 Axes>"
            ],
            "image/png": "[encoded data removed]"
          },
          "metadata": {
            "needs_background": "light"
          }
        }
      ]
    },
    {
      "cell_type": "code",
      "source": [
        "df.skew()"
      ],
      "metadata": {
        "colab": {
          "base_uri": "https://localhost:8080/"
        },
        "id": "l3_8phiueQ0Q",
        "outputId": "90f27db4-8d10-4820-db39-56659788c966"
      },
      "execution_count": null,
      "outputs": [
        {
          "output_type": "stream",
          "name": "stderr",
          "text": [
            "/usr/local/lib/python3.7/dist-packages/ipykernel_launcher.py:1: FutureWarning: Dropping of nuisance columns in DataFrame reductions (with 'numeric_only=None') is deprecated; in a future version this will raise TypeError.  Select only valid columns before calling the reduction.\n",
            "  \"\"\"Entry point for launching an IPython kernel.\n"
          ]
        },
        {
          "output_type": "execute_result",
          "data": {
            "text/plain": [
              "Area               2.970246\n",
              "Perimeter          1.650773\n",
              "MajorAxisLength    1.390286\n",
              "MinorAxisLength    2.251468\n",
              "AspectRation       0.589186\n",
              "Eccentricity      -1.075626\n",
              "ConvexArea         2.960315\n",
              "EquivDiameter      1.971378\n",
              "Extent            -0.900892\n",
              "Solidity          -2.507634\n",
              "roundness         -0.659566\n",
              "Compactness        0.038242\n",
              "ShapeFactor1      -0.544873\n",
              "ShapeFactor2       0.292677\n",
              "ShapeFactor3       0.245589\n",
              "ShapeFactor4      -2.628540\n",
              "dtype: float64"
            ]
          },
          "metadata": {},
          "execution_count": 13
        }
      ]
    },
    {
      "cell_type": "code",
      "source": [
        "#less repeated class\n",
        "BOMBAY_class=len(df[df['y']=='BOMBAY'])\n",
        "print(BOMBAY_class)"
      ],
      "metadata": {
        "colab": {
          "base_uri": "https://localhost:8080/"
        },
        "id": "oNuXBLmFZboA",
        "outputId": "d6089e47-3ef1-463d-efc8-fa571a714a9a"
      },
      "execution_count": null,
      "outputs": [
        {
          "output_type": "stream",
          "name": "stdout",
          "text": [
            "418\n"
          ]
        }
      ]
    },
    {
      "cell_type": "code",
      "source": [
        "#most repeated class\n",
        "DERMASON_class=len(df[df['y']=='DERMASON'])\n",
        "print(DERMASON_class)"
      ],
      "metadata": {
        "colab": {
          "base_uri": "https://localhost:8080/"
        },
        "id": "ZVRtCamHaQ6v",
        "outputId": "a42c5505-b32a-4d45-aa09-f4db6da50356"
      },
      "execution_count": null,
      "outputs": [
        {
          "output_type": "stream",
          "name": "stdout",
          "text": [
            "2837\n"
          ]
        }
      ]
    },
    {
      "cell_type": "code",
      "source": [
        "BOMBAY_idx=df[df['y']=='BOMBAY'].index\n",
        "BOMBAY_idx"
      ],
      "metadata": {
        "colab": {
          "base_uri": "https://localhost:8080/"
        },
        "id": "lb3TAwFcalK2",
        "outputId": "7884f3f9-1de7-4949-c38b-90d59580f975"
      },
      "execution_count": null,
      "outputs": [
        {
          "output_type": "execute_result",
          "data": {
            "text/plain": [
              "Int64Index([   18,    21,    38,    47,    89,   135,   142,   174,   176,\n",
              "              179,\n",
              "            ...\n",
              "            10391, 10405, 10449, 10477, 10508, 10596, 10628, 10726, 10789,\n",
              "            10790],\n",
              "           dtype='int64', name='ID', length=418)"
            ]
          },
          "metadata": {},
          "execution_count": 16
        }
      ]
    },
    {
      "cell_type": "code",
      "source": [
        "#first major\n",
        "DERMASON_idx=df[df['y']=='DERMASON'].index\n",
        "DERMASON_idx"
      ],
      "metadata": {
        "colab": {
          "base_uri": "https://localhost:8080/"
        },
        "id": "XMnIMGHPa5Tw",
        "outputId": "5122581e-49c4-4d0b-ae4c-528be2a8b900"
      },
      "execution_count": null,
      "outputs": [
        {
          "output_type": "execute_result",
          "data": {
            "text/plain": [
              "Int64Index([    2,     3,    14,    19,    20,    23,    25,    26,    29,\n",
              "               30,\n",
              "            ...\n",
              "            10775, 10780, 10781, 10788, 10801, 10813, 10814, 10821, 10830,\n",
              "            10833],\n",
              "           dtype='int64', name='ID', length=2837)"
            ]
          },
          "metadata": {},
          "execution_count": 17
        }
      ]
    },
    {
      "cell_type": "code",
      "source": [
        "random_majority_indices=np.random.choice(DERMASON_idx,len(BOMBAY_idx),replace=False)\n",
        "under_sample_indices=np.concatenate([BOMBAY_idx,random_majority_indices])"
      ],
      "metadata": {
        "id": "jSj7Vei1g8-O"
      },
      "execution_count": null,
      "outputs": []
    },
    {
      "cell_type": "code",
      "source": [
        "#second major\n",
        "SIRA_idx=df[df['y']=='SIRA'].index\n",
        "random_majority_indices=np.random.choice(SIRA_idx,len(BOMBAY_idx),replace=False)\n",
        "under_sample_indices=np.concatenate([under_sample_indices,random_majority_indices])"
      ],
      "metadata": {
        "id": "Q5mHSwombBnx"
      },
      "execution_count": null,
      "outputs": []
    },
    {
      "cell_type": "code",
      "source": [
        "len(under_sample_indices)"
      ],
      "metadata": {
        "colab": {
          "base_uri": "https://localhost:8080/"
        },
        "id": "qBnDKHmelT81",
        "outputId": "06694bf3-a500-4ee3-b196-a5d4653574df"
      },
      "execution_count": null,
      "outputs": [
        {
          "output_type": "execute_result",
          "data": {
            "text/plain": [
              "1254"
            ]
          },
          "metadata": {},
          "execution_count": 20
        }
      ]
    },
    {
      "cell_type": "code",
      "source": [
        "#third majority class\n",
        "SEKER_idx=df[df['y']=='SEKER'].index\n",
        "random_majority_indices=np.random.choice(SEKER_idx,len(BOMBAY_idx),replace=False)\n",
        "under_sample_indices=np.concatenate([under_sample_indices,random_majority_indices])"
      ],
      "metadata": {
        "id": "a1iVUL50mPxO"
      },
      "execution_count": null,
      "outputs": []
    },
    {
      "cell_type": "code",
      "source": [
        "#fourth majority class \n",
        "HOROZ_idx=df[df['y']=='HOROZ'].index\n",
        "random_majority_indices=np.random.choice(HOROZ_idx,len(BOMBAY_idx),replace=False)\n",
        "under_sample_indices=np.concatenate([under_sample_indices,random_majority_indices])"
      ],
      "metadata": {
        "id": "_8TewVGho4Qo"
      },
      "execution_count": null,
      "outputs": []
    },
    {
      "cell_type": "code",
      "source": [
        "print(under_sample_indices.shape)"
      ],
      "metadata": {
        "colab": {
          "base_uri": "https://localhost:8080/"
        },
        "id": "svldk1OjMhgF",
        "outputId": "179410dc-51dc-4e68-cb76-59d449ecb138"
      },
      "execution_count": null,
      "outputs": [
        {
          "output_type": "stream",
          "name": "stdout",
          "text": [
            "(2090,)\n"
          ]
        }
      ]
    },
    {
      "cell_type": "code",
      "source": [
        "#fifth majority class\n",
        "CALI_idx=df[df['y']=='CALI'].index\n",
        "random_majority_indices=np.random.choice(CALI_idx,len(BOMBAY_idx),replace=False)\n",
        "under_sample_indices=np.concatenate([under_sample_indices,random_majority_indices])"
      ],
      "metadata": {
        "id": "Ktkw0C4lpNdt"
      },
      "execution_count": null,
      "outputs": []
    },
    {
      "cell_type": "code",
      "source": [
        "#six majority class\n",
        "BARBUNYA_idx=df[df['y']=='BARBUNYA'].index\n",
        "random_majority_indices=np.random.choice(BARBUNYA_idx,len(BOMBAY_idx),replace=False)\n",
        "under_sample_indices=np.concatenate([under_sample_indices,random_majority_indices])"
      ],
      "metadata": {
        "id": "qCN5sHmepeml"
      },
      "execution_count": null,
      "outputs": []
    },
    {
      "cell_type": "code",
      "source": [
        "data=df.loc[under_sample_indices]\n",
        "data.head()"
      ],
      "metadata": {
        "colab": {
          "base_uri": "https://localhost:8080/",
          "height": 301
        },
        "id": "NwqY4Pw9r-Dj",
        "outputId": "30091289-c89c-430f-ba07-e37abb6584a3"
      },
      "execution_count": null,
      "outputs": [
        {
          "output_type": "execute_result",
          "data": {
            "text/plain": [
              "      Area  Perimeter  MajorAxisLength  MinorAxisLength  AspectRation  \\\n",
              "ID                                                                      \n",
              "18  162230   1486.167       543.407255       381.837178      1.423139   \n",
              "21  203688   1738.084       676.058986       389.116090      1.737422   \n",
              "38  139639   1379.183       473.780598       376.550241      1.258214   \n",
              "47  152063   1455.551       524.784869       371.247487      1.413572   \n",
              "89  197245   1702.646       642.077245       396.085390      1.621058   \n",
              "\n",
              "    Eccentricity  ConvexArea  EquivDiameter    Extent  Solidity  roundness  \\\n",
              "ID                                                                           \n",
              "18      0.711514      163470     454.486140  0.782835  0.992415   0.923009   \n",
              "21      0.817756      207028     509.257908  0.788071  0.983867   0.847293   \n",
              "38      0.606901      140541     421.656136  0.783916  0.993582   0.922514   \n",
              "47      0.706785      153860     440.014346  0.764451  0.988321   0.901942   \n",
              "89      0.787056      200777     501.138837  0.802083  0.982408   0.855002   \n",
              "\n",
              "    Compactness  ShapeFactor1  ShapeFactor2  ShapeFactor3  ShapeFactor4  \\\n",
              "ID                                                                        \n",
              "18     0.836364      0.003350      0.001011      0.699504      0.995492   \n",
              "21     0.753274      0.003319      0.000659      0.567422      0.985852   \n",
              "38     0.889982      0.003393      0.001313      0.792068      0.996590   \n",
              "47     0.838466      0.003451      0.001052      0.703025      0.993777   \n",
              "89     0.780496      0.003255      0.000745      0.609174      0.987507   \n",
              "\n",
              "         y  \n",
              "ID          \n",
              "18  BOMBAY  \n",
              "21  BOMBAY  \n",
              "38  BOMBAY  \n",
              "47  BOMBAY  \n",
              "89  BOMBAY  "
            ],
            "text/html": [
              "\n",
              "  <div id=\"df-03e212fe-a153-494b-87cf-ef113b4107de\">\n",
              "    <div class=\"colab-df-container\">\n",
              "      <div>\n",
              "<style scoped>\n",
              "    .dataframe tbody tr th:only-of-type {\n",
              "        vertical-align: middle;\n",
              "    }\n",
              "\n",
              "    .dataframe tbody tr th {\n",
              "        vertical-align: top;\n",
              "    }\n",
              "\n",
              "    .dataframe thead th {\n",
              "        text-align: right;\n",
              "    }\n",
              "</style>\n",
              "<table border=\"1\" class=\"dataframe\">\n",
              "  <thead>\n",
              "    <tr style=\"text-align: right;\">\n",
              "      <th></th>\n",
              "      <th>Area</th>\n",
              "      <th>Perimeter</th>\n",
              "      <th>MajorAxisLength</th>\n",
              "      <th>MinorAxisLength</th>\n",
              "      <th>AspectRation</th>\n",
              "      <th>Eccentricity</th>\n",
              "      <th>ConvexArea</th>\n",
              "      <th>EquivDiameter</th>\n",
              "      <th>Extent</th>\n",
              "      <th>Solidity</th>\n",
              "      <th>roundness</th>\n",
              "      <th>Compactness</th>\n",
              "      <th>ShapeFactor1</th>\n",
              "      <th>ShapeFactor2</th>\n",
              "      <th>ShapeFactor3</th>\n",
              "      <th>ShapeFactor4</th>\n",
              "      <th>y</th>\n",
              "    </tr>\n",
              "    <tr>\n",
              "      <th>ID</th>\n",
              "      <th></th>\n",
              "      <th></th>\n",
              "      <th></th>\n",
              "      <th></th>\n",
              "      <th></th>\n",
              "      <th></th>\n",
              "      <th></th>\n",
              "      <th></th>\n",
              "      <th></th>\n",
              "      <th></th>\n",
              "      <th></th>\n",
              "      <th></th>\n",
              "      <th></th>\n",
              "      <th></th>\n",
              "      <th></th>\n",
              "      <th></th>\n",
              "      <th></th>\n",
              "    </tr>\n",
              "  </thead>\n",
              "  <tbody>\n",
              "    <tr>\n",
              "      <th>18</th>\n",
              "      <td>162230</td>\n",
              "      <td>1486.167</td>\n",
              "      <td>543.407255</td>\n",
              "      <td>381.837178</td>\n",
              "      <td>1.423139</td>\n",
              "      <td>0.711514</td>\n",
              "      <td>163470</td>\n",
              "      <td>454.486140</td>\n",
              "      <td>0.782835</td>\n",
              "      <td>0.992415</td>\n",
              "      <td>0.923009</td>\n",
              "      <td>0.836364</td>\n",
              "      <td>0.003350</td>\n",
              "      <td>0.001011</td>\n",
              "      <td>0.699504</td>\n",
              "      <td>0.995492</td>\n",
              "      <td>BOMBAY</td>\n",
              "    </tr>\n",
              "    <tr>\n",
              "      <th>21</th>\n",
              "      <td>203688</td>\n",
              "      <td>1738.084</td>\n",
              "      <td>676.058986</td>\n",
              "      <td>389.116090</td>\n",
              "      <td>1.737422</td>\n",
              "      <td>0.817756</td>\n",
              "      <td>207028</td>\n",
              "      <td>509.257908</td>\n",
              "      <td>0.788071</td>\n",
              "      <td>0.983867</td>\n",
              "      <td>0.847293</td>\n",
              "      <td>0.753274</td>\n",
              "      <td>0.003319</td>\n",
              "      <td>0.000659</td>\n",
              "      <td>0.567422</td>\n",
              "      <td>0.985852</td>\n",
              "      <td>BOMBAY</td>\n",
              "    </tr>\n",
              "    <tr>\n",
              "      <th>38</th>\n",
              "      <td>139639</td>\n",
              "      <td>1379.183</td>\n",
              "      <td>473.780598</td>\n",
              "      <td>376.550241</td>\n",
              "      <td>1.258214</td>\n",
              "      <td>0.606901</td>\n",
              "      <td>140541</td>\n",
              "      <td>421.656136</td>\n",
              "      <td>0.783916</td>\n",
              "      <td>0.993582</td>\n",
              "      <td>0.922514</td>\n",
              "      <td>0.889982</td>\n",
              "      <td>0.003393</td>\n",
              "      <td>0.001313</td>\n",
              "      <td>0.792068</td>\n",
              "      <td>0.996590</td>\n",
              "      <td>BOMBAY</td>\n",
              "    </tr>\n",
              "    <tr>\n",
              "      <th>47</th>\n",
              "      <td>152063</td>\n",
              "      <td>1455.551</td>\n",
              "      <td>524.784869</td>\n",
              "      <td>371.247487</td>\n",
              "      <td>1.413572</td>\n",
              "      <td>0.706785</td>\n",
              "      <td>153860</td>\n",
              "      <td>440.014346</td>\n",
              "      <td>0.764451</td>\n",
              "      <td>0.988321</td>\n",
              "      <td>0.901942</td>\n",
              "      <td>0.838466</td>\n",
              "      <td>0.003451</td>\n",
              "      <td>0.001052</td>\n",
              "      <td>0.703025</td>\n",
              "      <td>0.993777</td>\n",
              "      <td>BOMBAY</td>\n",
              "    </tr>\n",
              "    <tr>\n",
              "      <th>89</th>\n",
              "      <td>197245</td>\n",
              "      <td>1702.646</td>\n",
              "      <td>642.077245</td>\n",
              "      <td>396.085390</td>\n",
              "      <td>1.621058</td>\n",
              "      <td>0.787056</td>\n",
              "      <td>200777</td>\n",
              "      <td>501.138837</td>\n",
              "      <td>0.802083</td>\n",
              "      <td>0.982408</td>\n",
              "      <td>0.855002</td>\n",
              "      <td>0.780496</td>\n",
              "      <td>0.003255</td>\n",
              "      <td>0.000745</td>\n",
              "      <td>0.609174</td>\n",
              "      <td>0.987507</td>\n",
              "      <td>BOMBAY</td>\n",
              "    </tr>\n",
              "  </tbody>\n",
              "</table>\n",
              "</div>\n",
              "      <button class=\"colab-df-convert\" onclick=\"convertToInteractive('df-03e212fe-a153-494b-87cf-ef113b4107de')\"\n",
              "              title=\"Convert this dataframe to an interactive table.\"\n",
              "              style=\"display:none;\">\n",
              "        \n",
              "  <svg xmlns=\"http://www.w3.org/2000/svg\" height=\"24px\"viewBox=\"0 0 24 24\"\n",
              "       width=\"24px\">\n",
              "    <path d=\"M0 0h24v24H0V0z\" fill=\"none\"/>\n",
              "    <path d=\"M18.56 5.44l.94 2.06.94-2.06 2.06-.94-2.06-.94-.94-2.06-.94 2.06-2.06.94zm-11 1L8.5 8.5l.94-2.06 2.06-.94-2.06-.94L8.5 2.5l-.94 2.06-2.06.94zm10 10l.94 2.06.94-2.06 2.06-.94-2.06-.94-.94-2.06-.94 2.06-2.06.94z\"/><path d=\"M17.41 7.96l-1.37-1.37c-.4-.4-.92-.59-1.43-.59-.52 0-1.04.2-1.43.59L10.3 9.45l-7.72 7.72c-.78.78-.78 2.05 0 2.83L4 21.41c.39.39.9.59 1.41.59.51 0 1.02-.2 1.41-.59l7.78-7.78 2.81-2.81c.8-.78.8-2.07 0-2.86zM5.41 20L4 18.59l7.72-7.72 1.47 1.35L5.41 20z\"/>\n",
              "  </svg>\n",
              "      </button>\n",
              "      \n",
              "  <style>\n",
              "    .colab-df-container {\n",
              "      display:flex;\n",
              "      flex-wrap:wrap;\n",
              "      gap: 12px;\n",
              "    }\n",
              "\n",
              "    .colab-df-convert {\n",
              "      background-color: #E8F0FE;\n",
              "      border: none;\n",
              "      border-radius: 50%;\n",
              "      cursor: pointer;\n",
              "      display: none;\n",
              "      fill: #1967D2;\n",
              "      height: 32px;\n",
              "      padding: 0 0 0 0;\n",
              "      width: 32px;\n",
              "    }\n",
              "\n",
              "    .colab-df-convert:hover {\n",
              "      background-color: #E2EBFA;\n",
              "      box-shadow: 0px 1px 2px rgba(60, 64, 67, 0.3), 0px 1px 3px 1px rgba(60, 64, 67, 0.15);\n",
              "      fill: #174EA6;\n",
              "    }\n",
              "\n",
              "    [theme=dark] .colab-df-convert {\n",
              "      background-color: #3B4455;\n",
              "      fill: #D2E3FC;\n",
              "    }\n",
              "\n",
              "    [theme=dark] .colab-df-convert:hover {\n",
              "      background-color: #434B5C;\n",
              "      box-shadow: 0px 1px 3px 1px rgba(0, 0, 0, 0.15);\n",
              "      filter: drop-shadow(0px 1px 2px rgba(0, 0, 0, 0.3));\n",
              "      fill: #FFFFFF;\n",
              "    }\n",
              "  </style>\n",
              "\n",
              "      <script>\n",
              "        const buttonEl =\n",
              "          document.querySelector('#df-03e212fe-a153-494b-87cf-ef113b4107de button.colab-df-convert');\n",
              "        buttonEl.style.display =\n",
              "          google.colab.kernel.accessAllowed ? 'block' : 'none';\n",
              "\n",
              "        async function convertToInteractive(key) {\n",
              "          const element = document.querySelector('#df-03e212fe-a153-494b-87cf-ef113b4107de');\n",
              "          const dataTable =\n",
              "            await google.colab.kernel.invokeFunction('convertToInteractive',\n",
              "                                                     [key], {});\n",
              "          if (!dataTable) return;\n",
              "\n",
              "          const docLinkHtml = 'Like what you see? Visit the ' +\n",
              "            '<a target=\"_blank\" href=https://colab.research.google.com/notebooks/data_table.ipynb>data table notebook</a>'\n",
              "            + ' to learn more about interactive tables.';\n",
              "          element.innerHTML = '';\n",
              "          dataTable['output_type'] = 'display_data';\n",
              "          await google.colab.output.renderOutput(dataTable, element);\n",
              "          const docLink = document.createElement('div');\n",
              "          docLink.innerHTML = docLinkHtml;\n",
              "          element.appendChild(docLink);\n",
              "        }\n",
              "      </script>\n",
              "    </div>\n",
              "  </div>\n",
              "  "
            ]
          },
          "metadata": {},
          "execution_count": 26
        }
      ]
    },
    {
      "cell_type": "code",
      "source": [
        "data['y'].value_counts()"
      ],
      "metadata": {
        "colab": {
          "base_uri": "https://localhost:8080/"
        },
        "id": "63MXkrLrsQdB",
        "outputId": "72c066af-f77b-4a0f-d50c-3786a5878bcd"
      },
      "execution_count": null,
      "outputs": [
        {
          "output_type": "execute_result",
          "data": {
            "text/plain": [
              "BOMBAY      418\n",
              "DERMASON    418\n",
              "SIRA        418\n",
              "SEKER       418\n",
              "HOROZ       418\n",
              "CALI        418\n",
              "BARBUNYA    418\n",
              "Name: y, dtype: int64"
            ]
          },
          "metadata": {},
          "execution_count": 27
        }
      ]
    },
    {
      "cell_type": "code",
      "source": [
        "data.shape"
      ],
      "metadata": {
        "colab": {
          "base_uri": "https://localhost:8080/"
        },
        "id": "Zjik2PGnTVZf",
        "outputId": "dfc0d897-88fe-4b76-f1c7-d07fb63fff29"
      },
      "execution_count": null,
      "outputs": [
        {
          "output_type": "execute_result",
          "data": {
            "text/plain": [
              "(2926, 17)"
            ]
          },
          "metadata": {},
          "execution_count": 28
        }
      ]
    },
    {
      "cell_type": "code",
      "source": [
        "plt.figure(figsize=(10,8))\n",
        "sns.countplot(x=\"y\", data=data);"
      ],
      "metadata": {
        "colab": {
          "base_uri": "https://localhost:8080/",
          "height": 497
        },
        "id": "4uqHxp5BtUCP",
        "outputId": "90517860-1385-4bae-a4e3-48a5e537e358"
      },
      "execution_count": null,
      "outputs": [
        {
          "output_type": "display_data",
          "data": {
            "text/plain": [
              "<Figure size 720x576 with 1 Axes>"
            ],
            "image/png": "[encoded data removed]"
          },
          "metadata": {
            "needs_background": "light"
          }
        }
      ]
    },
    {
      "cell_type": "code",
      "source": [
        "# from sklearn import preprocessing\n",
        "\n",
        "# label_encoder = preprocessing.LabelEncoder()\n",
        "# data['y']= label_encoder.fit_transform(data['y'])\n",
        "# data['y'].unique()\n",
        "#y = LabelEncoder().fit_transform(y.astype('str'))"
      ],
      "metadata": {
        "id": "QSZtIHDUukjJ"
      },
      "execution_count": null,
      "outputs": []
    },
    {
      "cell_type": "code",
      "source": [
        "data.replace(['BOMBAY','DERMASON','SIRA','SEKER', 'HOROZ', 'CALI','BARBUNYA'], [0,1,2,3,4,5,6], inplace=True)"
      ],
      "metadata": {
        "id": "pn2QNYGiveyT"
      },
      "execution_count": null,
      "outputs": []
    },
    {
      "cell_type": "code",
      "source": [
        "data['y'].unique()"
      ],
      "metadata": {
        "colab": {
          "base_uri": "https://localhost:8080/"
        },
        "id": "lgOmwtvvwTt-",
        "outputId": "59087cdc-2ddc-46bf-c3c7-d1e12e96cb33"
      },
      "execution_count": null,
      "outputs": [
        {
          "output_type": "execute_result",
          "data": {
            "text/plain": [
              "array([0, 1, 2, 3, 4, 5, 6])"
            ]
          },
          "metadata": {},
          "execution_count": 32
        }
      ]
    },
    {
      "cell_type": "code",
      "source": [
        "df.columns.tolist()"
      ],
      "metadata": {
        "colab": {
          "base_uri": "https://localhost:8080/"
        },
        "id": "2Ugg7iS8WlQA",
        "outputId": "3b1c2579-ef5a-46d5-a7f3-5d3c12e025b1"
      },
      "execution_count": null,
      "outputs": [
        {
          "output_type": "execute_result",
          "data": {
            "text/plain": [
              "['Area',\n",
              " 'Perimeter',\n",
              " 'MajorAxisLength',\n",
              " 'MinorAxisLength',\n",
              " 'AspectRation',\n",
              " 'Eccentricity',\n",
              " 'ConvexArea',\n",
              " 'EquivDiameter',\n",
              " 'Extent',\n",
              " 'Solidity',\n",
              " 'roundness',\n",
              " 'Compactness',\n",
              " 'ShapeFactor1',\n",
              " 'ShapeFactor2',\n",
              " 'ShapeFactor3',\n",
              " 'ShapeFactor4',\n",
              " 'y']"
            ]
          },
          "metadata": {},
          "execution_count": 33
        }
      ]
    },
    {
      "cell_type": "code",
      "source": [
        "from sklearn.feature_selection import SelectKBest\n",
        "from sklearn.feature_selection import chi2\n",
        "dataa = data.copy()\n",
        "X=dataa.drop(['y'],axis=1).copy()\n",
        "\n",
        "y = dataa['y']    #target column i.e price range\n",
        "#apply SelectKBest class to extract top 10 best features\n",
        "bestfeatures = SelectKBest(score_func=chi2, k=10)\n",
        "fit = bestfeatures.fit(X,y)\n",
        "dfscores = pd.DataFrame(fit.scores_)\n",
        "dfcolumns = pd.DataFrame(X.columns)\n",
        "#concat two dataframes for better visualization \n",
        "featureScores = pd.concat([dfcolumns,dfscores],axis=1)\n",
        "featureScores.columns = ['Specs','Score']  #naming the dataframe columns\n",
        "print(featureScores.nlargest(10,'Score'))  #print 10 best features"
      ],
      "metadata": {
        "colab": {
          "base_uri": "https://localhost:8080/"
        },
        "id": "Y7Q-faz7Mr0s",
        "outputId": "2e69ced0-7e47-4c5a-e2f7-580b4504569e"
      },
      "execution_count": null,
      "outputs": [
        {
          "output_type": "stream",
          "name": "stdout",
          "text": [
            "              Specs         Score\n",
            "6        ConvexArea  8.598211e+07\n",
            "0              Area  8.477889e+07\n",
            "1         Perimeter  2.496427e+05\n",
            "2   MajorAxisLength  9.870980e+04\n",
            "7     EquivDiameter  7.065406e+04\n",
            "3   MinorAxisLength  5.489677e+04\n",
            "4      AspectRation  8.974098e+01\n",
            "14     ShapeFactor3  3.538445e+01\n",
            "5      Eccentricity  2.411991e+01\n",
            "11      Compactness  1.109673e+01\n"
          ]
        }
      ]
    },
    {
      "cell_type": "code",
      "source": [
        "from sklearn.ensemble import ExtraTreesClassifier\n",
        "\n",
        "model = ExtraTreesClassifier()\n",
        "dataa = data.copy()\n",
        "X=dataa.drop(['y'],axis=1).copy()\n",
        "y = dataa['y'] \n",
        "model.fit(X,y)\n",
        "print(model.feature_importances_) #use inbuilt class feature_importances of tree based classifiers\n",
        "#plot graph of feature importances for better visualization\n",
        "feat_importances = pd.Series(model.feature_importances_, index=X.columns)\n",
        "feat_importances.nlargest(10).plot(kind='barh')\n",
        "plt.show()"
      ],
      "metadata": {
        "colab": {
          "base_uri": "https://localhost:8080/",
          "height": 320
        },
        "id": "wvwBCoASP6YA",
        "outputId": "7d971429-43bc-4ad7-89c3-773c3cf1a4ab"
      },
      "execution_count": null,
      "outputs": [
        {
          "output_type": "stream",
          "name": "stdout",
          "text": [
            "[0.08317501 0.08133914 0.06479465 0.07070705 0.07097948 0.0517253\n",
            " 0.06225933 0.0899928  0.0121616  0.01719856 0.05565204 0.0908984\n",
            " 0.07435616 0.06585703 0.08156498 0.02733849]\n"
          ]
        },
        {
          "output_type": "display_data",
          "data": {
            "text/plain": [
              "<Figure size 432x288 with 1 Axes>"
            ],
            "image/png": "[encoded data removed]"
          },
          "metadata": {
            "needs_background": "light"
          }
        }
      ]
    },
    {
      "cell_type": "code",
      "source": [
        "data.columns"
      ],
      "metadata": {
        "colab": {
          "base_uri": "https://localhost:8080/"
        },
        "id": "-yGWp7pAPt1C",
        "outputId": "5ead32a1-2f8e-4932-e1de-a6fbf910586b"
      },
      "execution_count": null,
      "outputs": [
        {
          "output_type": "execute_result",
          "data": {
            "text/plain": [
              "Index(['Area', 'Perimeter', 'MajorAxisLength', 'MinorAxisLength',\n",
              "       'AspectRation', 'Eccentricity', 'ConvexArea', 'EquivDiameter', 'Extent',\n",
              "       'Solidity', 'roundness', 'Compactness', 'ShapeFactor1', 'ShapeFactor2',\n",
              "       'ShapeFactor3', 'ShapeFactor4', 'y'],\n",
              "      dtype='object')"
            ]
          },
          "metadata": {},
          "execution_count": 36
        }
      ]
    },
    {
      "cell_type": "code",
      "source": [
        "data.drop(['ShapeFactor4','Extent','Solidity','roundness','ShapeFactor2','Eccentricity'], axis=1, inplace=True)"
      ],
      "metadata": {
        "id": "X0Im4XiKOfNP"
      },
      "execution_count": null,
      "outputs": []
    },
    {
      "cell_type": "code",
      "source": [
        "data.shape"
      ],
      "metadata": {
        "colab": {
          "base_uri": "https://localhost:8080/"
        },
        "id": "_55L5f0fS5Mk",
        "outputId": "b3da0c06-93dc-413b-a6c4-b8325f6a3a75"
      },
      "execution_count": null,
      "outputs": [
        {
          "output_type": "execute_result",
          "data": {
            "text/plain": [
              "(2926, 11)"
            ]
          },
          "metadata": {},
          "execution_count": 38
        }
      ]
    },
    {
      "cell_type": "code",
      "source": [
        "sns.boxplot(x=data.y,y=data.Area)"
      ],
      "metadata": {
        "colab": {
          "base_uri": "https://localhost:8080/",
          "height": 297
        },
        "id": "Kf16GYYqW6Iq",
        "outputId": "733281b2-544c-46f9-d41d-0b38889c476f"
      },
      "execution_count": null,
      "outputs": [
        {
          "output_type": "execute_result",
          "data": {
            "text/plain": [
              "<matplotlib.axes._subplots.AxesSubplot at 0x7f84f825ec90>"
            ]
          },
          "metadata": {},
          "execution_count": 39
        },
        {
          "output_type": "display_data",
          "data": {
            "text/plain": [
              "<Figure size 432x288 with 1 Axes>"
            ],
            "image/png": "[encoded data removed]"
          },
          "metadata": {
            "needs_background": "light"
          }
        }
      ]
    },
    {
      "cell_type": "code",
      "source": [
        "data.columns"
      ],
      "metadata": {
        "colab": {
          "base_uri": "https://localhost:8080/"
        },
        "id": "mSpwNe8vZA-A",
        "outputId": "1d3c9917-8e4d-4992-cba6-ac08dca1570d"
      },
      "execution_count": null,
      "outputs": [
        {
          "output_type": "execute_result",
          "data": {
            "text/plain": [
              "Index(['Area', 'Perimeter', 'MajorAxisLength', 'MinorAxisLength',\n",
              "       'AspectRation', 'ConvexArea', 'EquivDiameter', 'Compactness',\n",
              "       'ShapeFactor1', 'ShapeFactor3', 'y'],\n",
              "      dtype='object')"
            ]
          },
          "metadata": {},
          "execution_count": 40
        }
      ]
    },
    {
      "cell_type": "code",
      "source": [
        "def outlierdetection(data):\n",
        "\n",
        "    sorted(data)    \n",
        "    Q1,Q3=np.percentile(data,[25,75])\n",
        "    IQR=Q3-Q1  \n",
        "    lower_range=Q1-(1.5*IQR)\n",
        "    Upper_range=Q3+(1.5*IQR)\n",
        "\n",
        "    return lower_range,Upper_range\n",
        "  "
      ],
      "metadata": {
        "id": "e76kh52ZV5Xt"
      },
      "execution_count": null,
      "outputs": []
    },
    {
      "cell_type": "code",
      "source": [
        "y_0_area=data[data.y == 0].Area\n",
        "lr,ur=outlierdetection(y_0_area)\n",
        "data.drop(data.index[(data.y ==0) &( data.Area <= lr)],inplace=True)\n",
        "data.drop(data.index[(data.y ==0) &( data.Area >= ur)],inplace=True)"
      ],
      "metadata": {
        "id": "RgkN4gulzYD8"
      },
      "execution_count": null,
      "outputs": []
    },
    {
      "cell_type": "code",
      "source": [
        "y_1_area=data[data.y == 1].Area\n",
        "lr,ur=outlierdetection(y_1_area)\n",
        "data.drop(data.index[(data.y ==1) &( data.Area <= lr)],inplace=True)\n",
        "data.drop(data.index[(data.y ==1) &( data.Area >= ur)],inplace=True)"
      ],
      "metadata": {
        "id": "O0gwPBNkZ96Z"
      },
      "execution_count": null,
      "outputs": []
    },
    {
      "cell_type": "code",
      "source": [
        "y_2_area=data[data.y == 2].Area\n",
        "lr,ur=outlierdetection(y_2_area)\n",
        "data.drop(data.index[(data.y ==2) &( data.Area <= lr)],inplace=True)\n",
        "data.drop(data.index[(data.y ==2) &( data.Area >= ur)],inplace=True)"
      ],
      "metadata": {
        "id": "gmaeR6cfaaP1"
      },
      "execution_count": null,
      "outputs": []
    },
    {
      "cell_type": "code",
      "source": [
        "y_3_area=data[data.y == 3].Area\n",
        "lr,ur=outlierdetection(y_3_area)\n",
        "data.drop(data.index[(data.y ==3) &( data.Area <= lr)],inplace=True)\n",
        "data.drop(data.index[(data.y ==3) &( data.Area >= ur)],inplace=True)"
      ],
      "metadata": {
        "id": "EQ3BlCO7acPz"
      },
      "execution_count": null,
      "outputs": []
    },
    {
      "cell_type": "code",
      "source": [
        "y_4_area=data[data.y == 4].Area\n",
        "lr,ur=outlierdetection(y_4_area)\n",
        "data.drop(data.index[(data.y ==4) &( data.Area <= lr)],inplace=True)\n",
        "data.drop(data.index[(data.y ==4) &( data.Area >= ur)],inplace=True)"
      ],
      "metadata": {
        "id": "n7j5K3ETabkM"
      },
      "execution_count": null,
      "outputs": []
    },
    {
      "cell_type": "code",
      "source": [
        "y_5_area=data[data.y == 5].Area\n",
        "lr,ur=outlierdetection(y_5_area)\n",
        "data.drop(data.index[(data.y ==5) &( data.Area <= lr)],inplace=True)\n",
        "data.drop(data.index[(data.y ==5) &( data.Area >= ur)],inplace=True)"
      ],
      "metadata": {
        "id": "yZFhRHqraf68"
      },
      "execution_count": null,
      "outputs": []
    },
    {
      "cell_type": "code",
      "source": [
        "y_6_area=data[data.y == 6].Area\n",
        "lr,ur=outlierdetection(y_6_area)\n",
        "data.drop(data.index[(data.y ==6) &( data.Area <= lr)],inplace=True)\n",
        "data.drop(data.index[(data.y ==6) &( data.Area >= ur)],inplace=True)"
      ],
      "metadata": {
        "id": "-GMIAC7bafkR"
      },
      "execution_count": null,
      "outputs": []
    },
    {
      "cell_type": "code",
      "source": [
        "sns.boxplot(x='y',y='Area',data=data)"
      ],
      "metadata": {
        "colab": {
          "base_uri": "https://localhost:8080/",
          "height": 297
        },
        "id": "j8iHcRB-bD9M",
        "outputId": "32d11259-ecac-4fb8-a201-7c4674f6838f"
      },
      "execution_count": null,
      "outputs": [
        {
          "output_type": "execute_result",
          "data": {
            "text/plain": [
              "<matplotlib.axes._subplots.AxesSubplot at 0x7f84f7f4a790>"
            ]
          },
          "metadata": {},
          "execution_count": 49
        },
        {
          "output_type": "display_data",
          "data": {
            "text/plain": [
              "<Figure size 432x288 with 1 Axes>"
            ],
            "image/png": "[encoded data removed]"
          },
          "metadata": {
            "needs_background": "light"
          }
        }
      ]
    },
    {
      "cell_type": "code",
      "source": [
        "data.columns"
      ],
      "metadata": {
        "colab": {
          "base_uri": "https://localhost:8080/"
        },
        "id": "C6I0I9bZbiAE",
        "outputId": "a25f957c-ca31-4590-b19b-47e41248879f"
      },
      "execution_count": null,
      "outputs": [
        {
          "output_type": "execute_result",
          "data": {
            "text/plain": [
              "Index(['Area', 'Perimeter', 'MajorAxisLength', 'MinorAxisLength',\n",
              "       'AspectRation', 'ConvexArea', 'EquivDiameter', 'Compactness',\n",
              "       'ShapeFactor1', 'ShapeFactor3', 'y'],\n",
              "      dtype='object')"
            ]
          },
          "metadata": {},
          "execution_count": 50
        }
      ]
    },
    {
      "cell_type": "code",
      "source": [
        "#Perimeter before removing outliers\n",
        "sns.boxplot(x=data.y,y=data.Perimeter)"
      ],
      "metadata": {
        "colab": {
          "base_uri": "https://localhost:8080/",
          "height": 297
        },
        "id": "W_tMeHwUbDiE",
        "outputId": "2c013c3a-a8f8-467f-eb0e-7e00669f4474"
      },
      "execution_count": null,
      "outputs": [
        {
          "output_type": "execute_result",
          "data": {
            "text/plain": [
              "<matplotlib.axes._subplots.AxesSubplot at 0x7f84f7e3b310>"
            ]
          },
          "metadata": {},
          "execution_count": 51
        },
        {
          "output_type": "display_data",
          "data": {
            "text/plain": [
              "<Figure size 432x288 with 1 Axes>"
            ],
            "image/png": "[encoded data removed]"
          },
          "metadata": {
            "needs_background": "light"
          }
        }
      ]
    },
    {
      "cell_type": "code",
      "source": [
        "y_0_Perimeter=data[data.y == 0].Perimeter\n",
        "lr,ur=outlierdetection(y_0_Perimeter)\n",
        "data.drop(data.index[(data.y ==0) &( data.Perimeter <= lr)],inplace=True)\n",
        "data.drop(data.index[(data.y ==0) &( data.Perimeter >= ur)],inplace=True)"
      ],
      "metadata": {
        "id": "KDsegvmWboJl"
      },
      "execution_count": null,
      "outputs": []
    },
    {
      "cell_type": "code",
      "source": [
        "y_1_Perimeter=data[data.y == 1].Perimeter\n",
        "lr,ur=outlierdetection(y_1_Perimeter)\n",
        "data.drop(data.index[(data.y ==1) &( data.Perimeter <= lr)],inplace=True)\n",
        "data.drop(data.index[(data.y ==1) &( data.Perimeter >= ur)],inplace=True)"
      ],
      "metadata": {
        "id": "8WAvdd1McKDd"
      },
      "execution_count": null,
      "outputs": []
    },
    {
      "cell_type": "code",
      "source": [
        "y_2_Perimeter=data[data.y == 2].Perimeter\n",
        "lr,ur=outlierdetection(y_2_Perimeter)\n",
        "data.drop(data.index[(data.y ==2) &( data.Perimeter <= lr)],inplace=True)\n",
        "data.drop(data.index[(data.y ==2) &( data.Perimeter >= ur)],inplace=True)"
      ],
      "metadata": {
        "id": "HQR0xnBzcYBj"
      },
      "execution_count": null,
      "outputs": []
    },
    {
      "cell_type": "code",
      "source": [
        "y_3_Perimeter=data[data.y == 3].Perimeter\n",
        "lr,ur=outlierdetection(y_3_Perimeter)\n",
        "data.drop(data.index[(data.y ==3) &( data.Perimeter <= lr)],inplace=True)\n",
        "data.drop(data.index[(data.y ==3) &( data.Perimeter >= ur)],inplace=True)"
      ],
      "metadata": {
        "id": "7SadwXcucX-Q"
      },
      "execution_count": null,
      "outputs": []
    },
    {
      "cell_type": "code",
      "source": [
        "y_4_Perimeter=data[data.y == 4].Perimeter\n",
        "lr,ur=outlierdetection(y_4_Perimeter)\n",
        "data.drop(data.index[(data.y ==4) &( data.Perimeter <= lr)],inplace=True)\n",
        "data.drop(data.index[(data.y ==4) &( data.Perimeter >= ur)],inplace=True)"
      ],
      "metadata": {
        "id": "IW_3MsvCcXyq"
      },
      "execution_count": null,
      "outputs": []
    },
    {
      "cell_type": "code",
      "source": [
        "y_5_Perimeter=data[data.y == 5].Perimeter\n",
        "lr,ur=outlierdetection(y_5_Perimeter)\n",
        "data.drop(data.index[(data.y ==5) &( data.Perimeter <= lr)],inplace=True)\n",
        "data.drop(data.index[(data.y ==5) &( data.Perimeter >= ur)],inplace=True)"
      ],
      "metadata": {
        "id": "4q4XaqXhiO_2"
      },
      "execution_count": null,
      "outputs": []
    },
    {
      "cell_type": "code",
      "source": [
        "y_6_Perimeter=data[data.y == 6].Perimeter\n",
        "lr,ur=outlierdetection(y_6_Perimeter)\n",
        "data.drop(data.index[(data.y ==6) &( data.Perimeter <= lr)],inplace=True)\n",
        "data.drop(data.index[(data.y ==6) &( data.Perimeter >= ur)],inplace=True)"
      ],
      "metadata": {
        "id": "agI64ceHiO91"
      },
      "execution_count": null,
      "outputs": []
    },
    {
      "cell_type": "code",
      "source": [
        "#Perimeter after removing outliers\n",
        "sns.boxplot(x=data.y,y=data.Perimeter)"
      ],
      "metadata": {
        "colab": {
          "base_uri": "https://localhost:8080/",
          "height": 297
        },
        "id": "pwi1VzvjiO6S",
        "outputId": "539c2ea8-94d9-4dc4-9f37-b13d343b51d4"
      },
      "execution_count": null,
      "outputs": [
        {
          "output_type": "execute_result",
          "data": {
            "text/plain": [
              "<matplotlib.axes._subplots.AxesSubplot at 0x7f84f7f299d0>"
            ]
          },
          "metadata": {},
          "execution_count": 59
        },
        {
          "output_type": "display_data",
          "data": {
            "text/plain": [
              "<Figure size 432x288 with 1 Axes>"
            ],
            "image/png": "[encoded data removed]"
          },
          "metadata": {
            "needs_background": "light"
          }
        }
      ]
    },
    {
      "cell_type": "code",
      "source": [
        "data.columns"
      ],
      "metadata": {
        "colab": {
          "base_uri": "https://localhost:8080/"
        },
        "id": "qPD2XgDfiO3i",
        "outputId": "eb4b3f9d-d8b3-471d-a60c-6b7927a0bc37"
      },
      "execution_count": null,
      "outputs": [
        {
          "output_type": "execute_result",
          "data": {
            "text/plain": [
              "Index(['Area', 'Perimeter', 'MajorAxisLength', 'MinorAxisLength',\n",
              "       'AspectRation', 'ConvexArea', 'EquivDiameter', 'Compactness',\n",
              "       'ShapeFactor1', 'ShapeFactor3', 'y'],\n",
              "      dtype='object')"
            ]
          },
          "metadata": {},
          "execution_count": 60
        }
      ]
    },
    {
      "cell_type": "code",
      "source": [
        "#MajorAxisLength before removing outliers\n",
        "sns.boxplot(x=data.y,y=data.MajorAxisLength)"
      ],
      "metadata": {
        "colab": {
          "base_uri": "https://localhost:8080/",
          "height": 297
        },
        "id": "pqiWOGaHiO1Y",
        "outputId": "7fb3f2ed-90de-4275-8098-1962450bbcf1"
      },
      "execution_count": null,
      "outputs": [
        {
          "output_type": "execute_result",
          "data": {
            "text/plain": [
              "<matplotlib.axes._subplots.AxesSubplot at 0x7f84f7fc90d0>"
            ]
          },
          "metadata": {},
          "execution_count": 61
        },
        {
          "output_type": "display_data",
          "data": {
            "text/plain": [
              "<Figure size 432x288 with 1 Axes>"
            ],
            "image/png": "[encoded data removed]"
          },
          "metadata": {
            "needs_background": "light"
          }
        }
      ]
    },
    {
      "cell_type": "code",
      "source": [
        "y_0_MajorAxisLength=data[data.y ==0].MajorAxisLength\n",
        "lr,ur=outlierdetection(y_0_MajorAxisLength)\n",
        "data.drop(data.index[(data.y ==0) &( data.MajorAxisLength <= lr)],inplace=True)\n",
        "data.drop(data.index[(data.y ==0) &( data.MajorAxisLength >= ur)],inplace=True)"
      ],
      "metadata": {
        "id": "kCLXKZ4xiOyD"
      },
      "execution_count": null,
      "outputs": []
    },
    {
      "cell_type": "code",
      "source": [
        "y_1_MajorAxisLength=data[data.y ==1].MajorAxisLength\n",
        "lr,ur=outlierdetection(y_1_MajorAxisLength)\n",
        "data.drop(data.index[(data.y ==1) &( data.MajorAxisLength <= lr)],inplace=True)\n",
        "data.drop(data.index[(data.y ==1) &( data.MajorAxisLength >= ur)],inplace=True)"
      ],
      "metadata": {
        "id": "59v236NoiOvu"
      },
      "execution_count": null,
      "outputs": []
    },
    {
      "cell_type": "code",
      "source": [
        "y_2_MajorAxisLength=data[data.y ==2].MajorAxisLength\n",
        "lr,ur=outlierdetection(y_2_MajorAxisLength)\n",
        "data.drop(data.index[(data.y ==2) &( data.MajorAxisLength <= lr)],inplace=True)\n",
        "data.drop(data.index[(data.y ==2) &( data.MajorAxisLength >= ur)],inplace=True)"
      ],
      "metadata": {
        "id": "Mm8YvKnKiOtz"
      },
      "execution_count": null,
      "outputs": []
    },
    {
      "cell_type": "code",
      "source": [
        "y_3_MajorAxisLength=data[data.y ==3].MajorAxisLength\n",
        "lr,ur=outlierdetection(y_3_MajorAxisLength)\n",
        "data.drop(data.index[(data.y ==3) &( data.MajorAxisLength <= lr)],inplace=True)\n",
        "data.drop(data.index[(data.y ==3) &( data.MajorAxisLength >= ur)],inplace=True)"
      ],
      "metadata": {
        "id": "QENWL2ndmIXP"
      },
      "execution_count": null,
      "outputs": []
    },
    {
      "cell_type": "code",
      "source": [
        "y_4_MajorAxisLength=data[data.y ==4].MajorAxisLength\n",
        "lr,ur=outlierdetection(y_4_MajorAxisLength)\n",
        "data.drop(data.index[(data.y ==4) &( data.MajorAxisLength <= lr)],inplace=True)\n",
        "data.drop(data.index[(data.y ==4) &( data.MajorAxisLength >= ur)],inplace=True)"
      ],
      "metadata": {
        "id": "p-nTY_yLmITm"
      },
      "execution_count": null,
      "outputs": []
    },
    {
      "cell_type": "code",
      "source": [
        "y_5_MajorAxisLength=data[data.y ==5].MajorAxisLength\n",
        "lr,ur=outlierdetection(y_5_MajorAxisLength)\n",
        "data.drop(data.index[(data.y ==5) &( data.MajorAxisLength <= lr)],inplace=True)\n",
        "data.drop(data.index[(data.y ==5) &( data.MajorAxisLength >= ur)],inplace=True)"
      ],
      "metadata": {
        "id": "Ye9Zxnx0mIQC"
      },
      "execution_count": null,
      "outputs": []
    },
    {
      "cell_type": "code",
      "source": [
        "y_6_MajorAxisLength=data[data.y ==6].MajorAxisLength\n",
        "lr,ur=outlierdetection(y_6_MajorAxisLength)\n",
        "data.drop(data.index[(data.y ==6) &( data.MajorAxisLength <= lr)],inplace=True)\n",
        "data.drop(data.index[(data.y ==6) &( data.MajorAxisLength >= ur)],inplace=True)"
      ],
      "metadata": {
        "id": "SGwsNThomIM7"
      },
      "execution_count": null,
      "outputs": []
    },
    {
      "cell_type": "code",
      "source": [
        "#MajorAxisLength after removing outliers\n",
        "sns.boxplot(x=data.y,y=data.MajorAxisLength)"
      ],
      "metadata": {
        "colab": {
          "base_uri": "https://localhost:8080/",
          "height": 297
        },
        "id": "RTcGak5VmIJv",
        "outputId": "d403129c-f472-431b-8e54-f697be4634b5"
      },
      "execution_count": null,
      "outputs": [
        {
          "output_type": "execute_result",
          "data": {
            "text/plain": [
              "<matplotlib.axes._subplots.AxesSubplot at 0x7f84fb85ddd0>"
            ]
          },
          "metadata": {},
          "execution_count": 69
        },
        {
          "output_type": "display_data",
          "data": {
            "text/plain": [
              "<Figure size 432x288 with 1 Axes>"
            ],
            "image/png": "[encoded data removed]"
          },
          "metadata": {
            "needs_background": "light"
          }
        }
      ]
    },
    {
      "cell_type": "code",
      "source": [
        "df.columns"
      ],
      "metadata": {
        "colab": {
          "base_uri": "https://localhost:8080/"
        },
        "id": "3MkUjqtVmIGT",
        "outputId": "1d57c599-8aa7-4c49-e73b-4aa8eabb3ba7"
      },
      "execution_count": null,
      "outputs": [
        {
          "output_type": "execute_result",
          "data": {
            "text/plain": [
              "Index(['Area', 'Perimeter', 'MajorAxisLength', 'MinorAxisLength',\n",
              "       'AspectRation', 'Eccentricity', 'ConvexArea', 'EquivDiameter', 'Extent',\n",
              "       'Solidity', 'roundness', 'Compactness', 'ShapeFactor1', 'ShapeFactor2',\n",
              "       'ShapeFactor3', 'ShapeFactor4', 'y'],\n",
              "      dtype='object')"
            ]
          },
          "metadata": {},
          "execution_count": 70
        }
      ]
    },
    {
      "cell_type": "code",
      "source": [
        "#MajorAxisLength after removing outliers\n",
        "sns.boxplot(x=data.y,y=data.MinorAxisLength)"
      ],
      "metadata": {
        "colab": {
          "base_uri": "https://localhost:8080/",
          "height": 297
        },
        "id": "xp4JuuB9nfc_",
        "outputId": "49c68efb-2690-41c7-97b3-bc9613d2b0f9"
      },
      "execution_count": null,
      "outputs": [
        {
          "output_type": "execute_result",
          "data": {
            "text/plain": [
              "<matplotlib.axes._subplots.AxesSubplot at 0x7f84fb696650>"
            ]
          },
          "metadata": {},
          "execution_count": 71
        },
        {
          "output_type": "display_data",
          "data": {
            "text/plain": [
              "<Figure size 432x288 with 1 Axes>"
            ],
            "image/png": "[encoded data removed]"
          },
          "metadata": {
            "needs_background": "light"
          }
        }
      ]
    },
    {
      "cell_type": "code",
      "source": [
        "y_0_MinorAxisLength=data[data.y ==0].MinorAxisLength\n",
        "lr,ur=outlierdetection(y_0_MinorAxisLength)\n",
        "data.drop(data.index[(data.y ==0) &( data.MinorAxisLength <= lr)],inplace=True)\n",
        "data.drop(data.index[(data.y ==0) &( data.MinorAxisLength >= ur)],inplace=True)\n",
        "\n",
        "y_1_MinorAxisLength=data[data.y ==1].MinorAxisLength\n",
        "lr,ur=outlierdetection(y_1_MinorAxisLength)\n",
        "data.drop(data.index[(data.y ==1) &( data.MinorAxisLength <= lr)],inplace=True)\n",
        "data.drop(data.index[(data.y ==1) &( data.MinorAxisLength >= ur)],inplace=True)\n",
        "\n",
        "y_2_MinorAxisLength=data[data.y ==2].MinorAxisLength\n",
        "lr,ur=outlierdetection(y_2_MinorAxisLength)\n",
        "data.drop(data.index[(data.y ==2) &( data.MinorAxisLength <= lr)],inplace=True)\n",
        "data.drop(data.index[(data.y ==2) &( data.MinorAxisLength >= ur)],inplace=True)\n",
        "\n",
        "y_3_MinorAxisLength=data[data.y ==3].MinorAxisLength\n",
        "lr,ur=outlierdetection(y_3_MinorAxisLength)\n",
        "data.drop(data.index[(data.y ==3) &( data.MinorAxisLength <= lr)],inplace=True)\n",
        "data.drop(data.index[(data.y ==3) &( data.MinorAxisLength >= ur)],inplace=True)\n",
        "\n",
        "y_4_MinorAxisLength=data[data.y ==4].MinorAxisLength\n",
        "lr,ur=outlierdetection(y_4_MinorAxisLength)\n",
        "data.drop(data.index[(data.y ==4) &( data.MinorAxisLength <= lr)],inplace=True)\n",
        "data.drop(data.index[(data.y ==4) &( data.MinorAxisLength >= ur)],inplace=True)\n",
        "\n",
        "y_5_MinorAxisLength=data[data.y ==5].MinorAxisLength\n",
        "lr,ur=outlierdetection(y_5_MinorAxisLength)\n",
        "data.drop(data.index[(data.y ==5) &( data.MinorAxisLength <= lr)],inplace=True)\n",
        "data.drop(data.index[(data.y ==5) &( data.MinorAxisLength >= ur)],inplace=True)\n",
        "\n",
        "y_6_MinorAxisLength=data[data.y ==6].MinorAxisLength\n",
        "lr,ur=outlierdetection(y_6_MinorAxisLength)\n",
        "data.drop(data.index[(data.y ==6) &( data.MinorAxisLength <= lr)],inplace=True)\n",
        "data.drop(data.index[(data.y ==6) &( data.MinorAxisLength >= ur)],inplace=True)"
      ],
      "metadata": {
        "id": "5YVpAcW8mIDS"
      },
      "execution_count": null,
      "outputs": []
    },
    {
      "cell_type": "code",
      "source": [
        "#MinorAxisLength after removing outliers\n",
        "sns.boxplot(x=data.y,y=data.MinorAxisLength)"
      ],
      "metadata": {
        "colab": {
          "base_uri": "https://localhost:8080/",
          "height": 297
        },
        "id": "SiN7RyAimH_X",
        "outputId": "7e433c4d-3ef8-42db-848b-ed5f22403536"
      },
      "execution_count": null,
      "outputs": [
        {
          "output_type": "execute_result",
          "data": {
            "text/plain": [
              "<matplotlib.axes._subplots.AxesSubplot at 0x7f84fb5f3050>"
            ]
          },
          "metadata": {},
          "execution_count": 73
        },
        {
          "output_type": "display_data",
          "data": {
            "text/plain": [
              "<Figure size 432x288 with 1 Axes>"
            ],
            "image/png": "[encoded data removed]"
          },
          "metadata": {
            "needs_background": "light"
          }
        }
      ]
    },
    {
      "cell_type": "code",
      "source": [
        "data.columns"
      ],
      "metadata": {
        "colab": {
          "base_uri": "https://localhost:8080/"
        },
        "id": "mPCmY6-oiOrM",
        "outputId": "15e41423-ecd0-4bc4-e544-8a51451c020e"
      },
      "execution_count": null,
      "outputs": [
        {
          "output_type": "execute_result",
          "data": {
            "text/plain": [
              "Index(['Area', 'Perimeter', 'MajorAxisLength', 'MinorAxisLength',\n",
              "       'AspectRation', 'ConvexArea', 'EquivDiameter', 'Compactness',\n",
              "       'ShapeFactor1', 'ShapeFactor3', 'y'],\n",
              "      dtype='object')"
            ]
          },
          "metadata": {},
          "execution_count": 74
        }
      ]
    },
    {
      "cell_type": "code",
      "source": [
        "#AspectRation before removing outliers\n",
        "sns.boxplot(x=data.y,y=data.AspectRation)"
      ],
      "metadata": {
        "colab": {
          "base_uri": "https://localhost:8080/",
          "height": 299
        },
        "id": "PqSxG501qL6D",
        "outputId": "7d7456d3-4dbc-42ff-b7cb-62ebbaeb9089"
      },
      "execution_count": null,
      "outputs": [
        {
          "output_type": "execute_result",
          "data": {
            "text/plain": [
              "<matplotlib.axes._subplots.AxesSubplot at 0x7f84fbca7890>"
            ]
          },
          "metadata": {},
          "execution_count": 75
        },
        {
          "output_type": "display_data",
          "data": {
            "text/plain": [
              "<Figure size 432x288 with 1 Axes>"
            ],
            "image/png": "[encoded data removed]"
          },
          "metadata": {
            "needs_background": "light"
          }
        }
      ]
    },
    {
      "cell_type": "code",
      "source": [
        "y_0_AspectRation=data[data.y ==0].AspectRation\n",
        "lr,ur=outlierdetection(y_0_AspectRation)\n",
        "data.drop(data.index[(data.y ==0) &( data.AspectRation <= lr)],inplace=True)\n",
        "data.drop(data.index[(data.y ==0) &( data.AspectRation >= ur)],inplace=True)\n",
        "\n",
        "y_1_AspectRation=data[data.y ==1].AspectRation\n",
        "lr,ur=outlierdetection(y_1_AspectRation)\n",
        "data.drop(data.index[(data.y ==1) &( data.AspectRation <= lr)],inplace=True)\n",
        "data.drop(data.index[(data.y ==1) &( data.AspectRation >= ur)],inplace=True)\n",
        "\n",
        "y_2_AspectRation=data[data.y ==2].AspectRation\n",
        "lr,ur=outlierdetection(y_2_AspectRation)\n",
        "data.drop(data.index[(data.y ==2) &( data.AspectRation <= lr)],inplace=True)\n",
        "data.drop(data.index[(data.y ==2) &( data.AspectRation >= ur)],inplace=True)\n",
        "\n",
        "y_3_AspectRation=data[data.y ==3].AspectRation\n",
        "lr,ur=outlierdetection(y_3_AspectRation)\n",
        "data.drop(data.index[(data.y ==3) &( data.AspectRation <= lr)],inplace=True)\n",
        "data.drop(data.index[(data.y ==3) &( data.AspectRation >= ur)],inplace=True)\n",
        "\n",
        "y_4_AspectRation=data[data.y ==4].AspectRation\n",
        "lr,ur=outlierdetection(y_4_AspectRation)\n",
        "data.drop(data.index[(data.y ==4) &( data.AspectRation <= lr)],inplace=True)\n",
        "data.drop(data.index[(data.y ==4) &( data.AspectRation >= ur)],inplace=True)\n",
        "\n",
        "y_5_AspectRation=data[data.y ==5].AspectRation\n",
        "lr,ur=outlierdetection(y_5_AspectRation)\n",
        "data.drop(data.index[(data.y ==5) &( data.AspectRation <= lr)],inplace=True)\n",
        "data.drop(data.index[(data.y ==5) &( data.AspectRation >= ur)],inplace=True)\n",
        "\n",
        "y_6_AspectRation=data[data.y ==6].AspectRation\n",
        "lr,ur=outlierdetection(y_6_AspectRation)\n",
        "data.drop(data.index[(data.y ==6) &( data.AspectRation <= lr)],inplace=True)\n",
        "data.drop(data.index[(data.y ==6) &( data.AspectRation >= ur)],inplace=True)"
      ],
      "metadata": {
        "id": "Hc287LR5iOo5"
      },
      "execution_count": null,
      "outputs": []
    },
    {
      "cell_type": "code",
      "source": [
        "#AspectRation after removing outliers\n",
        "sns.boxplot(x=data.y,y=data.AspectRation)"
      ],
      "metadata": {
        "colab": {
          "base_uri": "https://localhost:8080/",
          "height": 297
        },
        "id": "CLvy-PMoiOmb",
        "outputId": "beb3b896-981d-40ed-f7c3-ecfc1a3ea295"
      },
      "execution_count": null,
      "outputs": [
        {
          "output_type": "execute_result",
          "data": {
            "text/plain": [
              "<matplotlib.axes._subplots.AxesSubplot at 0x7f84fc636c10>"
            ]
          },
          "metadata": {},
          "execution_count": 77
        },
        {
          "output_type": "display_data",
          "data": {
            "text/plain": [
              "<Figure size 432x288 with 1 Axes>"
            ],
            "image/png": "[encoded data removed]"
          },
          "metadata": {
            "needs_background": "light"
          }
        }
      ]
    },
    {
      "cell_type": "code",
      "source": [
        "data.columns"
      ],
      "metadata": {
        "colab": {
          "base_uri": "https://localhost:8080/"
        },
        "id": "00iTlQGjiOXV",
        "outputId": "3c494ab1-2aca-45e0-84d3-09c69bc6cf4b"
      },
      "execution_count": null,
      "outputs": [
        {
          "output_type": "execute_result",
          "data": {
            "text/plain": [
              "Index(['Area', 'Perimeter', 'MajorAxisLength', 'MinorAxisLength',\n",
              "       'AspectRation', 'ConvexArea', 'EquivDiameter', 'Compactness',\n",
              "       'ShapeFactor1', 'ShapeFactor3', 'y'],\n",
              "      dtype='object')"
            ]
          },
          "metadata": {},
          "execution_count": 78
        }
      ]
    },
    {
      "cell_type": "code",
      "source": [
        "#ConvexArea before removing outliers\n",
        "sns.boxplot(x=data.y,y=data.ConvexArea)"
      ],
      "metadata": {
        "colab": {
          "base_uri": "https://localhost:8080/",
          "height": 297
        },
        "id": "iwP9zLTqrctJ",
        "outputId": "4ffce31d-38cc-4b56-8e4f-870204beb929"
      },
      "execution_count": null,
      "outputs": [
        {
          "output_type": "execute_result",
          "data": {
            "text/plain": [
              "<matplotlib.axes._subplots.AxesSubplot at 0x7f84fc6364d0>"
            ]
          },
          "metadata": {},
          "execution_count": 79
        },
        {
          "output_type": "display_data",
          "data": {
            "text/plain": [
              "<Figure size 432x288 with 1 Axes>"
            ],
            "image/png": "[encoded data removed]"
          },
          "metadata": {
            "needs_background": "light"
          }
        }
      ]
    },
    {
      "cell_type": "code",
      "source": [
        "y_0_ConvexArea=data[data.y ==0].ConvexArea\n",
        "lr,ur=outlierdetection(y_0_ConvexArea)\n",
        "data.drop(data.index[(data.y ==0) &( data.ConvexArea <= lr)],inplace=True)\n",
        "data.drop(data.index[(data.y ==0) &( data.ConvexArea >= ur)],inplace=True)\n",
        "\n",
        "y_2_ConvexArea=data[data.y ==2].ConvexArea\n",
        "lr,ur=outlierdetection(y_2_ConvexArea)\n",
        "data.drop(data.index[(data.y ==2) &( data.ConvexArea <= lr)],inplace=True)\n",
        "data.drop(data.index[(data.y ==2) &( data.ConvexArea >= ur)],inplace=True)\n",
        "\n",
        "y_3_ConvexArea=data[data.y ==3].ConvexArea\n",
        "lr,ur=outlierdetection(y_3_ConvexArea)\n",
        "data.drop(data.index[(data.y ==3) &( data.ConvexArea <= lr)],inplace=True)\n",
        "data.drop(data.index[(data.y ==3) &( data.ConvexArea >= ur)],inplace=True)\n",
        "\n",
        "y_5_ConvexArea=data[data.y ==5].ConvexArea\n",
        "lr,ur=outlierdetection(y_5_ConvexArea)\n",
        "data.drop(data.index[(data.y ==5) &( data.ConvexArea <= lr)],inplace=True)\n",
        "data.drop(data.index[(data.y ==5) &( data.ConvexArea >= ur)],inplace=True)\n"
      ],
      "metadata": {
        "id": "D4cBpJ5prhfM"
      },
      "execution_count": null,
      "outputs": []
    },
    {
      "cell_type": "code",
      "source": [
        "#ConvexArea after removing outliers\n",
        "sns.boxplot(x=data.y,y=data.ConvexArea)"
      ],
      "metadata": {
        "colab": {
          "base_uri": "https://localhost:8080/",
          "height": 297
        },
        "id": "GYdt4bdPrhdi",
        "outputId": "cd35e9e1-d8fc-4e62-8a58-1bcbb02d6b6c"
      },
      "execution_count": null,
      "outputs": [
        {
          "output_type": "execute_result",
          "data": {
            "text/plain": [
              "<matplotlib.axes._subplots.AxesSubplot at 0x7f84fb218d90>"
            ]
          },
          "metadata": {},
          "execution_count": 81
        },
        {
          "output_type": "display_data",
          "data": {
            "text/plain": [
              "<Figure size 432x288 with 1 Axes>"
            ],
            "image/png": "[encoded data removed]"
          },
          "metadata": {
            "needs_background": "light"
          }
        }
      ]
    },
    {
      "cell_type": "code",
      "source": [
        "df.columns"
      ],
      "metadata": {
        "colab": {
          "base_uri": "https://localhost:8080/"
        },
        "id": "T0k7aLeYrhbq",
        "outputId": "ba78f419-d020-4b16-c0d9-f1e5b9a05710"
      },
      "execution_count": null,
      "outputs": [
        {
          "output_type": "execute_result",
          "data": {
            "text/plain": [
              "Index(['Area', 'Perimeter', 'MajorAxisLength', 'MinorAxisLength',\n",
              "       'AspectRation', 'Eccentricity', 'ConvexArea', 'EquivDiameter', 'Extent',\n",
              "       'Solidity', 'roundness', 'Compactness', 'ShapeFactor1', 'ShapeFactor2',\n",
              "       'ShapeFactor3', 'ShapeFactor4', 'y'],\n",
              "      dtype='object')"
            ]
          },
          "metadata": {},
          "execution_count": 82
        }
      ]
    },
    {
      "cell_type": "code",
      "source": [
        "#EquivDiameter before removing outliers\n",
        "sns.boxplot(x=data.y,y=data.EquivDiameter)"
      ],
      "metadata": {
        "colab": {
          "base_uri": "https://localhost:8080/",
          "height": 298
        },
        "id": "A3su7PLTrhXm",
        "outputId": "12ffa3cd-6838-4c0c-c76f-12dfc36af6e6"
      },
      "execution_count": null,
      "outputs": [
        {
          "output_type": "execute_result",
          "data": {
            "text/plain": [
              "<matplotlib.axes._subplots.AxesSubplot at 0x7f84fc1beb90>"
            ]
          },
          "metadata": {},
          "execution_count": 83
        },
        {
          "output_type": "display_data",
          "data": {
            "text/plain": [
              "<Figure size 432x288 with 1 Axes>"
            ],
            "image/png": "[encoded data removed]"
          },
          "metadata": {
            "needs_background": "light"
          }
        }
      ]
    },
    {
      "cell_type": "code",
      "source": [
        "y_4_EquivDiameter=data[data.y ==4].EquivDiameter\n",
        "lr,ur=outlierdetection(y_4_EquivDiameter)\n",
        "data.drop(data.index[(data.y ==4) &( data.EquivDiameter <= lr)],inplace=True)\n",
        "data.drop(data.index[(data.y ==4) &( data.EquivDiameter >= ur)],inplace=True)\n",
        "\n",
        "y_6_EquivDiameter=data[data.y ==6].EquivDiameter\n",
        "lr,ur=outlierdetection(y_6_EquivDiameter)\n",
        "data.drop(data.index[(data.y ==6) &( data.EquivDiameter <= lr)],inplace=True)\n",
        "data.drop(data.index[(data.y ==6) &( data.EquivDiameter >= ur)],inplace=True)\n",
        "#EquivDiameter after removing outliers\n",
        "sns.boxplot(x=data.y,y=data.EquivDiameter)"
      ],
      "metadata": {
        "colab": {
          "base_uri": "https://localhost:8080/",
          "height": 298
        },
        "id": "NoOqA0errcq5",
        "outputId": "781bc99f-3b7d-437f-9881-b4f0c9811f7e"
      },
      "execution_count": null,
      "outputs": [
        {
          "output_type": "execute_result",
          "data": {
            "text/plain": [
              "<matplotlib.axes._subplots.AxesSubplot at 0x7f84fb95bb10>"
            ]
          },
          "metadata": {},
          "execution_count": 84
        },
        {
          "output_type": "display_data",
          "data": {
            "text/plain": [
              "<Figure size 432x288 with 1 Axes>"
            ],
            "image/png": "[encoded data removed]"
          },
          "metadata": {
            "needs_background": "light"
          }
        }
      ]
    },
    {
      "cell_type": "code",
      "source": [
        "data.columns"
      ],
      "metadata": {
        "colab": {
          "base_uri": "https://localhost:8080/"
        },
        "id": "OI47do1frcpA",
        "outputId": "7a423b30-844f-436b-cdb8-c4bf47daefef"
      },
      "execution_count": null,
      "outputs": [
        {
          "output_type": "execute_result",
          "data": {
            "text/plain": [
              "Index(['Area', 'Perimeter', 'MajorAxisLength', 'MinorAxisLength',\n",
              "       'AspectRation', 'ConvexArea', 'EquivDiameter', 'Compactness',\n",
              "       'ShapeFactor1', 'ShapeFactor3', 'y'],\n",
              "      dtype='object')"
            ]
          },
          "metadata": {},
          "execution_count": 85
        }
      ]
    },
    {
      "cell_type": "code",
      "source": [
        "#Compactness before removing outliers\n",
        "sns.boxplot(x=data.y,y=data.Compactness)"
      ],
      "metadata": {
        "colab": {
          "base_uri": "https://localhost:8080/",
          "height": 297
        },
        "id": "E5AWOe-lrcnL",
        "outputId": "f15a7a20-5d8c-468e-b16c-74534f9006c3"
      },
      "execution_count": null,
      "outputs": [
        {
          "output_type": "execute_result",
          "data": {
            "text/plain": [
              "<matplotlib.axes._subplots.AxesSubplot at 0x7f84fb86b090>"
            ]
          },
          "metadata": {},
          "execution_count": 86
        },
        {
          "output_type": "display_data",
          "data": {
            "text/plain": [
              "<Figure size 432x288 with 1 Axes>"
            ],
            "image/png": "[encoded data removed]"
          },
          "metadata": {
            "needs_background": "light"
          }
        }
      ]
    },
    {
      "cell_type": "code",
      "source": [
        "y_0_Compactness=data[data.y ==0].Compactness\n",
        "lr,ur=outlierdetection(y_0_Compactness)\n",
        "data.drop(data.index[(data.y ==0) &( data.Compactness <= lr)],inplace=True)\n",
        "data.drop(data.index[(data.y ==0) &( data.Compactness >= ur)],inplace=True)\n",
        "\n",
        "y_1_Compactness=data[data.y ==1].Compactness\n",
        "lr,ur=outlierdetection(y_1_Compactness)\n",
        "data.drop(data.index[(data.y ==1) &( data.Compactness <= lr)],inplace=True)\n",
        "data.drop(data.index[(data.y ==1) &( data.Compactness >= ur)],inplace=True)\n",
        "\n",
        "y_2_Compactness=data[data.y ==2].Compactness\n",
        "lr,ur=outlierdetection(y_2_Compactness)\n",
        "data.drop(data.index[(data.y ==2) &( data.Compactness <= lr)],inplace=True)\n",
        "data.drop(data.index[(data.y ==2) &( data.Compactness >= ur)],inplace=True)\n",
        "\n",
        "y_3_Compactness=data[data.y ==3].Compactness\n",
        "lr,ur=outlierdetection(y_3_Compactness)\n",
        "data.drop(data.index[(data.y ==3) &( data.Compactness <= lr)],inplace=True)\n",
        "data.drop(data.index[(data.y ==3) &( data.Compactness >= ur)],inplace=True)\n",
        "\n",
        "y_4_Compactness=data[data.y ==4].Compactness\n",
        "lr,ur=outlierdetection(y_4_Compactness)\n",
        "data.drop(data.index[(data.y ==4) &( data.Compactness <= lr)],inplace=True)\n",
        "data.drop(data.index[(data.y ==4) &( data.Compactness >= ur)],inplace=True)\n",
        "\n",
        "y_5_Compactness=data[data.y ==5].Compactness\n",
        "lr,ur=outlierdetection(y_5_Compactness)\n",
        "data.drop(data.index[(data.y ==5) &( data.Compactness <= lr)],inplace=True)\n",
        "data.drop(data.index[(data.y ==5) &( data.Compactness >= ur)],inplace=True)\n",
        "\n",
        "y_6_Compactness=data[data.y ==6].Compactness\n",
        "lr,ur=outlierdetection(y_6_Compactness)\n",
        "data.drop(data.index[(data.y ==6) &( data.Compactness <= lr)],inplace=True)\n",
        "data.drop(data.index[(data.y ==6) &( data.Compactness >= ur)],inplace=True)"
      ],
      "metadata": {
        "id": "kdOHtkRIrcko"
      },
      "execution_count": null,
      "outputs": []
    },
    {
      "cell_type": "code",
      "source": [
        "#Compactness before after outliers\n",
        "sns.boxplot(x=data.y,y=data.Compactness)"
      ],
      "metadata": {
        "colab": {
          "base_uri": "https://localhost:8080/",
          "height": 297
        },
        "id": "dbAwisNVrciX",
        "outputId": "13452ee5-9313-4389-adc6-ecb89269393d"
      },
      "execution_count": null,
      "outputs": [
        {
          "output_type": "execute_result",
          "data": {
            "text/plain": [
              "<matplotlib.axes._subplots.AxesSubplot at 0x7f84fb468d50>"
            ]
          },
          "metadata": {},
          "execution_count": 88
        },
        {
          "output_type": "display_data",
          "data": {
            "text/plain": [
              "<Figure size 432x288 with 1 Axes>"
            ],
            "image/png": "[encoded data removed]"
          },
          "metadata": {
            "needs_background": "light"
          }
        }
      ]
    },
    {
      "cell_type": "code",
      "source": [
        "data.columns"
      ],
      "metadata": {
        "colab": {
          "base_uri": "https://localhost:8080/"
        },
        "id": "3u8uIXwnrcff",
        "outputId": "968b781a-f9af-41d8-e355-9e163d8397e3"
      },
      "execution_count": null,
      "outputs": [
        {
          "output_type": "execute_result",
          "data": {
            "text/plain": [
              "Index(['Area', 'Perimeter', 'MajorAxisLength', 'MinorAxisLength',\n",
              "       'AspectRation', 'ConvexArea', 'EquivDiameter', 'Compactness',\n",
              "       'ShapeFactor1', 'ShapeFactor3', 'y'],\n",
              "      dtype='object')"
            ]
          },
          "metadata": {},
          "execution_count": 89
        }
      ]
    },
    {
      "cell_type": "code",
      "source": [
        "#ShapeFactor1 before after outliers\n",
        "sns.boxplot(x=data.y,y=data.ShapeFactor1)"
      ],
      "metadata": {
        "colab": {
          "base_uri": "https://localhost:8080/",
          "height": 297
        },
        "id": "If-1vwxavPfw",
        "outputId": "2698e481-bbf5-4a6f-a813-dd5399431bbb"
      },
      "execution_count": null,
      "outputs": [
        {
          "output_type": "execute_result",
          "data": {
            "text/plain": [
              "<matplotlib.axes._subplots.AxesSubplot at 0x7f84fbc5b7d0>"
            ]
          },
          "metadata": {},
          "execution_count": 90
        },
        {
          "output_type": "display_data",
          "data": {
            "text/plain": [
              "<Figure size 432x288 with 1 Axes>"
            ],
            "image/png": "[encoded data removed]"
          },
          "metadata": {
            "needs_background": "light"
          }
        }
      ]
    },
    {
      "cell_type": "code",
      "source": [
        "y_0_ShapeFactor1=data[data.y ==0].ShapeFactor1\n",
        "lr,ur=outlierdetection(y_0_ShapeFactor1)\n",
        "data.drop(data.index[(data.y ==0) &( data.ShapeFactor1 <= lr)],inplace=True)\n",
        "data.drop(data.index[(data.y ==0) &( data.ShapeFactor1 >= ur)],inplace=True)\n",
        "\n",
        "y_1_ShapeFactor1=data[data.y ==1].ShapeFactor1\n",
        "lr,ur=outlierdetection(y_1_ShapeFactor1)\n",
        "data.drop(data.index[(data.y ==1) &( data.ShapeFactor1 <= lr)],inplace=True)\n",
        "data.drop(data.index[(data.y ==1) &( data.ShapeFactor1 >= ur)],inplace=True)\n",
        "\n",
        "y_2_ShapeFactor1=data[data.y ==2].ShapeFactor1\n",
        "lr,ur=outlierdetection(y_2_ShapeFactor1)\n",
        "data.drop(data.index[(data.y ==2) &( data.ShapeFactor1 <= lr)],inplace=True)\n",
        "data.drop(data.index[(data.y ==2) &( data.ShapeFactor1 >= ur)],inplace=True)\n",
        "\n",
        "y_3_ShapeFactor1=data[data.y ==3].ShapeFactor1\n",
        "lr,ur=outlierdetection(y_3_ShapeFactor1)\n",
        "data.drop(data.index[(data.y ==3) &( data.ShapeFactor1 <= lr)],inplace=True)\n",
        "data.drop(data.index[(data.y ==3) &( data.ShapeFactor1 >= ur)],inplace=True)\n",
        "\n",
        "y_4_ShapeFactor1=data[data.y ==4].ShapeFactor1\n",
        "lr,ur=outlierdetection(y_4_ShapeFactor1)\n",
        "data.drop(data.index[(data.y ==4) &( data.ShapeFactor1 <= lr)],inplace=True)\n",
        "data.drop(data.index[(data.y ==4) &( data.ShapeFactor1 >= ur)],inplace=True)\n",
        "\n",
        "y_5_ShapeFactor1=data[data.y ==5].ShapeFactor1\n",
        "lr,ur=outlierdetection(y_5_ShapeFactor1)\n",
        "data.drop(data.index[(data.y ==5) &( data.ShapeFactor1 <= lr)],inplace=True)\n",
        "data.drop(data.index[(data.y ==5) &( data.ShapeFactor1 >= ur)],inplace=True)\n",
        "\n",
        "y_6_ShapeFactor1=data[data.y ==6].ShapeFactor1\n",
        "lr,ur=outlierdetection(y_6_ShapeFactor1)\n",
        "data.drop(data.index[(data.y ==6) &( data.ShapeFactor1 <= lr)],inplace=True)\n",
        "data.drop(data.index[(data.y ==6) &( data.ShapeFactor1 >= ur)],inplace=True)"
      ],
      "metadata": {
        "id": "hR3IV3hCvPdg"
      },
      "execution_count": null,
      "outputs": []
    },
    {
      "cell_type": "code",
      "source": [
        "#ShapeFactor1 after remove outliers\n",
        "sns.boxplot(x=data.y,y=data.ShapeFactor1)"
      ],
      "metadata": {
        "colab": {
          "base_uri": "https://localhost:8080/",
          "height": 297
        },
        "id": "y3KoM87XvPbU",
        "outputId": "85d658eb-a9e9-465c-8db3-ec662cdc78e8"
      },
      "execution_count": null,
      "outputs": [
        {
          "output_type": "execute_result",
          "data": {
            "text/plain": [
              "<matplotlib.axes._subplots.AxesSubplot at 0x7f84fbe38a90>"
            ]
          },
          "metadata": {},
          "execution_count": 92
        },
        {
          "output_type": "display_data",
          "data": {
            "text/plain": [
              "<Figure size 432x288 with 1 Axes>"
            ],
            "image/png": "[encoded data removed]"
          },
          "metadata": {
            "needs_background": "light"
          }
        }
      ]
    },
    {
      "cell_type": "code",
      "source": [
        "data.columns"
      ],
      "metadata": {
        "colab": {
          "base_uri": "https://localhost:8080/"
        },
        "id": "142GyvS7vPYx",
        "outputId": "82d12d85-93e0-4bd2-8f60-57227761bdbc"
      },
      "execution_count": null,
      "outputs": [
        {
          "output_type": "execute_result",
          "data": {
            "text/plain": [
              "Index(['Area', 'Perimeter', 'MajorAxisLength', 'MinorAxisLength',\n",
              "       'AspectRation', 'ConvexArea', 'EquivDiameter', 'Compactness',\n",
              "       'ShapeFactor1', 'ShapeFactor3', 'y'],\n",
              "      dtype='object')"
            ]
          },
          "metadata": {},
          "execution_count": 93
        }
      ]
    },
    {
      "cell_type": "code",
      "source": [
        "#ShapeFactor3 before remove outliers\n",
        "sns.boxplot(x=data.y,y=data.ShapeFactor3)"
      ],
      "metadata": {
        "colab": {
          "base_uri": "https://localhost:8080/",
          "height": 297
        },
        "id": "nQzgakBGvPWa",
        "outputId": "b0ee564b-dd82-421b-8d88-3300059b77d3"
      },
      "execution_count": null,
      "outputs": [
        {
          "output_type": "execute_result",
          "data": {
            "text/plain": [
              "<matplotlib.axes._subplots.AxesSubplot at 0x7f84fb869250>"
            ]
          },
          "metadata": {},
          "execution_count": 94
        },
        {
          "output_type": "display_data",
          "data": {
            "text/plain": [
              "<Figure size 432x288 with 1 Axes>"
            ],
            "image/png": "[encoded data removed]"
          },
          "metadata": {
            "needs_background": "light"
          }
        }
      ]
    },
    {
      "cell_type": "code",
      "source": [
        "y_0_ShapeFactor3=data[data.y ==0].ShapeFactor3\n",
        "lr,ur=outlierdetection(y_0_ShapeFactor3)\n",
        "data.drop(data.index[(data.y ==0) &( data.ShapeFactor3 <= lr)],inplace=True)\n",
        "data.drop(data.index[(data.y ==0) &( data.ShapeFactor3 >= ur)],inplace=True)\n",
        "\n",
        "y_1_ShapeFactor3=data[data.y ==1].ShapeFactor3\n",
        "lr,ur=outlierdetection(y_1_ShapeFactor3)\n",
        "data.drop(data.index[(data.y ==1) &( data.ShapeFactor3 <= lr)],inplace=True)\n",
        "data.drop(data.index[(data.y ==1) &( data.ShapeFactor3 >= ur)],inplace=True)\n",
        "\n",
        "\n",
        "y_2_ShapeFactor3=data[data.y ==2].ShapeFactor3\n",
        "lr,ur=outlierdetection(y_2_ShapeFactor3)\n",
        "data.drop(data.index[(data.y ==2) &( data.ShapeFactor3 <= lr)],inplace=True)\n",
        "data.drop(data.index[(data.y ==2) &( data.ShapeFactor3 >= ur)],inplace=True)\n",
        "\n",
        "y_3_ShapeFactor3=data[data.y ==3].ShapeFactor3\n",
        "lr,ur=outlierdetection(y_3_ShapeFactor3)\n",
        "data.drop(data.index[(data.y ==3) &( data.ShapeFactor3 <= lr)],inplace=True)\n",
        "data.drop(data.index[(data.y ==3) &( data.ShapeFactor3 >= ur)],inplace=True)\n",
        "\n",
        "\n",
        "y_4_ShapeFactor3=data[data.y ==4].ShapeFactor3\n",
        "lr,ur=outlierdetection(y_4_ShapeFactor3)\n",
        "data.drop(data.index[(data.y ==4) &( data.ShapeFactor3 <= lr)],inplace=True)\n",
        "data.drop(data.index[(data.y ==4) &( data.ShapeFactor3 >= ur)],inplace=True)\n",
        "\n",
        "y_5_ShapeFactor3=data[data.y ==5].ShapeFactor3\n",
        "lr,ur=outlierdetection(y_5_ShapeFactor3)\n",
        "data.drop(data.index[(data.y ==5) &( data.ShapeFactor3 <= lr)],inplace=True)\n",
        "data.drop(data.index[(data.y ==5) &( data.ShapeFactor3 >= ur)],inplace=True)\n",
        "\n",
        "y_6_ShapeFactor3=data[data.y ==6].ShapeFactor3\n",
        "lr,ur=outlierdetection(y_6_ShapeFactor3)\n",
        "data.drop(data.index[(data.y ==6) &( data.ShapeFactor3 <= lr)],inplace=True)\n",
        "data.drop(data.index[(data.y ==6) &( data.ShapeFactor3 >= ur)],inplace=True)"
      ],
      "metadata": {
        "id": "LrMUQ_0xvPT7"
      },
      "execution_count": null,
      "outputs": []
    },
    {
      "cell_type": "code",
      "source": [
        "#ShapeFactor3 after remove outliers\n",
        "sns.boxplot(x=data.y,y=data.ShapeFactor3)"
      ],
      "metadata": {
        "colab": {
          "base_uri": "https://localhost:8080/",
          "height": 297
        },
        "id": "k3DVewdmyUkr",
        "outputId": "723a735b-1a32-4daa-bedc-5531c2370595"
      },
      "execution_count": null,
      "outputs": [
        {
          "output_type": "execute_result",
          "data": {
            "text/plain": [
              "<matplotlib.axes._subplots.AxesSubplot at 0x7f84fbfbab50>"
            ]
          },
          "metadata": {},
          "execution_count": 96
        },
        {
          "output_type": "display_data",
          "data": {
            "text/plain": [
              "<Figure size 432x288 with 1 Axes>"
            ],
            "image/png": "[encoded data removed]"
          },
          "metadata": {
            "needs_background": "light"
          }
        }
      ]
    },
    {
      "cell_type": "code",
      "source": [
        "# for col in range(len(data.columns)):\n",
        "#   print('before removing outlier')\n",
        "#   sns.boxplot(x=data.y,y=data.columns[0])\n",
        "#   for label in list(data['y'].unique()):\n",
        "#     label_col=data[data.y == label].globals()['col']\n",
        "#     lr,ur=outlierdetection(label_col)\n",
        "#     data.drop(data.index[(data.y ==label) &( data.col <= lr)&(data.col>=ur)],inplace=True)\n",
        "#   print('after removing outlier')\n",
        "#   sns.boxplot(x=data.y,y=data.col)"
      ],
      "metadata": {
        "id": "2Z4GG8DGcXqw"
      },
      "execution_count": null,
      "outputs": []
    },
    {
      "cell_type": "code",
      "source": [
        "data.shape"
      ],
      "metadata": {
        "colab": {
          "base_uri": "https://localhost:8080/"
        },
        "id": "k6JwL5SjzFL3",
        "outputId": "1bbb929e-8672-4eb3-d89d-78c63a61f3cf"
      },
      "execution_count": null,
      "outputs": [
        {
          "output_type": "execute_result",
          "data": {
            "text/plain": [
              "(2779, 11)"
            ]
          },
          "metadata": {},
          "execution_count": 98
        }
      ]
    },
    {
      "cell_type": "code",
      "source": [
        "X=data.drop(['y'],axis=1).copy()\n",
        "X.head()"
      ],
      "metadata": {
        "colab": {
          "base_uri": "https://localhost:8080/",
          "height": 237
        },
        "id": "WKGVyl1pjA35",
        "outputId": "0397b78a-47a1-41ac-a195-e7f5d25159d2"
      },
      "execution_count": null,
      "outputs": [
        {
          "output_type": "execute_result",
          "data": {
            "text/plain": [
              "       Area  Perimeter  MajorAxisLength  MinorAxisLength  AspectRation  \\\n",
              "ID                                                                       \n",
              "18   162230   1486.167       543.407255       381.837178      1.423139   \n",
              "21   203688   1738.084       676.058986       389.116090      1.737422   \n",
              "47   152063   1455.551       524.784869       371.247487      1.413572   \n",
              "89   197245   1702.646       642.077245       396.085390      1.621058   \n",
              "135  141385   1429.427       525.900924       344.355118      1.527205   \n",
              "\n",
              "     ConvexArea  EquivDiameter  Compactness  ShapeFactor1  ShapeFactor3  \n",
              "ID                                                                       \n",
              "18       163470     454.486140     0.836364      0.003350      0.699504  \n",
              "21       207028     509.257908     0.753274      0.003319      0.567422  \n",
              "47       153860     440.014346     0.838466      0.003451      0.703025  \n",
              "89       200777     501.138837     0.780496      0.003255      0.609174  \n",
              "135      143530     424.284071     0.806776      0.003720      0.650887  "
            ],
            "text/html": [
              "\n",
              "  <div id=\"df-381ff99b-786f-4c16-8e17-0b584e205e7b\">\n",
              "    <div class=\"colab-df-container\">\n",
              "      <div>\n",
              "<style scoped>\n",
              "    .dataframe tbody tr th:only-of-type {\n",
              "        vertical-align: middle;\n",
              "    }\n",
              "\n",
              "    .dataframe tbody tr th {\n",
              "        vertical-align: top;\n",
              "    }\n",
              "\n",
              "    .dataframe thead th {\n",
              "        text-align: right;\n",
              "    }\n",
              "</style>\n",
              "<table border=\"1\" class=\"dataframe\">\n",
              "  <thead>\n",
              "    <tr style=\"text-align: right;\">\n",
              "      <th></th>\n",
              "      <th>Area</th>\n",
              "      <th>Perimeter</th>\n",
              "      <th>MajorAxisLength</th>\n",
              "      <th>MinorAxisLength</th>\n",
              "      <th>AspectRation</th>\n",
              "      <th>ConvexArea</th>\n",
              "      <th>EquivDiameter</th>\n",
              "      <th>Compactness</th>\n",
              "      <th>ShapeFactor1</th>\n",
              "      <th>ShapeFactor3</th>\n",
              "    </tr>\n",
              "    <tr>\n",
              "      <th>ID</th>\n",
              "      <th></th>\n",
              "      <th></th>\n",
              "      <th></th>\n",
              "      <th></th>\n",
              "      <th></th>\n",
              "      <th></th>\n",
              "      <th></th>\n",
              "      <th></th>\n",
              "      <th></th>\n",
              "      <th></th>\n",
              "    </tr>\n",
              "  </thead>\n",
              "  <tbody>\n",
              "    <tr>\n",
              "      <th>18</th>\n",
              "      <td>162230</td>\n",
              "      <td>1486.167</td>\n",
              "      <td>543.407255</td>\n",
              "      <td>381.837178</td>\n",
              "      <td>1.423139</td>\n",
              "      <td>163470</td>\n",
              "      <td>454.486140</td>\n",
              "      <td>0.836364</td>\n",
              "      <td>0.003350</td>\n",
              "      <td>0.699504</td>\n",
              "    </tr>\n",
              "    <tr>\n",
              "      <th>21</th>\n",
              "      <td>203688</td>\n",
              "      <td>1738.084</td>\n",
              "      <td>676.058986</td>\n",
              "      <td>389.116090</td>\n",
              "      <td>1.737422</td>\n",
              "      <td>207028</td>\n",
              "      <td>509.257908</td>\n",
              "      <td>0.753274</td>\n",
              "      <td>0.003319</td>\n",
              "      <td>0.567422</td>\n",
              "    </tr>\n",
              "    <tr>\n",
              "      <th>47</th>\n",
              "      <td>152063</td>\n",
              "      <td>1455.551</td>\n",
              "      <td>524.784869</td>\n",
              "      <td>371.247487</td>\n",
              "      <td>1.413572</td>\n",
              "      <td>153860</td>\n",
              "      <td>440.014346</td>\n",
              "      <td>0.838466</td>\n",
              "      <td>0.003451</td>\n",
              "      <td>0.703025</td>\n",
              "    </tr>\n",
              "    <tr>\n",
              "      <th>89</th>\n",
              "      <td>197245</td>\n",
              "      <td>1702.646</td>\n",
              "      <td>642.077245</td>\n",
              "      <td>396.085390</td>\n",
              "      <td>1.621058</td>\n",
              "      <td>200777</td>\n",
              "      <td>501.138837</td>\n",
              "      <td>0.780496</td>\n",
              "      <td>0.003255</td>\n",
              "      <td>0.609174</td>\n",
              "    </tr>\n",
              "    <tr>\n",
              "      <th>135</th>\n",
              "      <td>141385</td>\n",
              "      <td>1429.427</td>\n",
              "      <td>525.900924</td>\n",
              "      <td>344.355118</td>\n",
              "      <td>1.527205</td>\n",
              "      <td>143530</td>\n",
              "      <td>424.284071</td>\n",
              "      <td>0.806776</td>\n",
              "      <td>0.003720</td>\n",
              "      <td>0.650887</td>\n",
              "    </tr>\n",
              "  </tbody>\n",
              "</table>\n",
              "</div>\n",
              "      <button class=\"colab-df-convert\" onclick=\"convertToInteractive('df-381ff99b-786f-4c16-8e17-0b584e205e7b')\"\n",
              "              title=\"Convert this dataframe to an interactive table.\"\n",
              "              style=\"display:none;\">\n",
              "        \n",
              "  <svg xmlns=\"http://www.w3.org/2000/svg\" height=\"24px\"viewBox=\"0 0 24 24\"\n",
              "       width=\"24px\">\n",
              "    <path d=\"M0 0h24v24H0V0z\" fill=\"none\"/>\n",
              "    <path d=\"M18.56 5.44l.94 2.06.94-2.06 2.06-.94-2.06-.94-.94-2.06-.94 2.06-2.06.94zm-11 1L8.5 8.5l.94-2.06 2.06-.94-2.06-.94L8.5 2.5l-.94 2.06-2.06.94zm10 10l.94 2.06.94-2.06 2.06-.94-2.06-.94-.94-2.06-.94 2.06-2.06.94z\"/><path d=\"M17.41 7.96l-1.37-1.37c-.4-.4-.92-.59-1.43-.59-.52 0-1.04.2-1.43.59L10.3 9.45l-7.72 7.72c-.78.78-.78 2.05 0 2.83L4 21.41c.39.39.9.59 1.41.59.51 0 1.02-.2 1.41-.59l7.78-7.78 2.81-2.81c.8-.78.8-2.07 0-2.86zM5.41 20L4 18.59l7.72-7.72 1.47 1.35L5.41 20z\"/>\n",
              "  </svg>\n",
              "      </button>\n",
              "      \n",
              "  <style>\n",
              "    .colab-df-container {\n",
              "      display:flex;\n",
              "      flex-wrap:wrap;\n",
              "      gap: 12px;\n",
              "    }\n",
              "\n",
              "    .colab-df-convert {\n",
              "      background-color: #E8F0FE;\n",
              "      border: none;\n",
              "      border-radius: 50%;\n",
              "      cursor: pointer;\n",
              "      display: none;\n",
              "      fill: #1967D2;\n",
              "      height: 32px;\n",
              "      padding: 0 0 0 0;\n",
              "      width: 32px;\n",
              "    }\n",
              "\n",
              "    .colab-df-convert:hover {\n",
              "      background-color: #E2EBFA;\n",
              "      box-shadow: 0px 1px 2px rgba(60, 64, 67, 0.3), 0px 1px 3px 1px rgba(60, 64, 67, 0.15);\n",
              "      fill: #174EA6;\n",
              "    }\n",
              "\n",
              "    [theme=dark] .colab-df-convert {\n",
              "      background-color: #3B4455;\n",
              "      fill: #D2E3FC;\n",
              "    }\n",
              "\n",
              "    [theme=dark] .colab-df-convert:hover {\n",
              "      background-color: #434B5C;\n",
              "      box-shadow: 0px 1px 3px 1px rgba(0, 0, 0, 0.15);\n",
              "      filter: drop-shadow(0px 1px 2px rgba(0, 0, 0, 0.3));\n",
              "      fill: #FFFFFF;\n",
              "    }\n",
              "  </style>\n",
              "\n",
              "      <script>\n",
              "        const buttonEl =\n",
              "          document.querySelector('#df-381ff99b-786f-4c16-8e17-0b584e205e7b button.colab-df-convert');\n",
              "        buttonEl.style.display =\n",
              "          google.colab.kernel.accessAllowed ? 'block' : 'none';\n",
              "\n",
              "        async function convertToInteractive(key) {\n",
              "          const element = document.querySelector('#df-381ff99b-786f-4c16-8e17-0b584e205e7b');\n",
              "          const dataTable =\n",
              "            await google.colab.kernel.invokeFunction('convertToInteractive',\n",
              "                                                     [key], {});\n",
              "          if (!dataTable) return;\n",
              "\n",
              "          const docLinkHtml = 'Like what you see? Visit the ' +\n",
              "            '<a target=\"_blank\" href=https://colab.research.google.com/notebooks/data_table.ipynb>data table notebook</a>'\n",
              "            + ' to learn more about interactive tables.';\n",
              "          element.innerHTML = '';\n",
              "          dataTable['output_type'] = 'display_data';\n",
              "          await google.colab.output.renderOutput(dataTable, element);\n",
              "          const docLink = document.createElement('div');\n",
              "          docLink.innerHTML = docLinkHtml;\n",
              "          element.appendChild(docLink);\n",
              "        }\n",
              "      </script>\n",
              "    </div>\n",
              "  </div>\n",
              "  "
            ]
          },
          "metadata": {},
          "execution_count": 99
        }
      ]
    },
    {
      "cell_type": "code",
      "source": [
        "X.shape"
      ],
      "metadata": {
        "colab": {
          "base_uri": "https://localhost:8080/"
        },
        "id": "TcJ4zgcyjWYu",
        "outputId": "9d6809f1-820d-4d2e-ff0e-d342adefa694"
      },
      "execution_count": null,
      "outputs": [
        {
          "output_type": "execute_result",
          "data": {
            "text/plain": [
              "(2779, 10)"
            ]
          },
          "metadata": {},
          "execution_count": 100
        }
      ]
    },
    {
      "cell_type": "code",
      "source": [
        "y=data['y'].copy()\n",
        "y.shape"
      ],
      "metadata": {
        "colab": {
          "base_uri": "https://localhost:8080/"
        },
        "id": "fW2Ek6N7jbzm",
        "outputId": "238dba9a-2482-43b0-bf6e-4c0abb03d853"
      },
      "execution_count": null,
      "outputs": [
        {
          "output_type": "execute_result",
          "data": {
            "text/plain": [
              "(2779,)"
            ]
          },
          "metadata": {},
          "execution_count": 101
        }
      ]
    },
    {
      "cell_type": "code",
      "source": [
        "y=y.values\n",
        "y=y.reshape((-1,1))\n",
        "y.shape"
      ],
      "metadata": {
        "colab": {
          "base_uri": "https://localhost:8080/"
        },
        "id": "2rFQ6UDFjkfQ",
        "outputId": "90df6a7d-3fce-47d3-e55f-861d043e0eea"
      },
      "execution_count": null,
      "outputs": [
        {
          "output_type": "execute_result",
          "data": {
            "text/plain": [
              "(2779, 1)"
            ]
          },
          "metadata": {},
          "execution_count": 102
        }
      ]
    },
    {
      "cell_type": "code",
      "source": [
        "################################################################\n",
        "\n",
        "\n",
        "\n",
        "\n",
        "\n",
        "###################################################################"
      ],
      "metadata": {
        "id": "eKfPiL_t_mtg"
      },
      "execution_count": null,
      "outputs": []
    },
    {
      "cell_type": "code",
      "source": [
        ""
      ],
      "metadata": {
        "id": "kbw2Qcw5_miJ"
      },
      "execution_count": null,
      "outputs": []
    },
    {
      "cell_type": "code",
      "source": [
        "from sklearn.model_selection import train_test_split\n",
        "X_train,X_test, y_train, y_test = train_test_split(X, y, test_size=0.2,stratify=y, random_state=0)"
      ],
      "metadata": {
        "id": "9HBty1I4doSd"
      },
      "execution_count": null,
      "outputs": []
    },
    {
      "cell_type": "code",
      "source": [
        "from sklearn.preprocessing import StandardScaler\n",
        "\n",
        "#you can make this bujt before splitting step \n",
        "# scaler = StandardScaler()\n",
        "# scaledX =pd.DataFrame(scaler.fit_transform(X),index=df.index)\n",
        "# # X=pd.DataFrame(X)\n",
        "# scaledX.head()\n",
        "# X_scaled= StandardScaler().fit_transform(X.values)\n",
        "# X = pd.DataFrame(X_scaled, index=X.index, columns=X.columns)\n",
        "# X.head()  \n",
        "   \n",
        "sScalar=StandardScaler()    \n",
        "X_train= sScalar.fit_transform(X_train) #scale train    \n",
        "X_test= sScalar.transform(X_test) #apply the same for validation  \n"
      ],
      "metadata": {
        "id": "MvGjYQ5D0i3K"
      },
      "execution_count": null,
      "outputs": []
    },
    {
      "cell_type": "code",
      "source": [
        "from sklearn.neighbors import KNeighborsClassifier\n",
        "from sklearn.tree import DecisionTreeClassifier\n",
        "from sklearn.pipeline import Pipeline\n",
        "from sklearn.preprocessing import RobustScaler,StandardScaler\n",
        "from sklearn.model_selection import GridSearchCV\n",
        "from sklearn.pipeline import make_pipeline\n",
        "from sklearn.ensemble import RandomForestClassifier\n",
        "from sklearn.neural_network import MLPClassifier\n",
        "from sklearn.model_selection import cross_val_score\n",
        "import xgboost as xgb\n",
        "from xgboost import XGBClassifier\n",
        "from sklearn.metrics import accuracy_score\n",
        "from sklearn.ensemble import BaggingClassifier\n",
        "from sklearn.linear_model import LogisticRegression"
      ],
      "metadata": {
        "id": "nabrV1MVTxnB"
      },
      "execution_count": null,
      "outputs": []
    },
    {
      "cell_type": "code",
      "source": [
        "regressor=LogisticRegression(random_state=0)\n",
        "regressor.fit(X_train,y_train)\n",
        "\n",
        "print(regressor.score(X_train,y_train))\n",
        "print(regressor.score(X_test,y_test))"
      ],
      "metadata": {
        "colab": {
          "base_uri": "https://localhost:8080/"
        },
        "id": "ZMC1a5kot6WG",
        "outputId": "7f33535d-d526-49c6-9871-c987d0a1774e"
      },
      "execution_count": null,
      "outputs": [
        {
          "output_type": "stream",
          "name": "stderr",
          "text": [
            "/usr/local/lib/python3.7/dist-packages/sklearn/utils/validation.py:993: DataConversionWarning: A column-vector y was passed when a 1d array was expected. Please change the shape of y to (n_samples, ), for example using ravel().\n",
            "  y = column_or_1d(y, warn=True)\n"
          ]
        },
        {
          "output_type": "stream",
          "name": "stdout",
          "text": [
            "0.9275753486279802\n",
            "0.9172661870503597\n"
          ]
        }
      ]
    },
    {
      "cell_type": "code",
      "source": [
        "clf = MLPClassifier(solver='lbfgs', alpha=1e-2,activation='relu',early_stopping=True, hidden_layer_sizes=(8,6), random_state=0)\n",
        "\n",
        "MLP_model=clf.fit(X_train,y_train)\n",
        "\n",
        "print(MLP_model.score(X_train, y_train))\n",
        "print(MLP_model.score(X_test,y_test))"
      ],
      "metadata": {
        "colab": {
          "base_uri": "https://localhost:8080/"
        },
        "id": "czhzo7ZscYcH",
        "outputId": "b2bb828b-93ec-47a2-8089-7ab541fec3fb"
      },
      "execution_count": null,
      "outputs": [
        {
          "output_type": "stream",
          "name": "stderr",
          "text": [
            "/usr/local/lib/python3.7/dist-packages/sklearn/neural_network/_multilayer_perceptron.py:1109: DataConversionWarning: A column-vector y was passed when a 1d array was expected. Please change the shape of y to (n_samples, ), for example using ravel().\n",
            "  y = column_or_1d(y, warn=True)\n"
          ]
        },
        {
          "output_type": "stream",
          "name": "stdout",
          "text": [
            "0.9505173189383715\n",
            "0.9280575539568345\n"
          ]
        },
        {
          "output_type": "stream",
          "name": "stderr",
          "text": [
            "/usr/local/lib/python3.7/dist-packages/sklearn/neural_network/_multilayer_perceptron.py:549: ConvergenceWarning: lbfgs failed to converge (status=1):\n",
            "STOP: TOTAL NO. of ITERATIONS REACHED LIMIT.\n",
            "\n",
            "Increase the number of iterations (max_iter) or scale the data as shown in:\n",
            "    https://scikit-learn.org/stable/modules/preprocessing.html\n",
            "  self.n_iter_ = _check_optimize_result(\"lbfgs\", opt_res, self.max_iter)\n"
          ]
        }
      ]
    },
    {
      "cell_type": "code",
      "source": [
        "df_test=pd.read_csv('/content/Dry-Beans-Classification/test.csv',index_col='ID')\n",
        "df_test.head()\n"
      ],
      "metadata": {
        "colab": {
          "base_uri": "https://localhost:8080/",
          "height": 301
        },
        "id": "SiclZWPCxqpm",
        "outputId": "24458df4-43d0-4580-9c88-3a5a22101bc9"
      },
      "execution_count": null,
      "outputs": [
        {
          "output_type": "execute_result",
          "data": {
            "text/plain": [
              "         Area  Perimeter  MajorAxisLength  MinorAxisLength  AspectRation  \\\n",
              "ID                                                                         \n",
              "10834   57659    955.434       387.757607       196.625782      1.972059   \n",
              "10835   28772    630.362       229.990785       159.609367      1.440960   \n",
              "10836   54677    911.022       308.853903       226.398571      1.364204   \n",
              "10837   24827    578.304       214.192699       147.788172      1.449322   \n",
              "10838  141850   1432.847       524.923471       346.910920      1.513136   \n",
              "\n",
              "       Eccentricity  ConvexArea  EquivDiameter    Extent  Solidity  roundness  \\\n",
              "ID                                                                              \n",
              "10834      0.861896       60188     270.949661  0.620790  0.957982   0.793735   \n",
              "10835      0.719993       29127     191.399185  0.767458  0.987812   0.909913   \n",
              "10836      0.680198       55858     263.850182  0.753013  0.978857   0.827860   \n",
              "10837      0.723831       25121     177.794033  0.716508  0.988297   0.932871   \n",
              "10838      0.750492      143680     424.981211  0.804617  0.987263   0.868240   \n",
              "\n",
              "       Compactness  ShapeFactor1  ShapeFactor2  ShapeFactor3  ShapeFactor4  \n",
              "ID                                                                          \n",
              "10834     0.698760      0.006725      0.000989      0.488266      0.962889  \n",
              "10835     0.832204      0.007994      0.002365      0.692563      0.997956  \n",
              "10836     0.854288      0.005649      0.001856      0.729808      0.995607  \n",
              "10837     0.830066      0.008627      0.002526      0.689009      0.998596  \n",
              "10838     0.809606      0.003701      0.000981      0.655462      0.991803  "
            ],
            "text/html": [
              "\n",
              "  <div id=\"df-8f60baa0-a9a2-4b9d-89be-4bc83acd63c4\">\n",
              "    <div class=\"colab-df-container\">\n",
              "      <div>\n",
              "<style scoped>\n",
              "    .dataframe tbody tr th:only-of-type {\n",
              "        vertical-align: middle;\n",
              "    }\n",
              "\n",
              "    .dataframe tbody tr th {\n",
              "        vertical-align: top;\n",
              "    }\n",
              "\n",
              "    .dataframe thead th {\n",
              "        text-align: right;\n",
              "    }\n",
              "</style>\n",
              "<table border=\"1\" class=\"dataframe\">\n",
              "  <thead>\n",
              "    <tr style=\"text-align: right;\">\n",
              "      <th></th>\n",
              "      <th>Area</th>\n",
              "      <th>Perimeter</th>\n",
              "      <th>MajorAxisLength</th>\n",
              "      <th>MinorAxisLength</th>\n",
              "      <th>AspectRation</th>\n",
              "      <th>Eccentricity</th>\n",
              "      <th>ConvexArea</th>\n",
              "      <th>EquivDiameter</th>\n",
              "      <th>Extent</th>\n",
              "      <th>Solidity</th>\n",
              "      <th>roundness</th>\n",
              "      <th>Compactness</th>\n",
              "      <th>ShapeFactor1</th>\n",
              "      <th>ShapeFactor2</th>\n",
              "      <th>ShapeFactor3</th>\n",
              "      <th>ShapeFactor4</th>\n",
              "    </tr>\n",
              "    <tr>\n",
              "      <th>ID</th>\n",
              "      <th></th>\n",
              "      <th></th>\n",
              "      <th></th>\n",
              "      <th></th>\n",
              "      <th></th>\n",
              "      <th></th>\n",
              "      <th></th>\n",
              "      <th></th>\n",
              "      <th></th>\n",
              "      <th></th>\n",
              "      <th></th>\n",
              "      <th></th>\n",
              "      <th></th>\n",
              "      <th></th>\n",
              "      <th></th>\n",
              "      <th></th>\n",
              "    </tr>\n",
              "  </thead>\n",
              "  <tbody>\n",
              "    <tr>\n",
              "      <th>10834</th>\n",
              "      <td>57659</td>\n",
              "      <td>955.434</td>\n",
              "      <td>387.757607</td>\n",
              "      <td>196.625782</td>\n",
              "      <td>1.972059</td>\n",
              "      <td>0.861896</td>\n",
              "      <td>60188</td>\n",
              "      <td>270.949661</td>\n",
              "      <td>0.620790</td>\n",
              "      <td>0.957982</td>\n",
              "      <td>0.793735</td>\n",
              "      <td>0.698760</td>\n",
              "      <td>0.006725</td>\n",
              "      <td>0.000989</td>\n",
              "      <td>0.488266</td>\n",
              "      <td>0.962889</td>\n",
              "    </tr>\n",
              "    <tr>\n",
              "      <th>10835</th>\n",
              "      <td>28772</td>\n",
              "      <td>630.362</td>\n",
              "      <td>229.990785</td>\n",
              "      <td>159.609367</td>\n",
              "      <td>1.440960</td>\n",
              "      <td>0.719993</td>\n",
              "      <td>29127</td>\n",
              "      <td>191.399185</td>\n",
              "      <td>0.767458</td>\n",
              "      <td>0.987812</td>\n",
              "      <td>0.909913</td>\n",
              "      <td>0.832204</td>\n",
              "      <td>0.007994</td>\n",
              "      <td>0.002365</td>\n",
              "      <td>0.692563</td>\n",
              "      <td>0.997956</td>\n",
              "    </tr>\n",
              "    <tr>\n",
              "      <th>10836</th>\n",
              "      <td>54677</td>\n",
              "      <td>911.022</td>\n",
              "      <td>308.853903</td>\n",
              "      <td>226.398571</td>\n",
              "      <td>1.364204</td>\n",
              "      <td>0.680198</td>\n",
              "      <td>55858</td>\n",
              "      <td>263.850182</td>\n",
              "      <td>0.753013</td>\n",
              "      <td>0.978857</td>\n",
              "      <td>0.827860</td>\n",
              "      <td>0.854288</td>\n",
              "      <td>0.005649</td>\n",
              "      <td>0.001856</td>\n",
              "      <td>0.729808</td>\n",
              "      <td>0.995607</td>\n",
              "    </tr>\n",
              "    <tr>\n",
              "      <th>10837</th>\n",
              "      <td>24827</td>\n",
              "      <td>578.304</td>\n",
              "      <td>214.192699</td>\n",
              "      <td>147.788172</td>\n",
              "      <td>1.449322</td>\n",
              "      <td>0.723831</td>\n",
              "      <td>25121</td>\n",
              "      <td>177.794033</td>\n",
              "      <td>0.716508</td>\n",
              "      <td>0.988297</td>\n",
              "      <td>0.932871</td>\n",
              "      <td>0.830066</td>\n",
              "      <td>0.008627</td>\n",
              "      <td>0.002526</td>\n",
              "      <td>0.689009</td>\n",
              "      <td>0.998596</td>\n",
              "    </tr>\n",
              "    <tr>\n",
              "      <th>10838</th>\n",
              "      <td>141850</td>\n",
              "      <td>1432.847</td>\n",
              "      <td>524.923471</td>\n",
              "      <td>346.910920</td>\n",
              "      <td>1.513136</td>\n",
              "      <td>0.750492</td>\n",
              "      <td>143680</td>\n",
              "      <td>424.981211</td>\n",
              "      <td>0.804617</td>\n",
              "      <td>0.987263</td>\n",
              "      <td>0.868240</td>\n",
              "      <td>0.809606</td>\n",
              "      <td>0.003701</td>\n",
              "      <td>0.000981</td>\n",
              "      <td>0.655462</td>\n",
              "      <td>0.991803</td>\n",
              "    </tr>\n",
              "  </tbody>\n",
              "</table>\n",
              "</div>\n",
              "      <button class=\"colab-df-convert\" onclick=\"convertToInteractive('df-8f60baa0-a9a2-4b9d-89be-4bc83acd63c4')\"\n",
              "              title=\"Convert this dataframe to an interactive table.\"\n",
              "              style=\"display:none;\">\n",
              "        \n",
              "  <svg xmlns=\"http://www.w3.org/2000/svg\" height=\"24px\"viewBox=\"0 0 24 24\"\n",
              "       width=\"24px\">\n",
              "    <path d=\"M0 0h24v24H0V0z\" fill=\"none\"/>\n",
              "    <path d=\"M18.56 5.44l.94 2.06.94-2.06 2.06-.94-2.06-.94-.94-2.06-.94 2.06-2.06.94zm-11 1L8.5 8.5l.94-2.06 2.06-.94-2.06-.94L8.5 2.5l-.94 2.06-2.06.94zm10 10l.94 2.06.94-2.06 2.06-.94-2.06-.94-.94-2.06-.94 2.06-2.06.94z\"/><path d=\"M17.41 7.96l-1.37-1.37c-.4-.4-.92-.59-1.43-.59-.52 0-1.04.2-1.43.59L10.3 9.45l-7.72 7.72c-.78.78-.78 2.05 0 2.83L4 21.41c.39.39.9.59 1.41.59.51 0 1.02-.2 1.41-.59l7.78-7.78 2.81-2.81c.8-.78.8-2.07 0-2.86zM5.41 20L4 18.59l7.72-7.72 1.47 1.35L5.41 20z\"/>\n",
              "  </svg>\n",
              "      </button>\n",
              "      \n",
              "  <style>\n",
              "    .colab-df-container {\n",
              "      display:flex;\n",
              "      flex-wrap:wrap;\n",
              "      gap: 12px;\n",
              "    }\n",
              "\n",
              "    .colab-df-convert {\n",
              "      background-color: #E8F0FE;\n",
              "      border: none;\n",
              "      border-radius: 50%;\n",
              "      cursor: pointer;\n",
              "      display: none;\n",
              "      fill: #1967D2;\n",
              "      height: 32px;\n",
              "      padding: 0 0 0 0;\n",
              "      width: 32px;\n",
              "    }\n",
              "\n",
              "    .colab-df-convert:hover {\n",
              "      background-color: #E2EBFA;\n",
              "      box-shadow: 0px 1px 2px rgba(60, 64, 67, 0.3), 0px 1px 3px 1px rgba(60, 64, 67, 0.15);\n",
              "      fill: #174EA6;\n",
              "    }\n",
              "\n",
              "    [theme=dark] .colab-df-convert {\n",
              "      background-color: #3B4455;\n",
              "      fill: #D2E3FC;\n",
              "    }\n",
              "\n",
              "    [theme=dark] .colab-df-convert:hover {\n",
              "      background-color: #434B5C;\n",
              "      box-shadow: 0px 1px 3px 1px rgba(0, 0, 0, 0.15);\n",
              "      filter: drop-shadow(0px 1px 2px rgba(0, 0, 0, 0.3));\n",
              "      fill: #FFFFFF;\n",
              "    }\n",
              "  </style>\n",
              "\n",
              "      <script>\n",
              "        const buttonEl =\n",
              "          document.querySelector('#df-8f60baa0-a9a2-4b9d-89be-4bc83acd63c4 button.colab-df-convert');\n",
              "        buttonEl.style.display =\n",
              "          google.colab.kernel.accessAllowed ? 'block' : 'none';\n",
              "\n",
              "        async function convertToInteractive(key) {\n",
              "          const element = document.querySelector('#df-8f60baa0-a9a2-4b9d-89be-4bc83acd63c4');\n",
              "          const dataTable =\n",
              "            await google.colab.kernel.invokeFunction('convertToInteractive',\n",
              "                                                     [key], {});\n",
              "          if (!dataTable) return;\n",
              "\n",
              "          const docLinkHtml = 'Like what you see? Visit the ' +\n",
              "            '<a target=\"_blank\" href=https://colab.research.google.com/notebooks/data_table.ipynb>data table notebook</a>'\n",
              "            + ' to learn more about interactive tables.';\n",
              "          element.innerHTML = '';\n",
              "          dataTable['output_type'] = 'display_data';\n",
              "          await google.colab.output.renderOutput(dataTable, element);\n",
              "          const docLink = document.createElement('div');\n",
              "          docLink.innerHTML = docLinkHtml;\n",
              "          element.appendChild(docLink);\n",
              "        }\n",
              "      </script>\n",
              "    </div>\n",
              "  </div>\n",
              "  "
            ]
          },
          "metadata": {},
          "execution_count": 434
        }
      ]
    },
    {
      "cell_type": "code",
      "source": [
        "df_test.columns"
      ],
      "metadata": {
        "colab": {
          "base_uri": "https://localhost:8080/"
        },
        "id": "jh-ICxA4z_g4",
        "outputId": "e68d6fe0-eddb-49b4-8f85-35b8d1df5b57"
      },
      "execution_count": null,
      "outputs": [
        {
          "output_type": "execute_result",
          "data": {
            "text/plain": [
              "Index(['Area', 'Perimeter', 'MajorAxisLength', 'MinorAxisLength',\n",
              "       'AspectRation', 'Eccentricity', 'ConvexArea', 'EquivDiameter', 'Extent',\n",
              "       'Solidity', 'roundness', 'Compactness', 'ShapeFactor1', 'ShapeFactor2',\n",
              "       'ShapeFactor3', 'ShapeFactor4'],\n",
              "      dtype='object')"
            ]
          },
          "metadata": {},
          "execution_count": 435
        }
      ]
    },
    {
      "cell_type": "code",
      "source": [
        "df_test.drop(['ShapeFactor4','Extent','Solidity','roundness','ShapeFactor2','Eccentricity'], axis=1, inplace=True)"
      ],
      "metadata": {
        "id": "0ERe_hbX0OsV"
      },
      "execution_count": null,
      "outputs": []
    },
    {
      "cell_type": "code",
      "source": [
        "df_test.shape"
      ],
      "metadata": {
        "colab": {
          "base_uri": "https://localhost:8080/"
        },
        "id": "g6rZcYXt3JRi",
        "outputId": "5deac2e6-c754-48c5-af55-2b9cc93e32f2"
      },
      "execution_count": null,
      "outputs": [
        {
          "output_type": "execute_result",
          "data": {
            "text/plain": [
              "(2709, 10)"
            ]
          },
          "metadata": {},
          "execution_count": 437
        }
      ]
    },
    {
      "cell_type": "code",
      "source": [
        "df_test = pd.DataFrame(sScalar.transform(df_test.values), columns=df_test.columns,index=df_test.index)\n",
        "df_test.head()"
      ],
      "metadata": {
        "colab": {
          "base_uri": "https://localhost:8080/",
          "height": 338
        },
        "id": "gZyjqR004kn3",
        "outputId": "4260c717-bcc3-4fff-a949-080f03630ec8"
      },
      "execution_count": null,
      "outputs": [
        {
          "output_type": "stream",
          "name": "stderr",
          "text": [
            "/usr/local/lib/python3.7/dist-packages/sklearn/base.py:451: UserWarning: X does not have valid feature names, but StandardScaler was fitted with feature names\n",
            "  \"X does not have valid feature names, but\"\n"
          ]
        },
        {
          "output_type": "execute_result",
          "data": {
            "text/plain": [
              "           Area  Perimeter  MajorAxisLength  MinorAxisLength  AspectRation  \\\n",
              "ID                                                                           \n",
              "10834 -0.261275  -0.045967         0.216612        -0.457765      1.522394   \n",
              "10835 -0.892010  -1.144604        -1.156489        -1.016065     -0.657458   \n",
              "10836 -0.326385  -0.196065        -0.470115        -0.008718     -0.972498   \n",
              "10837 -0.978147  -1.320543        -1.293985        -1.194358     -0.623138   \n",
              "10838  1.576998   1.567532         1.410415         1.808909     -0.361219   \n",
              "\n",
              "       ConvexArea  EquivDiameter  Compactness  ShapeFactor1  ShapeFactor3  \n",
              "ID                                                                         \n",
              "10834   -0.223902      -0.170180    -1.583656      0.515333     -1.515333  \n",
              "10835   -0.892599      -1.107606     0.614429      1.447147      0.586502  \n",
              "10836   -0.317121      -0.253840     0.978202     -0.275276      0.969683  \n",
              "10837   -0.978842      -1.267929     0.579213      1.912741      0.549940  \n",
              "10838    1.573555       1.644934     0.242198     -1.706290      0.204801  "
            ],
            "text/html": [
              "\n",
              "  <div id=\"df-86ecceb7-292a-4ed3-8d36-c6d13683aaa1\">\n",
              "    <div class=\"colab-df-container\">\n",
              "      <div>\n",
              "<style scoped>\n",
              "    .dataframe tbody tr th:only-of-type {\n",
              "        vertical-align: middle;\n",
              "    }\n",
              "\n",
              "    .dataframe tbody tr th {\n",
              "        vertical-align: top;\n",
              "    }\n",
              "\n",
              "    .dataframe thead th {\n",
              "        text-align: right;\n",
              "    }\n",
              "</style>\n",
              "<table border=\"1\" class=\"dataframe\">\n",
              "  <thead>\n",
              "    <tr style=\"text-align: right;\">\n",
              "      <th></th>\n",
              "      <th>Area</th>\n",
              "      <th>Perimeter</th>\n",
              "      <th>MajorAxisLength</th>\n",
              "      <th>MinorAxisLength</th>\n",
              "      <th>AspectRation</th>\n",
              "      <th>ConvexArea</th>\n",
              "      <th>EquivDiameter</th>\n",
              "      <th>Compactness</th>\n",
              "      <th>ShapeFactor1</th>\n",
              "      <th>ShapeFactor3</th>\n",
              "    </tr>\n",
              "    <tr>\n",
              "      <th>ID</th>\n",
              "      <th></th>\n",
              "      <th></th>\n",
              "      <th></th>\n",
              "      <th></th>\n",
              "      <th></th>\n",
              "      <th></th>\n",
              "      <th></th>\n",
              "      <th></th>\n",
              "      <th></th>\n",
              "      <th></th>\n",
              "    </tr>\n",
              "  </thead>\n",
              "  <tbody>\n",
              "    <tr>\n",
              "      <th>10834</th>\n",
              "      <td>-0.261275</td>\n",
              "      <td>-0.045967</td>\n",
              "      <td>0.216612</td>\n",
              "      <td>-0.457765</td>\n",
              "      <td>1.522394</td>\n",
              "      <td>-0.223902</td>\n",
              "      <td>-0.170180</td>\n",
              "      <td>-1.583656</td>\n",
              "      <td>0.515333</td>\n",
              "      <td>-1.515333</td>\n",
              "    </tr>\n",
              "    <tr>\n",
              "      <th>10835</th>\n",
              "      <td>-0.892010</td>\n",
              "      <td>-1.144604</td>\n",
              "      <td>-1.156489</td>\n",
              "      <td>-1.016065</td>\n",
              "      <td>-0.657458</td>\n",
              "      <td>-0.892599</td>\n",
              "      <td>-1.107606</td>\n",
              "      <td>0.614429</td>\n",
              "      <td>1.447147</td>\n",
              "      <td>0.586502</td>\n",
              "    </tr>\n",
              "    <tr>\n",
              "      <th>10836</th>\n",
              "      <td>-0.326385</td>\n",
              "      <td>-0.196065</td>\n",
              "      <td>-0.470115</td>\n",
              "      <td>-0.008718</td>\n",
              "      <td>-0.972498</td>\n",
              "      <td>-0.317121</td>\n",
              "      <td>-0.253840</td>\n",
              "      <td>0.978202</td>\n",
              "      <td>-0.275276</td>\n",
              "      <td>0.969683</td>\n",
              "    </tr>\n",
              "    <tr>\n",
              "      <th>10837</th>\n",
              "      <td>-0.978147</td>\n",
              "      <td>-1.320543</td>\n",
              "      <td>-1.293985</td>\n",
              "      <td>-1.194358</td>\n",
              "      <td>-0.623138</td>\n",
              "      <td>-0.978842</td>\n",
              "      <td>-1.267929</td>\n",
              "      <td>0.579213</td>\n",
              "      <td>1.912741</td>\n",
              "      <td>0.549940</td>\n",
              "    </tr>\n",
              "    <tr>\n",
              "      <th>10838</th>\n",
              "      <td>1.576998</td>\n",
              "      <td>1.567532</td>\n",
              "      <td>1.410415</td>\n",
              "      <td>1.808909</td>\n",
              "      <td>-0.361219</td>\n",
              "      <td>1.573555</td>\n",
              "      <td>1.644934</td>\n",
              "      <td>0.242198</td>\n",
              "      <td>-1.706290</td>\n",
              "      <td>0.204801</td>\n",
              "    </tr>\n",
              "  </tbody>\n",
              "</table>\n",
              "</div>\n",
              "      <button class=\"colab-df-convert\" onclick=\"convertToInteractive('df-86ecceb7-292a-4ed3-8d36-c6d13683aaa1')\"\n",
              "              title=\"Convert this dataframe to an interactive table.\"\n",
              "              style=\"display:none;\">\n",
              "        \n",
              "  <svg xmlns=\"http://www.w3.org/2000/svg\" height=\"24px\"viewBox=\"0 0 24 24\"\n",
              "       width=\"24px\">\n",
              "    <path d=\"M0 0h24v24H0V0z\" fill=\"none\"/>\n",
              "    <path d=\"M18.56 5.44l.94 2.06.94-2.06 2.06-.94-2.06-.94-.94-2.06-.94 2.06-2.06.94zm-11 1L8.5 8.5l.94-2.06 2.06-.94-2.06-.94L8.5 2.5l-.94 2.06-2.06.94zm10 10l.94 2.06.94-2.06 2.06-.94-2.06-.94-.94-2.06-.94 2.06-2.06.94z\"/><path d=\"M17.41 7.96l-1.37-1.37c-.4-.4-.92-.59-1.43-.59-.52 0-1.04.2-1.43.59L10.3 9.45l-7.72 7.72c-.78.78-.78 2.05 0 2.83L4 21.41c.39.39.9.59 1.41.59.51 0 1.02-.2 1.41-.59l7.78-7.78 2.81-2.81c.8-.78.8-2.07 0-2.86zM5.41 20L4 18.59l7.72-7.72 1.47 1.35L5.41 20z\"/>\n",
              "  </svg>\n",
              "      </button>\n",
              "      \n",
              "  <style>\n",
              "    .colab-df-container {\n",
              "      display:flex;\n",
              "      flex-wrap:wrap;\n",
              "      gap: 12px;\n",
              "    }\n",
              "\n",
              "    .colab-df-convert {\n",
              "      background-color: #E8F0FE;\n",
              "      border: none;\n",
              "      border-radius: 50%;\n",
              "      cursor: pointer;\n",
              "      display: none;\n",
              "      fill: #1967D2;\n",
              "      height: 32px;\n",
              "      padding: 0 0 0 0;\n",
              "      width: 32px;\n",
              "    }\n",
              "\n",
              "    .colab-df-convert:hover {\n",
              "      background-color: #E2EBFA;\n",
              "      box-shadow: 0px 1px 2px rgba(60, 64, 67, 0.3), 0px 1px 3px 1px rgba(60, 64, 67, 0.15);\n",
              "      fill: #174EA6;\n",
              "    }\n",
              "\n",
              "    [theme=dark] .colab-df-convert {\n",
              "      background-color: #3B4455;\n",
              "      fill: #D2E3FC;\n",
              "    }\n",
              "\n",
              "    [theme=dark] .colab-df-convert:hover {\n",
              "      background-color: #434B5C;\n",
              "      box-shadow: 0px 1px 3px 1px rgba(0, 0, 0, 0.15);\n",
              "      filter: drop-shadow(0px 1px 2px rgba(0, 0, 0, 0.3));\n",
              "      fill: #FFFFFF;\n",
              "    }\n",
              "  </style>\n",
              "\n",
              "      <script>\n",
              "        const buttonEl =\n",
              "          document.querySelector('#df-86ecceb7-292a-4ed3-8d36-c6d13683aaa1 button.colab-df-convert');\n",
              "        buttonEl.style.display =\n",
              "          google.colab.kernel.accessAllowed ? 'block' : 'none';\n",
              "\n",
              "        async function convertToInteractive(key) {\n",
              "          const element = document.querySelector('#df-86ecceb7-292a-4ed3-8d36-c6d13683aaa1');\n",
              "          const dataTable =\n",
              "            await google.colab.kernel.invokeFunction('convertToInteractive',\n",
              "                                                     [key], {});\n",
              "          if (!dataTable) return;\n",
              "\n",
              "          const docLinkHtml = 'Like what you see? Visit the ' +\n",
              "            '<a target=\"_blank\" href=https://colab.research.google.com/notebooks/data_table.ipynb>data table notebook</a>'\n",
              "            + ' to learn more about interactive tables.';\n",
              "          element.innerHTML = '';\n",
              "          dataTable['output_type'] = 'display_data';\n",
              "          await google.colab.output.renderOutput(dataTable, element);\n",
              "          const docLink = document.createElement('div');\n",
              "          docLink.innerHTML = docLinkHtml;\n",
              "          element.appendChild(docLink);\n",
              "        }\n",
              "      </script>\n",
              "    </div>\n",
              "  </div>\n",
              "  "
            ]
          },
          "metadata": {},
          "execution_count": 438
        }
      ]
    },
    {
      "cell_type": "code",
      "source": [
        ""
      ],
      "metadata": {
        "id": "SeMeGXnRAk9_"
      },
      "execution_count": null,
      "outputs": []
    },
    {
      "cell_type": "code",
      "source": [
        ""
      ],
      "metadata": {
        "id": "WefZ5DeZArus"
      },
      "execution_count": null,
      "outputs": []
    },
    {
      "cell_type": "code",
      "source": [
        "y_pred_mlp=regressor.predict(df_test)"
      ],
      "metadata": {
        "colab": {
          "base_uri": "https://localhost:8080/"
        },
        "id": "YuAghoUI4srF",
        "outputId": "e3c4bdad-0e3a-4d68-c871-5ad44f65a3b0"
      },
      "execution_count": null,
      "outputs": [
        {
          "output_type": "stream",
          "name": "stderr",
          "text": [
            "/usr/local/lib/python3.7/dist-packages/sklearn/base.py:444: UserWarning: X has feature names, but LogisticRegression was fitted without feature names\n",
            "  f\"X has feature names, but {self.__class__.__name__} was fitted without\"\n"
          ]
        }
      ]
    },
    {
      "cell_type": "code",
      "source": [
        "y_pred_mlp"
      ],
      "metadata": {
        "colab": {
          "base_uri": "https://localhost:8080/"
        },
        "id": "AP9V0zDj4z9z",
        "outputId": "bc962584-3ffb-4b42-b772-9f97606fffe0"
      },
      "execution_count": null,
      "outputs": [
        {
          "output_type": "execute_result",
          "data": {
            "text/plain": [
              "array([4, 1, 6, ..., 4, 1, 2])"
            ]
          },
          "metadata": {},
          "execution_count": 440
        }
      ]
    },
    {
      "cell_type": "code",
      "source": [
        "#'y_pred_xgb=np.where([0,1,2,3,4,5,6],['BOMBAY','DERMASON','SIRA','SEKER', 'HOROZ', 'CALI','BARBUNYA'])\n",
        "lst_xgb=[]\n",
        "for el in y_pred_mlp:\n",
        "  \n",
        "  if(el==0):\n",
        "    lst_xgb.append('BOMBAY')\n",
        "  elif el==1:\n",
        "      lst_xgb.append('DERMASON')\n",
        "  elif el==2:\n",
        "      lst_xgb.append('SIRA')\n",
        "\n",
        "  elif el==3:\n",
        "      lst_xgb.append('SEKER')\n",
        "\n",
        "  elif el==4:\n",
        "      lst_xgb.append('HOROZ')\n",
        "\n",
        "  elif el==5:\n",
        "      lst_xgb.append('CALI')\n",
        "\n",
        "  else:\n",
        "      lst_xgb.append('BARBUNYA')    \n",
        "\n"
      ],
      "metadata": {
        "id": "NqqKT1JE6nHv"
      },
      "execution_count": null,
      "outputs": []
    },
    {
      "cell_type": "code",
      "source": [
        "last_test=pd.read_csv('/content/data_test.csv',index_col='ID')\n",
        "y_label=last_test['y']\n",
        "y_label=y_label.tolist()\n",
        "type(y_label)"
      ],
      "metadata": {
        "colab": {
          "base_uri": "https://localhost:8080/"
        },
        "id": "HhoITgEc7ylK",
        "outputId": "00969591-e4b0-4751-fce0-045ee3e7b3b0"
      },
      "execution_count": null,
      "outputs": [
        {
          "output_type": "execute_result",
          "data": {
            "text/plain": [
              "list"
            ]
          },
          "metadata": {},
          "execution_count": 442
        }
      ]
    },
    {
      "cell_type": "code",
      "source": [
        "from sklearn.metrics import confusion_matrix\n",
        "print(print(confusion_matrix(y_label, lst_xgb)))"
      ],
      "metadata": {
        "colab": {
          "base_uri": "https://localhost:8080/"
        },
        "id": "DkRiUciO6rsZ",
        "outputId": "d3f5121d-8ad9-489f-8a57-ad1eafb20bce"
      },
      "execution_count": null,
      "outputs": [
        {
          "output_type": "stream",
          "name": "stdout",
          "text": [
            "[[234   0  23   0   0   1   5]\n",
            " [  0 104   0   0   0   0   0]\n",
            " [ 23   0 297   0   4   0   0]\n",
            " [  0   0   0 643   0  12  53]\n",
            " [  2   0   3   0 354   0   4]\n",
            " [  2   0   0   1   0 390  12]\n",
            " [  1   0   3  38  15   9 476]]\n",
            "None\n"
          ]
        }
      ]
    },
    {
      "cell_type": "code",
      "source": [
        "acc=0\n",
        "for i in range(len(lst_xgb)):\n",
        "  if(lst_xgb[i]==y_label[i]):\n",
        "    acc+=1\n",
        "\n",
        "print(acc/len(y_label))   "
      ],
      "metadata": {
        "colab": {
          "base_uri": "https://localhost:8080/"
        },
        "id": "0voUzeap7Qe9",
        "outputId": "84e15dfc-c434-479f-9652-6d6220b5966b"
      },
      "execution_count": null,
      "outputs": [
        {
          "output_type": "stream",
          "name": "stdout",
          "text": [
            "0.9221114802510151\n"
          ]
        }
      ]
    },
    {
      "cell_type": "code",
      "source": [
        "out_pred = pd.DataFrame({'ID': df_test.index,\n",
        "                       'y': lst_xgb})\n",
        "out_pred.to_csv('submission_v3_lgrg.csv', index=False)"
      ],
      "metadata": {
        "id": "zxevi1mU8nOT"
      },
      "execution_count": null,
      "outputs": []
    },
    {
      "cell_type": "code",
      "source": [
        ""
      ],
      "metadata": {
        "id": "UCg9-VMu-J4L"
      },
      "execution_count": null,
      "outputs": []
    }
  ]
}