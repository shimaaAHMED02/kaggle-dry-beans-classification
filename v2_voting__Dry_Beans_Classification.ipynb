{
  "nbformat": 4,
  "nbformat_minor": 0,
  "metadata": {
    "colab": {
      "name": "v2_voting_ Dry-Beans-Classification.ipynb",
      "provenance": [],
      "collapsed_sections": []
    },
    "kernelspec": {
      "name": "python3",
      "display_name": "Python 3"
    },
    "language_info": {
      "name": "python"
    },
    "accelerator": "GPU"
  },
  "cells": [
    {
      "cell_type": "code",
      "execution_count": null,
      "metadata": {
        "id": "nZP9PYMqdxms",
        "colab": {
          "base_uri": "https://localhost:8080/"
        },
        "outputId": "314a5bf1-9c2b-41c7-c639-9360dd6079b1"
      },
      "outputs": [
        {
          "output_type": "stream",
          "name": "stdout",
          "text": [
            "fatal: destination path 'Dry-Beans-Classification' already exists and is not an empty directory.\n"
          ]
        }
      ],
      "source": [
        "!git clone https://git@github.com/NadaAdelMousa/Dry-Beans-Classification.git"
      ]
    },
    {
      "cell_type": "code",
      "source": [
        "import numpy as np \n",
        "import pandas as pd\n",
        "import matplotlib.pyplot as plt\n",
        "import seaborn as sns"
      ],
      "metadata": {
        "id": "kFvgCX-YfPul"
      },
      "execution_count": null,
      "outputs": []
    },
    {
      "cell_type": "code",
      "source": [
        "#pd.set_option('display.max_rows', None)"
      ],
      "metadata": {
        "id": "ZqAkgy-5htOp"
      },
      "execution_count": null,
      "outputs": []
    },
    {
      "cell_type": "code",
      "source": [
        "df=pd.read_csv('/content/Dry-Beans-Classification/train.csv',index_col='ID')\n",
        "df.head()\n"
      ],
      "metadata": {
        "colab": {
          "base_uri": "https://localhost:8080/",
          "height": 301
        },
        "id": "1ej_2N9ehyhH",
        "outputId": "4fff2944-54de-404a-bf41-ed9a4fb61e83"
      },
      "execution_count": null,
      "outputs": [
        {
          "output_type": "execute_result",
          "data": {
            "text/plain": [
              "     Area  Perimeter  MajorAxisLength  MinorAxisLength  AspectRation  \\\n",
              "ID                                                                     \n",
              "0   58238    971.303       397.202654       186.945510      2.124697   \n",
              "1   44515    757.601       265.590470       213.967453      1.241266   \n",
              "2   31662    653.783       239.902428       168.421505      1.424417   \n",
              "3   38778    734.020       268.446281       184.061923      1.458456   \n",
              "4   42530    775.403       281.212824       193.236878      1.455275   \n",
              "\n",
              "    Eccentricity  ConvexArea  EquivDiameter    Extent  Solidity  roundness  \\\n",
              "ID                                                                           \n",
              "0       0.882317       58977     272.306674  0.604756  0.987470   0.775723   \n",
              "1       0.592420       44780     238.071960  0.771745  0.994082   0.974620   \n",
              "2       0.712136       32034     200.781748  0.801407  0.988387   0.930853   \n",
              "3       0.727925       39208     222.201897  0.766137  0.989033   0.904439   \n",
              "4       0.726511       43028     232.703412  0.729816  0.988426   0.888895   \n",
              "\n",
              "    Compactness  ShapeFactor1  ShapeFactor2  ShapeFactor3  ShapeFactor4  \\\n",
              "ID                                                                        \n",
              "0      0.685561      0.006820      0.000929      0.469994      0.998595   \n",
              "1      0.896387      0.005966      0.002376      0.803510      0.997370   \n",
              "2      0.836931      0.007577      0.002293      0.700453      0.997737   \n",
              "3      0.827733      0.006923      0.002005      0.685142      0.999250   \n",
              "4      0.827499      0.006612      0.001912      0.684755      0.996507   \n",
              "\n",
              "           y  \n",
              "ID            \n",
              "0      HOROZ  \n",
              "1      SEKER  \n",
              "2   DERMASON  \n",
              "3   DERMASON  \n",
              "4       SIRA  "
            ],
            "text/html": [
              "\n",
              "  <div id=\"df-4918986b-bb21-4b81-a727-4c01cfa7fbbb\">\n",
              "    <div class=\"colab-df-container\">\n",
              "      <div>\n",
              "<style scoped>\n",
              "    .dataframe tbody tr th:only-of-type {\n",
              "        vertical-align: middle;\n",
              "    }\n",
              "\n",
              "    .dataframe tbody tr th {\n",
              "        vertical-align: top;\n",
              "    }\n",
              "\n",
              "    .dataframe thead th {\n",
              "        text-align: right;\n",
              "    }\n",
              "</style>\n",
              "<table border=\"1\" class=\"dataframe\">\n",
              "  <thead>\n",
              "    <tr style=\"text-align: right;\">\n",
              "      <th></th>\n",
              "      <th>Area</th>\n",
              "      <th>Perimeter</th>\n",
              "      <th>MajorAxisLength</th>\n",
              "      <th>MinorAxisLength</th>\n",
              "      <th>AspectRation</th>\n",
              "      <th>Eccentricity</th>\n",
              "      <th>ConvexArea</th>\n",
              "      <th>EquivDiameter</th>\n",
              "      <th>Extent</th>\n",
              "      <th>Solidity</th>\n",
              "      <th>roundness</th>\n",
              "      <th>Compactness</th>\n",
              "      <th>ShapeFactor1</th>\n",
              "      <th>ShapeFactor2</th>\n",
              "      <th>ShapeFactor3</th>\n",
              "      <th>ShapeFactor4</th>\n",
              "      <th>y</th>\n",
              "    </tr>\n",
              "    <tr>\n",
              "      <th>ID</th>\n",
              "      <th></th>\n",
              "      <th></th>\n",
              "      <th></th>\n",
              "      <th></th>\n",
              "      <th></th>\n",
              "      <th></th>\n",
              "      <th></th>\n",
              "      <th></th>\n",
              "      <th></th>\n",
              "      <th></th>\n",
              "      <th></th>\n",
              "      <th></th>\n",
              "      <th></th>\n",
              "      <th></th>\n",
              "      <th></th>\n",
              "      <th></th>\n",
              "      <th></th>\n",
              "    </tr>\n",
              "  </thead>\n",
              "  <tbody>\n",
              "    <tr>\n",
              "      <th>0</th>\n",
              "      <td>58238</td>\n",
              "      <td>971.303</td>\n",
              "      <td>397.202654</td>\n",
              "      <td>186.945510</td>\n",
              "      <td>2.124697</td>\n",
              "      <td>0.882317</td>\n",
              "      <td>58977</td>\n",
              "      <td>272.306674</td>\n",
              "      <td>0.604756</td>\n",
              "      <td>0.987470</td>\n",
              "      <td>0.775723</td>\n",
              "      <td>0.685561</td>\n",
              "      <td>0.006820</td>\n",
              "      <td>0.000929</td>\n",
              "      <td>0.469994</td>\n",
              "      <td>0.998595</td>\n",
              "      <td>HOROZ</td>\n",
              "    </tr>\n",
              "    <tr>\n",
              "      <th>1</th>\n",
              "      <td>44515</td>\n",
              "      <td>757.601</td>\n",
              "      <td>265.590470</td>\n",
              "      <td>213.967453</td>\n",
              "      <td>1.241266</td>\n",
              "      <td>0.592420</td>\n",
              "      <td>44780</td>\n",
              "      <td>238.071960</td>\n",
              "      <td>0.771745</td>\n",
              "      <td>0.994082</td>\n",
              "      <td>0.974620</td>\n",
              "      <td>0.896387</td>\n",
              "      <td>0.005966</td>\n",
              "      <td>0.002376</td>\n",
              "      <td>0.803510</td>\n",
              "      <td>0.997370</td>\n",
              "      <td>SEKER</td>\n",
              "    </tr>\n",
              "    <tr>\n",
              "      <th>2</th>\n",
              "      <td>31662</td>\n",
              "      <td>653.783</td>\n",
              "      <td>239.902428</td>\n",
              "      <td>168.421505</td>\n",
              "      <td>1.424417</td>\n",
              "      <td>0.712136</td>\n",
              "      <td>32034</td>\n",
              "      <td>200.781748</td>\n",
              "      <td>0.801407</td>\n",
              "      <td>0.988387</td>\n",
              "      <td>0.930853</td>\n",
              "      <td>0.836931</td>\n",
              "      <td>0.007577</td>\n",
              "      <td>0.002293</td>\n",
              "      <td>0.700453</td>\n",
              "      <td>0.997737</td>\n",
              "      <td>DERMASON</td>\n",
              "    </tr>\n",
              "    <tr>\n",
              "      <th>3</th>\n",
              "      <td>38778</td>\n",
              "      <td>734.020</td>\n",
              "      <td>268.446281</td>\n",
              "      <td>184.061923</td>\n",
              "      <td>1.458456</td>\n",
              "      <td>0.727925</td>\n",
              "      <td>39208</td>\n",
              "      <td>222.201897</td>\n",
              "      <td>0.766137</td>\n",
              "      <td>0.989033</td>\n",
              "      <td>0.904439</td>\n",
              "      <td>0.827733</td>\n",
              "      <td>0.006923</td>\n",
              "      <td>0.002005</td>\n",
              "      <td>0.685142</td>\n",
              "      <td>0.999250</td>\n",
              "      <td>DERMASON</td>\n",
              "    </tr>\n",
              "    <tr>\n",
              "      <th>4</th>\n",
              "      <td>42530</td>\n",
              "      <td>775.403</td>\n",
              "      <td>281.212824</td>\n",
              "      <td>193.236878</td>\n",
              "      <td>1.455275</td>\n",
              "      <td>0.726511</td>\n",
              "      <td>43028</td>\n",
              "      <td>232.703412</td>\n",
              "      <td>0.729816</td>\n",
              "      <td>0.988426</td>\n",
              "      <td>0.888895</td>\n",
              "      <td>0.827499</td>\n",
              "      <td>0.006612</td>\n",
              "      <td>0.001912</td>\n",
              "      <td>0.684755</td>\n",
              "      <td>0.996507</td>\n",
              "      <td>SIRA</td>\n",
              "    </tr>\n",
              "  </tbody>\n",
              "</table>\n",
              "</div>\n",
              "      <button class=\"colab-df-convert\" onclick=\"convertToInteractive('df-4918986b-bb21-4b81-a727-4c01cfa7fbbb')\"\n",
              "              title=\"Convert this dataframe to an interactive table.\"\n",
              "              style=\"display:none;\">\n",
              "        \n",
              "  <svg xmlns=\"http://www.w3.org/2000/svg\" height=\"24px\"viewBox=\"0 0 24 24\"\n",
              "       width=\"24px\">\n",
              "    <path d=\"M0 0h24v24H0V0z\" fill=\"none\"/>\n",
              "    <path d=\"M18.56 5.44l.94 2.06.94-2.06 2.06-.94-2.06-.94-.94-2.06-.94 2.06-2.06.94zm-11 1L8.5 8.5l.94-2.06 2.06-.94-2.06-.94L8.5 2.5l-.94 2.06-2.06.94zm10 10l.94 2.06.94-2.06 2.06-.94-2.06-.94-.94-2.06-.94 2.06-2.06.94z\"/><path d=\"M17.41 7.96l-1.37-1.37c-.4-.4-.92-.59-1.43-.59-.52 0-1.04.2-1.43.59L10.3 9.45l-7.72 7.72c-.78.78-.78 2.05 0 2.83L4 21.41c.39.39.9.59 1.41.59.51 0 1.02-.2 1.41-.59l7.78-7.78 2.81-2.81c.8-.78.8-2.07 0-2.86zM5.41 20L4 18.59l7.72-7.72 1.47 1.35L5.41 20z\"/>\n",
              "  </svg>\n",
              "      </button>\n",
              "      \n",
              "  <style>\n",
              "    .colab-df-container {\n",
              "      display:flex;\n",
              "      flex-wrap:wrap;\n",
              "      gap: 12px;\n",
              "    }\n",
              "\n",
              "    .colab-df-convert {\n",
              "      background-color: #E8F0FE;\n",
              "      border: none;\n",
              "      border-radius: 50%;\n",
              "      cursor: pointer;\n",
              "      display: none;\n",
              "      fill: #1967D2;\n",
              "      height: 32px;\n",
              "      padding: 0 0 0 0;\n",
              "      width: 32px;\n",
              "    }\n",
              "\n",
              "    .colab-df-convert:hover {\n",
              "      background-color: #E2EBFA;\n",
              "      box-shadow: 0px 1px 2px rgba(60, 64, 67, 0.3), 0px 1px 3px 1px rgba(60, 64, 67, 0.15);\n",
              "      fill: #174EA6;\n",
              "    }\n",
              "\n",
              "    [theme=dark] .colab-df-convert {\n",
              "      background-color: #3B4455;\n",
              "      fill: #D2E3FC;\n",
              "    }\n",
              "\n",
              "    [theme=dark] .colab-df-convert:hover {\n",
              "      background-color: #434B5C;\n",
              "      box-shadow: 0px 1px 3px 1px rgba(0, 0, 0, 0.15);\n",
              "      filter: drop-shadow(0px 1px 2px rgba(0, 0, 0, 0.3));\n",
              "      fill: #FFFFFF;\n",
              "    }\n",
              "  </style>\n",
              "\n",
              "      <script>\n",
              "        const buttonEl =\n",
              "          document.querySelector('#df-4918986b-bb21-4b81-a727-4c01cfa7fbbb button.colab-df-convert');\n",
              "        buttonEl.style.display =\n",
              "          google.colab.kernel.accessAllowed ? 'block' : 'none';\n",
              "\n",
              "        async function convertToInteractive(key) {\n",
              "          const element = document.querySelector('#df-4918986b-bb21-4b81-a727-4c01cfa7fbbb');\n",
              "          const dataTable =\n",
              "            await google.colab.kernel.invokeFunction('convertToInteractive',\n",
              "                                                     [key], {});\n",
              "          if (!dataTable) return;\n",
              "\n",
              "          const docLinkHtml = 'Like what you see? Visit the ' +\n",
              "            '<a target=\"_blank\" href=https://colab.research.google.com/notebooks/data_table.ipynb>data table notebook</a>'\n",
              "            + ' to learn more about interactive tables.';\n",
              "          element.innerHTML = '';\n",
              "          dataTable['output_type'] = 'display_data';\n",
              "          await google.colab.output.renderOutput(dataTable, element);\n",
              "          const docLink = document.createElement('div');\n",
              "          docLink.innerHTML = docLinkHtml;\n",
              "          element.appendChild(docLink);\n",
              "        }\n",
              "      </script>\n",
              "    </div>\n",
              "  </div>\n",
              "  "
            ]
          },
          "metadata": {},
          "execution_count": 112
        }
      ]
    },
    {
      "cell_type": "code",
      "source": [
        "df.info()"
      ],
      "metadata": {
        "colab": {
          "base_uri": "https://localhost:8080/"
        },
        "id": "Wk0ZBB3viFvl",
        "outputId": "ec3af539-0835-40e0-b4a3-4b6404e0eb9a"
      },
      "execution_count": null,
      "outputs": [
        {
          "output_type": "stream",
          "name": "stdout",
          "text": [
            "<class 'pandas.core.frame.DataFrame'>\n",
            "Int64Index: 10834 entries, 0 to 10833\n",
            "Data columns (total 17 columns):\n",
            " #   Column           Non-Null Count  Dtype  \n",
            "---  ------           --------------  -----  \n",
            " 0   Area             10834 non-null  int64  \n",
            " 1   Perimeter        10834 non-null  float64\n",
            " 2   MajorAxisLength  10834 non-null  float64\n",
            " 3   MinorAxisLength  10834 non-null  float64\n",
            " 4   AspectRation     10834 non-null  float64\n",
            " 5   Eccentricity     10834 non-null  float64\n",
            " 6   ConvexArea       10834 non-null  int64  \n",
            " 7   EquivDiameter    10834 non-null  float64\n",
            " 8   Extent           10834 non-null  float64\n",
            " 9   Solidity         10834 non-null  float64\n",
            " 10  roundness        10834 non-null  float64\n",
            " 11  Compactness      10834 non-null  float64\n",
            " 12  ShapeFactor1     10834 non-null  float64\n",
            " 13  ShapeFactor2     10834 non-null  float64\n",
            " 14  ShapeFactor3     10834 non-null  float64\n",
            " 15  ShapeFactor4     10834 non-null  float64\n",
            " 16  y                10834 non-null  object \n",
            "dtypes: float64(14), int64(2), object(1)\n",
            "memory usage: 1.5+ MB\n"
          ]
        }
      ]
    },
    {
      "cell_type": "code",
      "source": [
        "df.describe()"
      ],
      "metadata": {
        "colab": {
          "base_uri": "https://localhost:8080/",
          "height": 364
        },
        "id": "iPlqAdqJihK2",
        "outputId": "d10a17d3-fb97-4db3-ae3d-2307b3efe88c"
      },
      "execution_count": null,
      "outputs": [
        {
          "output_type": "execute_result",
          "data": {
            "text/plain": [
              "                Area     Perimeter  MajorAxisLength  MinorAxisLength  \\\n",
              "count   10834.000000  10834.000000     10834.000000     10834.000000   \n",
              "mean    53095.675189    855.274892       320.036169       202.410342   \n",
              "std     29542.542580    214.991122        85.961630        45.113965   \n",
              "min     20420.000000    524.932000       183.601165       129.576207   \n",
              "25%     36343.500000    703.601250       253.501071       175.927024   \n",
              "50%     44645.000000    793.739500       296.377365       192.525040   \n",
              "75%     61295.000000    975.517500       376.068399       217.315195   \n",
              "max    254616.000000   1985.370000       738.860153       450.926187   \n",
              "\n",
              "       AspectRation  Eccentricity     ConvexArea  EquivDiameter        Extent  \\\n",
              "count  10834.000000  10834.000000   10834.000000   10834.000000  10834.000000   \n",
              "mean       1.581294      0.750588   53816.205926     253.123583      0.749937   \n",
              "std        0.244314      0.091481   29999.710739      59.433080      0.048949   \n",
              "min        1.024868      0.218951   20684.000000     161.243764      0.555315   \n",
              "25%        1.432985      0.716250   36731.250000     215.113880      0.718778   \n",
              "50%        1.550761      0.764314   45148.000000     238.419335      0.760141   \n",
              "75%        1.703029      0.809450   62251.500000     279.362162      0.786871   \n",
              "max        2.388873      0.908167  263261.000000     569.374358      0.866195   \n",
              "\n",
              "           Solidity     roundness   Compactness  ShapeFactor1  ShapeFactor2  \\\n",
              "count  10834.000000  10834.000000  10834.000000  10834.000000  10834.000000   \n",
              "mean       0.987152      0.873647      0.800244      0.006559      0.001718   \n",
              "std        0.004626      0.059344      0.061228      0.001127      0.000593   \n",
              "min        0.919246      0.489618      0.645368      0.002856      0.000564   \n",
              "25%        0.985627      0.833479      0.763378      0.005888      0.001161   \n",
              "50%        0.988290      0.883472      0.801428      0.006643      0.001700   \n",
              "75%        0.990014      0.916883      0.834068      0.007268      0.002169   \n",
              "max        0.994677      0.990685      0.987303      0.009897      0.003665   \n",
              "\n",
              "       ShapeFactor3  ShapeFactor4  \n",
              "count  10834.000000  10834.000000  \n",
              "mean       0.644139      0.995083  \n",
              "std        0.098268      0.004306  \n",
              "min        0.416499      0.947687  \n",
              "25%        0.582747      0.993690  \n",
              "50%        0.642287      0.996397  \n",
              "75%        0.695670      0.997895  \n",
              "max        0.974767      0.999733  "
            ],
            "text/html": [
              "\n",
              "  <div id=\"df-b5ef3141-4f89-4cf6-a986-0390fb20b93c\">\n",
              "    <div class=\"colab-df-container\">\n",
              "      <div>\n",
              "<style scoped>\n",
              "    .dataframe tbody tr th:only-of-type {\n",
              "        vertical-align: middle;\n",
              "    }\n",
              "\n",
              "    .dataframe tbody tr th {\n",
              "        vertical-align: top;\n",
              "    }\n",
              "\n",
              "    .dataframe thead th {\n",
              "        text-align: right;\n",
              "    }\n",
              "</style>\n",
              "<table border=\"1\" class=\"dataframe\">\n",
              "  <thead>\n",
              "    <tr style=\"text-align: right;\">\n",
              "      <th></th>\n",
              "      <th>Area</th>\n",
              "      <th>Perimeter</th>\n",
              "      <th>MajorAxisLength</th>\n",
              "      <th>MinorAxisLength</th>\n",
              "      <th>AspectRation</th>\n",
              "      <th>Eccentricity</th>\n",
              "      <th>ConvexArea</th>\n",
              "      <th>EquivDiameter</th>\n",
              "      <th>Extent</th>\n",
              "      <th>Solidity</th>\n",
              "      <th>roundness</th>\n",
              "      <th>Compactness</th>\n",
              "      <th>ShapeFactor1</th>\n",
              "      <th>ShapeFactor2</th>\n",
              "      <th>ShapeFactor3</th>\n",
              "      <th>ShapeFactor4</th>\n",
              "    </tr>\n",
              "  </thead>\n",
              "  <tbody>\n",
              "    <tr>\n",
              "      <th>count</th>\n",
              "      <td>10834.000000</td>\n",
              "      <td>10834.000000</td>\n",
              "      <td>10834.000000</td>\n",
              "      <td>10834.000000</td>\n",
              "      <td>10834.000000</td>\n",
              "      <td>10834.000000</td>\n",
              "      <td>10834.000000</td>\n",
              "      <td>10834.000000</td>\n",
              "      <td>10834.000000</td>\n",
              "      <td>10834.000000</td>\n",
              "      <td>10834.000000</td>\n",
              "      <td>10834.000000</td>\n",
              "      <td>10834.000000</td>\n",
              "      <td>10834.000000</td>\n",
              "      <td>10834.000000</td>\n",
              "      <td>10834.000000</td>\n",
              "    </tr>\n",
              "    <tr>\n",
              "      <th>mean</th>\n",
              "      <td>53095.675189</td>\n",
              "      <td>855.274892</td>\n",
              "      <td>320.036169</td>\n",
              "      <td>202.410342</td>\n",
              "      <td>1.581294</td>\n",
              "      <td>0.750588</td>\n",
              "      <td>53816.205926</td>\n",
              "      <td>253.123583</td>\n",
              "      <td>0.749937</td>\n",
              "      <td>0.987152</td>\n",
              "      <td>0.873647</td>\n",
              "      <td>0.800244</td>\n",
              "      <td>0.006559</td>\n",
              "      <td>0.001718</td>\n",
              "      <td>0.644139</td>\n",
              "      <td>0.995083</td>\n",
              "    </tr>\n",
              "    <tr>\n",
              "      <th>std</th>\n",
              "      <td>29542.542580</td>\n",
              "      <td>214.991122</td>\n",
              "      <td>85.961630</td>\n",
              "      <td>45.113965</td>\n",
              "      <td>0.244314</td>\n",
              "      <td>0.091481</td>\n",
              "      <td>29999.710739</td>\n",
              "      <td>59.433080</td>\n",
              "      <td>0.048949</td>\n",
              "      <td>0.004626</td>\n",
              "      <td>0.059344</td>\n",
              "      <td>0.061228</td>\n",
              "      <td>0.001127</td>\n",
              "      <td>0.000593</td>\n",
              "      <td>0.098268</td>\n",
              "      <td>0.004306</td>\n",
              "    </tr>\n",
              "    <tr>\n",
              "      <th>min</th>\n",
              "      <td>20420.000000</td>\n",
              "      <td>524.932000</td>\n",
              "      <td>183.601165</td>\n",
              "      <td>129.576207</td>\n",
              "      <td>1.024868</td>\n",
              "      <td>0.218951</td>\n",
              "      <td>20684.000000</td>\n",
              "      <td>161.243764</td>\n",
              "      <td>0.555315</td>\n",
              "      <td>0.919246</td>\n",
              "      <td>0.489618</td>\n",
              "      <td>0.645368</td>\n",
              "      <td>0.002856</td>\n",
              "      <td>0.000564</td>\n",
              "      <td>0.416499</td>\n",
              "      <td>0.947687</td>\n",
              "    </tr>\n",
              "    <tr>\n",
              "      <th>25%</th>\n",
              "      <td>36343.500000</td>\n",
              "      <td>703.601250</td>\n",
              "      <td>253.501071</td>\n",
              "      <td>175.927024</td>\n",
              "      <td>1.432985</td>\n",
              "      <td>0.716250</td>\n",
              "      <td>36731.250000</td>\n",
              "      <td>215.113880</td>\n",
              "      <td>0.718778</td>\n",
              "      <td>0.985627</td>\n",
              "      <td>0.833479</td>\n",
              "      <td>0.763378</td>\n",
              "      <td>0.005888</td>\n",
              "      <td>0.001161</td>\n",
              "      <td>0.582747</td>\n",
              "      <td>0.993690</td>\n",
              "    </tr>\n",
              "    <tr>\n",
              "      <th>50%</th>\n",
              "      <td>44645.000000</td>\n",
              "      <td>793.739500</td>\n",
              "      <td>296.377365</td>\n",
              "      <td>192.525040</td>\n",
              "      <td>1.550761</td>\n",
              "      <td>0.764314</td>\n",
              "      <td>45148.000000</td>\n",
              "      <td>238.419335</td>\n",
              "      <td>0.760141</td>\n",
              "      <td>0.988290</td>\n",
              "      <td>0.883472</td>\n",
              "      <td>0.801428</td>\n",
              "      <td>0.006643</td>\n",
              "      <td>0.001700</td>\n",
              "      <td>0.642287</td>\n",
              "      <td>0.996397</td>\n",
              "    </tr>\n",
              "    <tr>\n",
              "      <th>75%</th>\n",
              "      <td>61295.000000</td>\n",
              "      <td>975.517500</td>\n",
              "      <td>376.068399</td>\n",
              "      <td>217.315195</td>\n",
              "      <td>1.703029</td>\n",
              "      <td>0.809450</td>\n",
              "      <td>62251.500000</td>\n",
              "      <td>279.362162</td>\n",
              "      <td>0.786871</td>\n",
              "      <td>0.990014</td>\n",
              "      <td>0.916883</td>\n",
              "      <td>0.834068</td>\n",
              "      <td>0.007268</td>\n",
              "      <td>0.002169</td>\n",
              "      <td>0.695670</td>\n",
              "      <td>0.997895</td>\n",
              "    </tr>\n",
              "    <tr>\n",
              "      <th>max</th>\n",
              "      <td>254616.000000</td>\n",
              "      <td>1985.370000</td>\n",
              "      <td>738.860153</td>\n",
              "      <td>450.926187</td>\n",
              "      <td>2.388873</td>\n",
              "      <td>0.908167</td>\n",
              "      <td>263261.000000</td>\n",
              "      <td>569.374358</td>\n",
              "      <td>0.866195</td>\n",
              "      <td>0.994677</td>\n",
              "      <td>0.990685</td>\n",
              "      <td>0.987303</td>\n",
              "      <td>0.009897</td>\n",
              "      <td>0.003665</td>\n",
              "      <td>0.974767</td>\n",
              "      <td>0.999733</td>\n",
              "    </tr>\n",
              "  </tbody>\n",
              "</table>\n",
              "</div>\n",
              "      <button class=\"colab-df-convert\" onclick=\"convertToInteractive('df-b5ef3141-4f89-4cf6-a986-0390fb20b93c')\"\n",
              "              title=\"Convert this dataframe to an interactive table.\"\n",
              "              style=\"display:none;\">\n",
              "        \n",
              "  <svg xmlns=\"http://www.w3.org/2000/svg\" height=\"24px\"viewBox=\"0 0 24 24\"\n",
              "       width=\"24px\">\n",
              "    <path d=\"M0 0h24v24H0V0z\" fill=\"none\"/>\n",
              "    <path d=\"M18.56 5.44l.94 2.06.94-2.06 2.06-.94-2.06-.94-.94-2.06-.94 2.06-2.06.94zm-11 1L8.5 8.5l.94-2.06 2.06-.94-2.06-.94L8.5 2.5l-.94 2.06-2.06.94zm10 10l.94 2.06.94-2.06 2.06-.94-2.06-.94-.94-2.06-.94 2.06-2.06.94z\"/><path d=\"M17.41 7.96l-1.37-1.37c-.4-.4-.92-.59-1.43-.59-.52 0-1.04.2-1.43.59L10.3 9.45l-7.72 7.72c-.78.78-.78 2.05 0 2.83L4 21.41c.39.39.9.59 1.41.59.51 0 1.02-.2 1.41-.59l7.78-7.78 2.81-2.81c.8-.78.8-2.07 0-2.86zM5.41 20L4 18.59l7.72-7.72 1.47 1.35L5.41 20z\"/>\n",
              "  </svg>\n",
              "      </button>\n",
              "      \n",
              "  <style>\n",
              "    .colab-df-container {\n",
              "      display:flex;\n",
              "      flex-wrap:wrap;\n",
              "      gap: 12px;\n",
              "    }\n",
              "\n",
              "    .colab-df-convert {\n",
              "      background-color: #E8F0FE;\n",
              "      border: none;\n",
              "      border-radius: 50%;\n",
              "      cursor: pointer;\n",
              "      display: none;\n",
              "      fill: #1967D2;\n",
              "      height: 32px;\n",
              "      padding: 0 0 0 0;\n",
              "      width: 32px;\n",
              "    }\n",
              "\n",
              "    .colab-df-convert:hover {\n",
              "      background-color: #E2EBFA;\n",
              "      box-shadow: 0px 1px 2px rgba(60, 64, 67, 0.3), 0px 1px 3px 1px rgba(60, 64, 67, 0.15);\n",
              "      fill: #174EA6;\n",
              "    }\n",
              "\n",
              "    [theme=dark] .colab-df-convert {\n",
              "      background-color: #3B4455;\n",
              "      fill: #D2E3FC;\n",
              "    }\n",
              "\n",
              "    [theme=dark] .colab-df-convert:hover {\n",
              "      background-color: #434B5C;\n",
              "      box-shadow: 0px 1px 3px 1px rgba(0, 0, 0, 0.15);\n",
              "      filter: drop-shadow(0px 1px 2px rgba(0, 0, 0, 0.3));\n",
              "      fill: #FFFFFF;\n",
              "    }\n",
              "  </style>\n",
              "\n",
              "      <script>\n",
              "        const buttonEl =\n",
              "          document.querySelector('#df-b5ef3141-4f89-4cf6-a986-0390fb20b93c button.colab-df-convert');\n",
              "        buttonEl.style.display =\n",
              "          google.colab.kernel.accessAllowed ? 'block' : 'none';\n",
              "\n",
              "        async function convertToInteractive(key) {\n",
              "          const element = document.querySelector('#df-b5ef3141-4f89-4cf6-a986-0390fb20b93c');\n",
              "          const dataTable =\n",
              "            await google.colab.kernel.invokeFunction('convertToInteractive',\n",
              "                                                     [key], {});\n",
              "          if (!dataTable) return;\n",
              "\n",
              "          const docLinkHtml = 'Like what you see? Visit the ' +\n",
              "            '<a target=\"_blank\" href=https://colab.research.google.com/notebooks/data_table.ipynb>data table notebook</a>'\n",
              "            + ' to learn more about interactive tables.';\n",
              "          element.innerHTML = '';\n",
              "          dataTable['output_type'] = 'display_data';\n",
              "          await google.colab.output.renderOutput(dataTable, element);\n",
              "          const docLink = document.createElement('div');\n",
              "          docLink.innerHTML = docLinkHtml;\n",
              "          element.appendChild(docLink);\n",
              "        }\n",
              "      </script>\n",
              "    </div>\n",
              "  </div>\n",
              "  "
            ]
          },
          "metadata": {},
          "execution_count": 114
        }
      ]
    },
    {
      "cell_type": "code",
      "source": [
        "df.isna().sum().sum()"
      ],
      "metadata": {
        "colab": {
          "base_uri": "https://localhost:8080/"
        },
        "id": "a244beoWioig",
        "outputId": "e14dee03-3d3c-46b3-8d05-ea1b9fc43b74"
      },
      "execution_count": null,
      "outputs": [
        {
          "output_type": "execute_result",
          "data": {
            "text/plain": [
              "0"
            ]
          },
          "metadata": {},
          "execution_count": 115
        }
      ]
    },
    {
      "cell_type": "code",
      "source": [
        "sns.heatmap(df.isnull())"
      ],
      "metadata": {
        "colab": {
          "base_uri": "https://localhost:8080/",
          "height": 362
        },
        "id": "fZOP5WmsiuKn",
        "outputId": "f0fd8e6b-e392-4df3-8de2-9ddb8d88cd85"
      },
      "execution_count": null,
      "outputs": [
        {
          "output_type": "execute_result",
          "data": {
            "text/plain": [
              "<matplotlib.axes._subplots.AxesSubplot at 0x7f776715ce90>"
            ]
          },
          "metadata": {},
          "execution_count": 116
        },
        {
          "output_type": "display_data",
          "data": {
            "text/plain": [
              "<Figure size 432x288 with 2 Axes>"
            ],
            "image/png": "[encoded data removed]"
          },
          "metadata": {
            "needs_background": "light"
          }
        }
      ]
    },
    {
      "cell_type": "code",
      "source": [
        "df['y'].value_counts()"
      ],
      "metadata": {
        "colab": {
          "base_uri": "https://localhost:8080/"
        },
        "id": "kYKqLBozi6L5",
        "outputId": "69933b8e-46fc-4445-aea2-a046628b6e24"
      },
      "execution_count": null,
      "outputs": [
        {
          "output_type": "execute_result",
          "data": {
            "text/plain": [
              "DERMASON    2837\n",
              "SIRA        2109\n",
              "SEKER       1621\n",
              "HOROZ       1488\n",
              "CALI        1304\n",
              "BARBUNYA    1057\n",
              "BOMBAY       418\n",
              "Name: y, dtype: int64"
            ]
          },
          "metadata": {},
          "execution_count": 117
        }
      ]
    },
    {
      "cell_type": "code",
      "source": [
        "plt.figure(figsize=(10,8))\n",
        "sns.countplot(x=\"y\", data=df);"
      ],
      "metadata": {
        "colab": {
          "base_uri": "https://localhost:8080/",
          "height": 497
        },
        "id": "qy7BwqFXVkuu",
        "outputId": "8bcc843d-a8a6-4124-ffa3-f792bda7c2b6"
      },
      "execution_count": null,
      "outputs": [
        {
          "output_type": "display_data",
          "data": {
            "text/plain": [
              "<Figure size 720x576 with 1 Axes>"
            ],
            "image/png": "[encoded data removed]"
          },
          "metadata": {
            "needs_background": "light"
          }
        }
      ]
    },
    {
      "cell_type": "code",
      "source": [
        "df.shape"
      ],
      "metadata": {
        "colab": {
          "base_uri": "https://localhost:8080/"
        },
        "id": "Ct9Atb0ijYzv",
        "outputId": "dbcf18ed-11f9-4d0e-b791-9be2b86ba7a0"
      },
      "execution_count": null,
      "outputs": [
        {
          "output_type": "execute_result",
          "data": {
            "text/plain": [
              "(10834, 17)"
            ]
          },
          "metadata": {},
          "execution_count": 119
        }
      ]
    },
    {
      "cell_type": "code",
      "source": [
        "df.hist(bins=50,figsize=(16,16))\n",
        "plt.show()"
      ],
      "metadata": {
        "colab": {
          "base_uri": "https://localhost:8080/",
          "height": 934
        },
        "id": "-QXZIzgpd1Mi",
        "outputId": "f2d0741d-8b2f-466a-e2a6-169d863dd0dc"
      },
      "execution_count": null,
      "outputs": [
        {
          "output_type": "display_data",
          "data": {
            "text/plain": [
              "<Figure size 1152x1152 with 16 Axes>"
            ],
            "image/png": "[encoded data removed]"
          },
          "metadata": {
            "needs_background": "light"
          }
        }
      ]
    },
    {
      "cell_type": "code",
      "source": [
        "df.skew()"
      ],
      "metadata": {
        "colab": {
          "base_uri": "https://localhost:8080/"
        },
        "id": "l3_8phiueQ0Q",
        "outputId": "905abbba-0bfc-4a7f-e215-1bf11a052bcf"
      },
      "execution_count": null,
      "outputs": [
        {
          "output_type": "stream",
          "name": "stderr",
          "text": [
            "/usr/local/lib/python3.7/dist-packages/ipykernel_launcher.py:1: FutureWarning: Dropping of nuisance columns in DataFrame reductions (with 'numeric_only=None') is deprecated; in a future version this will raise TypeError.  Select only valid columns before calling the reduction.\n",
            "  \"\"\"Entry point for launching an IPython kernel.\n"
          ]
        },
        {
          "output_type": "execute_result",
          "data": {
            "text/plain": [
              "Area               2.970246\n",
              "Perimeter          1.650773\n",
              "MajorAxisLength    1.390286\n",
              "MinorAxisLength    2.251468\n",
              "AspectRation       0.589186\n",
              "Eccentricity      -1.075626\n",
              "ConvexArea         2.960315\n",
              "EquivDiameter      1.971378\n",
              "Extent            -0.900892\n",
              "Solidity          -2.507634\n",
              "roundness         -0.659566\n",
              "Compactness        0.038242\n",
              "ShapeFactor1      -0.544873\n",
              "ShapeFactor2       0.292677\n",
              "ShapeFactor3       0.245589\n",
              "ShapeFactor4      -2.628540\n",
              "dtype: float64"
            ]
          },
          "metadata": {},
          "execution_count": 121
        }
      ]
    },
    {
      "cell_type": "code",
      "source": [
        "# from sklearn.preprocessing import QuantileTransformer\n",
        "# qt = QuantileTransformer(n_quantiles=100,output_distribution=\"normal\", random_state=0)\n",
        "# qt.fit_transform(df)"
      ],
      "metadata": {
        "id": "vAjc-taAejgN"
      },
      "execution_count": null,
      "outputs": []
    },
    {
      "cell_type": "code",
      "source": [
        "#less repeated class\n",
        "BOMBAY_class=len(df[df['y']=='BOMBAY'])\n",
        "print(BOMBAY_class)"
      ],
      "metadata": {
        "colab": {
          "base_uri": "https://localhost:8080/"
        },
        "id": "oNuXBLmFZboA",
        "outputId": "9d95b8a6-afc2-4626-f3e8-789da68497c4"
      },
      "execution_count": null,
      "outputs": [
        {
          "output_type": "stream",
          "name": "stdout",
          "text": [
            "418\n"
          ]
        }
      ]
    },
    {
      "cell_type": "code",
      "source": [
        "#most repeated class\n",
        "DERMASON_class=len(df[df['y']=='DERMASON'])\n",
        "print(DERMASON_class)"
      ],
      "metadata": {
        "colab": {
          "base_uri": "https://localhost:8080/"
        },
        "id": "ZVRtCamHaQ6v",
        "outputId": "9cc2ff43-c7e7-4035-9358-10990a3a31b4"
      },
      "execution_count": null,
      "outputs": [
        {
          "output_type": "stream",
          "name": "stdout",
          "text": [
            "2837\n"
          ]
        }
      ]
    },
    {
      "cell_type": "code",
      "source": [
        "BOMBAY_idx=df[df['y']=='BOMBAY'].index\n",
        "BOMBAY_idx"
      ],
      "metadata": {
        "colab": {
          "base_uri": "https://localhost:8080/"
        },
        "id": "lb3TAwFcalK2",
        "outputId": "10f22380-5aba-4986-da93-15145363fd2e"
      },
      "execution_count": null,
      "outputs": [
        {
          "output_type": "execute_result",
          "data": {
            "text/plain": [
              "Int64Index([   18,    21,    38,    47,    89,   135,   142,   174,   176,\n",
              "              179,\n",
              "            ...\n",
              "            10391, 10405, 10449, 10477, 10508, 10596, 10628, 10726, 10789,\n",
              "            10790],\n",
              "           dtype='int64', name='ID', length=418)"
            ]
          },
          "metadata": {},
          "execution_count": 126
        }
      ]
    },
    {
      "cell_type": "code",
      "source": [
        "#first major\n",
        "DERMASON_idx=df[df['y']=='DERMASON'].index\n",
        "DERMASON_idx"
      ],
      "metadata": {
        "colab": {
          "base_uri": "https://localhost:8080/"
        },
        "id": "XMnIMGHPa5Tw",
        "outputId": "9bb4afe5-7275-4d95-97a0-b6201e077ebd"
      },
      "execution_count": null,
      "outputs": [
        {
          "output_type": "execute_result",
          "data": {
            "text/plain": [
              "Int64Index([    2,     3,    14,    19,    20,    23,    25,    26,    29,\n",
              "               30,\n",
              "            ...\n",
              "            10775, 10780, 10781, 10788, 10801, 10813, 10814, 10821, 10830,\n",
              "            10833],\n",
              "           dtype='int64', name='ID', length=2837)"
            ]
          },
          "metadata": {},
          "execution_count": 127
        }
      ]
    },
    {
      "cell_type": "code",
      "source": [
        "random_majority_indices=np.random.choice(DERMASON_idx,len(BOMBAY_idx),replace=False)\n",
        "under_sample_indices=np.concatenate([BOMBAY_idx,random_majority_indices])"
      ],
      "metadata": {
        "id": "jSj7Vei1g8-O"
      },
      "execution_count": null,
      "outputs": []
    },
    {
      "cell_type": "code",
      "source": [
        "#second major\n",
        "SIRA_idx=df[df['y']=='SIRA'].index\n",
        "random_majority_indices=np.random.choice(SIRA_idx,len(BOMBAY_idx),replace=False)\n",
        "under_sample_indices=np.concatenate([under_sample_indices,random_majority_indices])"
      ],
      "metadata": {
        "id": "Q5mHSwombBnx"
      },
      "execution_count": null,
      "outputs": []
    },
    {
      "cell_type": "code",
      "source": [
        "len(under_sample_indices)"
      ],
      "metadata": {
        "colab": {
          "base_uri": "https://localhost:8080/"
        },
        "id": "qBnDKHmelT81",
        "outputId": "fd2ed3dd-6f5f-445e-af82-f8b5a2a2fd6a"
      },
      "execution_count": null,
      "outputs": [
        {
          "output_type": "execute_result",
          "data": {
            "text/plain": [
              "1254"
            ]
          },
          "metadata": {},
          "execution_count": 130
        }
      ]
    },
    {
      "cell_type": "code",
      "source": [
        "#third majority class\n",
        "SEKER_idx=df[df['y']=='SEKER'].index\n",
        "random_majority_indices=np.random.choice(SEKER_idx,len(BOMBAY_idx),replace=False)\n",
        "under_sample_indices=np.concatenate([under_sample_indices,random_majority_indices])"
      ],
      "metadata": {
        "id": "a1iVUL50mPxO"
      },
      "execution_count": null,
      "outputs": []
    },
    {
      "cell_type": "code",
      "source": [
        "#fourth majority class \n",
        "HOROZ_idx=df[df['y']=='HOROZ'].index\n",
        "random_majority_indices=np.random.choice(HOROZ_idx,len(BOMBAY_idx),replace=False)\n",
        "under_sample_indices=np.concatenate([under_sample_indices,random_majority_indices])"
      ],
      "metadata": {
        "id": "_8TewVGho4Qo"
      },
      "execution_count": null,
      "outputs": []
    },
    {
      "cell_type": "code",
      "source": [
        "#fifth majority class\n",
        "CALI_idx=df[df['y']=='CALI'].index\n",
        "random_majority_indices=np.random.choice(CALI_idx,len(BOMBAY_idx),replace=False)\n",
        "under_sample_indices=np.concatenate([under_sample_indices,random_majority_indices])"
      ],
      "metadata": {
        "id": "Ktkw0C4lpNdt"
      },
      "execution_count": null,
      "outputs": []
    },
    {
      "cell_type": "code",
      "source": [
        "#six majority class\n",
        "BARBUNYA_idx=df[df['y']=='BARBUNYA'].index\n",
        "random_majority_indices=np.random.choice(BARBUNYA_idx,len(BOMBAY_idx),replace=False)\n",
        "under_sample_indices=np.concatenate([under_sample_indices,random_majority_indices])"
      ],
      "metadata": {
        "id": "qCN5sHmepeml"
      },
      "execution_count": null,
      "outputs": []
    },
    {
      "cell_type": "code",
      "source": [
        "data=df.loc[under_sample_indices]\n",
        "data.head()"
      ],
      "metadata": {
        "colab": {
          "base_uri": "https://localhost:8080/",
          "height": 301
        },
        "id": "NwqY4Pw9r-Dj",
        "outputId": "6300a235-4219-4d86-b478-5b37f3892df9"
      },
      "execution_count": null,
      "outputs": [
        {
          "output_type": "execute_result",
          "data": {
            "text/plain": [
              "      Area  Perimeter  MajorAxisLength  MinorAxisLength  AspectRation  \\\n",
              "ID                                                                      \n",
              "18  162230   1486.167       543.407255       381.837178      1.423139   \n",
              "21  203688   1738.084       676.058986       389.116090      1.737422   \n",
              "38  139639   1379.183       473.780598       376.550241      1.258214   \n",
              "47  152063   1455.551       524.784869       371.247487      1.413572   \n",
              "89  197245   1702.646       642.077245       396.085390      1.621058   \n",
              "\n",
              "    Eccentricity  ConvexArea  EquivDiameter    Extent  Solidity  roundness  \\\n",
              "ID                                                                           \n",
              "18      0.711514      163470     454.486140  0.782835  0.992415   0.923009   \n",
              "21      0.817756      207028     509.257908  0.788071  0.983867   0.847293   \n",
              "38      0.606901      140541     421.656136  0.783916  0.993582   0.922514   \n",
              "47      0.706785      153860     440.014346  0.764451  0.988321   0.901942   \n",
              "89      0.787056      200777     501.138837  0.802083  0.982408   0.855002   \n",
              "\n",
              "    Compactness  ShapeFactor1  ShapeFactor2  ShapeFactor3  ShapeFactor4  \\\n",
              "ID                                                                        \n",
              "18     0.836364      0.003350      0.001011      0.699504      0.995492   \n",
              "21     0.753274      0.003319      0.000659      0.567422      0.985852   \n",
              "38     0.889982      0.003393      0.001313      0.792068      0.996590   \n",
              "47     0.838466      0.003451      0.001052      0.703025      0.993777   \n",
              "89     0.780496      0.003255      0.000745      0.609174      0.987507   \n",
              "\n",
              "         y  \n",
              "ID          \n",
              "18  BOMBAY  \n",
              "21  BOMBAY  \n",
              "38  BOMBAY  \n",
              "47  BOMBAY  \n",
              "89  BOMBAY  "
            ],
            "text/html": [
              "\n",
              "  <div id=\"df-045e9d64-79b2-4698-97f8-0b9be5a9ae57\">\n",
              "    <div class=\"colab-df-container\">\n",
              "      <div>\n",
              "<style scoped>\n",
              "    .dataframe tbody tr th:only-of-type {\n",
              "        vertical-align: middle;\n",
              "    }\n",
              "\n",
              "    .dataframe tbody tr th {\n",
              "        vertical-align: top;\n",
              "    }\n",
              "\n",
              "    .dataframe thead th {\n",
              "        text-align: right;\n",
              "    }\n",
              "</style>\n",
              "<table border=\"1\" class=\"dataframe\">\n",
              "  <thead>\n",
              "    <tr style=\"text-align: right;\">\n",
              "      <th></th>\n",
              "      <th>Area</th>\n",
              "      <th>Perimeter</th>\n",
              "      <th>MajorAxisLength</th>\n",
              "      <th>MinorAxisLength</th>\n",
              "      <th>AspectRation</th>\n",
              "      <th>Eccentricity</th>\n",
              "      <th>ConvexArea</th>\n",
              "      <th>EquivDiameter</th>\n",
              "      <th>Extent</th>\n",
              "      <th>Solidity</th>\n",
              "      <th>roundness</th>\n",
              "      <th>Compactness</th>\n",
              "      <th>ShapeFactor1</th>\n",
              "      <th>ShapeFactor2</th>\n",
              "      <th>ShapeFactor3</th>\n",
              "      <th>ShapeFactor4</th>\n",
              "      <th>y</th>\n",
              "    </tr>\n",
              "    <tr>\n",
              "      <th>ID</th>\n",
              "      <th></th>\n",
              "      <th></th>\n",
              "      <th></th>\n",
              "      <th></th>\n",
              "      <th></th>\n",
              "      <th></th>\n",
              "      <th></th>\n",
              "      <th></th>\n",
              "      <th></th>\n",
              "      <th></th>\n",
              "      <th></th>\n",
              "      <th></th>\n",
              "      <th></th>\n",
              "      <th></th>\n",
              "      <th></th>\n",
              "      <th></th>\n",
              "      <th></th>\n",
              "    </tr>\n",
              "  </thead>\n",
              "  <tbody>\n",
              "    <tr>\n",
              "      <th>18</th>\n",
              "      <td>162230</td>\n",
              "      <td>1486.167</td>\n",
              "      <td>543.407255</td>\n",
              "      <td>381.837178</td>\n",
              "      <td>1.423139</td>\n",
              "      <td>0.711514</td>\n",
              "      <td>163470</td>\n",
              "      <td>454.486140</td>\n",
              "      <td>0.782835</td>\n",
              "      <td>0.992415</td>\n",
              "      <td>0.923009</td>\n",
              "      <td>0.836364</td>\n",
              "      <td>0.003350</td>\n",
              "      <td>0.001011</td>\n",
              "      <td>0.699504</td>\n",
              "      <td>0.995492</td>\n",
              "      <td>BOMBAY</td>\n",
              "    </tr>\n",
              "    <tr>\n",
              "      <th>21</th>\n",
              "      <td>203688</td>\n",
              "      <td>1738.084</td>\n",
              "      <td>676.058986</td>\n",
              "      <td>389.116090</td>\n",
              "      <td>1.737422</td>\n",
              "      <td>0.817756</td>\n",
              "      <td>207028</td>\n",
              "      <td>509.257908</td>\n",
              "      <td>0.788071</td>\n",
              "      <td>0.983867</td>\n",
              "      <td>0.847293</td>\n",
              "      <td>0.753274</td>\n",
              "      <td>0.003319</td>\n",
              "      <td>0.000659</td>\n",
              "      <td>0.567422</td>\n",
              "      <td>0.985852</td>\n",
              "      <td>BOMBAY</td>\n",
              "    </tr>\n",
              "    <tr>\n",
              "      <th>38</th>\n",
              "      <td>139639</td>\n",
              "      <td>1379.183</td>\n",
              "      <td>473.780598</td>\n",
              "      <td>376.550241</td>\n",
              "      <td>1.258214</td>\n",
              "      <td>0.606901</td>\n",
              "      <td>140541</td>\n",
              "      <td>421.656136</td>\n",
              "      <td>0.783916</td>\n",
              "      <td>0.993582</td>\n",
              "      <td>0.922514</td>\n",
              "      <td>0.889982</td>\n",
              "      <td>0.003393</td>\n",
              "      <td>0.001313</td>\n",
              "      <td>0.792068</td>\n",
              "      <td>0.996590</td>\n",
              "      <td>BOMBAY</td>\n",
              "    </tr>\n",
              "    <tr>\n",
              "      <th>47</th>\n",
              "      <td>152063</td>\n",
              "      <td>1455.551</td>\n",
              "      <td>524.784869</td>\n",
              "      <td>371.247487</td>\n",
              "      <td>1.413572</td>\n",
              "      <td>0.706785</td>\n",
              "      <td>153860</td>\n",
              "      <td>440.014346</td>\n",
              "      <td>0.764451</td>\n",
              "      <td>0.988321</td>\n",
              "      <td>0.901942</td>\n",
              "      <td>0.838466</td>\n",
              "      <td>0.003451</td>\n",
              "      <td>0.001052</td>\n",
              "      <td>0.703025</td>\n",
              "      <td>0.993777</td>\n",
              "      <td>BOMBAY</td>\n",
              "    </tr>\n",
              "    <tr>\n",
              "      <th>89</th>\n",
              "      <td>197245</td>\n",
              "      <td>1702.646</td>\n",
              "      <td>642.077245</td>\n",
              "      <td>396.085390</td>\n",
              "      <td>1.621058</td>\n",
              "      <td>0.787056</td>\n",
              "      <td>200777</td>\n",
              "      <td>501.138837</td>\n",
              "      <td>0.802083</td>\n",
              "      <td>0.982408</td>\n",
              "      <td>0.855002</td>\n",
              "      <td>0.780496</td>\n",
              "      <td>0.003255</td>\n",
              "      <td>0.000745</td>\n",
              "      <td>0.609174</td>\n",
              "      <td>0.987507</td>\n",
              "      <td>BOMBAY</td>\n",
              "    </tr>\n",
              "  </tbody>\n",
              "</table>\n",
              "</div>\n",
              "      <button class=\"colab-df-convert\" onclick=\"convertToInteractive('df-045e9d64-79b2-4698-97f8-0b9be5a9ae57')\"\n",
              "              title=\"Convert this dataframe to an interactive table.\"\n",
              "              style=\"display:none;\">\n",
              "        \n",
              "  <svg xmlns=\"http://www.w3.org/2000/svg\" height=\"24px\"viewBox=\"0 0 24 24\"\n",
              "       width=\"24px\">\n",
              "    <path d=\"M0 0h24v24H0V0z\" fill=\"none\"/>\n",
              "    <path d=\"M18.56 5.44l.94 2.06.94-2.06 2.06-.94-2.06-.94-.94-2.06-.94 2.06-2.06.94zm-11 1L8.5 8.5l.94-2.06 2.06-.94-2.06-.94L8.5 2.5l-.94 2.06-2.06.94zm10 10l.94 2.06.94-2.06 2.06-.94-2.06-.94-.94-2.06-.94 2.06-2.06.94z\"/><path d=\"M17.41 7.96l-1.37-1.37c-.4-.4-.92-.59-1.43-.59-.52 0-1.04.2-1.43.59L10.3 9.45l-7.72 7.72c-.78.78-.78 2.05 0 2.83L4 21.41c.39.39.9.59 1.41.59.51 0 1.02-.2 1.41-.59l7.78-7.78 2.81-2.81c.8-.78.8-2.07 0-2.86zM5.41 20L4 18.59l7.72-7.72 1.47 1.35L5.41 20z\"/>\n",
              "  </svg>\n",
              "      </button>\n",
              "      \n",
              "  <style>\n",
              "    .colab-df-container {\n",
              "      display:flex;\n",
              "      flex-wrap:wrap;\n",
              "      gap: 12px;\n",
              "    }\n",
              "\n",
              "    .colab-df-convert {\n",
              "      background-color: #E8F0FE;\n",
              "      border: none;\n",
              "      border-radius: 50%;\n",
              "      cursor: pointer;\n",
              "      display: none;\n",
              "      fill: #1967D2;\n",
              "      height: 32px;\n",
              "      padding: 0 0 0 0;\n",
              "      width: 32px;\n",
              "    }\n",
              "\n",
              "    .colab-df-convert:hover {\n",
              "      background-color: #E2EBFA;\n",
              "      box-shadow: 0px 1px 2px rgba(60, 64, 67, 0.3), 0px 1px 3px 1px rgba(60, 64, 67, 0.15);\n",
              "      fill: #174EA6;\n",
              "    }\n",
              "\n",
              "    [theme=dark] .colab-df-convert {\n",
              "      background-color: #3B4455;\n",
              "      fill: #D2E3FC;\n",
              "    }\n",
              "\n",
              "    [theme=dark] .colab-df-convert:hover {\n",
              "      background-color: #434B5C;\n",
              "      box-shadow: 0px 1px 3px 1px rgba(0, 0, 0, 0.15);\n",
              "      filter: drop-shadow(0px 1px 2px rgba(0, 0, 0, 0.3));\n",
              "      fill: #FFFFFF;\n",
              "    }\n",
              "  </style>\n",
              "\n",
              "      <script>\n",
              "        const buttonEl =\n",
              "          document.querySelector('#df-045e9d64-79b2-4698-97f8-0b9be5a9ae57 button.colab-df-convert');\n",
              "        buttonEl.style.display =\n",
              "          google.colab.kernel.accessAllowed ? 'block' : 'none';\n",
              "\n",
              "        async function convertToInteractive(key) {\n",
              "          const element = document.querySelector('#df-045e9d64-79b2-4698-97f8-0b9be5a9ae57');\n",
              "          const dataTable =\n",
              "            await google.colab.kernel.invokeFunction('convertToInteractive',\n",
              "                                                     [key], {});\n",
              "          if (!dataTable) return;\n",
              "\n",
              "          const docLinkHtml = 'Like what you see? Visit the ' +\n",
              "            '<a target=\"_blank\" href=https://colab.research.google.com/notebooks/data_table.ipynb>data table notebook</a>'\n",
              "            + ' to learn more about interactive tables.';\n",
              "          element.innerHTML = '';\n",
              "          dataTable['output_type'] = 'display_data';\n",
              "          await google.colab.output.renderOutput(dataTable, element);\n",
              "          const docLink = document.createElement('div');\n",
              "          docLink.innerHTML = docLinkHtml;\n",
              "          element.appendChild(docLink);\n",
              "        }\n",
              "      </script>\n",
              "    </div>\n",
              "  </div>\n",
              "  "
            ]
          },
          "metadata": {},
          "execution_count": 135
        }
      ]
    },
    {
      "cell_type": "code",
      "source": [
        "data['y'].value_counts()"
      ],
      "metadata": {
        "colab": {
          "base_uri": "https://localhost:8080/"
        },
        "id": "63MXkrLrsQdB",
        "outputId": "386b6e34-7cba-4100-b2f3-ec92432bf839"
      },
      "execution_count": null,
      "outputs": [
        {
          "output_type": "execute_result",
          "data": {
            "text/plain": [
              "BOMBAY      418\n",
              "DERMASON    418\n",
              "SIRA        418\n",
              "SEKER       418\n",
              "HOROZ       418\n",
              "CALI        418\n",
              "BARBUNYA    418\n",
              "Name: y, dtype: int64"
            ]
          },
          "metadata": {},
          "execution_count": 136
        }
      ]
    },
    {
      "cell_type": "code",
      "source": [
        "plt.figure(figsize=(10,8))\n",
        "sns.countplot(x=\"y\", data=data);"
      ],
      "metadata": {
        "colab": {
          "base_uri": "https://localhost:8080/",
          "height": 497
        },
        "id": "4uqHxp5BtUCP",
        "outputId": "d3bbc84a-b743-41ba-e041-d9765c4aa0f2"
      },
      "execution_count": null,
      "outputs": [
        {
          "output_type": "display_data",
          "data": {
            "text/plain": [
              "<Figure size 720x576 with 1 Axes>"
            ],
            "image/png": "[encoded data removed]"
          },
          "metadata": {
            "needs_background": "light"
          }
        }
      ]
    },
    {
      "cell_type": "code",
      "source": [
        "# from sklearn import preprocessing\n",
        "\n",
        "# label_encoder = preprocessing.LabelEncoder()\n",
        "# data['y']= label_encoder.fit_transform(data['y'])\n",
        "# data['y'].unique()\n",
        "#y = LabelEncoder().fit_transform(y.astype('str'))"
      ],
      "metadata": {
        "id": "QSZtIHDUukjJ"
      },
      "execution_count": null,
      "outputs": []
    },
    {
      "cell_type": "code",
      "source": [
        "data.replace(['BOMBAY','DERMASON','SIRA','SEKER', 'HOROZ', 'CALI','BARBUNYA'], [0,1,2,3,4,5,6], inplace=True)"
      ],
      "metadata": {
        "id": "pn2QNYGiveyT"
      },
      "execution_count": null,
      "outputs": []
    },
    {
      "cell_type": "code",
      "source": [
        "data['y'].unique()"
      ],
      "metadata": {
        "colab": {
          "base_uri": "https://localhost:8080/"
        },
        "id": "lgOmwtvvwTt-",
        "outputId": "26581208-53ed-4066-c47f-40c5a5b7391f"
      },
      "execution_count": null,
      "outputs": [
        {
          "output_type": "execute_result",
          "data": {
            "text/plain": [
              "array([0, 1, 2, 3, 4, 5, 6])"
            ]
          },
          "metadata": {},
          "execution_count": 140
        }
      ]
    },
    {
      "cell_type": "code",
      "source": [
        "df.columns.tolist()"
      ],
      "metadata": {
        "colab": {
          "base_uri": "https://localhost:8080/"
        },
        "id": "2Ugg7iS8WlQA",
        "outputId": "cb707c14-cf09-4b1d-ee98-cffca4e3e1a2"
      },
      "execution_count": null,
      "outputs": [
        {
          "output_type": "execute_result",
          "data": {
            "text/plain": [
              "['Area',\n",
              " 'Perimeter',\n",
              " 'MajorAxisLength',\n",
              " 'MinorAxisLength',\n",
              " 'AspectRation',\n",
              " 'Eccentricity',\n",
              " 'ConvexArea',\n",
              " 'EquivDiameter',\n",
              " 'Extent',\n",
              " 'Solidity',\n",
              " 'roundness',\n",
              " 'Compactness',\n",
              " 'ShapeFactor1',\n",
              " 'ShapeFactor2',\n",
              " 'ShapeFactor3',\n",
              " 'ShapeFactor4',\n",
              " 'y']"
            ]
          },
          "metadata": {},
          "execution_count": 141
        }
      ]
    },
    {
      "cell_type": "code",
      "source": [
        "from scipy import stats\n",
        "# def removeOutliers(df,Columns):\n",
        "#     z_scores = stats.zscore(df[Columns]) \n",
        "#     abs_z_scores = np.abs(z_scores)\n",
        "#     filtered_entries = (abs_z_scores < 3). all(axis=1)\n",
        "#     new_df = df[filtered_entries]\n",
        "#     return new_df\n",
        "#remove outlier based on each label\n",
        "y_labels = [0,1,2,3,4,5,6]\n",
        "featurs=data.columns.tolist()\n",
        "featurs=featurs[:len(featurs)-1]\n",
        "def removeOutliers_cat(df_raw,Columns):\n",
        "    data= df_raw.copy()\n",
        "    for cat_ in y_labels:\n",
        "        df_ = data[data['y']==cat_]\n",
        "        z_scores = stats.zscore(df_[Columns]) \n",
        "        abs_z_scores = np.abs(z_scores)\n",
        "        filtered_entries = (abs_z_scores < 5).all(axis=1)\n",
        "        df_ = df_[filtered_entries]\n",
        "        data = data[data['y']!=cat_]\n",
        "        data = data.append(df_)\n",
        "    return data\n",
        "\n",
        "df=removeOutliers_cat(data,featurs)    "
      ],
      "metadata": {
        "id": "e76kh52ZV5Xt"
      },
      "execution_count": null,
      "outputs": []
    },
    {
      "cell_type": "code",
      "source": [
        "featurs[:len(featurs)-1]"
      ],
      "metadata": {
        "colab": {
          "base_uri": "https://localhost:8080/"
        },
        "id": "RgkN4gulzYD8",
        "outputId": "f02cf8b3-a1bf-443f-dd9a-345f8eb2409b"
      },
      "execution_count": null,
      "outputs": [
        {
          "output_type": "execute_result",
          "data": {
            "text/plain": [
              "['Area',\n",
              " 'Perimeter',\n",
              " 'MajorAxisLength',\n",
              " 'MinorAxisLength',\n",
              " 'AspectRation',\n",
              " 'Eccentricity',\n",
              " 'ConvexArea',\n",
              " 'EquivDiameter',\n",
              " 'Extent',\n",
              " 'Solidity',\n",
              " 'roundness',\n",
              " 'Compactness',\n",
              " 'ShapeFactor1',\n",
              " 'ShapeFactor2',\n",
              " 'ShapeFactor3']"
            ]
          },
          "metadata": {},
          "execution_count": 143
        }
      ]
    },
    {
      "cell_type": "code",
      "source": [
        "df.shape"
      ],
      "metadata": {
        "colab": {
          "base_uri": "https://localhost:8080/"
        },
        "id": "k6JwL5SjzFL3",
        "outputId": "ebe7b15a-b798-49df-fbc2-dfdd2114ab58"
      },
      "execution_count": null,
      "outputs": [
        {
          "output_type": "execute_result",
          "data": {
            "text/plain": [
              "(2893, 17)"
            ]
          },
          "metadata": {},
          "execution_count": 144
        }
      ]
    },
    {
      "cell_type": "code",
      "source": [
        "X=df.drop(['y'],axis=1).copy()\n",
        "X.head()"
      ],
      "metadata": {
        "colab": {
          "base_uri": "https://localhost:8080/",
          "height": 301
        },
        "id": "WKGVyl1pjA35",
        "outputId": "124739bf-0bba-4b94-f520-f1bcd6377d42"
      },
      "execution_count": null,
      "outputs": [
        {
          "output_type": "execute_result",
          "data": {
            "text/plain": [
              "      Area  Perimeter  MajorAxisLength  MinorAxisLength  AspectRation  \\\n",
              "ID                                                                      \n",
              "18  162230   1486.167       543.407255       381.837178      1.423139   \n",
              "21  203688   1738.084       676.058986       389.116090      1.737422   \n",
              "38  139639   1379.183       473.780598       376.550241      1.258214   \n",
              "47  152063   1455.551       524.784869       371.247487      1.413572   \n",
              "89  197245   1702.646       642.077245       396.085390      1.621058   \n",
              "\n",
              "    Eccentricity  ConvexArea  EquivDiameter    Extent  Solidity  roundness  \\\n",
              "ID                                                                           \n",
              "18      0.711514      163470     454.486140  0.782835  0.992415   0.923009   \n",
              "21      0.817756      207028     509.257908  0.788071  0.983867   0.847293   \n",
              "38      0.606901      140541     421.656136  0.783916  0.993582   0.922514   \n",
              "47      0.706785      153860     440.014346  0.764451  0.988321   0.901942   \n",
              "89      0.787056      200777     501.138837  0.802083  0.982408   0.855002   \n",
              "\n",
              "    Compactness  ShapeFactor1  ShapeFactor2  ShapeFactor3  ShapeFactor4  \n",
              "ID                                                                       \n",
              "18     0.836364      0.003350      0.001011      0.699504      0.995492  \n",
              "21     0.753274      0.003319      0.000659      0.567422      0.985852  \n",
              "38     0.889982      0.003393      0.001313      0.792068      0.996590  \n",
              "47     0.838466      0.003451      0.001052      0.703025      0.993777  \n",
              "89     0.780496      0.003255      0.000745      0.609174      0.987507  "
            ],
            "text/html": [
              "\n",
              "  <div id=\"df-18cac8b1-54b6-4eaf-9297-c6d2c936fc02\">\n",
              "    <div class=\"colab-df-container\">\n",
              "      <div>\n",
              "<style scoped>\n",
              "    .dataframe tbody tr th:only-of-type {\n",
              "        vertical-align: middle;\n",
              "    }\n",
              "\n",
              "    .dataframe tbody tr th {\n",
              "        vertical-align: top;\n",
              "    }\n",
              "\n",
              "    .dataframe thead th {\n",
              "        text-align: right;\n",
              "    }\n",
              "</style>\n",
              "<table border=\"1\" class=\"dataframe\">\n",
              "  <thead>\n",
              "    <tr style=\"text-align: right;\">\n",
              "      <th></th>\n",
              "      <th>Area</th>\n",
              "      <th>Perimeter</th>\n",
              "      <th>MajorAxisLength</th>\n",
              "      <th>MinorAxisLength</th>\n",
              "      <th>AspectRation</th>\n",
              "      <th>Eccentricity</th>\n",
              "      <th>ConvexArea</th>\n",
              "      <th>EquivDiameter</th>\n",
              "      <th>Extent</th>\n",
              "      <th>Solidity</th>\n",
              "      <th>roundness</th>\n",
              "      <th>Compactness</th>\n",
              "      <th>ShapeFactor1</th>\n",
              "      <th>ShapeFactor2</th>\n",
              "      <th>ShapeFactor3</th>\n",
              "      <th>ShapeFactor4</th>\n",
              "    </tr>\n",
              "    <tr>\n",
              "      <th>ID</th>\n",
              "      <th></th>\n",
              "      <th></th>\n",
              "      <th></th>\n",
              "      <th></th>\n",
              "      <th></th>\n",
              "      <th></th>\n",
              "      <th></th>\n",
              "      <th></th>\n",
              "      <th></th>\n",
              "      <th></th>\n",
              "      <th></th>\n",
              "      <th></th>\n",
              "      <th></th>\n",
              "      <th></th>\n",
              "      <th></th>\n",
              "      <th></th>\n",
              "    </tr>\n",
              "  </thead>\n",
              "  <tbody>\n",
              "    <tr>\n",
              "      <th>18</th>\n",
              "      <td>162230</td>\n",
              "      <td>1486.167</td>\n",
              "      <td>543.407255</td>\n",
              "      <td>381.837178</td>\n",
              "      <td>1.423139</td>\n",
              "      <td>0.711514</td>\n",
              "      <td>163470</td>\n",
              "      <td>454.486140</td>\n",
              "      <td>0.782835</td>\n",
              "      <td>0.992415</td>\n",
              "      <td>0.923009</td>\n",
              "      <td>0.836364</td>\n",
              "      <td>0.003350</td>\n",
              "      <td>0.001011</td>\n",
              "      <td>0.699504</td>\n",
              "      <td>0.995492</td>\n",
              "    </tr>\n",
              "    <tr>\n",
              "      <th>21</th>\n",
              "      <td>203688</td>\n",
              "      <td>1738.084</td>\n",
              "      <td>676.058986</td>\n",
              "      <td>389.116090</td>\n",
              "      <td>1.737422</td>\n",
              "      <td>0.817756</td>\n",
              "      <td>207028</td>\n",
              "      <td>509.257908</td>\n",
              "      <td>0.788071</td>\n",
              "      <td>0.983867</td>\n",
              "      <td>0.847293</td>\n",
              "      <td>0.753274</td>\n",
              "      <td>0.003319</td>\n",
              "      <td>0.000659</td>\n",
              "      <td>0.567422</td>\n",
              "      <td>0.985852</td>\n",
              "    </tr>\n",
              "    <tr>\n",
              "      <th>38</th>\n",
              "      <td>139639</td>\n",
              "      <td>1379.183</td>\n",
              "      <td>473.780598</td>\n",
              "      <td>376.550241</td>\n",
              "      <td>1.258214</td>\n",
              "      <td>0.606901</td>\n",
              "      <td>140541</td>\n",
              "      <td>421.656136</td>\n",
              "      <td>0.783916</td>\n",
              "      <td>0.993582</td>\n",
              "      <td>0.922514</td>\n",
              "      <td>0.889982</td>\n",
              "      <td>0.003393</td>\n",
              "      <td>0.001313</td>\n",
              "      <td>0.792068</td>\n",
              "      <td>0.996590</td>\n",
              "    </tr>\n",
              "    <tr>\n",
              "      <th>47</th>\n",
              "      <td>152063</td>\n",
              "      <td>1455.551</td>\n",
              "      <td>524.784869</td>\n",
              "      <td>371.247487</td>\n",
              "      <td>1.413572</td>\n",
              "      <td>0.706785</td>\n",
              "      <td>153860</td>\n",
              "      <td>440.014346</td>\n",
              "      <td>0.764451</td>\n",
              "      <td>0.988321</td>\n",
              "      <td>0.901942</td>\n",
              "      <td>0.838466</td>\n",
              "      <td>0.003451</td>\n",
              "      <td>0.001052</td>\n",
              "      <td>0.703025</td>\n",
              "      <td>0.993777</td>\n",
              "    </tr>\n",
              "    <tr>\n",
              "      <th>89</th>\n",
              "      <td>197245</td>\n",
              "      <td>1702.646</td>\n",
              "      <td>642.077245</td>\n",
              "      <td>396.085390</td>\n",
              "      <td>1.621058</td>\n",
              "      <td>0.787056</td>\n",
              "      <td>200777</td>\n",
              "      <td>501.138837</td>\n",
              "      <td>0.802083</td>\n",
              "      <td>0.982408</td>\n",
              "      <td>0.855002</td>\n",
              "      <td>0.780496</td>\n",
              "      <td>0.003255</td>\n",
              "      <td>0.000745</td>\n",
              "      <td>0.609174</td>\n",
              "      <td>0.987507</td>\n",
              "    </tr>\n",
              "  </tbody>\n",
              "</table>\n",
              "</div>\n",
              "      <button class=\"colab-df-convert\" onclick=\"convertToInteractive('df-18cac8b1-54b6-4eaf-9297-c6d2c936fc02')\"\n",
              "              title=\"Convert this dataframe to an interactive table.\"\n",
              "              style=\"display:none;\">\n",
              "        \n",
              "  <svg xmlns=\"http://www.w3.org/2000/svg\" height=\"24px\"viewBox=\"0 0 24 24\"\n",
              "       width=\"24px\">\n",
              "    <path d=\"M0 0h24v24H0V0z\" fill=\"none\"/>\n",
              "    <path d=\"M18.56 5.44l.94 2.06.94-2.06 2.06-.94-2.06-.94-.94-2.06-.94 2.06-2.06.94zm-11 1L8.5 8.5l.94-2.06 2.06-.94-2.06-.94L8.5 2.5l-.94 2.06-2.06.94zm10 10l.94 2.06.94-2.06 2.06-.94-2.06-.94-.94-2.06-.94 2.06-2.06.94z\"/><path d=\"M17.41 7.96l-1.37-1.37c-.4-.4-.92-.59-1.43-.59-.52 0-1.04.2-1.43.59L10.3 9.45l-7.72 7.72c-.78.78-.78 2.05 0 2.83L4 21.41c.39.39.9.59 1.41.59.51 0 1.02-.2 1.41-.59l7.78-7.78 2.81-2.81c.8-.78.8-2.07 0-2.86zM5.41 20L4 18.59l7.72-7.72 1.47 1.35L5.41 20z\"/>\n",
              "  </svg>\n",
              "      </button>\n",
              "      \n",
              "  <style>\n",
              "    .colab-df-container {\n",
              "      display:flex;\n",
              "      flex-wrap:wrap;\n",
              "      gap: 12px;\n",
              "    }\n",
              "\n",
              "    .colab-df-convert {\n",
              "      background-color: #E8F0FE;\n",
              "      border: none;\n",
              "      border-radius: 50%;\n",
              "      cursor: pointer;\n",
              "      display: none;\n",
              "      fill: #1967D2;\n",
              "      height: 32px;\n",
              "      padding: 0 0 0 0;\n",
              "      width: 32px;\n",
              "    }\n",
              "\n",
              "    .colab-df-convert:hover {\n",
              "      background-color: #E2EBFA;\n",
              "      box-shadow: 0px 1px 2px rgba(60, 64, 67, 0.3), 0px 1px 3px 1px rgba(60, 64, 67, 0.15);\n",
              "      fill: #174EA6;\n",
              "    }\n",
              "\n",
              "    [theme=dark] .colab-df-convert {\n",
              "      background-color: #3B4455;\n",
              "      fill: #D2E3FC;\n",
              "    }\n",
              "\n",
              "    [theme=dark] .colab-df-convert:hover {\n",
              "      background-color: #434B5C;\n",
              "      box-shadow: 0px 1px 3px 1px rgba(0, 0, 0, 0.15);\n",
              "      filter: drop-shadow(0px 1px 2px rgba(0, 0, 0, 0.3));\n",
              "      fill: #FFFFFF;\n",
              "    }\n",
              "  </style>\n",
              "\n",
              "      <script>\n",
              "        const buttonEl =\n",
              "          document.querySelector('#df-18cac8b1-54b6-4eaf-9297-c6d2c936fc02 button.colab-df-convert');\n",
              "        buttonEl.style.display =\n",
              "          google.colab.kernel.accessAllowed ? 'block' : 'none';\n",
              "\n",
              "        async function convertToInteractive(key) {\n",
              "          const element = document.querySelector('#df-18cac8b1-54b6-4eaf-9297-c6d2c936fc02');\n",
              "          const dataTable =\n",
              "            await google.colab.kernel.invokeFunction('convertToInteractive',\n",
              "                                                     [key], {});\n",
              "          if (!dataTable) return;\n",
              "\n",
              "          const docLinkHtml = 'Like what you see? Visit the ' +\n",
              "            '<a target=\"_blank\" href=https://colab.research.google.com/notebooks/data_table.ipynb>data table notebook</a>'\n",
              "            + ' to learn more about interactive tables.';\n",
              "          element.innerHTML = '';\n",
              "          dataTable['output_type'] = 'display_data';\n",
              "          await google.colab.output.renderOutput(dataTable, element);\n",
              "          const docLink = document.createElement('div');\n",
              "          docLink.innerHTML = docLinkHtml;\n",
              "          element.appendChild(docLink);\n",
              "        }\n",
              "      </script>\n",
              "    </div>\n",
              "  </div>\n",
              "  "
            ]
          },
          "metadata": {},
          "execution_count": 145
        }
      ]
    },
    {
      "cell_type": "code",
      "source": [
        "X.shape"
      ],
      "metadata": {
        "colab": {
          "base_uri": "https://localhost:8080/"
        },
        "id": "TcJ4zgcyjWYu",
        "outputId": "fda8ec0c-7593-4d05-93eb-afc72b737718"
      },
      "execution_count": null,
      "outputs": [
        {
          "output_type": "execute_result",
          "data": {
            "text/plain": [
              "(2893, 16)"
            ]
          },
          "metadata": {},
          "execution_count": 146
        }
      ]
    },
    {
      "cell_type": "code",
      "source": [
        "y=df['y'].copy()\n",
        "y.shape"
      ],
      "metadata": {
        "colab": {
          "base_uri": "https://localhost:8080/"
        },
        "id": "fW2Ek6N7jbzm",
        "outputId": "22ca1c3b-a4f4-4110-9a04-60f66a55e0b6"
      },
      "execution_count": null,
      "outputs": [
        {
          "output_type": "execute_result",
          "data": {
            "text/plain": [
              "(2893,)"
            ]
          },
          "metadata": {},
          "execution_count": 147
        }
      ]
    },
    {
      "cell_type": "code",
      "source": [
        "y=y.values\n",
        "y=y.reshape((-1,1))\n",
        "y.shape"
      ],
      "metadata": {
        "colab": {
          "base_uri": "https://localhost:8080/"
        },
        "id": "2rFQ6UDFjkfQ",
        "outputId": "c136b987-1366-4cbb-af73-dfacbfa29a17"
      },
      "execution_count": null,
      "outputs": [
        {
          "output_type": "execute_result",
          "data": {
            "text/plain": [
              "(2893, 1)"
            ]
          },
          "metadata": {},
          "execution_count": 148
        }
      ]
    },
    {
      "cell_type": "code",
      "source": [
        ""
      ],
      "metadata": {
        "id": "9HBty1I4doSd"
      },
      "execution_count": null,
      "outputs": []
    },
    {
      "cell_type": "code",
      "source": [
        "# from sklearn.preprocessing import QuantileTransformer\n",
        "# rng = np.random.RandomState(0)\n",
        "# X = np.sort(rng.normal(loc=0.5, scale=0.25, size=(25, 1)), axis=0)\n",
        "# qt = QuantileTransformer(n_quantiles=10, random_state=0)\n",
        "# qt.fit_transform(X)"
      ],
      "metadata": {
        "id": "0DynBladcKdo"
      },
      "execution_count": null,
      "outputs": []
    },
    {
      "cell_type": "code",
      "source": [
        "from sklearn.preprocessing import StandardScaler\n",
        "\n",
        "# scaler = StandardScaler()\n",
        "# scaledX =pd.DataFrame(scaler.fit_transform(X),index=df.index)\n",
        "# # X=pd.DataFrame(X)\n",
        "# scaledX.head()\n",
        "# X_scaled= StandardScaler().fit_transform(X.values)\n",
        "# X = pd.DataFrame(X_scaled, index=X.index, columns=X.columns)\n",
        "# X.head()\n",
        "\n",
        "\n",
        "Scaling_StScalar = StandardScaler().fit(X.values)\n",
        "X = pd.DataFrame(Scaling_StScalar.transform(X), columns=X.columns)\n",
        "\n",
        "X.head()"
      ],
      "metadata": {
        "colab": {
          "base_uri": "https://localhost:8080/",
          "height": 307
        },
        "id": "MvGjYQ5D0i3K",
        "outputId": "37e91780-923a-47a5-d289-4e1cd50465d0"
      },
      "execution_count": null,
      "outputs": [
        {
          "output_type": "stream",
          "name": "stderr",
          "text": [
            "/usr/local/lib/python3.7/dist-packages/sklearn/base.py:444: UserWarning: X has feature names, but StandardScaler was fitted without feature names\n",
            "  f\"X has feature names, but {self.__class__.__name__} was fitted without\"\n"
          ]
        },
        {
          "output_type": "execute_result",
          "data": {
            "text/plain": [
              "       Area  Perimeter  MajorAxisLength  MinorAxisLength  AspectRation  \\\n",
              "0  1.979512   1.722329         1.554734         2.288237     -0.725350   \n",
              "1  2.870060   2.564994         2.700246         2.396355      0.575035   \n",
              "2  1.494241   1.364467         0.953474         2.209707     -1.407747   \n",
              "3  1.761118   1.619919         1.393921         2.130941     -0.764935   \n",
              "4  2.731660   2.446454         2.406797         2.499875      0.093563   \n",
              "\n",
              "   Eccentricity  ConvexArea  EquivDiameter    Extent  Solidity  roundness  \\\n",
              "0     -0.504750    1.957335       1.961730  0.608729  1.210801   1.003593   \n",
              "1      0.672988    2.879774       2.599862  0.713681 -0.644454  -0.287187   \n",
              "2     -1.664428    1.471761       1.579236  0.630403  1.464193   0.995153   \n",
              "3     -0.557164    1.753821       1.793123  0.240242  0.322207   0.644450   \n",
              "4      0.332671    2.747395       2.505269  0.994529 -0.961037  -0.155771   \n",
              "\n",
              "   Compactness  ShapeFactor1  ShapeFactor2  ShapeFactor3  ShapeFactor4  \n",
              "0     0.673138     -1.923966     -0.859148      0.646751      0.219339  \n",
              "1    -0.697396     -1.946013     -1.430652     -0.710867     -1.976705  \n",
              "2     1.557552     -1.892697     -0.368533      1.598172      0.469614  \n",
              "3     0.707816     -1.850650     -0.792309      0.682943     -0.171346  \n",
              "4    -0.248380     -1.992148     -1.291017     -0.281715     -1.599786  "
            ],
            "text/html": [
              "\n",
              "  <div id=\"df-e59e4cf8-24eb-49e5-aa1e-b9b373e1cd63\">\n",
              "    <div class=\"colab-df-container\">\n",
              "      <div>\n",
              "<style scoped>\n",
              "    .dataframe tbody tr th:only-of-type {\n",
              "        vertical-align: middle;\n",
              "    }\n",
              "\n",
              "    .dataframe tbody tr th {\n",
              "        vertical-align: top;\n",
              "    }\n",
              "\n",
              "    .dataframe thead th {\n",
              "        text-align: right;\n",
              "    }\n",
              "</style>\n",
              "<table border=\"1\" class=\"dataframe\">\n",
              "  <thead>\n",
              "    <tr style=\"text-align: right;\">\n",
              "      <th></th>\n",
              "      <th>Area</th>\n",
              "      <th>Perimeter</th>\n",
              "      <th>MajorAxisLength</th>\n",
              "      <th>MinorAxisLength</th>\n",
              "      <th>AspectRation</th>\n",
              "      <th>Eccentricity</th>\n",
              "      <th>ConvexArea</th>\n",
              "      <th>EquivDiameter</th>\n",
              "      <th>Extent</th>\n",
              "      <th>Solidity</th>\n",
              "      <th>roundness</th>\n",
              "      <th>Compactness</th>\n",
              "      <th>ShapeFactor1</th>\n",
              "      <th>ShapeFactor2</th>\n",
              "      <th>ShapeFactor3</th>\n",
              "      <th>ShapeFactor4</th>\n",
              "    </tr>\n",
              "  </thead>\n",
              "  <tbody>\n",
              "    <tr>\n",
              "      <th>0</th>\n",
              "      <td>1.979512</td>\n",
              "      <td>1.722329</td>\n",
              "      <td>1.554734</td>\n",
              "      <td>2.288237</td>\n",
              "      <td>-0.725350</td>\n",
              "      <td>-0.504750</td>\n",
              "      <td>1.957335</td>\n",
              "      <td>1.961730</td>\n",
              "      <td>0.608729</td>\n",
              "      <td>1.210801</td>\n",
              "      <td>1.003593</td>\n",
              "      <td>0.673138</td>\n",
              "      <td>-1.923966</td>\n",
              "      <td>-0.859148</td>\n",
              "      <td>0.646751</td>\n",
              "      <td>0.219339</td>\n",
              "    </tr>\n",
              "    <tr>\n",
              "      <th>1</th>\n",
              "      <td>2.870060</td>\n",
              "      <td>2.564994</td>\n",
              "      <td>2.700246</td>\n",
              "      <td>2.396355</td>\n",
              "      <td>0.575035</td>\n",
              "      <td>0.672988</td>\n",
              "      <td>2.879774</td>\n",
              "      <td>2.599862</td>\n",
              "      <td>0.713681</td>\n",
              "      <td>-0.644454</td>\n",
              "      <td>-0.287187</td>\n",
              "      <td>-0.697396</td>\n",
              "      <td>-1.946013</td>\n",
              "      <td>-1.430652</td>\n",
              "      <td>-0.710867</td>\n",
              "      <td>-1.976705</td>\n",
              "    </tr>\n",
              "    <tr>\n",
              "      <th>2</th>\n",
              "      <td>1.494241</td>\n",
              "      <td>1.364467</td>\n",
              "      <td>0.953474</td>\n",
              "      <td>2.209707</td>\n",
              "      <td>-1.407747</td>\n",
              "      <td>-1.664428</td>\n",
              "      <td>1.471761</td>\n",
              "      <td>1.579236</td>\n",
              "      <td>0.630403</td>\n",
              "      <td>1.464193</td>\n",
              "      <td>0.995153</td>\n",
              "      <td>1.557552</td>\n",
              "      <td>-1.892697</td>\n",
              "      <td>-0.368533</td>\n",
              "      <td>1.598172</td>\n",
              "      <td>0.469614</td>\n",
              "    </tr>\n",
              "    <tr>\n",
              "      <th>3</th>\n",
              "      <td>1.761118</td>\n",
              "      <td>1.619919</td>\n",
              "      <td>1.393921</td>\n",
              "      <td>2.130941</td>\n",
              "      <td>-0.764935</td>\n",
              "      <td>-0.557164</td>\n",
              "      <td>1.753821</td>\n",
              "      <td>1.793123</td>\n",
              "      <td>0.240242</td>\n",
              "      <td>0.322207</td>\n",
              "      <td>0.644450</td>\n",
              "      <td>0.707816</td>\n",
              "      <td>-1.850650</td>\n",
              "      <td>-0.792309</td>\n",
              "      <td>0.682943</td>\n",
              "      <td>-0.171346</td>\n",
              "    </tr>\n",
              "    <tr>\n",
              "      <th>4</th>\n",
              "      <td>2.731660</td>\n",
              "      <td>2.446454</td>\n",
              "      <td>2.406797</td>\n",
              "      <td>2.499875</td>\n",
              "      <td>0.093563</td>\n",
              "      <td>0.332671</td>\n",
              "      <td>2.747395</td>\n",
              "      <td>2.505269</td>\n",
              "      <td>0.994529</td>\n",
              "      <td>-0.961037</td>\n",
              "      <td>-0.155771</td>\n",
              "      <td>-0.248380</td>\n",
              "      <td>-1.992148</td>\n",
              "      <td>-1.291017</td>\n",
              "      <td>-0.281715</td>\n",
              "      <td>-1.599786</td>\n",
              "    </tr>\n",
              "  </tbody>\n",
              "</table>\n",
              "</div>\n",
              "      <button class=\"colab-df-convert\" onclick=\"convertToInteractive('df-e59e4cf8-24eb-49e5-aa1e-b9b373e1cd63')\"\n",
              "              title=\"Convert this dataframe to an interactive table.\"\n",
              "              style=\"display:none;\">\n",
              "        \n",
              "  <svg xmlns=\"http://www.w3.org/2000/svg\" height=\"24px\"viewBox=\"0 0 24 24\"\n",
              "       width=\"24px\">\n",
              "    <path d=\"M0 0h24v24H0V0z\" fill=\"none\"/>\n",
              "    <path d=\"M18.56 5.44l.94 2.06.94-2.06 2.06-.94-2.06-.94-.94-2.06-.94 2.06-2.06.94zm-11 1L8.5 8.5l.94-2.06 2.06-.94-2.06-.94L8.5 2.5l-.94 2.06-2.06.94zm10 10l.94 2.06.94-2.06 2.06-.94-2.06-.94-.94-2.06-.94 2.06-2.06.94z\"/><path d=\"M17.41 7.96l-1.37-1.37c-.4-.4-.92-.59-1.43-.59-.52 0-1.04.2-1.43.59L10.3 9.45l-7.72 7.72c-.78.78-.78 2.05 0 2.83L4 21.41c.39.39.9.59 1.41.59.51 0 1.02-.2 1.41-.59l7.78-7.78 2.81-2.81c.8-.78.8-2.07 0-2.86zM5.41 20L4 18.59l7.72-7.72 1.47 1.35L5.41 20z\"/>\n",
              "  </svg>\n",
              "      </button>\n",
              "      \n",
              "  <style>\n",
              "    .colab-df-container {\n",
              "      display:flex;\n",
              "      flex-wrap:wrap;\n",
              "      gap: 12px;\n",
              "    }\n",
              "\n",
              "    .colab-df-convert {\n",
              "      background-color: #E8F0FE;\n",
              "      border: none;\n",
              "      border-radius: 50%;\n",
              "      cursor: pointer;\n",
              "      display: none;\n",
              "      fill: #1967D2;\n",
              "      height: 32px;\n",
              "      padding: 0 0 0 0;\n",
              "      width: 32px;\n",
              "    }\n",
              "\n",
              "    .colab-df-convert:hover {\n",
              "      background-color: #E2EBFA;\n",
              "      box-shadow: 0px 1px 2px rgba(60, 64, 67, 0.3), 0px 1px 3px 1px rgba(60, 64, 67, 0.15);\n",
              "      fill: #174EA6;\n",
              "    }\n",
              "\n",
              "    [theme=dark] .colab-df-convert {\n",
              "      background-color: #3B4455;\n",
              "      fill: #D2E3FC;\n",
              "    }\n",
              "\n",
              "    [theme=dark] .colab-df-convert:hover {\n",
              "      background-color: #434B5C;\n",
              "      box-shadow: 0px 1px 3px 1px rgba(0, 0, 0, 0.15);\n",
              "      filter: drop-shadow(0px 1px 2px rgba(0, 0, 0, 0.3));\n",
              "      fill: #FFFFFF;\n",
              "    }\n",
              "  </style>\n",
              "\n",
              "      <script>\n",
              "        const buttonEl =\n",
              "          document.querySelector('#df-e59e4cf8-24eb-49e5-aa1e-b9b373e1cd63 button.colab-df-convert');\n",
              "        buttonEl.style.display =\n",
              "          google.colab.kernel.accessAllowed ? 'block' : 'none';\n",
              "\n",
              "        async function convertToInteractive(key) {\n",
              "          const element = document.querySelector('#df-e59e4cf8-24eb-49e5-aa1e-b9b373e1cd63');\n",
              "          const dataTable =\n",
              "            await google.colab.kernel.invokeFunction('convertToInteractive',\n",
              "                                                     [key], {});\n",
              "          if (!dataTable) return;\n",
              "\n",
              "          const docLinkHtml = 'Like what you see? Visit the ' +\n",
              "            '<a target=\"_blank\" href=https://colab.research.google.com/notebooks/data_table.ipynb>data table notebook</a>'\n",
              "            + ' to learn more about interactive tables.';\n",
              "          element.innerHTML = '';\n",
              "          dataTable['output_type'] = 'display_data';\n",
              "          await google.colab.output.renderOutput(dataTable, element);\n",
              "          const docLink = document.createElement('div');\n",
              "          docLink.innerHTML = docLinkHtml;\n",
              "          element.appendChild(docLink);\n",
              "        }\n",
              "      </script>\n",
              "    </div>\n",
              "  </div>\n",
              "  "
            ]
          },
          "metadata": {},
          "execution_count": 150
        }
      ]
    },
    {
      "cell_type": "code",
      "source": [
        "X.shape"
      ],
      "metadata": {
        "colab": {
          "base_uri": "https://localhost:8080/"
        },
        "id": "IdfhXuZAcP3F",
        "outputId": "5fc0eaeb-a95d-4e1b-b7eb-f74b087f6f25"
      },
      "execution_count": null,
      "outputs": [
        {
          "output_type": "execute_result",
          "data": {
            "text/plain": [
              "(2893, 16)"
            ]
          },
          "metadata": {},
          "execution_count": 151
        }
      ]
    },
    {
      "cell_type": "code",
      "source": [
        "X.isna().sum().sum()"
      ],
      "metadata": {
        "colab": {
          "base_uri": "https://localhost:8080/"
        },
        "id": "NgIdS3Fcm5Ot",
        "outputId": "289b2bba-7932-41a2-a70e-eff3bd139bef"
      },
      "execution_count": null,
      "outputs": [
        {
          "output_type": "execute_result",
          "data": {
            "text/plain": [
              "0"
            ]
          },
          "metadata": {},
          "execution_count": 152
        }
      ]
    },
    {
      "cell_type": "code",
      "source": [
        "from sklearn.decomposition import PCA\n",
        "pca = PCA(n_components=12)\n",
        "pca.fit(X)\n",
        "pca_features = pca.transform(X)\n",
        "print(pca_features.shape)"
      ],
      "metadata": {
        "colab": {
          "base_uri": "https://localhost:8080/"
        },
        "id": "5NsM9KCl6vDw",
        "outputId": "86028c2d-f486-4d20-c8e8-b26fd58ce9e5"
      },
      "execution_count": null,
      "outputs": [
        {
          "output_type": "stream",
          "name": "stdout",
          "text": [
            "(2893, 12)\n"
          ]
        }
      ]
    },
    {
      "cell_type": "code",
      "source": [
        "from sklearn.model_selection import train_test_split\n",
        "X_train,X_test, y_train, y_test = train_test_split(pca_features, y, test_size=0.2,stratify=y, random_state=0)"
      ],
      "metadata": {
        "id": "o2QpUcZJvCi9"
      },
      "execution_count": null,
      "outputs": []
    },
    {
      "cell_type": "code",
      "source": [
        "from sklearn.neighbors import KNeighborsClassifier\n",
        "from sklearn.tree import DecisionTreeClassifier\n",
        "from sklearn.pipeline import Pipeline\n",
        "from sklearn.preprocessing import RobustScaler,StandardScaler\n",
        "from sklearn.model_selection import GridSearchCV\n",
        "from sklearn.pipeline import make_pipeline\n",
        "from sklearn.ensemble import RandomForestClassifier\n",
        "from sklearn.neural_network import MLPClassifier\n",
        "from sklearn.model_selection import cross_val_score\n",
        "import xgboost as xgb\n",
        "from xgboost import XGBClassifier\n",
        "from sklearn.metrics import accuracy_score\n",
        "from sklearn.ensemble import BaggingClassifier"
      ],
      "metadata": {
        "id": "nabrV1MVTxnB"
      },
      "execution_count": null,
      "outputs": []
    },
    {
      "cell_type": "code",
      "source": [
        "#alpha=1e-2, hidden_layer_sizes=(8, 6)\n",
        "#'identity', 'logistic', 'relu', 'softmax', 'tanh'\n",
        "clf = MLPClassifier(solver='lbfgs', alpha=1e-2,activation='relu',early_stopping=True, hidden_layer_sizes=(8,6), random_state=0)\n",
        "steps=[('scaler', StandardScaler()),('MLP', clf)]\n",
        "MLP_pipeline=Pipeline(steps).fit(X_train,y_train)\n",
        "print(MLP_pipeline.score(X_train, y_train))\n",
        "print(MLP_pipeline.score(X_test,y_test))"
      ],
      "metadata": {
        "colab": {
          "base_uri": "https://localhost:8080/"
        },
        "id": "7KjXX_VLTmQ3",
        "outputId": "17b87af9-ede7-47ab-f670-7bfdf87f4b10"
      },
      "execution_count": null,
      "outputs": [
        {
          "output_type": "stream",
          "name": "stderr",
          "text": [
            "/usr/local/lib/python3.7/dist-packages/sklearn/neural_network/_multilayer_perceptron.py:1109: DataConversionWarning: A column-vector y was passed when a 1d array was expected. Please change the shape of y to (n_samples, ), for example using ravel().\n",
            "  y = column_or_1d(y, warn=True)\n"
          ]
        },
        {
          "output_type": "stream",
          "name": "stdout",
          "text": [
            "0.9567847882454624\n",
            "0.9395509499136442\n"
          ]
        },
        {
          "output_type": "stream",
          "name": "stderr",
          "text": [
            "/usr/local/lib/python3.7/dist-packages/sklearn/neural_network/_multilayer_perceptron.py:549: ConvergenceWarning: lbfgs failed to converge (status=1):\n",
            "STOP: TOTAL NO. of ITERATIONS REACHED LIMIT.\n",
            "\n",
            "Increase the number of iterations (max_iter) or scale the data as shown in:\n",
            "    https://scikit-learn.org/stable/modules/preprocessing.html\n",
            "  self.n_iter_ = _check_optimize_result(\"lbfgs\", opt_res, self.max_iter)\n"
          ]
        }
      ]
    },
    {
      "cell_type": "code",
      "source": [
        "clf = MLPClassifier(solver='lbfgs', alpha=1e-2,activation='relu',early_stopping=True, hidden_layer_sizes=(8,5), random_state=0)\n",
        "MLP_pipeline=clf.fit(X_train,y_train)\n",
        "print(MLP_pipeline.score(X_train, y_train))\n",
        "print(MLP_pipeline.score(X_test,y_test))"
      ],
      "metadata": {
        "colab": {
          "base_uri": "https://localhost:8080/"
        },
        "id": "T_HOPOtdeMwV",
        "outputId": "74a61b17-be14-49bb-9a08-09c3c2a1809d"
      },
      "execution_count": null,
      "outputs": [
        {
          "output_type": "stream",
          "name": "stderr",
          "text": [
            "/usr/local/lib/python3.7/dist-packages/sklearn/neural_network/_multilayer_perceptron.py:1109: DataConversionWarning: A column-vector y was passed when a 1d array was expected. Please change the shape of y to (n_samples, ), for example using ravel().\n",
            "  y = column_or_1d(y, warn=True)\n"
          ]
        },
        {
          "output_type": "stream",
          "name": "stdout",
          "text": [
            "0.9464131374243734\n",
            "0.9499136442141624\n"
          ]
        },
        {
          "output_type": "stream",
          "name": "stderr",
          "text": [
            "/usr/local/lib/python3.7/dist-packages/sklearn/neural_network/_multilayer_perceptron.py:549: ConvergenceWarning: lbfgs failed to converge (status=1):\n",
            "STOP: TOTAL NO. of ITERATIONS REACHED LIMIT.\n",
            "\n",
            "Increase the number of iterations (max_iter) or scale the data as shown in:\n",
            "    https://scikit-learn.org/stable/modules/preprocessing.html\n",
            "  self.n_iter_ = _check_optimize_result(\"lbfgs\", opt_res, self.max_iter)\n"
          ]
        }
      ]
    },
    {
      "cell_type": "code",
      "source": [
        "model = RandomForestClassifier(max_depth=10, random_state=0, min_samples_leaf=10, \n",
        "                            max_features=0.11, \n",
        "                            n_estimators=200)\n",
        "#steps=[('scaler', StandardScaler()),('RandomForest', model)]\n",
        "RF_pipeline=model.fit(X_train, y_train)"
      ],
      "metadata": {
        "colab": {
          "base_uri": "https://localhost:8080/"
        },
        "id": "pMZAvuFYUaQO",
        "outputId": "dacd2e1a-0edf-4d49-d07f-5fc521a7b504"
      },
      "execution_count": null,
      "outputs": [
        {
          "output_type": "stream",
          "name": "stderr",
          "text": [
            "/usr/local/lib/python3.7/dist-packages/ipykernel_launcher.py:5: DataConversionWarning: A column-vector y was passed when a 1d array was expected. Please change the shape of y to (n_samples,), for example using ravel().\n",
            "  \"\"\"\n"
          ]
        }
      ]
    },
    {
      "cell_type": "code",
      "source": [
        "print(RF_pipeline.score(X_train, y_train))\n",
        "print(RF_pipeline.score(X_test,y_test))"
      ],
      "metadata": {
        "colab": {
          "base_uri": "https://localhost:8080/"
        },
        "id": "3nGLbWeXYJjP",
        "outputId": "5937d4e6-946e-4245-c115-a98818122a8c"
      },
      "execution_count": null,
      "outputs": [
        {
          "output_type": "stream",
          "name": "stdout",
          "text": [
            "0.9515989628349178\n",
            "0.9309153713298791\n"
          ]
        }
      ]
    },
    {
      "cell_type": "code",
      "source": [
        "xgb_model = XGBClassifier(use_label_encoder=False, eval_metric='mlogloss',random_state=0)\n",
        "steps=[('scaler', StandardScaler()),('XGboost', xgb_model)]\n",
        "\n",
        "xgb_pipeline=xgb_model.fit(X_train, y_train)\n",
        "print(xgb_pipeline.score(X_train, y_train))\n",
        "print(xgb_pipeline.score(X_test,y_test))"
      ],
      "metadata": {
        "colab": {
          "base_uri": "https://localhost:8080/"
        },
        "id": "d2vUyYT-Verf",
        "outputId": "1fa48006-6ad5-41ba-d53d-6b56d54a8222"
      },
      "execution_count": null,
      "outputs": [
        {
          "output_type": "stream",
          "name": "stderr",
          "text": [
            "/usr/local/lib/python3.7/dist-packages/sklearn/preprocessing/_label.py:98: DataConversionWarning: A column-vector y was passed when a 1d array was expected. Please change the shape of y to (n_samples, ), for example using ravel().\n",
            "  y = column_or_1d(y, warn=True)\n",
            "/usr/local/lib/python3.7/dist-packages/sklearn/preprocessing/_label.py:133: DataConversionWarning: A column-vector y was passed when a 1d array was expected. Please change the shape of y to (n_samples, ), for example using ravel().\n",
            "  y = column_or_1d(y, warn=True)\n"
          ]
        },
        {
          "output_type": "stream",
          "name": "stdout",
          "text": [
            "0.9822817631806395\n",
            "0.9395509499136442\n"
          ]
        }
      ]
    },
    {
      "cell_type": "code",
      "source": [
        "# dt =  RandomForestClassifier(max_depth=5, random_state=0, min_samples_leaf=10, \n",
        "#                             max_features=0.11, )\n",
        "# bg_model = BaggingClassifier(base_estimator=dt, \n",
        "#                        verbose=False, \n",
        "#                        n_estimators=300,\n",
        "#                        random_state=0)\n",
        "# steps=[('scaler', StandardScaler()),('Bagging', bg_model)]\n",
        "\n",
        "# bagg_pipeline=Pipeline(steps).fit(X_train, y_train)\n",
        "# print(bagg_pipeline.score(X_train, y_train))\n",
        "# print(bagg_pipeline.score(X_test,y_test))"
      ],
      "metadata": {
        "id": "eGBGMcm5Yn65"
      },
      "execution_count": null,
      "outputs": []
    },
    {
      "cell_type": "code",
      "source": [
        "classifiers = [('MLP', MLP_pipeline),('RandomForest', RF_pipeline),('XGboost', xgb_pipeline)]"
      ],
      "metadata": {
        "id": "sYsf06cxVz4A"
      },
      "execution_count": null,
      "outputs": []
    },
    {
      "cell_type": "code",
      "source": [
        "from sklearn.ensemble import VotingClassifier\n",
        "vc1 = VotingClassifier(estimators=classifiers)\n",
        "vc1.fit(X_train, y_train)\n",
        "print(vc1.score(X_train,y_train))\n",
        "print(vc1.score(X_test,y_test))"
      ],
      "metadata": {
        "colab": {
          "base_uri": "https://localhost:8080/"
        },
        "id": "ecnJNdNBVzwO",
        "outputId": "9a4cd8d9-aead-43c9-c9e6-619c843bba98"
      },
      "execution_count": null,
      "outputs": [
        {
          "output_type": "stream",
          "name": "stderr",
          "text": [
            "/usr/local/lib/python3.7/dist-packages/sklearn/preprocessing/_label.py:98: DataConversionWarning: A column-vector y was passed when a 1d array was expected. Please change the shape of y to (n_samples, ), for example using ravel().\n",
            "  y = column_or_1d(y, warn=True)\n",
            "/usr/local/lib/python3.7/dist-packages/sklearn/preprocessing/_label.py:133: DataConversionWarning: A column-vector y was passed when a 1d array was expected. Please change the shape of y to (n_samples, ), for example using ravel().\n",
            "  y = column_or_1d(y, warn=True)\n",
            "/usr/local/lib/python3.7/dist-packages/sklearn/neural_network/_multilayer_perceptron.py:549: ConvergenceWarning: lbfgs failed to converge (status=1):\n",
            "STOP: TOTAL NO. of ITERATIONS REACHED LIMIT.\n",
            "\n",
            "Increase the number of iterations (max_iter) or scale the data as shown in:\n",
            "    https://scikit-learn.org/stable/modules/preprocessing.html\n",
            "  self.n_iter_ = _check_optimize_result(\"lbfgs\", opt_res, self.max_iter)\n"
          ]
        },
        {
          "output_type": "stream",
          "name": "stdout",
          "text": [
            "0.9632670700086431\n",
            "0.9395509499136442\n"
          ]
        }
      ]
    },
    {
      "cell_type": "code",
      "source": [
        "\n"
      ],
      "metadata": {
        "id": "4VQWzCOvVzs1"
      },
      "execution_count": null,
      "outputs": []
    },
    {
      "cell_type": "code",
      "source": [
        "from sklearn.metrics import accuracy_score\n",
        "from sklearn.linear_model import LogisticRegression\n",
        "from sklearn.tree import DecisionTreeClassifier\n",
        "from sklearn.neighbors import KNeighborsClassifier as KNN\n",
        "lr = LogisticRegression(random_state=0)\n",
        "knn = KNN()\n",
        "dt = DecisionTreeClassifier(random_state=0)\n",
        "# Define a list called classifier that contains the tuples (classifier_name, classifier)\n",
        "classifiers = [('Logistic Regression', lr),('K Nearest Neighbours', knn),('Classification Tree', dt)]\n",
        "\n",
        "for clf_name, clf in classifiers:\n",
        "\n",
        "  clf.fit(X_train, y_train)\n",
        "\n",
        "vc = VotingClassifier(estimators=classifiers)\n",
        "vc.fit(X_train, y_train)\n",
        "print(vc.score(X_train,y_train))\n",
        "print(vc.score(X_test,y_test))\n",
        "\n",
        "\n",
        "\n",
        "# for clf_name, clf in classifiers:\n",
        " \n",
        "#    clf.fit(X_train, y_train)\n",
        "#    print('{:s} : {:.3f}'.format(clf_name, accuracy_score(X_train, y_train))\n",
        "\n"
      ],
      "metadata": {
        "colab": {
          "base_uri": "https://localhost:8080/"
        },
        "id": "DnvGTCDoRFZa",
        "outputId": "3746d366-1309-41c3-87fb-813b9e35eefa"
      },
      "execution_count": null,
      "outputs": [
        {
          "output_type": "stream",
          "name": "stderr",
          "text": [
            "/usr/local/lib/python3.7/dist-packages/sklearn/utils/validation.py:993: DataConversionWarning: A column-vector y was passed when a 1d array was expected. Please change the shape of y to (n_samples, ), for example using ravel().\n",
            "  y = column_or_1d(y, warn=True)\n",
            "/usr/local/lib/python3.7/dist-packages/sklearn/linear_model/_logistic.py:818: ConvergenceWarning: lbfgs failed to converge (status=1):\n",
            "STOP: TOTAL NO. of ITERATIONS REACHED LIMIT.\n",
            "\n",
            "Increase the number of iterations (max_iter) or scale the data as shown in:\n",
            "    https://scikit-learn.org/stable/modules/preprocessing.html\n",
            "Please also refer to the documentation for alternative solver options:\n",
            "    https://scikit-learn.org/stable/modules/linear_model.html#logistic-regression\n",
            "  extra_warning_msg=_LOGISTIC_SOLVER_CONVERGENCE_MSG,\n",
            "/usr/local/lib/python3.7/dist-packages/sklearn/neighbors/_classification.py:198: DataConversionWarning: A column-vector y was passed when a 1d array was expected. Please change the shape of y to (n_samples,), for example using ravel().\n",
            "  return self._fit(X, y)\n",
            "/usr/local/lib/python3.7/dist-packages/sklearn/preprocessing/_label.py:98: DataConversionWarning: A column-vector y was passed when a 1d array was expected. Please change the shape of y to (n_samples, ), for example using ravel().\n",
            "  y = column_or_1d(y, warn=True)\n",
            "/usr/local/lib/python3.7/dist-packages/sklearn/preprocessing/_label.py:133: DataConversionWarning: A column-vector y was passed when a 1d array was expected. Please change the shape of y to (n_samples, ), for example using ravel().\n",
            "  y = column_or_1d(y, warn=True)\n",
            "/usr/local/lib/python3.7/dist-packages/sklearn/linear_model/_logistic.py:818: ConvergenceWarning: lbfgs failed to converge (status=1):\n",
            "STOP: TOTAL NO. of ITERATIONS REACHED LIMIT.\n",
            "\n",
            "Increase the number of iterations (max_iter) or scale the data as shown in:\n",
            "    https://scikit-learn.org/stable/modules/preprocessing.html\n",
            "Please also refer to the documentation for alternative solver options:\n",
            "    https://scikit-learn.org/stable/modules/linear_model.html#logistic-regression\n",
            "  extra_warning_msg=_LOGISTIC_SOLVER_CONVERGENCE_MSG,\n"
          ]
        },
        {
          "output_type": "stream",
          "name": "stdout",
          "text": [
            "0.9606741573033708\n",
            "0.9447322970639033\n"
          ]
        }
      ]
    },
    {
      "cell_type": "code",
      "source": [
        "from sklearn.linear_model import LogisticRegression\n",
        "regressor=LogisticRegression(random_state=0)\n",
        "regressor.fit(X_train,y_train)"
      ],
      "metadata": {
        "colab": {
          "base_uri": "https://localhost:8080/"
        },
        "id": "kqLhlWNs4YZo",
        "outputId": "01d93a0b-1fcd-4d4f-b194-e1465b3c6bd5"
      },
      "execution_count": null,
      "outputs": [
        {
          "output_type": "stream",
          "name": "stderr",
          "text": [
            "/usr/local/lib/python3.7/dist-packages/sklearn/utils/validation.py:993: DataConversionWarning: A column-vector y was passed when a 1d array was expected. Please change the shape of y to (n_samples, ), for example using ravel().\n",
            "  y = column_or_1d(y, warn=True)\n",
            "/usr/local/lib/python3.7/dist-packages/sklearn/linear_model/_logistic.py:818: ConvergenceWarning: lbfgs failed to converge (status=1):\n",
            "STOP: TOTAL NO. of ITERATIONS REACHED LIMIT.\n",
            "\n",
            "Increase the number of iterations (max_iter) or scale the data as shown in:\n",
            "    https://scikit-learn.org/stable/modules/preprocessing.html\n",
            "Please also refer to the documentation for alternative solver options:\n",
            "    https://scikit-learn.org/stable/modules/linear_model.html#logistic-regression\n",
            "  extra_warning_msg=_LOGISTIC_SOLVER_CONVERGENCE_MSG,\n"
          ]
        },
        {
          "output_type": "execute_result",
          "data": {
            "text/plain": [
              "LogisticRegression(random_state=0)"
            ]
          },
          "metadata": {},
          "execution_count": 201
        }
      ]
    },
    {
      "cell_type": "code",
      "source": [
        "LogisticRegression(random_state=0)\n",
        "#y_pred=regressor.predict(x_test)\n",
        "print(regressor.score(X_train,y_train))\n",
        "print(regressor.score(X_test,y_test))"
      ],
      "metadata": {
        "id": "cqgQnPhCQSY5",
        "colab": {
          "base_uri": "https://localhost:8080/"
        },
        "outputId": "1ee20b12-5039-4473-a366-fa577e18cae7"
      },
      "execution_count": null,
      "outputs": [
        {
          "output_type": "stream",
          "name": "stdout",
          "text": [
            "0.9382022471910112\n",
            "0.9447322970639033\n"
          ]
        }
      ]
    },
    {
      "cell_type": "code",
      "source": [
        "df_test=pd.read_csv('/content/Dry-Beans-Classification/test.csv',index_col='ID')\n",
        "df_test.head()"
      ],
      "metadata": {
        "colab": {
          "base_uri": "https://localhost:8080/",
          "height": 301
        },
        "id": "gWqywedWcRa_",
        "outputId": "df56bca7-a3ed-4547-b853-4b972f393835"
      },
      "execution_count": null,
      "outputs": [
        {
          "output_type": "execute_result",
          "data": {
            "text/plain": [
              "         Area  Perimeter  MajorAxisLength  MinorAxisLength  AspectRation  \\\n",
              "ID                                                                         \n",
              "10834   57659    955.434       387.757607       196.625782      1.972059   \n",
              "10835   28772    630.362       229.990785       159.609367      1.440960   \n",
              "10836   54677    911.022       308.853903       226.398571      1.364204   \n",
              "10837   24827    578.304       214.192699       147.788172      1.449322   \n",
              "10838  141850   1432.847       524.923471       346.910920      1.513136   \n",
              "\n",
              "       Eccentricity  ConvexArea  EquivDiameter    Extent  Solidity  roundness  \\\n",
              "ID                                                                              \n",
              "10834      0.861896       60188     270.949661  0.620790  0.957982   0.793735   \n",
              "10835      0.719993       29127     191.399185  0.767458  0.987812   0.909913   \n",
              "10836      0.680198       55858     263.850182  0.753013  0.978857   0.827860   \n",
              "10837      0.723831       25121     177.794033  0.716508  0.988297   0.932871   \n",
              "10838      0.750492      143680     424.981211  0.804617  0.987263   0.868240   \n",
              "\n",
              "       Compactness  ShapeFactor1  ShapeFactor2  ShapeFactor3  ShapeFactor4  \n",
              "ID                                                                          \n",
              "10834     0.698760      0.006725      0.000989      0.488266      0.962889  \n",
              "10835     0.832204      0.007994      0.002365      0.692563      0.997956  \n",
              "10836     0.854288      0.005649      0.001856      0.729808      0.995607  \n",
              "10837     0.830066      0.008627      0.002526      0.689009      0.998596  \n",
              "10838     0.809606      0.003701      0.000981      0.655462      0.991803  "
            ],
            "text/html": [
              "\n",
              "  <div id=\"df-2381b571-f72c-4470-beff-11f243a3002e\">\n",
              "    <div class=\"colab-df-container\">\n",
              "      <div>\n",
              "<style scoped>\n",
              "    .dataframe tbody tr th:only-of-type {\n",
              "        vertical-align: middle;\n",
              "    }\n",
              "\n",
              "    .dataframe tbody tr th {\n",
              "        vertical-align: top;\n",
              "    }\n",
              "\n",
              "    .dataframe thead th {\n",
              "        text-align: right;\n",
              "    }\n",
              "</style>\n",
              "<table border=\"1\" class=\"dataframe\">\n",
              "  <thead>\n",
              "    <tr style=\"text-align: right;\">\n",
              "      <th></th>\n",
              "      <th>Area</th>\n",
              "      <th>Perimeter</th>\n",
              "      <th>MajorAxisLength</th>\n",
              "      <th>MinorAxisLength</th>\n",
              "      <th>AspectRation</th>\n",
              "      <th>Eccentricity</th>\n",
              "      <th>ConvexArea</th>\n",
              "      <th>EquivDiameter</th>\n",
              "      <th>Extent</th>\n",
              "      <th>Solidity</th>\n",
              "      <th>roundness</th>\n",
              "      <th>Compactness</th>\n",
              "      <th>ShapeFactor1</th>\n",
              "      <th>ShapeFactor2</th>\n",
              "      <th>ShapeFactor3</th>\n",
              "      <th>ShapeFactor4</th>\n",
              "    </tr>\n",
              "    <tr>\n",
              "      <th>ID</th>\n",
              "      <th></th>\n",
              "      <th></th>\n",
              "      <th></th>\n",
              "      <th></th>\n",
              "      <th></th>\n",
              "      <th></th>\n",
              "      <th></th>\n",
              "      <th></th>\n",
              "      <th></th>\n",
              "      <th></th>\n",
              "      <th></th>\n",
              "      <th></th>\n",
              "      <th></th>\n",
              "      <th></th>\n",
              "      <th></th>\n",
              "      <th></th>\n",
              "    </tr>\n",
              "  </thead>\n",
              "  <tbody>\n",
              "    <tr>\n",
              "      <th>10834</th>\n",
              "      <td>57659</td>\n",
              "      <td>955.434</td>\n",
              "      <td>387.757607</td>\n",
              "      <td>196.625782</td>\n",
              "      <td>1.972059</td>\n",
              "      <td>0.861896</td>\n",
              "      <td>60188</td>\n",
              "      <td>270.949661</td>\n",
              "      <td>0.620790</td>\n",
              "      <td>0.957982</td>\n",
              "      <td>0.793735</td>\n",
              "      <td>0.698760</td>\n",
              "      <td>0.006725</td>\n",
              "      <td>0.000989</td>\n",
              "      <td>0.488266</td>\n",
              "      <td>0.962889</td>\n",
              "    </tr>\n",
              "    <tr>\n",
              "      <th>10835</th>\n",
              "      <td>28772</td>\n",
              "      <td>630.362</td>\n",
              "      <td>229.990785</td>\n",
              "      <td>159.609367</td>\n",
              "      <td>1.440960</td>\n",
              "      <td>0.719993</td>\n",
              "      <td>29127</td>\n",
              "      <td>191.399185</td>\n",
              "      <td>0.767458</td>\n",
              "      <td>0.987812</td>\n",
              "      <td>0.909913</td>\n",
              "      <td>0.832204</td>\n",
              "      <td>0.007994</td>\n",
              "      <td>0.002365</td>\n",
              "      <td>0.692563</td>\n",
              "      <td>0.997956</td>\n",
              "    </tr>\n",
              "    <tr>\n",
              "      <th>10836</th>\n",
              "      <td>54677</td>\n",
              "      <td>911.022</td>\n",
              "      <td>308.853903</td>\n",
              "      <td>226.398571</td>\n",
              "      <td>1.364204</td>\n",
              "      <td>0.680198</td>\n",
              "      <td>55858</td>\n",
              "      <td>263.850182</td>\n",
              "      <td>0.753013</td>\n",
              "      <td>0.978857</td>\n",
              "      <td>0.827860</td>\n",
              "      <td>0.854288</td>\n",
              "      <td>0.005649</td>\n",
              "      <td>0.001856</td>\n",
              "      <td>0.729808</td>\n",
              "      <td>0.995607</td>\n",
              "    </tr>\n",
              "    <tr>\n",
              "      <th>10837</th>\n",
              "      <td>24827</td>\n",
              "      <td>578.304</td>\n",
              "      <td>214.192699</td>\n",
              "      <td>147.788172</td>\n",
              "      <td>1.449322</td>\n",
              "      <td>0.723831</td>\n",
              "      <td>25121</td>\n",
              "      <td>177.794033</td>\n",
              "      <td>0.716508</td>\n",
              "      <td>0.988297</td>\n",
              "      <td>0.932871</td>\n",
              "      <td>0.830066</td>\n",
              "      <td>0.008627</td>\n",
              "      <td>0.002526</td>\n",
              "      <td>0.689009</td>\n",
              "      <td>0.998596</td>\n",
              "    </tr>\n",
              "    <tr>\n",
              "      <th>10838</th>\n",
              "      <td>141850</td>\n",
              "      <td>1432.847</td>\n",
              "      <td>524.923471</td>\n",
              "      <td>346.910920</td>\n",
              "      <td>1.513136</td>\n",
              "      <td>0.750492</td>\n",
              "      <td>143680</td>\n",
              "      <td>424.981211</td>\n",
              "      <td>0.804617</td>\n",
              "      <td>0.987263</td>\n",
              "      <td>0.868240</td>\n",
              "      <td>0.809606</td>\n",
              "      <td>0.003701</td>\n",
              "      <td>0.000981</td>\n",
              "      <td>0.655462</td>\n",
              "      <td>0.991803</td>\n",
              "    </tr>\n",
              "  </tbody>\n",
              "</table>\n",
              "</div>\n",
              "      <button class=\"colab-df-convert\" onclick=\"convertToInteractive('df-2381b571-f72c-4470-beff-11f243a3002e')\"\n",
              "              title=\"Convert this dataframe to an interactive table.\"\n",
              "              style=\"display:none;\">\n",
              "        \n",
              "  <svg xmlns=\"http://www.w3.org/2000/svg\" height=\"24px\"viewBox=\"0 0 24 24\"\n",
              "       width=\"24px\">\n",
              "    <path d=\"M0 0h24v24H0V0z\" fill=\"none\"/>\n",
              "    <path d=\"M18.56 5.44l.94 2.06.94-2.06 2.06-.94-2.06-.94-.94-2.06-.94 2.06-2.06.94zm-11 1L8.5 8.5l.94-2.06 2.06-.94-2.06-.94L8.5 2.5l-.94 2.06-2.06.94zm10 10l.94 2.06.94-2.06 2.06-.94-2.06-.94-.94-2.06-.94 2.06-2.06.94z\"/><path d=\"M17.41 7.96l-1.37-1.37c-.4-.4-.92-.59-1.43-.59-.52 0-1.04.2-1.43.59L10.3 9.45l-7.72 7.72c-.78.78-.78 2.05 0 2.83L4 21.41c.39.39.9.59 1.41.59.51 0 1.02-.2 1.41-.59l7.78-7.78 2.81-2.81c.8-.78.8-2.07 0-2.86zM5.41 20L4 18.59l7.72-7.72 1.47 1.35L5.41 20z\"/>\n",
              "  </svg>\n",
              "      </button>\n",
              "      \n",
              "  <style>\n",
              "    .colab-df-container {\n",
              "      display:flex;\n",
              "      flex-wrap:wrap;\n",
              "      gap: 12px;\n",
              "    }\n",
              "\n",
              "    .colab-df-convert {\n",
              "      background-color: #E8F0FE;\n",
              "      border: none;\n",
              "      border-radius: 50%;\n",
              "      cursor: pointer;\n",
              "      display: none;\n",
              "      fill: #1967D2;\n",
              "      height: 32px;\n",
              "      padding: 0 0 0 0;\n",
              "      width: 32px;\n",
              "    }\n",
              "\n",
              "    .colab-df-convert:hover {\n",
              "      background-color: #E2EBFA;\n",
              "      box-shadow: 0px 1px 2px rgba(60, 64, 67, 0.3), 0px 1px 3px 1px rgba(60, 64, 67, 0.15);\n",
              "      fill: #174EA6;\n",
              "    }\n",
              "\n",
              "    [theme=dark] .colab-df-convert {\n",
              "      background-color: #3B4455;\n",
              "      fill: #D2E3FC;\n",
              "    }\n",
              "\n",
              "    [theme=dark] .colab-df-convert:hover {\n",
              "      background-color: #434B5C;\n",
              "      box-shadow: 0px 1px 3px 1px rgba(0, 0, 0, 0.15);\n",
              "      filter: drop-shadow(0px 1px 2px rgba(0, 0, 0, 0.3));\n",
              "      fill: #FFFFFF;\n",
              "    }\n",
              "  </style>\n",
              "\n",
              "      <script>\n",
              "        const buttonEl =\n",
              "          document.querySelector('#df-2381b571-f72c-4470-beff-11f243a3002e button.colab-df-convert');\n",
              "        buttonEl.style.display =\n",
              "          google.colab.kernel.accessAllowed ? 'block' : 'none';\n",
              "\n",
              "        async function convertToInteractive(key) {\n",
              "          const element = document.querySelector('#df-2381b571-f72c-4470-beff-11f243a3002e');\n",
              "          const dataTable =\n",
              "            await google.colab.kernel.invokeFunction('convertToInteractive',\n",
              "                                                     [key], {});\n",
              "          if (!dataTable) return;\n",
              "\n",
              "          const docLinkHtml = 'Like what you see? Visit the ' +\n",
              "            '<a target=\"_blank\" href=https://colab.research.google.com/notebooks/data_table.ipynb>data table notebook</a>'\n",
              "            + ' to learn more about interactive tables.';\n",
              "          element.innerHTML = '';\n",
              "          dataTable['output_type'] = 'display_data';\n",
              "          await google.colab.output.renderOutput(dataTable, element);\n",
              "          const docLink = document.createElement('div');\n",
              "          docLink.innerHTML = docLinkHtml;\n",
              "          element.appendChild(docLink);\n",
              "        }\n",
              "      </script>\n",
              "    </div>\n",
              "  </div>\n",
              "  "
            ]
          },
          "metadata": {},
          "execution_count": 203
        }
      ]
    },
    {
      "cell_type": "code",
      "source": [
        "df_test.shape"
      ],
      "metadata": {
        "colab": {
          "base_uri": "https://localhost:8080/"
        },
        "id": "tMI3sjLOeb6K",
        "outputId": "11b36391-f206-4a83-c15b-895c481c9b88"
      },
      "execution_count": null,
      "outputs": [
        {
          "output_type": "execute_result",
          "data": {
            "text/plain": [
              "(2709, 16)"
            ]
          },
          "metadata": {},
          "execution_count": 204
        }
      ]
    },
    {
      "cell_type": "code",
      "source": [
        "df_test = pd.DataFrame(Scaling_StScalar.transform(df_test.values), columns=df_test.columns,index=df_test.index)\n",
        "df_test.head()"
      ],
      "metadata": {
        "colab": {
          "base_uri": "https://localhost:8080/",
          "height": 301
        },
        "id": "dqYJUDLSoCkC",
        "outputId": "4fb5c222-9c5d-4645-9c79-0af1df56b504"
      },
      "execution_count": null,
      "outputs": [
        {
          "output_type": "execute_result",
          "data": {
            "text/plain": [
              "           Area  Perimeter  MajorAxisLength  MinorAxisLength  AspectRation  \\\n",
              "ID                                                                           \n",
              "10834 -0.266749  -0.052978         0.210624        -0.462827      1.545870   \n",
              "10835 -0.887263  -1.140347        -1.151769        -1.012656     -0.651610   \n",
              "10836 -0.330805  -0.201537        -0.470748        -0.020593     -0.969198   \n",
              "10837 -0.972005  -1.314482        -1.288193        -1.188244     -0.617012   \n",
              "10838  1.541735   1.543973         1.395118         1.769455     -0.352975   \n",
              "\n",
              "       Eccentricity  ConvexArea  EquivDiameter    Extent  Solidity  roundness  \\\n",
              "ID                                                                              \n",
              "10834      1.162305   -0.229896      -0.176608 -2.639241 -6.262848  -1.200237   \n",
              "10835     -0.410756   -0.887683      -1.103431  0.300520  0.211826   0.780339   \n",
              "10836     -0.851892   -0.321593      -0.259322  0.010981 -1.731834  -0.618485   \n",
              "10837     -0.368211   -0.972519      -1.261941 -0.720707  0.317018   1.171727   \n",
              "10838     -0.072654    1.538237       1.617975  1.045328  0.092745   0.069899   \n",
              "\n",
              "       Compactness  ShapeFactor1  ShapeFactor2  ShapeFactor3  ShapeFactor4  \n",
              "ID                                                                          \n",
              "10834    -1.596587      0.514382     -0.894937     -1.524481     -7.207966  \n",
              "10835     0.604520      1.430765      1.340389      0.575404      0.780729  \n",
              "10836     0.968793     -0.263134      0.513259      0.958229      0.245648  \n",
              "10837     0.569255      1.888648      1.602583      0.538876      0.926653  \n",
              "10838     0.231778     -1.670450     -0.908363      0.194057     -0.620964  "
            ],
            "text/html": [
              "\n",
              "  <div id=\"df-7c1687d5-51d0-4883-8aac-702eba8c4951\">\n",
              "    <div class=\"colab-df-container\">\n",
              "      <div>\n",
              "<style scoped>\n",
              "    .dataframe tbody tr th:only-of-type {\n",
              "        vertical-align: middle;\n",
              "    }\n",
              "\n",
              "    .dataframe tbody tr th {\n",
              "        vertical-align: top;\n",
              "    }\n",
              "\n",
              "    .dataframe thead th {\n",
              "        text-align: right;\n",
              "    }\n",
              "</style>\n",
              "<table border=\"1\" class=\"dataframe\">\n",
              "  <thead>\n",
              "    <tr style=\"text-align: right;\">\n",
              "      <th></th>\n",
              "      <th>Area</th>\n",
              "      <th>Perimeter</th>\n",
              "      <th>MajorAxisLength</th>\n",
              "      <th>MinorAxisLength</th>\n",
              "      <th>AspectRation</th>\n",
              "      <th>Eccentricity</th>\n",
              "      <th>ConvexArea</th>\n",
              "      <th>EquivDiameter</th>\n",
              "      <th>Extent</th>\n",
              "      <th>Solidity</th>\n",
              "      <th>roundness</th>\n",
              "      <th>Compactness</th>\n",
              "      <th>ShapeFactor1</th>\n",
              "      <th>ShapeFactor2</th>\n",
              "      <th>ShapeFactor3</th>\n",
              "      <th>ShapeFactor4</th>\n",
              "    </tr>\n",
              "    <tr>\n",
              "      <th>ID</th>\n",
              "      <th></th>\n",
              "      <th></th>\n",
              "      <th></th>\n",
              "      <th></th>\n",
              "      <th></th>\n",
              "      <th></th>\n",
              "      <th></th>\n",
              "      <th></th>\n",
              "      <th></th>\n",
              "      <th></th>\n",
              "      <th></th>\n",
              "      <th></th>\n",
              "      <th></th>\n",
              "      <th></th>\n",
              "      <th></th>\n",
              "      <th></th>\n",
              "    </tr>\n",
              "  </thead>\n",
              "  <tbody>\n",
              "    <tr>\n",
              "      <th>10834</th>\n",
              "      <td>-0.266749</td>\n",
              "      <td>-0.052978</td>\n",
              "      <td>0.210624</td>\n",
              "      <td>-0.462827</td>\n",
              "      <td>1.545870</td>\n",
              "      <td>1.162305</td>\n",
              "      <td>-0.229896</td>\n",
              "      <td>-0.176608</td>\n",
              "      <td>-2.639241</td>\n",
              "      <td>-6.262848</td>\n",
              "      <td>-1.200237</td>\n",
              "      <td>-1.596587</td>\n",
              "      <td>0.514382</td>\n",
              "      <td>-0.894937</td>\n",
              "      <td>-1.524481</td>\n",
              "      <td>-7.207966</td>\n",
              "    </tr>\n",
              "    <tr>\n",
              "      <th>10835</th>\n",
              "      <td>-0.887263</td>\n",
              "      <td>-1.140347</td>\n",
              "      <td>-1.151769</td>\n",
              "      <td>-1.012656</td>\n",
              "      <td>-0.651610</td>\n",
              "      <td>-0.410756</td>\n",
              "      <td>-0.887683</td>\n",
              "      <td>-1.103431</td>\n",
              "      <td>0.300520</td>\n",
              "      <td>0.211826</td>\n",
              "      <td>0.780339</td>\n",
              "      <td>0.604520</td>\n",
              "      <td>1.430765</td>\n",
              "      <td>1.340389</td>\n",
              "      <td>0.575404</td>\n",
              "      <td>0.780729</td>\n",
              "    </tr>\n",
              "    <tr>\n",
              "      <th>10836</th>\n",
              "      <td>-0.330805</td>\n",
              "      <td>-0.201537</td>\n",
              "      <td>-0.470748</td>\n",
              "      <td>-0.020593</td>\n",
              "      <td>-0.969198</td>\n",
              "      <td>-0.851892</td>\n",
              "      <td>-0.321593</td>\n",
              "      <td>-0.259322</td>\n",
              "      <td>0.010981</td>\n",
              "      <td>-1.731834</td>\n",
              "      <td>-0.618485</td>\n",
              "      <td>0.968793</td>\n",
              "      <td>-0.263134</td>\n",
              "      <td>0.513259</td>\n",
              "      <td>0.958229</td>\n",
              "      <td>0.245648</td>\n",
              "    </tr>\n",
              "    <tr>\n",
              "      <th>10837</th>\n",
              "      <td>-0.972005</td>\n",
              "      <td>-1.314482</td>\n",
              "      <td>-1.288193</td>\n",
              "      <td>-1.188244</td>\n",
              "      <td>-0.617012</td>\n",
              "      <td>-0.368211</td>\n",
              "      <td>-0.972519</td>\n",
              "      <td>-1.261941</td>\n",
              "      <td>-0.720707</td>\n",
              "      <td>0.317018</td>\n",
              "      <td>1.171727</td>\n",
              "      <td>0.569255</td>\n",
              "      <td>1.888648</td>\n",
              "      <td>1.602583</td>\n",
              "      <td>0.538876</td>\n",
              "      <td>0.926653</td>\n",
              "    </tr>\n",
              "    <tr>\n",
              "      <th>10838</th>\n",
              "      <td>1.541735</td>\n",
              "      <td>1.543973</td>\n",
              "      <td>1.395118</td>\n",
              "      <td>1.769455</td>\n",
              "      <td>-0.352975</td>\n",
              "      <td>-0.072654</td>\n",
              "      <td>1.538237</td>\n",
              "      <td>1.617975</td>\n",
              "      <td>1.045328</td>\n",
              "      <td>0.092745</td>\n",
              "      <td>0.069899</td>\n",
              "      <td>0.231778</td>\n",
              "      <td>-1.670450</td>\n",
              "      <td>-0.908363</td>\n",
              "      <td>0.194057</td>\n",
              "      <td>-0.620964</td>\n",
              "    </tr>\n",
              "  </tbody>\n",
              "</table>\n",
              "</div>\n",
              "      <button class=\"colab-df-convert\" onclick=\"convertToInteractive('df-7c1687d5-51d0-4883-8aac-702eba8c4951')\"\n",
              "              title=\"Convert this dataframe to an interactive table.\"\n",
              "              style=\"display:none;\">\n",
              "        \n",
              "  <svg xmlns=\"http://www.w3.org/2000/svg\" height=\"24px\"viewBox=\"0 0 24 24\"\n",
              "       width=\"24px\">\n",
              "    <path d=\"M0 0h24v24H0V0z\" fill=\"none\"/>\n",
              "    <path d=\"M18.56 5.44l.94 2.06.94-2.06 2.06-.94-2.06-.94-.94-2.06-.94 2.06-2.06.94zm-11 1L8.5 8.5l.94-2.06 2.06-.94-2.06-.94L8.5 2.5l-.94 2.06-2.06.94zm10 10l.94 2.06.94-2.06 2.06-.94-2.06-.94-.94-2.06-.94 2.06-2.06.94z\"/><path d=\"M17.41 7.96l-1.37-1.37c-.4-.4-.92-.59-1.43-.59-.52 0-1.04.2-1.43.59L10.3 9.45l-7.72 7.72c-.78.78-.78 2.05 0 2.83L4 21.41c.39.39.9.59 1.41.59.51 0 1.02-.2 1.41-.59l7.78-7.78 2.81-2.81c.8-.78.8-2.07 0-2.86zM5.41 20L4 18.59l7.72-7.72 1.47 1.35L5.41 20z\"/>\n",
              "  </svg>\n",
              "      </button>\n",
              "      \n",
              "  <style>\n",
              "    .colab-df-container {\n",
              "      display:flex;\n",
              "      flex-wrap:wrap;\n",
              "      gap: 12px;\n",
              "    }\n",
              "\n",
              "    .colab-df-convert {\n",
              "      background-color: #E8F0FE;\n",
              "      border: none;\n",
              "      border-radius: 50%;\n",
              "      cursor: pointer;\n",
              "      display: none;\n",
              "      fill: #1967D2;\n",
              "      height: 32px;\n",
              "      padding: 0 0 0 0;\n",
              "      width: 32px;\n",
              "    }\n",
              "\n",
              "    .colab-df-convert:hover {\n",
              "      background-color: #E2EBFA;\n",
              "      box-shadow: 0px 1px 2px rgba(60, 64, 67, 0.3), 0px 1px 3px 1px rgba(60, 64, 67, 0.15);\n",
              "      fill: #174EA6;\n",
              "    }\n",
              "\n",
              "    [theme=dark] .colab-df-convert {\n",
              "      background-color: #3B4455;\n",
              "      fill: #D2E3FC;\n",
              "    }\n",
              "\n",
              "    [theme=dark] .colab-df-convert:hover {\n",
              "      background-color: #434B5C;\n",
              "      box-shadow: 0px 1px 3px 1px rgba(0, 0, 0, 0.15);\n",
              "      filter: drop-shadow(0px 1px 2px rgba(0, 0, 0, 0.3));\n",
              "      fill: #FFFFFF;\n",
              "    }\n",
              "  </style>\n",
              "\n",
              "      <script>\n",
              "        const buttonEl =\n",
              "          document.querySelector('#df-7c1687d5-51d0-4883-8aac-702eba8c4951 button.colab-df-convert');\n",
              "        buttonEl.style.display =\n",
              "          google.colab.kernel.accessAllowed ? 'block' : 'none';\n",
              "\n",
              "        async function convertToInteractive(key) {\n",
              "          const element = document.querySelector('#df-7c1687d5-51d0-4883-8aac-702eba8c4951');\n",
              "          const dataTable =\n",
              "            await google.colab.kernel.invokeFunction('convertToInteractive',\n",
              "                                                     [key], {});\n",
              "          if (!dataTable) return;\n",
              "\n",
              "          const docLinkHtml = 'Like what you see? Visit the ' +\n",
              "            '<a target=\"_blank\" href=https://colab.research.google.com/notebooks/data_table.ipynb>data table notebook</a>'\n",
              "            + ' to learn more about interactive tables.';\n",
              "          element.innerHTML = '';\n",
              "          dataTable['output_type'] = 'display_data';\n",
              "          await google.colab.output.renderOutput(dataTable, element);\n",
              "          const docLink = document.createElement('div');\n",
              "          docLink.innerHTML = docLinkHtml;\n",
              "          element.appendChild(docLink);\n",
              "        }\n",
              "      </script>\n",
              "    </div>\n",
              "  </div>\n",
              "  "
            ]
          },
          "metadata": {},
          "execution_count": 205
        }
      ]
    },
    {
      "cell_type": "code",
      "source": [
        "# X.transform(df_test.values)\n",
        "# X_testt = pd.DataFrame(X_scaled, index=df_test.index, columns=df_test.columns)\n",
        "# X_testt.head()"
      ],
      "metadata": {
        "id": "-elpalocecZv"
      },
      "execution_count": null,
      "outputs": []
    },
    {
      "cell_type": "code",
      "source": [
        "pca_features_test = pca.transform(df_test)\n",
        "print(pca_features_test.shape)"
      ],
      "metadata": {
        "colab": {
          "base_uri": "https://localhost:8080/"
        },
        "id": "AfhQOqPOd_t-",
        "outputId": "4370458c-4d91-440a-de37-67d92468a970"
      },
      "execution_count": null,
      "outputs": [
        {
          "output_type": "stream",
          "name": "stdout",
          "text": [
            "(2709, 12)\n"
          ]
        }
      ]
    },
    {
      "cell_type": "code",
      "source": [
        "y_pred_logr=MLP_pipeline.predict(pca_features_test)"
      ],
      "metadata": {
        "id": "EEijymZagfcp"
      },
      "execution_count": null,
      "outputs": []
    },
    {
      "cell_type": "code",
      "source": [
        "y_pred_logr"
      ],
      "metadata": {
        "colab": {
          "base_uri": "https://localhost:8080/"
        },
        "id": "TPv1OsZXi27Y",
        "outputId": "4b565918-4076-4ac3-e796-e279a1026f1b"
      },
      "execution_count": null,
      "outputs": [
        {
          "output_type": "execute_result",
          "data": {
            "text/plain": [
              "array([4, 1, 6, ..., 4, 1, 2])"
            ]
          },
          "metadata": {},
          "execution_count": 211
        }
      ]
    },
    {
      "cell_type": "code",
      "source": [
        "#'y_pred_xgb=np.where([0,1,2,3,4,5,6],['BOMBAY','DERMASON','SIRA','SEKER', 'HOROZ', 'CALI','BARBUNYA'])\n",
        "lst_xgb=[]\n",
        "for el in y_pred_logr:\n",
        "  \n",
        "  if(el==0):\n",
        "    lst_xgb.append('BOMBAY')\n",
        "  elif el==1:\n",
        "      lst_xgb.append('DERMASON')\n",
        "  elif el==2:\n",
        "      lst_xgb.append('SIRA')\n",
        "\n",
        "  elif el==3:\n",
        "      lst_xgb.append('SEKER')\n",
        "\n",
        "  elif el==4:\n",
        "      lst_xgb.append('HOROZ')\n",
        "\n",
        "  elif el==5:\n",
        "      lst_xgb.append('CALI')\n",
        "\n",
        "  else:\n",
        "      lst_xgb.append('BARBUNYA')    \n",
        "\n",
        "\n"
      ],
      "metadata": {
        "id": "EdXuiBv1pvSq"
      },
      "execution_count": null,
      "outputs": []
    },
    {
      "cell_type": "code",
      "source": [
        "\n",
        "out_pred = pd.DataFrame({'ID': df_test.index,\n",
        "                       'y': lst_xgb})\n",
        "out_pred.to_csv('submissionLOGRG.csv', index=False)"
      ],
      "metadata": {
        "id": "X-Is_O3HhffJ"
      },
      "execution_count": null,
      "outputs": []
    },
    {
      "cell_type": "code",
      "source": [
        "last_test=pd.read_csv('/content/last_tst.csv',index_col='ID')\n",
        "y_label=last_test['y']\n",
        "y_label=y_label.tolist()\n",
        "type(y_label)"
      ],
      "metadata": {
        "colab": {
          "base_uri": "https://localhost:8080/"
        },
        "id": "Ohb_Wv1iu2Z5",
        "outputId": "1e24f950-5e21-44f0-f89c-50a43d595351"
      },
      "execution_count": null,
      "outputs": [
        {
          "output_type": "execute_result",
          "data": {
            "text/plain": [
              "list"
            ]
          },
          "metadata": {},
          "execution_count": 214
        }
      ]
    },
    {
      "cell_type": "code",
      "source": [
        "type(lst_xgb)"
      ],
      "metadata": {
        "colab": {
          "base_uri": "https://localhost:8080/"
        },
        "id": "hfDwHYKMvx-Y",
        "outputId": "dad441d2-26ae-4715-8b67-d741778b2efc"
      },
      "execution_count": null,
      "outputs": [
        {
          "output_type": "execute_result",
          "data": {
            "text/plain": [
              "list"
            ]
          },
          "metadata": {},
          "execution_count": 215
        }
      ]
    },
    {
      "cell_type": "code",
      "source": [
        "from sklearn.metrics import confusion_matrix\n"
      ],
      "metadata": {
        "id": "tdAmOXMi2lI6"
      },
      "execution_count": null,
      "outputs": []
    },
    {
      "cell_type": "code",
      "source": [
        "print(confusion_matrix(y_label, lst_xgb))"
      ],
      "metadata": {
        "colab": {
          "base_uri": "https://localhost:8080/"
        },
        "id": "wLKPvudJv_ZA",
        "outputId": "97925c6e-78ac-48ab-d473-c00ca32b3354"
      },
      "execution_count": null,
      "outputs": [
        {
          "output_type": "stream",
          "name": "stdout",
          "text": [
            "[[248   1  11   0   1   0   2]\n",
            " [  0 104   0   0   0   0   0]\n",
            " [ 14   0 299   0  11   0   0]\n",
            " [  0   0   0 645   5   9  49]\n",
            " [  4   0   8   0 351   0   0]\n",
            " [  0   0   0   1   0 399   5]\n",
            " [  0   0   6  18  20   8 490]]\n"
          ]
        }
      ]
    },
    {
      "cell_type": "code",
      "source": [
        "acc=0\n",
        "for i in range(len(lst_xgb)):\n",
        "  if(lst_xgb[i]==y_label[i]):\n",
        "    acc+=1\n",
        "\n",
        "print(acc/len(y_label))    "
      ],
      "metadata": {
        "colab": {
          "base_uri": "https://localhost:8080/"
        },
        "id": "4mrs45RT7cZM",
        "outputId": "83cadde4-d977-421f-9242-5213b31103d7"
      },
      "execution_count": null,
      "outputs": [
        {
          "output_type": "stream",
          "name": "stdout",
          "text": [
            "0.9361387966039129\n"
          ]
        }
      ]
    },
    {
      "cell_type": "code",
      "source": [
        "#y_pred_vc=vc.predict(pca_features_test)"
      ],
      "metadata": {
        "id": "y8AU38--okGG"
      },
      "execution_count": null,
      "outputs": []
    }
  ]
}